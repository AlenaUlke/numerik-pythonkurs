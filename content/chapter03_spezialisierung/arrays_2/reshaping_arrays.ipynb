{
 "cells": [
  {
   "cell_type": "markdown",
   "metadata": {},
   "source": [
    "# Arrays umformen\n",
    "\n",
    "Manchmal ist das Problem bei erhobenen Daten nicht, dass sie durch ein Schichtsystem in kleineren Matrixen oder Vektoren aufgeteilt sind, sondern dass sie in einem ungünstigen Format abgespeichert wurden. Um die NextBike Daten, die der Lehrstuhl für wissenschatliches Rechnen erhoben hat, gegenzuprügen, hat der Lehrstuhl für stochastische Numerik unabhängig von diesem ebenfalls die NextBike Ausleihen gezählt. Sie haben die Zahlen allerdings anders vermerkt. Es gab einen Zettel, der bei Schichtende an die nächste Person weitergegeben wurde. Auf diesem Zettel wurden alle Zahlen nebeneinander notiert. Das heißt die Daten haben nicht die Form \n",
    "\n",
    "$$\n",
    "    \\begin{pmatrix} \n",
    "         & \\text{Mo} & \\text{Di} & \\text{Mi} & \\text{Do} & \\text{Fr} & \\text{Sa} & \\text{So}\\\\\n",
    "        \\text{Vormittag} & 32 & 47 & 42 & 42 & 22 & 21 & 14\\\\\n",
    "        \\text{Nachmittag} & 50 & 36 & 18 & 39 & 50 & 37 & 76\\\\\n",
    "    \\end{pmatrix}\n",
    "$$\n",
    "\n",
    "sondern\n",
    "\n",
    "$$\n",
    "    \\begin{pmatrix} \n",
    "        32 & 47 & 42 & 42 & 22 & 21 & 14 & 50 & 36 & 18 & 39 & 50 & 37 & 76\\\\\n",
    "    \\end{pmatrix}.\n",
    "$$\n",
    "\n",
    "Unser Ziel in diesem Kapitel ist es, auch diese erhobenen Daten in unsere übersichtliche Matrixform zu bringen. \n",
    "\n",
    "Um dies zu erreichen, können wir uns die in `numpy` existierende Funktion `reshape` zu Nutze machen. Hängt man an eine Matrix oder einen Vektor den Befehl `.reshape(m,n)` an, wird diese in eine $(m \\times n)$ Matrix umgeformt. \n",
    "\n",
    "```{figure} img/reshape_standard.png\n",
    ":width: 60%\n",
    "Vertikales und horizontales Zusammenfügen\n",
    "<p style=\"font-size: 80%; text-align: center; margin-top: 0; padding-top: 0;\">\n",
    "<strong>Quelle:</strong> <a href=\"https://medium.com/towards-data-science/reshaping-numpy-arrays-in-python-a-step-by-step-pictorial-tutorial-aed5f471cf0b\">Medium</a>\n",
    "</p>\n",
    "```"
   ]
  },
  {
   "cell_type": "code",
   "execution_count": null,
   "metadata": {
    "tags": [
     "thebe-init"
    ]
   },
   "outputs": [],
   "source": [
    "import numpy as np\n",
    "a1 = np.arange(1,13)\n",
    "a1_3x4_matrix = a1.reshape(3,4)\n",
    "print(a1_3x4_matrix)"
   ]
  },
  {
   "cell_type": "markdown",
   "metadata": {},
   "source": [
    ":::{admonition} Aufgabe 1.1\n",
    "Erstellen Sie die Matrix `W1` \n",
    "\n",
    "$$\n",
    "    \\begin{pmatrix} \n",
    "         & \\text{Mo} & \\text{Di} & \\text{Mi} & \\text{Do} & \\text{Fr} & \\text{Sa} & \\text{So}\\\\\n",
    "        \\text{Vormittag} & 32 & 47 & 42 & 42 & 22 & 21 & 14\\\\\n",
    "        \\text{Nachmittag} & 50 & 36 & 18 & 39 & 50 & 37 & 76\\\\\n",
    "    \\end{pmatrix}\n",
    "$$\n",
    "\n",
    "mit Hilfe der erhobenen Daten `rohdaten` in Vektorform.\n",
    ":::"
   ]
  },
  {
   "cell_type": "code",
   "execution_count": null,
   "metadata": {},
   "outputs": [],
   "source": [
    "rohdaten = np.array([[32, 47, 42, 42, 22, 21, 14, 50, 36, 18, 39, 50, 37, 76]])\n",
    "# Ihr Code "
   ]
  },
  {
   "cell_type": "markdown",
   "metadata": {},
   "source": [
    ":::{admonition} Hinweis\n",
    ":class: note dropdown\n",
    "\n",
    "Nutzen Die den Befehl `.reshape` und achten Sie auf die richtige Anzahl an Spalten und Zeilen. \n",
    ":::\n",
    "\n",
    ":::{admonition} Lösung\n",
    ":class: tip dropdown\n",
    "\n",
    "``` python\n",
    "W1 = rohdaten.reshape(2,7)\n",
    "W1 = np.hstack((np.array([[\"\"],[\"Vormittag\"],[\"Nachmittag\"]]), np.vstack((np.array([[\"Mo\",\"Di\",\"Mi\",\"Do\",\"Fr\",\"Sa\",\"So\"]]), W1))))\n",
    "print(W1)\n",
    "```\n",
    ":::"
   ]
  },
  {
   "cell_type": "markdown",
   "metadata": {},
   "source": [
    "Die Funktion `reshape` bietet ebenfalls die Möglichkeit nur eine Dimension vorzugeben. Der Ausdruck `.reshape(-1,n)` formt eine Matrix oder einen Vektor in eine $(x \\times n)$ Matrix um, wobei $x$ so gewählt wird, dass die die Anzahl der Einträge vor und nach der Umformung übereinstimmen. Analog funktioniert der Befehl `.reshape(m,-1)`, der eine $(m \\times x)$ Matrix erzeugt. \n",
    "\n",
    "\n",
    "```{figure} img/reshape_one_input.png\n",
    ":name: fig-meinbild\n",
    ":width: 60%\n",
    "Vertikales und horizontales Zusammenfügen\n",
    "<p style=\"font-size: 80%; text-align: center; margin-top: 0; padding-top: 0;\">\n",
    "<strong>Quelle:</strong> <a href=\"https://medium.com/towards-data-science/reshaping-numpy-arrays-in-python-a-step-by-step-pictorial-tutorial-aed5f471cf0b\">Medium</a>\n",
    "</p>\n",
    "```"
   ]
  },
  {
   "cell_type": "code",
   "execution_count": null,
   "metadata": {},
   "outputs": [],
   "source": [
    "a1_3x4_matrix_spalten = a1.reshape(-1,4)\n",
    "a1_3x4_matrix_zeilen = a1.reshape(3,-1)\n",
    "print(a1_3x4_matrix_spalten)\n",
    "print(a1_3x4_matrix_zeilen)"
   ]
  },
  {
   "cell_type": "markdown",
   "metadata": {},
   "source": [
    ":::{admonition} Aufgabe 1.2\n",
    "Erstellen Sie erneut die Matrix `W1` mit Hilfe der erhobenen Daten `rohdaten` in Vektorform, indem Sie nur eine Dimension vorgeben\n",
    ":::\n",
    ":::"
   ]
  },
  {
   "cell_type": "code",
   "execution_count": null,
   "metadata": {},
   "outputs": [],
   "source": [
    "# Ihr Code "
   ]
  },
  {
   "cell_type": "markdown",
   "metadata": {},
   "source": [
    ":::{admonition} Hinweis\n",
    ":class: note dropdown\n",
    "\n",
    "Nutzen Die den Befehl `.reshape` und achten Sie auf die richtige Anzahl an Spalten oder Zeilen. \n",
    ":::\n",
    "\n",
    ":::{admonition} Lösung\n",
    ":class: tip dropdown\n",
    "\n",
    "``` python\n",
    "W1 = rohdaten.reshape(-1,7)\n",
    "# Alternativ: W1 = rohdaten.reshape(2,-1)\n",
    "W1 = np.hstack((np.array([[\"\"],[\"Vormittag\"],[\"Nachmittag\"]]), np.vstack((np.array([[\"Mo\",\"Di\",\"Mi\",\"Do\",\"Fr\",\"Sa\",\"So\"]]), W1))))\n",
    "print(W1)\n",
    "```\n",
    ":::"
   ]
  },
  {
   "cell_type": "markdown",
   "metadata": {},
   "source": [
    "Mit dem `.ravel()` Befehl kann man eine beliebige Matrix wieder in einen Vektor umformen. \n",
    "\n",
    "```{figure} img/reshape_ravel.png\n",
    ":width: 60%\n",
    "Vertikales und horizontales Zusammenfügen\n",
    "<p style=\"font-size: 80%; text-align: center; margin-top: 0; padding-top: 0;\">\n",
    "<strong>Quelle:</strong> <a href=\"https://medium.com/towards-data-science/reshaping-numpy-arrays-in-python-a-step-by-step-pictorial-tutorial-aed5f471cf0b\">Medium</a>\n",
    "</p>\n",
    "```"
   ]
  },
  {
   "cell_type": "code",
   "execution_count": null,
   "metadata": {},
   "outputs": [],
   "source": [
    "a1_kopie = a1_3x4_matrix.ravel()\n",
    "print(a1_kopie)"
   ]
  },
  {
   "cell_type": "markdown",
   "metadata": {},
   "source": [
    ":::{admonition} Aufgabe 1.3\n",
    "Extrahieren Sie aus der Matrix `W1` wieder die Rohdaten \n",
    "\n",
    "$$\n",
    "    \\begin{pmatrix} \n",
    "        32 & 47 & 42 & 42 & 22 & 21 & 14 & 50 & 36 & 18 & 39 & 50 & 37 & 76\\\\\n",
    "    \\end{pmatrix}.\n",
    "$$\n",
    "unter dem Namen `rohdaten_kopie`.\n",
    ":::"
   ]
  },
  {
   "cell_type": "code",
   "execution_count": null,
   "metadata": {},
   "outputs": [],
   "source": [
    "# Ihr Code "
   ]
  },
  {
   "cell_type": "markdown",
   "metadata": {},
   "source": [
    ":::{admonition} Hinweis\n",
    ":class: note dropdown\n",
    "\n",
    "Verwenden Sie `ravel.()`. Achten Sie darauf nur die relevanten Einträge aus `W1` zu verwenden. \n",
    ":::\n",
    "\n",
    ":::{admonition} Lösung\n",
    ":class: tip dropdown\n",
    "\n",
    "``` python\n",
    "rohdaten_kopie = W1[1:,1:].ravel()\n",
    "print(rohdaten_kopie)\n",
    "```\n",
    ":::"
   ]
  },
  {
   "cell_type": "markdown",
   "metadata": {},
   "source": [
    "Sie haben vielleicht bemerkt, dass jeder Eintrag als `string` gespeichert ist. Dies wurde von `numpy` automatisch gemacht, als wir eine Zeile/Spalte mit `strings` hinzugefügt haben. Um dies rückgängig zu machen, kann der Befehl `.astype(int)` angehängt werden. So werden alle Einträge wieder in ganze Zahlen umgewandelt. "
   ]
  },
  {
   "cell_type": "markdown",
   "metadata": {},
   "source": [
    ":::{admonition} Aufgabe 1.4\n",
    "Wandels Sie `rohdaten_kopie` in einen Vektor mit ganzzahligen Einträgen um. \n",
    ":::"
   ]
  },
  {
   "cell_type": "code",
   "execution_count": null,
   "metadata": {},
   "outputs": [],
   "source": [
    "# Ihr Code "
   ]
  },
  {
   "cell_type": "markdown",
   "metadata": {},
   "source": [
    ":::{admonition} Hinweis\n",
    ":class: note dropdown\n",
    "\n",
    "Verwenden Sie `.astype(int)`.\n",
    ":::\n",
    "\n",
    ":::{admonition} Lösung\n",
    ":class: tip dropdown\n",
    "\n",
    "``` python\n",
    "rohdaten_kopie = rohdaten_kopie.astype(int)\n",
    "print(rohdaten_kopie)\n",
    "```\n",
    ":::"
   ]
  },
  {
   "cell_type": "markdown",
   "metadata": {},
   "source": [
    "Bisher haben wir die Matrizen immer Zeilenweise gefüllt. Das heißt, die erste Zeile besteht aus den ersten Einträgen des Vektors, die Zweite aus den Einträgen danach usw.. Natürlich kann man eine Matrix auch Spaltenweise füllen. Dazu muss `reshape` die zusätzliche Eingabe `order = 'F'` hinzugefügt werden. \n",
    "\n",
    "```{figure} img/reshape_order.png\n",
    ":width: 60%\n",
    "Vertikales und horizontales Zusammenfügen\n",
    "<p style=\"font-size: 80%; text-align: center; margin-top: 0; padding-top: 0;\">\n",
    "<strong>Quelle:</strong> <a href=\"https://medium.com/towards-data-science/reshaping-numpy-arrays-in-python-a-step-by-step-pictorial-tutorial-aed5f471cf0b\">Medium</a>\n",
    "</p>\n",
    "```"
   ]
  },
  {
   "cell_type": "code",
   "execution_count": null,
   "metadata": {},
   "outputs": [],
   "source": [
    "a1_3x4_matrix_columnwise = a1.reshape(3,4,order='F')\n",
    "print(a1_3x4_matrix_columnwise)"
   ]
  },
  {
   "cell_type": "markdown",
   "metadata": {},
   "source": [
    ":::{admonition} Achtung\n",
    ":class: warning\n",
    "\n",
    "`reshape` kann lediglich verwendet werden, um Matrizen ineinander umzuformen, wenn sie die gleiche Anzahl an Einträgen haben. Das heißt eine $(p \\times q)$ Matrix kann nur in eine $(m \\times n)$ Matrix umgeformt werden, wenn $p \\cdot q = m \\cdot n$ erfüllt ist. \n",
    ":::"
   ]
  },
  {
   "cell_type": "markdown",
   "metadata": {},
   "source": [
    ":::{admonition} Aufgabe 1.5\n",
    "\n",
    "Versuchen Sie `a1` in eine $(5 \\times 2)$ Matrix umzuformen. Was beobachten Sie?\n",
    ":::"
   ]
  },
  {
   "cell_type": "code",
   "execution_count": null,
   "metadata": {},
   "outputs": [],
   "source": [
    "# Ihr Code "
   ]
  }
 ],
 "metadata": {
  "language_info": {
   "name": "python"
  }
 },
 "nbformat": 4,
 "nbformat_minor": 2
}
