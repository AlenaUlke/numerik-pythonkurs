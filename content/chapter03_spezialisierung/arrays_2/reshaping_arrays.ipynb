{
 "cells": [
  {
   "cell_type": "markdown",
   "metadata": {},
   "source": [
    "# Arrays umformen\n",
    "\n",
    "Hier erklären, wie man Arrays umformt. Motivation sind erneut Daten. Manchmal muss man zum Beispiel Das Datenformat von Bildern ändern, um mit ihnen arbeiten zu können.\n",
    "\n",
    "Forme Vektor zu Matrix um und Matrix zu Matrix in einer anderen Form. Sollt ähnlich aussehen wie Bild 14. Merke an, dass in den Beispielen, die wir uns bisher angesehen haben, immer die gleiche Anzahl an Einträgen sind. Was passiert, wenn das nicht der Fall ist? Matlab wäre Fehler. Was man bei Matlab machen kann, ist eine dimension offen zu lassen und das Programm sucht sich selbst die passende offen gelassene Dimension raus (Bild 15). Falls in Python auch vorhanden, hier anmerken, dass man auch eine Matrix direkt in einen Vektor umformen kann.\n",
    "\n",
    "You can use the reshape function to reshape an m-by-n matrix into a p-by-q matrix, as long as the total number of elements remains the same (i.e., m×n = p×q).\n",
    "\n",
    "B = reshape(A,p,q)"
   ]
  },
  {
   "cell_type": "code",
   "execution_count": null,
   "metadata": {
    "tags": [
     "thebe-init"
    ]
   },
   "outputs": [],
   "source": [
    "# Hier kommt erklärender Code\n",
    "rng(0)\n",
    "A = randi(10,12,2)"
   ]
  },
  {
   "cell_type": "markdown",
   "metadata": {},
   "source": [
    ":::{admonition} Aufgabe 1.1\n",
    "A matrix A is created in the live script.\n",
    "\n",
    "Create a matrix named B that contains the data from A in eight rows and three columns.\n",
    ":::"
   ]
  },
  {
   "cell_type": "code",
   "execution_count": null,
   "metadata": {},
   "outputs": [],
   "source": [
    "# Ihr Code "
   ]
  },
  {
   "cell_type": "markdown",
   "metadata": {},
   "source": [
    ":::{admonition} Hinweis\n",
    ":class: note dropdown\n",
    "\n",
    "Use the reshape function.\n",
    "\n",
    "reshape(data,numRows,numCols)\n",
    ":::\n",
    "\n",
    ":::{admonition} Lösung\n",
    ":class: tip dropdown\n",
    "\n",
    "``` python\n",
    "B = reshape(A,8,3)\n",
    "```\n",
    ":::"
   ]
  },
  {
   "cell_type": "markdown",
   "metadata": {},
   "source": [
    "For convenience, you can leave one of the dimensions blank, using [], when calling reshape and that dimension will be calculated automatically.\n"
   ]
  },
  {
   "cell_type": "markdown",
   "metadata": {},
   "source": [
    ":::{admonition} Aufgabe 1.2\n",
    "Create a matrix named C that contains the data from A in four columns.\n",
    ":::"
   ]
  },
  {
   "cell_type": "code",
   "execution_count": null,
   "metadata": {},
   "outputs": [],
   "source": [
    "# Ihr Code "
   ]
  },
  {
   "cell_type": "markdown",
   "metadata": {},
   "source": [
    ":::{admonition} Hinweis\n",
    ":class: note dropdown\n",
    "\n",
    "Use the reshape function.\n",
    "\n",
    "reshape(data,numRows,numCols)\n",
    ":::\n",
    "\n",
    ":::{admonition} Lösung\n",
    ":class: tip dropdown\n",
    "\n",
    "``` python\n",
    "C = reshape(A,[],4)\n",
    "```\n",
    ":::"
   ]
  },
  {
   "cell_type": "markdown",
   "metadata": {},
   "source": [
    "Reshaping arrays is also among the many uses of the colon operator (:).\n",
    "\n",
    "You can reshape any matrix into a column vector using x(:). "
   ]
  },
  {
   "cell_type": "code",
   "execution_count": null,
   "metadata": {},
   "outputs": [],
   "source": [
    "# Hier kommt erklärender Code\n",
    "import numpy as np "
   ]
  },
  {
   "cell_type": "markdown",
   "metadata": {},
   "source": [
    ":::{admonition} Aufgabe 1.3\n",
    "Create a vector named D with all the data in A in one column.\n",
    "\n",
    ":::"
   ]
  },
  {
   "cell_type": "code",
   "execution_count": null,
   "metadata": {},
   "outputs": [],
   "source": [
    "# Ihr Code "
   ]
  },
  {
   "cell_type": "markdown",
   "metadata": {},
   "source": [
    ":::{admonition} Hinweis\n",
    ":class: note dropdown\n",
    "Use the reshape function on the transposed data in A, A'.\n",
    "\n",
    "reshape(data',numRows,numCols)\n",
    ":::\n",
    "\n",
    ":::{admonition} Lösung\n",
    ":class: tip dropdown\n",
    "\n",
    "``` python\n",
    "D = A(:)\n",
    "```\n",
    ":::"
   ]
  },
  {
   "cell_type": "markdown",
   "metadata": {},
   "source": [
    "Did you notice that it's not necessary to specify the order in which the elements of A are extracted? This is because MATLAB stores data in a column-major format.\n",
    "\n",
    "M = [ 1 2 3 ; 4 5 6 ]\n",
    "\n",
    "M = \n",
    "$$\n",
    "    \\begin{pmatrix} \n",
    "        1 & 2 & 3\\\\\n",
    "        4 & 5 & 6\n",
    "    \\end{pmatrix}\n",
    "$$\n",
    "\n",
    "\n",
    "\n",
    "The matrix M is stored in memory as 1, 4, 2, 5, 3, 6. And, thus, the reshaped array is populated in the same order along each column.\n",
    "\n",
    "reshape(M,3,2)\n",
    "\n",
    "ans =\n",
    "\n",
    "$$\n",
    "    \\begin{pmatrix} \n",
    "        1 & 5\\\\\n",
    "        4 & 3\\\\\n",
    "        2 & 6\n",
    "    \\end{pmatrix}\n",
    "$$\n",
    "\n",
    "To extract elements row-wise, use the transpose operator, ', to transpose the matrix before reshaping."
   ]
  },
  {
   "cell_type": "code",
   "execution_count": null,
   "metadata": {},
   "outputs": [],
   "source": [
    "# Hier kommt erklärender Code\n",
    "import numpy as np "
   ]
  },
  {
   "cell_type": "markdown",
   "metadata": {},
   "source": [
    ":::{admonition} Aufgabe 1.4\n",
    "Create a vector named E with all the data in A in one row. Extract the data row-wise rather than column-wise.\n",
    ":::"
   ]
  },
  {
   "cell_type": "code",
   "execution_count": null,
   "metadata": {},
   "outputs": [],
   "source": [
    "# Ihr Code "
   ]
  },
  {
   "cell_type": "markdown",
   "metadata": {},
   "source": [
    ":::{admonition} Hinweis\n",
    ":class: note dropdown\n",
    "\n",
    "Use the reshape function on the transposed data in A, A'.\n",
    "\n",
    "reshape(data',numRows,numCols)\n",
    ":::\n",
    "\n",
    ":::{admonition} Lösung\n",
    ":class: tip dropdown\n",
    "\n",
    "``` python\n",
    "E = reshape(A',1,[])\n",
    "```\n",
    ":::"
   ]
  },
  {
   "cell_type": "markdown",
   "metadata": {},
   "source": [
    ":::{admonition} Aufgabe 1.5\n",
    "Try creating a 4 column matrix populated row-wise from the rows of A. You can use the reshape function with the transpose operator, ', and then make sure to transpose the result, as well.\n",
    "\n",
    "What happens if you supply a size with a different number of elements?\n",
    "\n",
    "reshape(A,3,5)\n",
    ":::"
   ]
  },
  {
   "cell_type": "code",
   "execution_count": null,
   "metadata": {},
   "outputs": [],
   "source": [
    "# Ihr Code "
   ]
  },
  {
   "cell_type": "markdown",
   "metadata": {},
   "source": [
    ":::{admonition} Hinweis\n",
    ":class: note dropdown\n",
    "\n",
    ":::\n",
    "\n",
    ":::{admonition} Lösung\n",
    ":class: tip dropdown\n",
    "\n",
    "``` python\n",
    "```\n",
    ":::"
   ]
  },
  {
   "cell_type": "markdown",
   "metadata": {},
   "source": [
    "Bild 16 und 17 sind möhliche Quizfragen."
   ]
  }
 ],
 "metadata": {
  "language_info": {
   "name": "python"
  }
 },
 "nbformat": 4,
 "nbformat_minor": 2
}
