{
 "cells": [
  {
   "cell_type": "markdown",
   "metadata": {},
   "source": [
    "# Arrays umformen\n",
    "\n",
    "Manchmal ist das Problem bei erhobenen Daten nicht, dass sie durch ein Schichtsystem in kleineren Matrixen oder Vektoren aufgeteilt sind, sondern dass sie in einem ungünstigen Format abgespeichert wurden. Um die NextBike Daten, die der Lehrstuhl für wissenschatliches Rechnen erhoben hat, gegenzuprüfen, hat der Lehrstuhl für stochastische Numerik unabhängig von diesem ebenfalls die NextBike Ausleihen gezählt. Sie haben die Zahlen allerdings anders vermerkt. Es gab einen Zettel, der bei Schichtende an die nächste Person weitergegeben wurde. Auf diesem Zettel wurden alle Zahlen nebeneinander notiert:\n",
    "\n",
    "$$\n",
    "    \\begin{pmatrix} \n",
    "        32 & 47 & 42 & 42 & 22 & 21 & 14 & 50 & 36 & 18 & 39 & 50 & 37 & 76\\\\\n",
    "    \\end{pmatrix}.\n",
    "$$\n",
    "\n",
    "Das heißt die Daten haben nicht die Form \n",
    "\n",
    "$$\n",
    "    \\begin{pmatrix} \n",
    "         & \\text{Mo} & \\text{Di} & \\text{Mi} & \\text{Do} & \\text{Fr} & \\text{Sa} & \\text{So}\\\\\n",
    "        \\text{Vormittag} & 32 & 47 & 42 & 42 & 22 & 21 & 14\\\\\n",
    "        \\text{Nachmittag} & 50 & 36 & 18 & 39 & 50 & 37 & 76\\\\\n",
    "    \\end{pmatrix}.\n",
    "$$\n",
    "\n",
    "\n",
    "Unser Ziel in diesem Kapitel ist es, auch diese erhobenen Daten in unsere übersichtliche Matrixform zu bringen. \n",
    "\n",
    "## Arrays in eine Matrix überführen\n",
    "In NumPy können Sie mit der Funktion $\\texttt{np.reshape}$ ein Array in eine Matrix überführen, die die gleichen Einträge hat, aber in einer anderen Anordung. Der Befehl $\\texttt{np.reshape(arr, (m,n))}$ formt das Array $\\texttt{arr}$ in eine $(m \\times n)$ Matrix um.\n",
    "\n",
    "```{figure} img/reshape_standard.png\n",
    ":width: 60%\n",
    "<p style=\"font-size: 80%; text-align: center; margin-top: 0; padding-top: 0;\">\n",
    "<strong>Quelle:</strong> <a href=\"https://medium.com/towards-data-science/reshaping-numpy-arrays-in-python-a-step-by-step-pictorial-tutorial-aed5f471cf0b\">Medium</a>\n",
    "</p>\n",
    "```\n",
    "\n",
    "Mit $\\texttt{np.reshape}$ können Sie ein Array nicht nur in Matrizen, also ein zweidimensionales Arrays umwandeln, sondern auch in beliebig dimensionale Arrays. Dazu müssen Sie lediglich die gewünschte Größe entsprechend setzen.\n"
   ]
  },
  {
   "cell_type": "code",
   "execution_count": null,
   "metadata": {},
   "outputs": [],
   "source": [
    "import numpy as np\n",
    "a1 = np.arange(1,13)\n",
    "shape_2D = (3, 4)\n",
    "shape_3D = (2, 3, 2)\n",
    "\n",
    "a1_3x4 = np.reshape(a1, shape_2D)\n",
    "a1_2x3x2 = np.reshape(a1, shape_3D)\n",
    "\n",
    "print(a1_3x4)\n",
    "print(a1_2x3x2)"
   ]
  },
  {
   "cell_type": "markdown",
   "metadata": {},
   "source": [
    ":::{admonition} Achtung\n",
    ":class: warning\n",
    "\n",
    "Achten Sie darauf, dass die Anzahl der Element des Arrays $\\texttt{arr}$ gleich der Anzahl der Element der gwünschten Form ist. Wenn Sie ein Array in eine $m \\times n$ Matrix umformen möchten, muss also \n",
    "$\\texttt{np.size(arr)} =  m \\cdot n$ gelten. Anderfalls gibt Python eine Fehlermeldung aus!\n",
    ":::\n",
    "\n",
    "\n",
    ":::{admonition} Aufgabe 1.1\n",
    "Erstellen Sie ausgehend von den erhobenen Daten $\\texttt{rohdaten}$ die Matrix $\\texttt{W1}$, welche folgende Form haben soll: \n",
    "\n",
    "$$\n",
    "    \\begin{pmatrix} \n",
    "         & \\text{Mo} & \\text{Di} & \\text{Mi} & \\text{Do} & \\text{Fr} & \\text{Sa} & \\text{So}\\\\\n",
    "        \\text{Vormittag} & 32 & 47 & 42 & 42 & 22 & 21 & 14\\\\\n",
    "        \\text{Nachmittag} & 50 & 36 & 18 & 39 & 50 & 37 & 76\\\\\n",
    "    \\end{pmatrix}\n",
    "$$\n",
    ":::"
   ]
  },
  {
   "cell_type": "code",
   "execution_count": null,
   "metadata": {},
   "outputs": [],
   "source": [
    "rohdaten = np.array([[32, 47, 42, 42, 22, 21, 14, 50, 36, 18, 39, 50, 37, 76]])\n",
    "\n",
    "# Ihr Code"
   ]
  },
  {
   "cell_type": "markdown",
   "metadata": {},
   "source": [
    ":::{admonition} Hinweis\n",
    ":class: note dropdown\n",
    "\n",
    "Nutzen die Funktion $\\texttt{reshape}$ und achten Sie auf die richtige Anzahl an Spalten und Zeilen. \n",
    ":::\n",
    "\n",
    ":::{admonition} Lösung\n",
    ":class: tip dropdown\n",
    "\n",
    "``` python\n",
    "W1 = reshape(rohdaten, (2, 7))\n",
    "W1 = np.hstack(\n",
    "    (\n",
    "        np.array([[\"\"], [\"Vormittag\"], [\"Nachmittag\"]]),\n",
    "        np.vstack((np.array([[\"Mo\", \"Di\", \"Mi\", \"Do\", \"Fr\", \"Sa\", \"So\"]]), W1)),\n",
    "    )\n",
    ")\n",
    "print(W1)\n",
    "```\n",
    ":::"
   ]
  },
  {
   "cell_type": "markdown",
   "metadata": {},
   "source": [
    "Die Funktion $\\texttt{np.reshape}$ bietet ebenfalls die Möglichkeit nur eine Dimension vorzugeben. Der Ausdruck $\\texttt{np.reshape(-1,n)}$ formt eine Matrix oder einen Vektor in eine $(x \\times n)$ Matrix um, wobei $x$ automatisch so gewählt wird, dass die die Anzahl der Einträge vor und nach der Umformung übereinstimmen. Analog funktioniert der Befehl $\\texttt{np.reshape(m,-1)}$, der eine $(m \\times x)$ Matrix erzeugt. \n",
    "\n",
    "\n",
    "```{figure} img/reshape_one_input.png\n",
    ":width: 60%\n",
    "<p style=\"font-size: 80%; text-align: center; margin-top: 0; padding-top: 0;\">\n",
    "<strong>Quelle:</strong> <a href=\"https://medium.com/towards-data-science/reshaping-numpy-arrays-in-python-a-step-by-step-pictorial-tutorial-aed5f471cf0b\">Medium</a>\n",
    "</p>\n",
    "```"
   ]
  },
  {
   "cell_type": "code",
   "execution_count": null,
   "metadata": {},
   "outputs": [],
   "source": [
    "a1_3x4_matrix_spalten = np.reshape(a1, (-1, 4))\n",
    "a1_3x4_matrix_zeilen = np.reshape(a1, (3, -1))\n",
    "\n",
    "print(a1_3x4_matrix_spalten)\n",
    "print(a1_3x4_matrix_zeilen)"
   ]
  },
  {
   "cell_type": "markdown",
   "metadata": {},
   "source": [
    ":::{admonition} Aufgabe 1.2\n",
    "Erstellen Sie erneut die Matrix $\\texttt{W1}$ mit Hilfe der erhobenen Daten $\\texttt{rohdaten}$ in Vektorform, indem Sie nur eine Dimension vorgeben\n",
    ":::\n",
    ":::"
   ]
  },
  {
   "cell_type": "code",
   "execution_count": null,
   "metadata": {},
   "outputs": [],
   "source": [
    "# Ihr Code\n"
   ]
  },
  {
   "cell_type": "markdown",
   "metadata": {},
   "source": [
    ":::{admonition} Hinweis\n",
    ":class: note dropdown\n",
    "\n",
    "Nutzen die Funktion $\\texttt{np.reshape}$ und achten Sie auf die richtige Anzahl an Spalten oder Zeilen. \n",
    ":::\n",
    "\n",
    ":::{admonition} Lösung\n",
    ":class: tip dropdown\n",
    "\n",
    "``` python\n",
    "W1 = np.reshape(rohdaten, (-1, 7))\n",
    "# Alternativ: W1 = np.reshape(rohdaten, (2,-1))\n",
    "\n",
    "W1 = np.hstack(\n",
    "    (\n",
    "        np.array([[\"\"], [\"Vormittag\"], [\"Nachmittag\"]]),\n",
    "        np.vstack((np.array([[\"Mo\", \"Di\", \"Mi\", \"Do\", \"Fr\", \"Sa\", \"So\"]]), W1)),\n",
    "    )\n",
    ")\n",
    "print(W1)\n",
    "```\n",
    ":::\n",
    "\n",
    "\n",
    ":::{admonition} Achtung\n",
    ":class: warning\n",
    "\n",
    "Achten Sie darauf, dass die Anzahl der Element des Arrays $\\texttt{arr}$ gleich der Anzahl der Element der gwünschten Form ist. Wenn Sie ein Array in eine $m \\times n$ Matrix umformen möchten, muss also \n",
    "$\\texttt{np.size(arr)} =  m \\cdot n$ gelten. Anderfalls gibt Python eine Fehlermeldung aus.\n",
    ":::"
   ]
  },
  {
   "cell_type": "markdown",
   "metadata": {},
   "source": [
    "## Array in einen Vektor überführen\n",
    "\n",
    "Mit dem $\\texttt{np.ravel()}$ Befehl kann man eine beliebige Matrix wieder in einen Vektor umformen. \n",
    "\n",
    "```{figure} img/reshape_ravel.png\n",
    ":width: 60%\n",
    "<p style=\"font-size: 80%; text-align: center; margin-top: 0; padding-top: 0;\">\n",
    "<strong>Quelle:</strong> <a href=\"https://medium.com/towards-data-science/reshaping-numpy-arrays-in-python-a-step-by-step-pictorial-tutorial-aed5f471cf0b\">Medium</a>\n",
    "</p>\n",
    "```"
   ]
  },
  {
   "cell_type": "code",
   "execution_count": null,
   "metadata": {},
   "outputs": [],
   "source": [
    "a1_kopie = np.ravel(a1_3x4_matrix)\n",
    "\n",
    "print(a1_kopie)"
   ]
  },
  {
   "cell_type": "markdown",
   "metadata": {},
   "source": [
    ":::{admonition} Aufgabe 2.1\n",
    "Extrahieren Sie aus der Matrix $\\texttt{W1}$ wieder die Rohdaten und speichern Sie dies in $\\texttt{rohdaten_kopie}. \n",
    ":::"
   ]
  },
  {
   "cell_type": "code",
   "execution_count": null,
   "metadata": {},
   "outputs": [],
   "source": [
    "# Ihr Code "
   ]
  },
  {
   "cell_type": "markdown",
   "metadata": {},
   "source": [
    ":::{admonition} Hinweis\n",
    ":class: note dropdown\n",
    "\n",
    "Verwenden Sie $\\texttt{np.ravel()}$. Achten Sie darauf nur die relevanten Einträge aus $\\texttt{W1}$ zu verwenden. \n",
    ":::\n",
    "\n",
    ":::{admonition} Lösung\n",
    ":class: tip dropdown\n",
    "\n",
    "``` python\n",
    "rohdaten_kopie = np.ravel(W1[1:,1:])\n",
    "print(rohdaten_kopie)\n",
    "```\n",
    ":::"
   ]
  },
  {
   "cell_type": "markdown",
   "metadata": {},
   "source": [
    "Sie haben vielleicht bemerkt, dass jeder Eintrag als $\\texttt{string}$ gespeichert ist. Dies wurde von NumPy automatisch gemacht, als wir eine Zeile/Spalte mit Strings hinzugefügt haben. Um dies rückgängig zu machen, kann der Befehl $\\texttt{.astype(int)}$ angehängt werden. So werden alle Einträge wieder in ganze Zahlen umgewandelt. "
   ]
  },
  {
   "cell_type": "markdown",
   "metadata": {},
   "source": [
    ":::{admonition} Aufgabe 2.2\n",
    "Wandeln Sie $\\texttt{rohdaten_kopie}$ in einen Vektor mit ganzzahligen Einträgen um. \n",
    ":::"
   ]
  },
  {
   "cell_type": "code",
   "execution_count": null,
   "metadata": {},
   "outputs": [],
   "source": [
    "# Ihr Code "
   ]
  },
  {
   "cell_type": "markdown",
   "metadata": {},
   "source": [
    ":::{admonition} Hinweis\n",
    ":class: note dropdown\n",
    "\n",
    "Verwenden Sie $\\texttt{.astype(int)}$.\n",
    ":::\n",
    "\n",
    ":::{admonition} Lösung\n",
    ":class: tip dropdown\n",
    "\n",
    "``` python\n",
    "rohdaten_kopie = rohdaten_kopie.astype(int)\n",
    "print(rohdaten_kopie)\n",
    "```\n",
    ":::"
   ]
  },
  {
   "cell_type": "markdown",
   "metadata": {},
   "source": [
    "Bisher haben wir die Matrizen immer Zeilenweise gefüllt. Das heißt, die erste Zeile besteht aus den ersten Einträgen des Vektors, die Zweite aus den Einträgen danach usw. Einen Vektor auf diese Weise in eine Matrix zu überführen nennt man *row-major order*. Natürlich kann man eine Matrix auch Spaltenweise füllen. Das nennt man auch *column-major order*. Dazu muss $\\texttt{np.reshape}$ die zusätzliche Eingabe $\\texttt{order = 'F'}$ hinzugefügt werden. \n",
    "\n",
    "```{figure} img/reshape_order.png\n",
    ":width: 60%\n",
    "<p style=\"font-size: 80%; text-align: center; margin-top: 0; padding-top: 0;\">\n",
    "<strong>Quelle:</strong> <a href=\"https://medium.com/towards-data-science/reshaping-numpy-arrays-in-python-a-step-by-step-pictorial-tutorial-aed5f471cf0b\">Medium</a>\n",
    "</p>\n",
    "```"
   ]
  },
  {
   "cell_type": "code",
   "execution_count": null,
   "metadata": {},
   "outputs": [],
   "source": [
    "a1_3x4_matrix_columnwise = a1.reshape(3, 4, order='F')\n",
    "\n",
    "print(a1_3x4_matrix_columnwise)"
   ]
  }
 ],
 "metadata": {
  "language_info": {
   "name": "python"
  }
 },
 "nbformat": 4,
 "nbformat_minor": 2
}
