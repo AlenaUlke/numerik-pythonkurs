{
 "cells": [
  {
   "cell_type": "markdown",
   "metadata": {},
   "source": [
    "# Diagramme mit mehreren Graphen\n",
    "\n",
    "Oft möchte man nicht nur einen einzelnen Graphen darstellen, sondern mehrere Graphen, Punktwolken oder sogar ganze Matrizen vergleichen. In diesem Kapitel lernen Sie, wie Sie mehrere Vektoren oder Matrizen gleichzeitig als Eingabe für $\\texttt{plt.plot()}$ verwenden können, etwa um verschiedene Funktionen zu vergleichen oder Veränderungen über die Zeit oder Parameter hinweg sichtbar zu machen. Dabei geht es auch darum, wie Sie Ihre Daten sinnvoll strukturieren und optisch klar voneinander trennen.\n",
    "\n",
    "Wir arbeiten weiterhin mit dem Datensatz zu erneuerbaren Energien, welcher wie folgt aufbereitet wurde:\n",
    "\n",
    "- $\\texttt{data_array}$: Numpy-Array, der Größe $ 35 \\times 6$, wobei\n",
    "    - die Spalte 0 die Jahres Zahlen enthält, und\n",
    "    - die Spalten 1 bis 5 den Anteil erneuerbarer Energien in Prozent für Deutschland, USA, China, Norwegen und Brasilien (in genau dieser Reihenfolge) enthalten."
   ]
  },
  {
   "cell_type": "code",
   "execution_count": null,
   "metadata": {
    "tags": [
     "thebe-init",
     "hide-cell"
    ]
   },
   "outputs": [],
   "source": [
    "import pandas as pd\n",
    "import numpy as np\n",
    "import matplotlib.pyplot as plt\n",
    "\n",
    "# Datenquelle\n",
    "url = \"https://raw.githubusercontent.com/owid/energy-data/master/owid-energy-data.csv\"\n",
    "df = pd.read_csv(url)\n",
    "\n",
    "# Auswahlparameter\n",
    "countries = ['Germany', 'United States', 'China', 'Norway', 'Brazil']\n",
    "variable = 'renewables_share_energy'\n",
    "\n",
    "# Daten filtern und auf relevante Spalten reduzieren\n",
    "df_filtered = df[(df['country'].isin(countries)) & (df['year'] >= 1990)]\n",
    "df_pivot = df_filtered.pivot(index='year', columns='country', values=variable)\n",
    "\n",
    "# Nur vollständige Zeilen und relevante Länder\n",
    "df_selected = df_pivot[countries].dropna()\n",
    "\n",
    "# Jahr als eigene Spalte\n",
    "df_selected_with_years = df_selected.copy()\n",
    "df_selected_with_years.insert(0, 'year', df_selected.index)\n",
    "\n",
    "# Umwandeln in NumPy-Array\n",
    "data_array = df_selected_with_years.to_numpy()"
   ]
  },
  {
   "cell_type": "markdown",
   "metadata": {},
   "source": [
    "\n",
    "\n",
    "## Diagramme mit mehreren Vektoren als Eingabe\n",
    "\n",
    "Um mehrere Linien in einem Plot darzustellen, stehen Ihnen zwei Optionen zur Verfügung. Zum einen kann $\\texttt{plt.plot()}$ vor dem abschließenden $\\texttt{plt.show()}$ mehrfach aufgerufen werden. Alternativ können Sie auch direkt mehrere Graph-Koordinaten an $\\texttt{plt.plot()}$ übergeben.\n",
    "\n",
    "\n",
    "::::{tab-set} \n",
    "\n",
    ":::{tab-item} Mehrfacher Aufruf von $\\texttt{plt.plot()}$\n",
    "``` python\n",
    "import matplotlib.pyplot as plt\n",
    "\n",
    "plt.plot(x, y1)   # erste Linie\n",
    "plt.plot(x, y2)   # zweite Linie\n",
    "plt.show()\n",
    "```\n",
    ":::\n",
    "\n",
    ":::{tab-item} Einfacher Aufruf von $\\texttt{plt.plot()}$\n",
    "``` python\n",
    "import matplotlib.pyplot as plt\n",
    "\n",
    "plt.plot(x, y1, x, y2)  # beide Linien in einer Zeile\n",
    "plt.show()\n",
    "```\n",
    ":::\n",
    "\n",
    "::::\n",
    "\n",
    "\n",
    ":::{admonition} Aufgabe 1.1\n",
    "Erweitern Sie den Plot, sodass neben den deutschen Daten (Spaltenindex 1) auch die Daten für die USA (Spaltenindex 2) dargestellt werden.\n",
    ":::"
   ]
  },
  {
   "cell_type": "code",
   "execution_count": null,
   "metadata": {},
   "outputs": [],
   "source": [
    "plt.plot(data_array[:, 0], data_array[:, 1])\n",
    "\n",
    "plt.title('Anteil erneuerbarer Energien in Deutschland und den USA seit 1990')\n",
    "plt.xlabel('Jahr')\n",
    "plt.ylabel('Anteil erneuerbarer Energien (%)')\n",
    "plt.grid(True)\n",
    "plt.show()"
   ]
  },
  {
   "cell_type": "markdown",
   "metadata": {},
   "source": [
    "\n",
    ":::{admonition} Hinweis\n",
    ":class: note dropdown\n",
    "\n",
    "Man kann einen zweiten $\\texttt{plt.plot()}$ Befehl hinzufügen oder beide Linien in einem $\\texttt{plt.plot()}$ Aufruf kombinieren.\n",
    ":::\n",
    "\n",
    ":::{admonition} Lösung\n",
    ":class: tip dropdown\n",
    "\n",
    "``` python\n",
    "plt.plot(data_array[:, 0], data_array[:, 1], data_array[:, 0], data_array[:, 2] )\n",
    "\n",
    "plt.title('Anteil erneuerbarer Energien in Deutschland und den USA seit 1990')\n",
    "plt.xlabel('Jahr')\n",
    "plt.ylabel('Anteil erneuerbarer Energien (%)')\n",
    "plt.grid(True)\n",
    "plt.show()\n",
    "```\n",
    ":::"
   ]
  },
  {
   "cell_type": "markdown",
   "metadata": {},
   "source": [
    "Wenn Sie mehr als zwei Linien zeichnen möchten, fügen Sie einfach weitere $x,y$-Paare hinzu – entweder durch zusätzliche $\\texttt{plt.plot()}$ Aufrufe oder als zusätzliche Argumente im selben Aufruf: $\\texttt{plt.plot(x, y1, x, y2, x, y3, ...)}$."
   ]
  },
  {
   "cell_type": "markdown",
   "metadata": {},
   "source": [
    ":::{admonition} Aufgabe 1.2\n",
    "Erweitern Sie den Plot, sodass neben den deutschen und amerikanischen Daten, auch die Daten der restlichen drei Länder angezeigt werden (China, Norwegen und Brasilien).\n",
    ":::"
   ]
  },
  {
   "cell_type": "code",
   "execution_count": null,
   "metadata": {},
   "outputs": [],
   "source": [
    "plt.plot(data_array[:, 0], data_array[:, 1])\n",
    "\n",
    "plt.title('Anteil erneuerbarer Energien in Deutschland und den USA seit 1990')\n",
    "plt.xlabel('Jahr')\n",
    "plt.ylabel('Anteil erneuerbarer Energien (%)')\n",
    "plt.grid(True)\n",
    "plt.show()"
   ]
  },
  {
   "cell_type": "markdown",
   "metadata": {},
   "source": [
    ":::{admonition} Hinweis\n",
    ":class: note dropdown\n",
    "\n",
    "Nutzen Sie mehrere $\\texttt{plt.plot()}$ Aufrufe oder einen einzigen Aufruf $\\texttt{plt.plot(x, y1, x, y2, x, y3, ...)}$.\n",
    ":::\n",
    "\n",
    ":::{admonition} Lösung\n",
    ":class: tip dropdown\n",
    "\n",
    "``` python\n",
    "plt.plot(data_array[:, 0], data_array[:, 1], data_array[:, 0], data_array[:, 2], data_array[:, 0], data_array[:, 3], data_array[:, 0], data_array[:, 4], data_array[:, 0], data_array[:, 5])\n",
    "\n",
    "plt.title('Anteil erneuerbarer Energien seit 1990')\n",
    "plt.xlabel('Jahr')\n",
    "plt.ylabel('Anteil erneuerbarer Energien (%)')\n",
    "plt.grid(True)\n",
    "plt.show()\n",
    "```\n",
    ":::"
   ]
  },
  {
   "cell_type": "markdown",
   "metadata": {},
   "source": [
    "Wenn Sie mehrere Linien gleichzeitig darstellen, kann die Graphik schnell unübersichtlich wirken. Um die Daten besser unterscheidbar zu machen, empfiehlt es sich, für jede Linie passende Eigenschaften wie $\\texttt{label}$, $\\texttt{color}$ und gegebenenfalls $\\texttt{linestyle}$ anzugeben:\n",
    "\n",
    "``` python\n",
    "plt.plot(x, y1, color='r', label='Wert 1')\n",
    "plt.plot(x, y2, color='b', label='Wert 2')\n",
    "\n",
    "plt.legend()\n",
    "```\n",
    "\n",
    "Durch den anschließenden Aufruf von $\\texttt{plt.legend()}$ wird eine Legende eingeblendet, die die Labels den Linien zuordnet."
   ]
  },
  {
   "cell_type": "markdown",
   "metadata": {},
   "source": [
    ":::{admonition} Aufgabe 1.3\n",
    "Passen Sie die bestehende Graphik an, sodass jede Linie eine eigene Farbe und ein passendes Label bekommt. Verwenden Sie folgende Farbgebung:\n",
    ":::{list-table}\n",
    "\n",
    "* - Deutschland\n",
    "  - $\\texttt{blue}$\n",
    "* - USA\n",
    "  - $\\texttt{red}$\n",
    "* - China\n",
    "  - $\\texttt{green}$\n",
    "* - Norwegen\n",
    "  - $\\texttt{orange}$\n",
    "* - Brasilien\n",
    "  - $\\texttt{purple}$\n",
    ":::\n",
    ":::"
   ]
  },
  {
   "cell_type": "code",
   "execution_count": null,
   "metadata": {},
   "outputs": [],
   "source": [
    "# Ihr Code "
   ]
  },
  {
   "cell_type": "markdown",
   "metadata": {},
   "source": [
    ":::{admonition} Hinweis\n",
    ":class: note dropdown\n",
    "Nutzen Sie fünf $\\texttt{plt.plot()}$ Befehle, jeweils mit $\\texttt{color}$ und $\\texttt{label}$. Vergessen Sie $\\texttt{plt.legend()}$ nicht.\n",
    ":::\n",
    "\n",
    ":::{admonition} Lösung\n",
    ":class: tip dropdown\n",
    "\n",
    "``` python\n",
    "plt.plot(data_array[:, 0], data_array[:, 1], color=\"blue\", label=\"Deutschland\")\n",
    "plt.plot(data_array[:, 0], data_array[:, 2], color=\"red\", label=\"USA\")\n",
    "plt.plot(data_array[:, 0], data_array[:, 3], color=\"green\", label=\"China\")\n",
    "plt.plot(data_array[:, 0], data_array[:, 4], color=\"orange\", label=\"Norwegen\")\n",
    "plt.plot(data_array[:, 0], data_array[:, 5], color=\"purple\", label=\"Brasilien\")\n",
    "\n",
    "plt.title('Anteil erneuerbarer Energien seit 1990')\n",
    "plt.xlabel('Jahr')\n",
    "plt.ylabel('Anteil erneuerbarer Energien (%)')\n",
    "plt.grid(True)\n",
    "plt.legend()\n",
    "plt.show()\n",
    "```\n",
    ":::"
   ]
  },
  {
   "cell_type": "markdown",
   "metadata": {},
   "source": [
    "Wenn Sie keine Farbe explizit angeben, verwendet die Bibliothek automatisch Farben aus einer vordefinierten Farbpalette, dem sogenannten *Color Cycle*. Dieser Zyklus besteht standardmäßig aus zehn unterschiedlichen Farben, die in der Reihenfolge verwendet werden, in der Linien gezeichnet werden. Sobald mehr als zehn Linien dargestellt werden, beginnt der Zyklus von vorne, wodurch Farben wiederholt werden können.\n",
    "\n",
    "Diese automatische Farbvergabe eignet sich gut für schnelle Visualisierungen. Bei komplexeren Diagramme mit mehreren Linien kann es jedoch hilfreich sein, Farben und Beschriftungen explizit festzulegen, um die Lesbarkeit zu verbessern.\n",
    "\n",
    "Für detailliertere Informationen zur automatischen Farbvergabe und zur Anpassung des Color Cycles in matplotlib können Sie die offizielle Dokumentation konsultieren: [Colors in the default property cycle](https://matplotlib.org/stable/gallery/color/color_cycle_default.html) \n"
   ]
  },
  {
   "cell_type": "markdown",
   "metadata": {},
   "source": [
    "## Plots mit Matrizen als Eingabe\n",
    "\n",
    "Als nächstes wollen wir Matrizen direkt als Eingabe für die Funktion $\\texttt{plt.plot()}$ verwenden. Dadurch lassen sich mehrere Datenreihen gleichzeitig und effizient in einem einzigen Diagramm darstellen. "
   ]
  },
  {
   "cell_type": "markdown",
   "metadata": {},
   "source": [
    "Im Kapitel [Graphiken individuell gestalten](../visualisation_2/advanced_2D_plots.ipynb) haben Sie gelernt, wie man einzelne Vektoren gemeinsam in einem Diagramm visualisiert. Nun gehen wir einen Schritt weiter: Statt jede Datenreihe einzeln zu übergeben, können Sie ein zweidimensionales Array direkt an $\\texttt{plt.plot()}$ übergeben. \n",
    "\n",
    ":::{admonition} Wichtig\n",
    ":class: warning\n",
    "\n",
    "Die Dimensionen müssen zueinander passen:\n",
    "- Der erste Parameter (die $x$-Achse) muss ein Vektor mit der gleichen Länge wie die Anzahl der Zeilen des 2D-Arrays sein.\n",
    "- Das 2D-Array enthält dann pro Spalte eine eigene Datenreihe, die automatisch als separater Graph geplottet wird.\n",
    ":::\n",
    "\n",
    "In diesem Beispiel ist die Eingabe falsch: Der Vektor $x$ hat die Länge 100, aber $y$ besitzt nur 2 Zeilen und 100 Spalten.\n",
    "\n",
    "```python\n",
    "import matplotlib.pyplot as plt\n",
    "x = np.linspace(0, 2 * np.pi, 100)  # Länge 100\n",
    "y = np.vstack([np.sin(x), np.cos(x)])  # 100 Spalten, 2 Zeilen\n",
    "\n",
    "plt.plot(x, y) \n",
    "plt.xlabel('x')\n",
    "plt.ylabel('y')\n",
    "plt.title('Sinus- und Cosinusfunktionen')\n",
    "plt.show()\n",
    "```\n",
    "\n",
    "Nun korrigieren wir den Fehler: $y$ hat 100 Zeilen und 2 Spalten – passend zur Länge von $x$.\n",
    "\n",
    "```python\n",
    "x = np.linspace(0, 2 * np.pi, 100)  # Länge 100\n",
    "y = np.vstack([np.sin(x), np.cos(x)])  # 2 Spalten, 100 Zeilen\n",
    "\n",
    "plt.plot(x, y.T) \n",
    "plt.xlabel('x')\n",
    "plt.ylabel('y')\n",
    "plt.title('Sinus- und Cosinusfunktionen')\n",
    "plt.show()\n",
    "```\n",
    "\n",
    "Mit dieser Methode lassen sich also mehrere Graphen auf einmal zeichnen, indem Sie nur zwei Argumente übergeben: den gemeinsamen $x$-Vektor und die Datenmatrix für die $y$-Werte."
   ]
  },
  {
   "cell_type": "markdown",
   "metadata": {},
   "source": [
    ":::{admonition} Aufgabe 2.1  \n",
    "Erstellen Sie ein Diagramm, das für jedes Land in $\\texttt{data_array}$ den Anteil erneuerbarer Energien ab dem Jahr 1990 zeigt, indem Sie eine Matrix mit den Daten zum Anteil erneuerbarer Energien übergeben.\n",
    ":::\n"
   ]
  },
  {
   "cell_type": "code",
   "execution_count": null,
   "metadata": {},
   "outputs": [],
   "source": [
    "# Ihr Code "
   ]
  },
  {
   "cell_type": "markdown",
   "metadata": {},
   "source": [
    ":::{admonition} Hinweis\n",
    ":class: note dropdown\n",
    "\n",
    "Nutzen Sie die erste bis fünfte Spalte von $\\texttt{data_array}$ als Matrix-Eingabe für $\\texttt{plt.plot()}$. \n",
    ":::\n",
    "\n",
    ":::{admonition} Lösung\n",
    ":class: tip dropdown\n",
    "\n",
    "``` python\n",
    "# Jahre als x-Achse\n",
    "x = data_array[:, 0]\n",
    "# Daten für jedes Land als y-Achse\n",
    "y = data_array[:, 1:]\n",
    "\n",
    "# Plotten aller Länder in einem Plot\n",
    "plt.plot(x, y)\n",
    "plt.title('Anteil erneuerbarer Energien seit 1990')\n",
    "plt.xlabel('Jahr')\n",
    "plt.ylabel('Anteil (%)')\n",
    "plt.grid(True)\n",
    "plt.show()\n",
    "```\n",
    ":::"
   ]
  },
  {
   "cell_type": "markdown",
   "metadata": {},
   "source": [
    "Wenn Sie eine ganze Matrix an $\\texttt{plt.plot()}$ übergeben, wird für jede Spalte automatisch eine eigene Linie gezeichnet. Die Beschriftung erfolgt anschließend über $\\texttt{plt.legend()}$, indem Sie eine Liste mit genauso vielen Einträgen wie Spalten in der Matrix übergeben. Einzelne $\\texttt{label}$-Parameter beim Aufruf von $\\texttt{plt.plot()}$ funktionieren in diesem Fall nicht.\n"
   ]
  },
  {
   "cell_type": "code",
   "execution_count": null,
   "metadata": {},
   "outputs": [],
   "source": [
    "x = np.linspace(0, 2 * np.pi, 100)\n",
    "y = np.vstack([np.sin(x), np.cos(x)])\n",
    "\n",
    "plt.plot(x, y.T)  \n",
    "plt.legend(['sin(x)', 'cos(x)'])\n",
    "plt.xlabel('x')\n",
    "plt.ylabel('y')\n",
    "plt.title('Sinus- und Cosinusfunktionen')\n",
    "plt.show()"
   ]
  },
  {
   "cell_type": "markdown",
   "metadata": {},
   "source": [
    ":::{admonition} Aufgabe 2.2\n",
    "Fügen Sie dem Plot aus Aufgabe 2.1 eine Legende hinzu, die die einzelnen Länder korrekt beschriftet.\n",
    ":::"
   ]
  },
  {
   "cell_type": "code",
   "execution_count": null,
   "metadata": {},
   "outputs": [],
   "source": [
    "# Ihr Code "
   ]
  },
  {
   "cell_type": "markdown",
   "metadata": {},
   "source": [
    "\n",
    ":::{admonition} Hinweis\n",
    ":class: note dropdown\n",
    "\n",
    "Verwenden Sie die Methode $\\texttt{plt.legend()}$ und übergeben Sie die Ländernamen in der richtigen Reihenfolge als Liste.\n",
    ":::\n",
    "\n",
    ":::{admonition} Lösung\n",
    ":class: tip dropdown\n",
    "\n",
    "``` python\n",
    "# Jahre als x-Achse\n",
    "x = data_array[:, 0]\n",
    "# Daten für jedes Land als y-Achse\n",
    "y = data_array[:, 1:]\n",
    "\n",
    "# Plotten aller Länder in einem Plot\n",
    "plt.plot(x, y)\n",
    "plt.title('Anteil erneuerbarer Energien seit 1990')\n",
    "plt.xlabel('Jahr')\n",
    "plt.ylabel('Anteil (%)')\n",
    "plt.legend(['Deutschland', 'USA', 'China', 'Norwegen', 'Brasilien'])\n",
    "plt.grid(True)\n",
    "plt.show()\n",
    "```\n",
    ":::"
   ]
  },
  {
   "cell_type": "markdown",
   "metadata": {},
   "source": [
    "Auch bei der Übergabe einer Matrix an $\\texttt{plt.plot()}$ können Sie Eigenschaften wie $\\texttt{color}$, $\\texttt{linestyle}$ oder $\\texttt{marker}$ direkt im Funktionsaufruf festlegen wie Sie es in [Graphiken individuell gestalten](../visualisation_2/advanced_2D_plots.ipynb) kennengelernt haben.\n",
    "Dazu übergeben Sie die gewünschten Eigenschaften einfach als benannte Argumente im Format $\\texttt{Property=Value}$, zum Beispiel: \n",
    "\n",
    "$$\n",
    "\\texttt{plt.plot(x, y, color='green', linestyle='-')}\n",
    "$$\n"
   ]
  },
  {
   "cell_type": "code",
   "execution_count": null,
   "metadata": {},
   "outputs": [],
   "source": [
    "x = np.linspace(0, 2 * np.pi, 100)\n",
    "y = np.vstack([np.sin(x), np.cos(x)])\n",
    "\n",
    "lines = plt.plot(x, y.T, color='green', linestyle='-')\n",
    "\n",
    "plt.xlabel('x')\n",
    "plt.ylabel('y')\n",
    "plt.title('Linien anpassen')\n",
    "plt.legend(['sin(x)', 'cos(x)'])\n",
    "plt.grid(True)\n",
    "plt.show()"
   ]
  },
  {
   "cell_type": "markdown",
   "metadata": {},
   "source": [
    ":::{admonition} Aufgabe 2.3\n",
    "Passne Sie die Graphik aus Aufgabe 2.2 weiter an, indem Sie Sie runde Marker und eine gestrichelte Linie für alle Graphen verwenden.\n",
    ":::"
   ]
  },
  {
   "cell_type": "code",
   "execution_count": null,
   "metadata": {},
   "outputs": [],
   "source": [
    "# Ihr Code "
   ]
  },
  {
   "cell_type": "markdown",
   "metadata": {},
   "source": [
    "\n",
    ":::{admonition} Hinweis\n",
    ":class: note dropdown\n",
    "Verwenden Sie $\\texttt{plt.plot()}$ mit einer Linienbeschreibung, die $\\texttt{'o'}$ für runde Marker und $\\texttt{'--'}$ für eine gestrichelte Linie kombiniert.\n",
    ":::\n",
    "\n",
    ":::{admonition} Lösung\n",
    ":class: tip dropdown\n",
    "\n",
    "``` python\n",
    "# Jahre als x-Achse\n",
    "x = data_array[:, 0]\n",
    "# Daten für jedes Land als y-Achse\n",
    "y = data_array[:, 1:]\n",
    "\n",
    "# Plotten aller Länder mit Markern und gestrichelten Linien\n",
    "plt.plot(x, y, linestyle='--', marker='o')\n",
    "plt.title('Anteil erneuerbarer Energien seit 1990')\n",
    "plt.xlabel('Jahr')\n",
    "plt.ylabel('Anteil (%)')\n",
    "plt.legend(['Deutschland', 'USA', 'China', 'Norwegen', 'Brasilien'])\n",
    "plt.grid(True)\n",
    "plt.show()\n",
    "```\n",
    ":::"
   ]
  },
  {
   "cell_type": "markdown",
   "metadata": {},
   "source": [
    "Um die erzeugten Graphen gezielt gestalten – also zum Beispiel unterschiedliche $\\texttt{color}$, $\\texttt{linestyle}$ oder $\\texttt{marker}$ verwenden, müssen Sie anders vorgehn als beim Plotten einzelner Vektoren.\n",
    "\n",
    "Dazu speichern Sie zunächst das Ergebnis des $\\texttt{plt.plot()}$-Befehls in einer Variable $\\texttt{lines = plt.plot(x, y)}$ ab. Die Variable $\\texttt{lines}$ ist eine Liste von Linienobjekten ($\\texttt{Line2D}$), wobei jedes Objekt einer Spalte der Datenmatrix $\\texttt{y}$ entspricht. Ein Linienobjekt entspricht also einem Graphen. Die Reihenfolge der Objekte in $\\texttt{lines}$ entspricht genau der Reihenfolge der Spalten in $\\texttt{y}$. \n",
    "Diese Objekte lassen sich anschließend einzeln mit der Methode $\\texttt{.set_<Eigenschaft>()}$ anpassen.\n"
   ]
  },
  {
   "cell_type": "code",
   "execution_count": null,
   "metadata": {},
   "outputs": [],
   "source": [
    "x = np.linspace(0, 2 * np.pi, 100)\n",
    "y = np.vstack([np.sin(x), np.cos(x)])\n",
    "\n",
    "lines = plt.plot(x, y.T)\n",
    "\n",
    "# Erste Linie: rot, gestrichelt, Marker 'o'\n",
    "lines[0].set_color('red')\n",
    "lines[0].set_linestyle('--')\n",
    "lines[0].set_marker('o')\n",
    "lines[0].set_linewidth(2)\n",
    "\n",
    "# Zweite Linie: blau, gepunktet, Marker 's'\n",
    "lines[1].set_color('blue')\n",
    "lines[1].set_linestyle(':')\n",
    "lines[1].set_marker('s')\n",
    "lines[1].set_linewidth(1)\n",
    "\n",
    "plt.xlabel('x')\n",
    "plt.ylabel('y')\n",
    "plt.title('Individuelle Gestaltung von Linien')\n",
    "plt.legend(['sin(x)', 'cos(x)'])\n",
    "plt.grid(True)\n",
    "plt.show()"
   ]
  },
  {
   "cell_type": "markdown",
   "metadata": {},
   "source": [
    ":::{admonition} Aufgabe 2.4\n",
    "Erstellen Sie erneut den Plot aus Aufgabe 2.2. Nun sollen allerdings für Deutschland und Norwegen runde Marker und gestrichelte Linien verwendet werden.\n",
    ":::"
   ]
  },
  {
   "cell_type": "code",
   "execution_count": null,
   "metadata": {},
   "outputs": [],
   "source": [
    "# Ihr Code "
   ]
  },
  {
   "cell_type": "markdown",
   "metadata": {},
   "source": [
    "\n",
    ":::{admonition} Hinweis\n",
    ":class: note dropdown\n",
    "\n",
    "Verwenden Sie die Liste der Linienobjekte, die $\\texttt{plt.plot(x, y)}$ zurückgibt, um einzelne Linien individuell mit $\\texttt{.set_linestyle()}$ und $\\texttt{.set_marker()}$ anzupassen.\n",
    "\n",
    ":::\n",
    "\n",
    ":::{admonition} Lösung\n",
    ":class: tip dropdown\n",
    "\n",
    "``` python\n",
    "# Jahre als x-Achse\n",
    "x = data_array[:, 0]\n",
    "# Daten für jedes Land als y-Achse\n",
    "y = data_array[:, 1:]\n",
    "\n",
    "lines = plt.plot(x, y)\n",
    "\n",
    "# Deutschland ist die erste Linie (Index 0), Norwegen die vierte (Index 3)\n",
    "lines[0].set_linestyle('--')\n",
    "lines[0].set_marker('o')\n",
    "\n",
    "lines[3].set_linestyle('--')\n",
    "lines[3].set_marker('o')\n",
    "\n",
    "plt.title('Anteil erneuerbarer Energien seit 1990')\n",
    "plt.xlabel('Jahr')\n",
    "plt.ylabel('Anteil (%)')\n",
    "plt.legend(['Deutschland', 'USA', 'China', 'Norwegen', 'Brasilien'])\n",
    "plt.grid(True)\n",
    "plt.show()\n",
    "```\n",
    ":::"
   ]
  },
  {
   "cell_type": "markdown",
   "metadata": {},
   "source": [
    ":::{admonition} Aufgabe 2.5\n",
    "\n",
    "Erstellen Sie erneut den Plot aus Aufgabe 2.2 und plotten Sie den durchschnittlichen Anteil erneuerbarer Energien über alle Länder hinweg als weiteren Graphen. Gestalten Sie diese Durchschnittslinie deutlich sichtbar, zum Beispiel durch eine gestrichelte Linie mit erhöhter Strichstärke.\n",
    ":::"
   ]
  },
  {
   "cell_type": "code",
   "execution_count": null,
   "metadata": {},
   "outputs": [],
   "source": [
    "# Ihr Code "
   ]
  },
  {
   "cell_type": "markdown",
   "metadata": {},
   "source": [
    "\n",
    ":::{admonition} Hinweis\n",
    ":class: note dropdown\n",
    "\n",
    "Den Mittelwert über alle Länder berechnen Sie mit $\\texttt{np.mean()}$ und dem Attribut $\\texttt{axis}$. Die zusätzliche Linie kann separat geplottet und anschließend hervorgehoben werden.\n",
    "\n",
    ":::\n",
    "\n",
    ":::{admonition} Lösung\n",
    ":class: tip dropdown\n",
    "\n",
    "``` python\n",
    "# Jahre als x-Achse\n",
    "x = data_array[:, 0]\n",
    "# Daten für jedes Land als y-Achse\n",
    "y = data_array[:, 1:]\n",
    "\n",
    "# Plotten der einzelnen Länder\n",
    "plt.plot(x, y)\n",
    "\n",
    "# Mittelwert über alle Länder (zeilenweise)\n",
    "mean_values = np.mean(y, axis=1)\n",
    "\n",
    "# Durchschnittslinie hinzufügen\n",
    "plt.plot(x, mean_values, linestyle='--', linewidth=3, color='black', label='Durchschnitt')\n",
    "\n",
    "# Achsenbeschriftungen und Legende\n",
    "plt.title('Anteil erneuerbarer Energien seit 1990')\n",
    "plt.xlabel('Jahr')\n",
    "plt.ylabel('Anteil (%)')\n",
    "plt.legend(['Deutschland', 'USA', 'China', 'Norwegen', 'Brasilien', 'Durchschnitt'])\n",
    "plt.grid(True)\n",
    "plt.show()\n",
    "```\n",
    ":::"
   ]
  },
  {
   "cell_type": "markdown",
   "metadata": {},
   "source": [
    "Sie müssen nicht zwigend die Matrix, welche die Daten zum Anteil erneuerbarer Energien enthält, zwischen speichern. Sie können auch direkt die entsprechenden Daten mit dem Doppelpunkt-Operator $\\texttt{:}$ extrahieren und $\\texttt{plt.plot()}$ übergeben.\n",
    "\n",
    "Genauso können Sie auch nur bestimmte Teilbereiche eines Datensatzes extrahieren und anschließend plotten.\n",
    "Im folgenden Beispiel plotten wir nur jede 10. Stelle des ursprünglichen Sinus- und Cosinusverlaufs.\n"
   ]
  },
  {
   "cell_type": "code",
   "execution_count": null,
   "metadata": {},
   "outputs": [],
   "source": [
    "x = np.linspace(0, 2 * np.pi, 100)\n",
    "y = np.vstack([np.sin(x), np.cos(x)])\n",
    "\n",
    "# Nur jede fünfte Stelle verwenden\n",
    "x_sliced = x[0:x.shape[0]:10]\n",
    "y_sliced = y[:, 0:y.shape[1]:10]\n",
    "\n",
    "plt.plot(x_sliced, y_sliced.T, 'o-')\n",
    "plt.legend(['sin(x)', 'cos(x)'])\n",
    "plt.xlabel('x')\n",
    "plt.ylabel('y')\n",
    "plt.title('Sinus- und Cosinusfunktionen (jede 5. Stelle)')\n",
    "plt.grid(True)\n",
    "plt.show()"
   ]
  },
  {
   "cell_type": "markdown",
   "metadata": {},
   "source": [
    ":::{admonition} Aufgabe 2.6\n",
    "Erstellen Sie erneut den Plot aus Aufgabe 2.2, jedoch nur mit den Messdaten im Fünf-Jahres-Abstand. Fügen Sie außerdem eine Linie hinzu, die den durchschnittlichen Anteil erneuerbarer Energien aller Länder zusammenfasst, und heben Sie diese hervor.\n",
    ":::"
   ]
  },
  {
   "cell_type": "code",
   "execution_count": null,
   "metadata": {},
   "outputs": [],
   "source": [
    "# Ihr Code "
   ]
  },
  {
   "cell_type": "markdown",
   "metadata": {},
   "source": [
    "\n",
    ":::{admonition} Hinweis\n",
    ":class: note dropdown\n",
    "\n",
    "Verwenden Sie [$\\texttt{start:step:stop}$](../../chapter02_basics/arrays/indizierung.ipynb) um die korrekten Daten zu extrahieren. Die Durchschnittswerte lassen sich mit $\\texttt{np.mean()}$ berechnen.\n",
    "\n",
    ":::\n",
    "\n",
    ":::{admonition} Lösung\n",
    ":class: tip dropdown\n",
    "\n",
    "``` python\n",
    "# Jahre als x-Achse\n",
    "x = data_array[:, 0]\n",
    "# Daten für jedes Land als y-Achse\n",
    "y = data_array[:, 1:]\n",
    "\n",
    "# Daten alle 5 Jahre\n",
    "x_5 = x[0:x.shape[0]:5]\n",
    "y_5 = y[0:y.shape[0]:5, :]\n",
    "\n",
    "# Durchschnitt berechnen\n",
    "mean_5 = np.mean(y_5, axis=1)\n",
    "\n",
    "# Plotten der Datenpunkte im 5-Jahres-Abstand\n",
    "plt.plot(x_5, y_5, 'x-')  # <-- wichtig: y_5 transponieren\n",
    "\n",
    "# Durchschnittslinie hinzufügen\n",
    "plt.plot(x_5, mean_5, '--', linewidth=2.5, color='black')\n",
    "\n",
    "plt.title('Anteil erneuerbarer Energien (alle 5 Jahre)')\n",
    "plt.xlabel('Jahr')\n",
    "plt.ylabel('Anteil (%)')\n",
    "plt.legend(['Deutschland', 'USA', 'China', 'Norwegen', 'Brasilien', 'Durchschnitt'])\n",
    "plt.grid(True)\n",
    "plt.show()\n",
    "```\n",
    ":::"
   ]
  },
  {
   "cell_type": "markdown",
   "metadata": {},
   "source": [
    "\n",
    "## Anpassung der Achsen\n",
    "\n",
    "Im vorherigen Abschnitt haben wir den Anteil erneuerbarer Energien am gesamten Energieverbrauch für ausgewählte Länder betrachtet. Nun erweitern wir unsere Analyse um eine den Stromverbrauch pro Kopf. Dieser Wert beschreibt, wie viel elektrische Energie durchschnittlich von einer Person in einem Land verbraucht wird und gilt als Indikator für den Entwicklungsstand, den Industrialisierungsgrad sowie den Energiebedarf einer Gesellschaft.\n",
    "\n",
    "Der folgende Code lädt die Daten zum Stromverbrauch pro Kopf seit 1990 für Deutschland, die USA, China, Norwegen und Brasilien. Die Daten werden wie zuvor in ein  NumPy-Array mit dem Namen $\\texttt{data_array_demand}$ überführt und hat die folgende Struktur:\n",
    "\n",
    "- $\\texttt{data_array_demand}$: Numpy-Array, der Größe $ 33 \\times 6$, wobei\n",
    "    - die Spalte 0 die Jahres Zahlen enthält, und\n",
    "    - die Spalten 1 bis 5 den Stromverbrauch pro Kopf in Kilowattstunden (kWh) für Deutschland, USA, China, Norwegen und Brasilien (in genau dieser Reihenfolge) enthalten.\n"
   ]
  },
  {
   "cell_type": "code",
   "execution_count": null,
   "metadata": {
    "tags": [
     "thebe-init",
     "hide-cell"
    ]
   },
   "outputs": [],
   "source": [
    "import pandas as pd\n",
    "import numpy as np\n",
    "\n",
    "# Datenquelle\n",
    "url = \"https://raw.githubusercontent.com/owid/energy-data/master/owid-energy-data.csv\"\n",
    "df = pd.read_csv(url)\n",
    "\n",
    "# Auswahlparameter\n",
    "countries = ['Germany', 'United States', 'China', 'Norway', 'Brazil']\n",
    "variable = 'electricity_demand_per_capita'\n",
    "\n",
    "# Daten filtern und auf relevante Spalten reduzieren\n",
    "df_filtered = df[(df['country'].isin(countries)) & (df['year'] >= 1990)]\n",
    "df_pivot = df_filtered.pivot(index='year', columns='country', values=variable)\n",
    "\n",
    "# Länder in definierter Reihenfolge sicherstellen (für spätere Achsenzuweisung im Plot)\n",
    "df_selected = df_pivot[countries]\n",
    "\n",
    "# Jahr als eigene Spalte einfügen\n",
    "df_selected_with_years = df_selected.copy()\n",
    "df_selected_with_years.insert(0, 'year', df_selected.index)\n",
    "\n",
    "# Umwandeln in NumPy-Array\n",
    "data_array_demand = df_selected_with_years.to_numpy()"
   ]
  },
  {
   "cell_type": "markdown",
   "metadata": {},
   "source": [
    ":::{admonition} Aufgabe 3.1\n",
    "Erstellen Sie ein Diagramm, das den Stromverbrauch pro Kopf für alle fünf Länder im Zeitverlauf zeigt.\n",
    ":::"
   ]
  },
  {
   "cell_type": "code",
   "execution_count": null,
   "metadata": {},
   "outputs": [],
   "source": [
    "# Ihr Code "
   ]
  },
  {
   "cell_type": "markdown",
   "metadata": {},
   "source": [
    "\n",
    ":::{admonition} Hinweis\n",
    ":class: note dropdown\n",
    "\n",
    "Verwenden Sie dieselbe Struktur wie beim Plot für den Anteil erneuerbarer Energien. Nutzen Sie $\\texttt{plt.plot}$ für jedes Land und kennzeichnen Sie jede Linie mit einer Farbe und einem Label. Die Daten liegen bereits in $\\texttt{data_array_demand}$ vor.\n",
    ":::\n",
    "\n",
    ":::{admonition} Lösung\n",
    ":class: tip dropdown\n",
    "\n",
    "``` python\n",
    "plt.plot(data_array_demand[:, 0], data_array_demand[:, 1], color=\"blue\", label=\"Deutschland\")\n",
    "plt.plot(data_array_demand[:, 0], data_array_demand[:, 2], color=\"red\", label=\"USA\")\n",
    "plt.plot(data_array_demand[:, 0], data_array_demand[:, 3], color=\"green\", label=\"China\")\n",
    "plt.plot(data_array_demand[:, 0], data_array_demand[:, 4], color=\"orange\", label=\"Norwegen\")\n",
    "plt.plot(data_array_demand[:, 0], data_array_demand[:, 5], color=\"purple\", label=\"Brasilien\")\n",
    "\n",
    "plt.title('Stromverbrauch pro Kopf seit 1990')\n",
    "plt.xlabel('Jahr')\n",
    "plt.ylabel('Stromverbrauch pro Kopf (kWh)')\n",
    "plt.grid(True)\n",
    "plt.legend()\n",
    "plt.show()\n",
    "```\n",
    ":::"
   ]
  },
  {
   "cell_type": "markdown",
   "metadata": {},
   "source": [
    "Wie Sie sehen, weist das Diagramm zum Stromverbrauch pro Kopf einige Lücken auf. Diese entstehen dadurch, dass für die USA, China und Brasilien in den 1990er-Jahren keine Daten vorliegen.\n",
    "\n",
    "Standardmäßig legt Python die Achsengrenzen automatisch so fest, dass alle vorhandenen Daten möglichst gut dargestellt werden. Möchte man sich jedoch gezielt bestimmte Zeiträume anschauen oder zwischen mehreren Diagrammen eine einheitliche Darstellung erreichen, ist es sinnvoll, die Achsen manuell anzupassen.\n",
    "Mit dem Befehl $\\texttt{plt.axis()}$ lässt sich die aktuelle Achsenskalierung abfragen oder gezielt setzen. Wird der Befehl ohne Argumente aufgerufen, gibt er die aktuell verwendeten Grenzen des zuletzt erzeugten Diagramms zurück:"
   ]
  },
  {
   "cell_type": "code",
   "execution_count": null,
   "metadata": {},
   "outputs": [],
   "source": [
    "x = [2000, 2005, 2010, 2015, 2020]\n",
    "y = [3000, 3500, 5000, 7000, 8500]\n",
    "\n",
    "plt.plot(x, y, label=\"Beispieldaten\")\n",
    "plt.grid(True)\n",
    "\n",
    "plt.draw()  # Zeichnung erzwingen\n",
    "limits = plt.axis()  # Achsengrenzen abfragen\n",
    "print(\"Aktuelle Achsengrenzen:\", limits)\n",
    "\n",
    "plt.show() # Plot anzeigen"
   ]
  },
  {
   "cell_type": "markdown",
   "metadata": {},
   "source": [
    "Damit $\\texttt{plt.axis()}$ die korrekten Achsengrenzen zurückgibt, muss das Diagramm bereits vollständig gezeichnet worden sein. In vielen Umgebungen – insbesondere in Jupyter Notebooks – wird die Zeichnung jedoch erst durch den Befehl $\\texttt{plt.show()}$ ausgelöst. Nach diesem Aufruf ist der Zugriff auf die Achsengrenzen allerdings nicht mehr zuverlässig möglich. Verwenden Sie daher $\\texttt{plt.draw()}$, um das Zeichnen vorab zu erzwingen. Erst danach gibt $\\texttt{plt.axis()}$ die tatsächlich verwendeten Grenzen zurück.\n",
    "\n",
    ":::{warning} Achtung\n",
    " Verwenden Sie in Jupyter Notebooks $\\texttt{plt.draw()}$ vor $\\texttt{plt.show()}$ um die Achsen anpassen zu können.\n",
    ":::\n",
    "\n",
    "Ein Aufruf von $\\texttt{plt.axis()}$ ohne Argumente gibt die aktuellen Achsengrenzen in folgender Reihenfolge zurück: \n",
    "\n",
    "$$\n",
    "\\texttt{[x_min, x_max, y_min, y_max]}\n",
    "$$\n",
    "\n",
    "Das bedeutet: Die ersten beiden Werte stehen für die Grenzen der $x$-Achse, die letzten beiden für die $y$-Achse.\n",
    "Wenn Sie die Achsengrenzen manuell festlegen möchten, übergeben Sie dem Befehl $\\texttt{plt.axis()}$ genau eine solche Liste: \n",
    "\n",
    "$$\\texttt{plt.axis([x_min, x_max, y_min, y_max])}$$"
   ]
  },
  {
   "cell_type": "markdown",
   "metadata": {},
   "source": [
    ":::{admonition} Aufgabe 3.2\n",
    "Passen Sie die Achsendarstellung des Diagramms aus Aufgabe 3.1 so an, dass nur Daten ab dem Jahr 2000 auf der $x$-Achse sichtbar sind. Die Grenzen der $y$-Achse sollen unverändert bleiben.\n",
    ":::"
   ]
  },
  {
   "cell_type": "code",
   "execution_count": null,
   "metadata": {},
   "outputs": [],
   "source": [
    "# Ihr Code "
   ]
  },
  {
   "cell_type": "markdown",
   "metadata": {},
   "source": [
    ":::{admonition} Hinweis\n",
    ":class: note dropdown\n",
    "\n",
    "Der Befehl $\\texttt{plt.axis([x_min, x_max, y_min, y_max])}$ passt die Achsengrenzen manuell am. Um nur einen Grenzwert zu ändern, kann man die anderen Grenzen zunächst mit $\\texttt{plt.axis()}$ ermitteln und anschließend wiederverwenden.\n",
    "\n",
    ":::\n",
    "\n",
    ":::{admonition} Lösung\n",
    ":class: tip dropdown\n",
    "\n",
    "``` python\n",
    "# Plot erzeugen\n",
    "plt.plot(data_array_demand[:, 0], data_array_demand[:, 1], color=\"blue\", label=\"Deutschland\")\n",
    "plt.plot(data_array_demand[:, 0], data_array_demand[:, 2], color=\"red\", label=\"USA\")\n",
    "plt.plot(data_array_demand[:, 0], data_array_demand[:, 3], color=\"green\", label=\"China\")\n",
    "plt.plot(data_array_demand[:, 0], data_array_demand[:, 4], color=\"orange\", label=\"Norwegen\")\n",
    "plt.plot(data_array_demand[:, 0], data_array_demand[:, 5], color=\"purple\", label=\"Brasilien\")\n",
    "\n",
    "plt.title('Stromverbrauch pro Kopf seit 2000')\n",
    "plt.xlabel('Jahr')\n",
    "plt.ylabel('Stromverbrauch pro Kopf (kWh)')\n",
    "plt.grid(True)\n",
    "plt.legend()\n",
    "\n",
    "# Plot vorbereiten und Achsengrenzen abfragen\n",
    "plt.draw()\n",
    "limits = plt.axis()\n",
    "\n",
    "# Neue Grenzen setzen: nur x_min auf 2000 ändern\n",
    "new_limits = [2000, limits[1], limits[2], limits[3]]\n",
    "plt.axis(new_limits)\n",
    "\n",
    "plt.show()\n",
    "```\n",
    ":::"
   ]
  },
  {
   "cell_type": "markdown",
   "metadata": {},
   "source": [
    ":::{admonition} Aufgabe 3.3\n",
    "Passen Sie die Achsendarstellung des Diagramms aus Aufgabe 3.2 so an, dass nur Daten ab dem Jahr 2000 angezeigt werden. Die übrigen Achsengrenzen sollen so gewählt werden, dass sie dem minimalen und maximalen Wertebereich der Daten entsprechen.\n",
    ":::"
   ]
  },
  {
   "cell_type": "code",
   "execution_count": null,
   "metadata": {},
   "outputs": [],
   "source": [
    "# Ihr Code "
   ]
  },
  {
   "cell_type": "markdown",
   "metadata": {},
   "source": [
    "\n",
    ":::{admonition} Hinweis\n",
    ":class: note dropdown\n",
    "\n",
    "Die Werte für $\\texttt{x_max}$, $\\texttt{y_min}$ und $\\texttt{y_max}$ lassen sich als Maximum bzw. Minimum der relevanten Spaten von $\\texttt{data_array_demad}$ bestimmen. Nutzen Sie dazu die Funktionen $\\texttt{np.max()}$ bzw. $\\texttt{np.min()}$.\n",
    "\n",
    ":::\n",
    "\n",
    ":::{admonition} Lösung\n",
    ":class: tip dropdown\n",
    "\n",
    "``` python\n",
    "x_min = 2000\n",
    "x_max = np.max(data_array_demand[:, 0])\n",
    "y_min = np.min(data_array_demand[10:, 1:])\n",
    "y_max = np.max(data_array_demand[10:, 1:])\n",
    "\n",
    "plt.plot(data_array_demand[:, 0], data_array_demand[:, 1], color=\"blue\", label=\"Deutschland\")\n",
    "plt.plot(data_array_demand[:, 0], data_array_demand[:, 2], color=\"red\", label=\"USA\")\n",
    "plt.plot(data_array_demand[:, 0], data_array_demand[:, 3], color=\"green\", label=\"China\")\n",
    "plt.plot(data_array_demand[:, 0], data_array_demand[:, 4], color=\"orange\", label=\"Norwegen\")\n",
    "plt.plot(data_array_demand[:, 0], data_array_demand[:, 5], color=\"purple\", label=\"Brasilien\")\n",
    "\n",
    "plt.title('Stromverbrauch pro Kopf seit 2000')\n",
    "plt.xlabel('Jahr')\n",
    "plt.ylabel('Stromverbrauch pro Kopf (kWh)')\n",
    "plt.axis([x_min, x_max, y_min, y_max])\n",
    "plt.grid(True)\n",
    "plt.legend()\n",
    "plt.show()\n",
    "```\n",
    ":::"
   ]
  },
  {
   "cell_type": "markdown",
   "metadata": {},
   "source": [
    "Möchte man die Achsengrenzen so setzen, dass sie genau dem Datenbereich entsprechen, verwendet man den Befehl $\\texttt{plt.axis('tight')}$."
   ]
  },
  {
   "cell_type": "markdown",
   "metadata": {},
   "source": [
    ":::{admonition} Aufgabe 3.4\n",
    "Passen Sie die Achsengrenzen des Plots so an, dass sie genau dem Bereich der vorhandenen Daten entsprechen.\n",
    ":::"
   ]
  },
  {
   "cell_type": "code",
   "execution_count": null,
   "metadata": {},
   "outputs": [],
   "source": [
    "plt.plot(data_array_demand[:, 0], data_array_demand[:, 1], color=\"blue\", label=\"Deutschland\")\n",
    "plt.plot(data_array_demand[:, 0], data_array_demand[:, 2], color=\"red\", label=\"USA\")\n",
    "plt.plot(data_array_demand[:, 0], data_array_demand[:, 3], color=\"green\", label=\"China\")\n",
    "plt.plot(data_array_demand[:, 0], data_array_demand[:, 4], color=\"orange\", label=\"Norwegen\")\n",
    "plt.plot(data_array_demand[:, 0], data_array_demand[:, 5], color=\"purple\", label=\"Brasilien\")\n",
    "\n",
    "plt.title('Stromverbrauch pro Kopf')\n",
    "plt.xlabel('Jahr')\n",
    "plt.ylabel('Stromverbrauch pro Kopf (kWh)')\n",
    "plt.grid(True)\n",
    "plt.legend()\n",
    "plt.show()"
   ]
  },
  {
   "cell_type": "markdown",
   "metadata": {},
   "source": [
    "\n",
    ":::{admonition} Lösung\n",
    ":class: tip dropdown\n",
    "\n",
    "``` python\n",
    "plt.plot(data_array_demand[:, 0], data_array_demand[:, 1], color=\"blue\", label=\"Deutschland\")\n",
    "plt.plot(data_array_demand[:, 0], data_array_demand[:, 2], color=\"red\", label=\"USA\")\n",
    "plt.plot(data_array_demand[:, 0], data_array_demand[:, 3], color=\"green\", label=\"China\")\n",
    "plt.plot(data_array_demand[:, 0], data_array_demand[:, 4], color=\"orange\", label=\"Norwegen\")\n",
    "plt.plot(data_array_demand[:, 0], data_array_demand[:, 5], color=\"purple\", label=\"Brasilien\")\n",
    "\n",
    "plt.title('Stromverbrauch pro Kopf')\n",
    "plt.xlabel('Jahr')\n",
    "plt.ylabel('Stromverbrauch pro Kopf (kWh)')\n",
    "plt.axis('tight')  # Hier die Achsen genau an die Daten anpassen\n",
    "plt.grid(True)\n",
    "plt.legend()\n",
    "plt.show()\n",
    "```\n",
    ":::"
   ]
  }
 ],
 "metadata": {
  "kernelspec": {
   "display_name": "base",
   "language": "python",
   "name": "python3"
  },
  "language_info": {
   "codemirror_mode": {
    "name": "ipython",
    "version": 3
   },
   "file_extension": ".py",
   "mimetype": "text/x-python",
   "name": "python",
   "nbconvert_exporter": "python",
   "pygments_lexer": "ipython3",
   "version": "3.11.5"
  }
 },
 "nbformat": 4,
 "nbformat_minor": 2
}
