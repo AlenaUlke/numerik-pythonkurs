{
 "cells": [
  {
   "cell_type": "markdown",
   "metadata": {},
   "source": [
    "# Fehlermeldungen\n",
    "\n",
    "Bis hierher haben sich bestimmt schon einmal Fehler in Ihren Code geschlichen, worauf Python Sie (hoffentlich) mit einer Fehermeldung aufmerksam gemacht. \n",
    "In einer Fehlermeldung spezifiziert Python sowohl die Fehlerquelle, also wo sich der Fehler befindet, als auch den Fehlertyp, also was der Fehler konkret ist.\n",
    "An dieser Stelle wollen wir Sie für die typischen Fehler sensiblisieren und Ihnen zeigen wie Sie diese beheben können.\n",
    " \n",
    "## SyntaxError\n",
    "\n",
    "Wenn Sie eine neue Sprache lernen – sei es Englisch, Französisch oder eine Programmiersprache wie Python – dann gibt es bestimmte Regeln, die Sie beachten müssen. Diese Regeln nennt man *Syntax*.\n",
    "\n",
    "```{admonition} Definition\n",
    ":class: note\n",
    "Die Syntax ist die Grammatik einer Programmiersprache. Sie legt fest, wie ein Programm geschrieben werden muss, damit der Computer es versteht.\n",
    "```\n",
    "\n",
    "Warum ist Syntax wichtig? Stellen Sie sich vor, Sie sagen zu jemandem: *\"Haben wir morgen Kino gehen?\"* Das klingt falsch, weil die Grammatik nicht stimmt. Ähnlich ist es in Python: Wenn Sie sich nicht an die Regeln halten, wirft Python eine Fehlermeldung. In diesem Fall einen $\\texttt{SyntaxError}$.\n",
    "Ein Beispiel dafür ist der folgende Code:"
   ]
  },
  {
   "cell_type": "code",
   "execution_count": 1,
   "metadata": {},
   "outputs": [
    {
     "ename": "SyntaxError",
     "evalue": "Missing parentheses in call to 'print'. Did you mean print(...)? (2466833101.py, line 1)",
     "output_type": "error",
     "traceback": [
      "  \u001b[36mCell\u001b[39m\u001b[36m \u001b[39m\u001b[32mIn[1]\u001b[39m\u001b[32m, line 1\u001b[39m\n\u001b[31m    \u001b[39m\u001b[31mprint \"Hallo Welt!\"\u001b[39m\n    ^\n\u001b[31mSyntaxError\u001b[39m\u001b[31m:\u001b[39m Missing parentheses in call to 'print'. Did you mean print(...)?\n"
     ]
    }
   ],
   "source": [
    "print \"Hallo Welt!\""
   ]
  },
  {
   "cell_type": "markdown",
   "metadata": {},
   "source": [
    "Der Code führt zu einer Fehlermeldung. Warum? Weil $\\texttt{print}$ Klammern braucht: $\\texttt{print(\"Hallo, Welt!\")}$.\n",
    "\n",
    "In Python werden Fehler normalerweise direkt im Ausgabe- oder Fehlerbereich angezeigt. Dort werden Sie eine Fehlermeldung sehen, die den Fehlerort und eine Beschreibung des Problems enthält. Die Fehlermeldung besteht häufig aus zwei Teilen: der Fehlerbeschreibung und dem Fehlerort, wodurch die Fehlersuche und -behebung erleichtert wird.\n",
    "\n",
    "1. **Fehlerbeschreibung**: Hier wird der genaue Fehlertyp genannt, hier $\\texttt{SyntaxError}$, und eine kurze Erklärung, was das Problem ist (hier *Missing parentheses in call to 'print'.*).\n",
    "2. **Fehlerort**: Der Codeabschnitt, in dem der Fehler auftritt, wird angezeigt, wobei oft der genaue Zeile des Fehlers (z.B. eine fehlende Klammer oder ein falsches Schlüsselwort) durch einen Indikator markiert wird.\n",
    "\n",
    "\n",
    "In den nachfolgenden Abschnitte geben wir Ihnen fehlerhafte Codeabschnitte vor. Ihre Aufgabe besteht darin den Fehler zu identifizieren und zu korrigieren.\n",
    "Nutzen Sie dazu die Rückmeldung in Form einer Fehlermeldnug von Python."
   ]
  },
  {
   "cell_type": "markdown",
   "metadata": {},
   "source": [
    ":::{admonition} Aufgabe 1.1\n",
    "Passen Sie den Code an, sodass die Fehlermeldung behoben wird.\n",
    "\n",
    ":::"
   ]
  },
  {
   "cell_type": "code",
   "execution_count": 1,
   "metadata": {},
   "outputs": [
    {
     "ename": "ModuleNotFoundError",
     "evalue": "No module named 'np'",
     "output_type": "error",
     "traceback": [
      "\u001b[1;31m---------------------------------------------------------------------------\u001b[0m",
      "\u001b[1;31mModuleNotFoundError\u001b[0m                       Traceback (most recent call last)",
      "Cell \u001b[1;32mIn[1], line 2\u001b[0m\n\u001b[0;32m      1\u001b[0m \u001b[38;5;66;03m# falscher Code\u001b[39;00m\n\u001b[1;32m----> 2\u001b[0m \u001b[38;5;28;01mimport\u001b[39;00m \u001b[38;5;21;01mnp\u001b[39;00m\n\u001b[0;32m      4\u001b[0m x \u001b[38;5;241m=\u001b[39m np\u001b[38;5;241m.\u001b[39marray([\u001b[38;5;241m1\u001b[39m, \u001b[38;5;241m2\u001b[39m, \u001b[38;5;241m3\u001b[39m])\n",
      "\u001b[1;31mModuleNotFoundError\u001b[0m: No module named 'np'"
     ]
    }
   ],
   "source": [
    "# falscher Code\n",
    "import np\n",
    "\n",
    "x = np.array([1, 2, 3])"
   ]
  },
  {
   "cell_type": "markdown",
   "metadata": {},
   "source": [
    "\n",
    ":::{admonition} Hinweis\n",
    ":class: note dropdown\n",
    "\n",
    "$\\texttt{NameError: name 'np' is not defined}$ deutet darauf hin, dass NumPy nicht richtig importiert worden ist.\n",
    ":::\n",
    "\n",
    ":::{admonition} Lösung\n",
    ":class: tip dropdown\n",
    "\n",
    "``` python\n",
    "import numpy as np  # Korrektur\n",
    "x = np.array([1, 2, 3])\n",
    "```\n",
    ":::"
   ]
  },
  {
   "cell_type": "markdown",
   "metadata": {},
   "source": [
    ":::{admonition} Aufgabe 1.2\n",
    "Passen Sie den Code an, sodass die Fehlermeldung behoben wird.\n",
    "\n",
    ":::"
   ]
  },
  {
   "cell_type": "code",
   "execution_count": 2,
   "metadata": {},
   "outputs": [
    {
     "ename": "ValueError",
     "evalue": "setting an array element with a sequence. The requested array has an inhomogeneous shape after 1 dimensions. The detected shape was (2,) + inhomogeneous part.",
     "output_type": "error",
     "traceback": [
      "\u001b[1;31m---------------------------------------------------------------------------\u001b[0m",
      "\u001b[1;31mValueError\u001b[0m                                Traceback (most recent call last)",
      "Cell \u001b[1;32mIn[2], line 4\u001b[0m\n\u001b[0;32m      1\u001b[0m \u001b[38;5;66;03m# falscher Code\u001b[39;00m\n\u001b[0;32m      2\u001b[0m \u001b[38;5;28;01mimport\u001b[39;00m \u001b[38;5;21;01mnumpy\u001b[39;00m \u001b[38;5;28;01mas\u001b[39;00m \u001b[38;5;21;01mnp\u001b[39;00m\n\u001b[1;32m----> 4\u001b[0m A \u001b[38;5;241m=\u001b[39m \u001b[43mnp\u001b[49m\u001b[38;5;241;43m.\u001b[39;49m\u001b[43marray\u001b[49m\u001b[43m(\u001b[49m\u001b[43m[\u001b[49m\u001b[43m[\u001b[49m\u001b[38;5;241;43m1\u001b[39;49m\u001b[43m,\u001b[49m\u001b[43m \u001b[49m\u001b[38;5;241;43m2\u001b[39;49m\u001b[43m,\u001b[49m\u001b[43m \u001b[49m\u001b[38;5;241;43m3\u001b[39;49m\u001b[43m]\u001b[49m\u001b[43m,\u001b[49m\u001b[43m \u001b[49m\u001b[43m[\u001b[49m\u001b[38;5;241;43m4\u001b[39;49m\u001b[43m,\u001b[49m\u001b[43m \u001b[49m\u001b[38;5;241;43m5\u001b[39;49m\u001b[43m]\u001b[49m\u001b[43m]\u001b[49m\u001b[43m)\u001b[49m\n\u001b[0;32m      5\u001b[0m \u001b[38;5;28mprint\u001b[39m(A\u001b[38;5;241m.\u001b[39mshape)\n",
      "\u001b[1;31mValueError\u001b[0m: setting an array element with a sequence. The requested array has an inhomogeneous shape after 1 dimensions. The detected shape was (2,) + inhomogeneous part."
     ]
    }
   ],
   "source": [
    "# falscher Code\n",
    "import numpy as np\n",
    "\n",
    "A = np.array([[1, 2, 3], [4, 5]])\n",
    "print(A.shape)"
   ]
  },
  {
   "cell_type": "markdown",
   "metadata": {},
   "source": [
    "\n",
    ":::{admonition} Hinweis\n",
    ":class: note dropdown\n",
    "\n",
    "$\\texttt{ValueError: setting an array element with a sequence.}$ deutet darauf hin, dass $A$ nicht korrekt definiert wurde.\n",
    ":::\n",
    "\n",
    ":::{admonition} Lösung\n",
    ":class: tip dropdown\n",
    "\n",
    "``` python\n",
    "import numpy as np\n",
    "\n",
    "A = np.array([[1, 2, 3], [4, 5, 6]])  # Korrektur\n",
    "print(A.shape)  \n",
    "```\n",
    ":::"
   ]
  },
  {
   "cell_type": "markdown",
   "metadata": {},
   "source": [
    ":::{admonition} Aufgabe 1.3\n",
    "Passen Sie den Code an, sodass die Fehlermeldung behoben wird.\n",
    "\n",
    ":::"
   ]
  },
  {
   "cell_type": "code",
   "execution_count": 3,
   "metadata": {},
   "outputs": [
    {
     "name": "stdout",
     "output_type": "stream",
     "text": [
      "<function greet at 0x000001354B471DA0>\n"
     ]
    }
   ],
   "source": [
    "# falscher Code\n",
    "def greet():\n",
    "    return \"Hallo!\"\n",
    "\n",
    "print(greet)"
   ]
  },
  {
   "cell_type": "markdown",
   "metadata": {},
   "source": [
    "\n",
    ":::{admonition} Hinweis\n",
    ":class: note dropdown\n",
    "\n",
    "$\\texttt{<function greet at 0x...>}$ deutet darauf hin, dass die Funktion nicht richtig aufgerufen wird. \n",
    ":::\n",
    "\n",
    ":::{admonition} Lösung\n",
    ":class: tip dropdown\n",
    "\n",
    "``` python\n",
    "def greet():\n",
    "    return \"Hallo!\"\n",
    "\n",
    "print(greet())  # Korrektur: die Klammern haben gefehlt\n",
    "```\n",
    ":::"
   ]
  },
  {
   "cell_type": "markdown",
   "metadata": {},
   "source": [
    "### Übersicht - typische Fehlerquellen\n",
    "\n",
    "::::{div} full-width\n",
    "\n",
    "Zum Abschluss möchten wir Ihnen noch eine Liste der häufigsten $\\texttt{SyntaxError}$ mit auf den Weg geben. \n",
    "\n",
    ":::{list-table}\n",
    ":header-rows: 1\n",
    ":widths: 20 35 45\n",
    "\n",
    "* - Fehler\n",
    "  - Beispiel\n",
    "  - Erklärung\n",
    "* - Vergessene Klammern\n",
    "  - $\\texttt{print(\"Hello World\"}$\n",
    "  - Eine schließende Klammer fehlt.\n",
    "* - Falsche Klammern verwendet\n",
    "  - $\\texttt{if [x > 10]:}$\n",
    "  - Statt runder Klammern $\\texttt{()}$ wurden eckige Klammern $\\texttt{[]}$ verwendet.\n",
    "* - Falsche Einrückung\n",
    "  - $\\texttt{if x > 10:} \\\\\\\\ \\texttt{print(x)}$\n",
    "  - Einrückung muss konstant sein.\n",
    "* - Ungültiger Variablenname\n",
    "  - $\\texttt{2x = 10}$\n",
    "  - Variablennamen dürfen nicht mit einer Zahl beginnen.\n",
    "* - Falsche String-Begrenzung\n",
    "  - $\\texttt{'Hello World\"}$\n",
    "  - Ein String muss mit dem gleichen Zeichentyp abgeschlossen werden (z.B. beide $\\texttt{'}$ oder beide $\\texttt{\"}$).\n",
    "* - Fehlender Operator\n",
    "  - $\\texttt{x 10}$\n",
    "  - Ein Operator zwischen Variablen fehlt (z.B. $\\texttt{x + 10}$).\n",
    "* - Verwendung von reservierten Wörtern\n",
    "  - $\\texttt{def = 10}$\n",
    "  - $\\texttt{def}$ ist ein reserviertes Schlüsselwort und kann nicht als Variablenname verwendet werden.\n",
    "* - Zu viele Klammern\n",
    "  - $\\texttt{if (x > 10)):}$\n",
    "  - Zu viele schließende Klammern.\n",
    "* - Falsche Anzahl von Argumenten\n",
    "  - $\\texttt{print(\"Hello\", 10)}$\n",
    "  - Eine Funktion erhält nicht die erforderliche Anzahl von Argumenten.\n",
    ":::\n",
    "::::"
   ]
  },
  {
   "cell_type": "markdown",
   "metadata": {},
   "source": [
    "\n",
    "## RuntimeError\n",
    "\n",
    "Ein $\\texttt{RuntimeError}$ (auch *Laufzeitfehler*) tritt auf, wenn ein Programm syntaktisch korrekt ist, aber während der Ausführung einen Fehler verursacht. Diese Art von Fehler verhindert, dass das Programm weiterläuft oder manchmal auch, dass das Programm durchläuft, aber nicht das tut, was Sie wollen.\n",
    "\n",
    "Ein häufiger Grund für $\\texttt{RuntimeError}$ ist die Verwendung einer nicht definierten bzw. falsch geschriebenen Variablen. Das passiert, wenn man versucht, auf eine Variable zuzugreifen, die vorher nicht deklariert wurde. Dieser Fall hat den Vorteil, dass Python eine Fehlermeldung hervorruft. "
   ]
  },
  {
   "cell_type": "code",
   "execution_count": 2,
   "metadata": {},
   "outputs": [
    {
     "ename": "NameError",
     "evalue": "name 'masse' is not defined",
     "output_type": "error",
     "traceback": [
      "\u001b[31m---------------------------------------------------------------------------\u001b[39m",
      "\u001b[31mNameError\u001b[39m                                 Traceback (most recent call last)",
      "\u001b[36mCell\u001b[39m\u001b[36m \u001b[39m\u001b[32mIn[2]\u001b[39m\u001b[32m, line 3\u001b[39m\n\u001b[32m      1\u001b[39m Masse = \u001b[32m10\u001b[39m\n\u001b[32m      2\u001b[39m Geschwindigkeit = \u001b[32m5\u001b[39m\n\u001b[32m----> \u001b[39m\u001b[32m3\u001b[39m kinetische_Energie = \u001b[32m0.5\u001b[39m * \u001b[43mmasse\u001b[49m * Geschwindigkeit\n",
      "\u001b[31mNameError\u001b[39m: name 'masse' is not defined"
     ]
    }
   ],
   "source": [
    "Masse = 10\n",
    "Geschwindigkeit = 5\n",
    "kinetische_Energie = 0.5 * masse * Geschwindigkeit"
   ]
  },
  {
   "cell_type": "markdown",
   "metadata": {},
   "source": [
    "Hier wurde die Variable $\\texttt{Masse}$ genannt, allerdings in der Rechnug über $\\texttt{masse}$ versucht aufgerufen zu werden. Auch wenn intuitiv klar ist, dass damit die gleiche Größe gemeint ist, kann Python damit nicht umgehen und wirft daher eine Fehlermeldung und spzifiziert den $\\texttt{RuntimeError}$ konkreter als $\\texttt{NameError}$.\n",
    "\n",
    "Kniffliger wird es, wenn sich im eigenen Code $\\texttt{RuntimeErrors}$ eingeschlichen haben, die keine Fehlermeldung verursachen, aber die Ausführung so beeinflussen, dass das Ergebnis nicht das Gewünschte ist.\n",
    "Im folgenden Code zur Berechnung der $n$-ten Fibonacci-Zahl hat sich ein solcher Fehler eingeschlichen.\n",
    "Die Fibonacci-Folge habe Sie bereits im Kontext der [for-Schleifen](../../chapter02_basics/programmablaeufe/for_loops.ipynb) kennengelernt. Wir erinnern nocheinmal an die rekursive Definition:\n",
    "\n",
    "$$\n",
    "    f_0 = 0, \\quad f_1 = 1, \\quad f_k = f_{k-1} + f_{k-2} \\quad \\text{für } k \\ge 2.\n",
    "$$\n"
   ]
  },
  {
   "cell_type": "markdown",
   "metadata": {},
   "source": [
    ":::{admonition} Aufgabe 2.1\n",
    "\n",
    "Der Code wirft den Fehler $\\texttt{IndexError}$.\n",
    "Woran könnte das liegen? Passen Sie den Code so an, dass die Fehlermeldung nicht mehr erscheint.\n",
    ":::"
   ]
  },
  {
   "cell_type": "code",
   "execution_count": 7,
   "metadata": {},
   "outputs": [
    {
     "ename": "IndexError",
     "evalue": "index 10 is out of bounds for axis 0 with size 10",
     "output_type": "error",
     "traceback": [
      "\u001b[31m---------------------------------------------------------------------------\u001b[39m",
      "\u001b[31mIndexError\u001b[39m                                Traceback (most recent call last)",
      "\u001b[36mCell\u001b[39m\u001b[36m \u001b[39m\u001b[32mIn[7]\u001b[39m\u001b[32m, line 12\u001b[39m\n\u001b[32m      7\u001b[39m \u001b[38;5;28;01mfor\u001b[39;00m k \u001b[38;5;129;01min\u001b[39;00m \u001b[38;5;28mrange\u001b[39m(\u001b[32m1\u001b[39m, n - \u001b[32m1\u001b[39m):\n\u001b[32m      8\u001b[39m     fib[k + \u001b[32m1\u001b[39m] = (\n\u001b[32m      9\u001b[39m         fib[k - \u001b[32m1\u001b[39m] + fib[k - \u001b[32m2\u001b[39m]\n\u001b[32m     10\u001b[39m     )  \u001b[38;5;66;03m# Berechnet die Fibonacci-Zahlen iterativ\u001b[39;00m\n\u001b[32m---> \u001b[39m\u001b[32m12\u001b[39m fibN = \u001b[43mfib\u001b[49m\u001b[43m[\u001b[49m\u001b[43mn\u001b[49m\u001b[43m]\u001b[49m  \u001b[38;5;66;03m# Zugriff auf die zuletzt berechnete Zahl\u001b[39;00m\n\u001b[32m     13\u001b[39m \u001b[38;5;28mprint\u001b[39m(\u001b[33mf\u001b[39m\u001b[33m\"\u001b[39m\u001b[33mDie \u001b[39m\u001b[38;5;132;01m{\u001b[39;00mn\u001b[38;5;132;01m}\u001b[39;00m\u001b[33m. Fibonacci-Zahl ist: \u001b[39m\u001b[38;5;132;01m{\u001b[39;00mfibN\u001b[38;5;132;01m}\u001b[39;00m\u001b[33m\"\u001b[39m)\n",
      "\u001b[31mIndexError\u001b[39m: index 10 is out of bounds for axis 0 with size 10"
     ]
    }
   ],
   "source": [
    "import numpy as np\n",
    "\n",
    "n = 10\n",
    "fib = np.zeros(n)  # Erstellt ein Array mit 10 Einträgen\n",
    "fib[0:2] = [0, 1]  # Setzt fib[0] = 0 und fib[1] = 1\n",
    "\n",
    "for k in range(1, n - 1):\n",
    "    fib[k + 1] =fib[k - 1] + fib[k - 2]\n",
    "\n",
    "fibN = fib[n]  # Zugriff auf die zuletzt berechnete Zahl\n",
    "print(f\"Die {n}. Fibonacci-Zahl ist: {fibN}\")"
   ]
  },
  {
   "cell_type": "markdown",
   "metadata": {},
   "source": [
    "\n",
    ":::{admonition} Hinweis\n",
    ":class: note dropdown\n",
    "\n",
    "Der wie vielte Eintrag von $\\texttt{fib}$ wird über $\\texttt{fib[n]}$ abgefragt?\n",
    ":::\n",
    "\n",
    ":::{admonition} Lösung\n",
    ":class: tip dropdown\n",
    "\n",
    "``` python\n",
    "import numpy as np\n",
    "\n",
    "n = 10\n",
    "fib = np.zeros(n) \n",
    "fib[0:2] = [0, 1]  \n",
    "\n",
    "for k in range(1, n - 1):  \n",
    "    fib[k + 1] = fib[k - 1] + fib[k - 2] \n",
    "\n",
    "fibN = fib[n - 1]  # Korrektur\n",
    "print(f\"Die {n}. Fibonacci-Zahl ist: {fibN}\")\n",
    "```\n",
    ":::"
   ]
  },
  {
   "cell_type": "markdown",
   "metadata": {},
   "source": [
    "Wenn Sie den Code aus der Lösung ausführen, merken Sie dass nun keine Fehlermeldung mehr erscheint. Allerdings ist nach dem Code die $10.$ Fibonacci-Zahl die Zahl $21$, was nicht korrekt ist. Die $10.$ Fibonacci-Zahl ist nämlich $34$. Solche Fehler erkennt Python leider nicht und Sie müssen Sie selbst durch das Testen Ihres Codes finden."
   ]
  },
  {
   "cell_type": "markdown",
   "metadata": {},
   "source": [
    ":::{admonition} Aufgabe 2.2\n",
    "\n",
    "Passen Sie den Code an, sodass die $10.$ Fibonacci-Zahl korrekt berechnet wird. \n",
    ":::"
   ]
  },
  {
   "cell_type": "code",
   "execution_count": null,
   "metadata": {},
   "outputs": [],
   "source": [
    "# Ihr Code "
   ]
  },
  {
   "cell_type": "markdown",
   "metadata": {},
   "source": [
    "\n",
    ":::{admonition} Hinweis 1\n",
    ":class: note dropdown\n",
    "\n",
    "Es kann nützlich sein auch andere Variablen wie $\\texttt{fib}$ zu betrachten, um herauszufinden, an welcher Stelle der Code einen Fehler macht. \n",
    ":::\n",
    "\n",
    ":::{admonition} Hinweis 2\n",
    ":class: note dropdown\n",
    "\n",
    "Läuft die Schleife über die richtigen Elemente? Wird die richtige Zahl überschrieben in der Schleife?\n",
    ":::\n",
    "\n",
    "\n",
    ":::{admonition} Lösung\n",
    ":class: tip dropdown\n",
    "\n",
    "``` python\n",
    "import numpy as np\n",
    "\n",
    "n = 10\n",
    "fib = np.zeros(n) \n",
    "fib[0:2] = [0, 1]\n",
    "\n",
    "for k in range(2, n):  # Korrektur\n",
    "    fib[k] = fib[k - 1] + fib[k - 2] # Korrektur\n",
    "\n",
    "fibN = fib[n - 1] # Korrektur aus A2.1\n",
    "print(f\"Die {n}. Fibonacci-Zahl ist: {fibN}\")\n",
    "```\n",
    ":::\n",
    "\n",
    "\n",
    "Abschließend wollen wir die Anzahl an Mensaessen, die an einer fiktiven Mensa pro Semester komsumiert werden grafisch darstellen und haben den folgenden Code geschrieben. Leider haben sich Fehler eingeschlichen. \n",
    "Der Code erzeugt zunächst die Daten für 30 verschiedene Semester und soll anschließen der Plot erstellen. \n",
    "\n",
    ":::{admonition} Aufgabe 2.3\n",
    "Finden Sie die Fehler in dem Codeausschnitt und verbessern Sie diese. \n",
    ":::"
   ]
  },
  {
   "cell_type": "code",
   "execution_count": null,
   "metadata": {},
   "outputs": [],
   "source": [
    "import numpy as np\n",
    "import matplotlib.pyplot as plt\n",
    "\n",
    "np.random.seed(42)  # für reproduzierbare Ergebnisse\n",
    "\n",
    "# Erszeugung der Anzahl an verkauften Mensaessen pro Semester\n",
    "trend = 850 + 20 * np.arange(1, 31)\n",
    "noise = np.random.normal(loc=0, scale=20, size=np.arange(1, 31).shape)\n",
    "Mensaessen = trend + noise\n",
    "\n",
    "# Plotten der gemessenen Daten ohne Regression\n",
    "Semester = np.arange(1, 30)\n",
    "plt.scatter(Semester, Mensaessen)\n",
    "plt.xlabel(\"Mensaessen\")\n",
    "plt.ylabel(\"Semester\")\n",
    "plt.title(\"Anzahl der verkauften Mensaessen über die letzten 30 Semester\")\n",
    "plt.show()"
   ]
  },
  {
   "cell_type": "markdown",
   "metadata": {},
   "source": [
    ":::{admonition} Hinweis\n",
    ":class: note dropdown\n",
    "Stimme die Dimensionen der zu plottenden Daten überein?\n",
    ":::\n",
    "\n",
    ":::{admonition} Lösung\n",
    ":class: tip dropdown\n",
    "\n",
    "``` python\n",
    "import numpy as np\n",
    "import matplotlib.pyplot as plt\n",
    "\n",
    "np.random.seed(42)  \n",
    " \n",
    "trend = 850 + 20 * np.arange(1, 31)\n",
    "noise = np.random.normal(loc=0, scale=20, size=np.arange(1,31).shape)  \n",
    "Mensaessen = trend + noise\n",
    "\n",
    "Semester = np.arange(1, 31) # Korrektur\n",
    "plt.scatter(Semester, Mensaessen)\n",
    "plt.xlabel('Semester')  \n",
    "plt.ylabel('Mensaessen')  \n",
    "plt.title('Anzahl der verkauften Mensaessen über die letzten 30 Semester')\n",
    "plt.show()\n",
    "```\n",
    ":::\n",
    "\n",
    "Nun möchten wir eine lineare Regressionsgerade erzeugen. Dazu normieren wir die Daten zunächst und führen dann die Regression durch, indem wir die Funktion $\\texttt{np.polyfit}$ verwenden. Leider haben sich auch hier Fehler eingeschlichen. \n",
    "\n",
    ":::{admonition} Aufgabe 2.4\n",
    "Finden Sie die Fehler in dem Codeausschnitt und verbessern Sie diese. \n",
    ":::"
   ]
  },
  {
   "cell_type": "code",
   "execution_count": null,
   "metadata": {},
   "outputs": [],
   "source": [
    "# Normalisiere die Daten\n",
    "Mensaessen_norm = np.max(Mensaessen) / Mensaessen\n",
    "\n",
    "# Dürchführung der Regression\n",
    "Grad = 2\n",
    "Koeff = np.polyfit(Semester, Mensaessen_norm, Grad)\n",
    "polynomial = np.poly1d(Koeff)\n",
    "Regression_Mensaessen = polynomial(Semester)\n",
    "\n",
    "plt.scatter(Semester, Mensaessen_norm)\n",
    "plt.plot(Semester, Regression_Mensaessen, color=\"r\")\n",
    "plt.xlabel(\"Semester\")\n",
    "plt.ylabel(\"Mensaessen\")\n",
    "plt.title(\"Regression der verkauften Mensaessen über die letzten 30 Semester\")\n",
    "plt.show()"
   ]
  },
  {
   "cell_type": "markdown",
   "metadata": {},
   "source": [
    ":::{admonition} Hinweis\n",
    ":class: note dropdown\n",
    "Werden die Daten korrekt normiert?\n",
    ":::\n",
    "\n",
    ":::{admonition} Lösung\n",
    ":class: tip dropdown\n",
    "\n",
    "``` python\n",
    "Mensaessen_norm = Mensaessen / np.max(Mensaessen) # Korrektur\n",
    "\n",
    "Grad = 2 \n",
    "Koeff = np.polyfit(Semester, Mensaessen_norm, Grad)\n",
    "polynomial = np.poly1d(Koeff)\n",
    "Regression_Mensaessen = polynomial(Semester)\n",
    "\n",
    "plt.scatter(Semester, Mensaessen_norm)\n",
    "plt.plot(Semester, Regression_Mensaessen, color='r')\n",
    "plt.xlabel('Semester')\n",
    "plt.ylabel('Mensaessen')\n",
    "plt.title('Regression der verkauften Mensaessen über die letzten 30 Semester')\n",
    "plt.show()\n",
    "```\n",
    ":::"
   ]
  }
 ],
 "metadata": {
  "kernelspec": {
   "display_name": "Python 3",
   "language": "python",
   "name": "python3"
  },
  "language_info": {
   "codemirror_mode": {
    "name": "ipython",
    "version": 3
   },
   "file_extension": ".py",
   "mimetype": "text/x-python",
   "name": "python",
   "nbconvert_exporter": "python",
   "pygments_lexer": "ipython3",
   "version": "3.13.3"
  }
 },
 "nbformat": 4,
 "nbformat_minor": 2
}
