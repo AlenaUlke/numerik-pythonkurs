{
 "cells": [
  {
   "cell_type": "markdown",
   "metadata": {},
   "source": [
    "# Vektorisierung\n",
    "\n",
    "In der numerischen Mathematik spielt die Effizienz von Algorithmen eine zentrale Rolle. Eine der wichtigsten Techniken zur Beschleunigung von Berechnungen in Python ist die Vektorisierung, die durch die Verwendung von NumPy-Arrays anstelle von expliziten Schleifen erreicht wird. Vektorisierte Operationen sind in der Regel um ein Vielfaches schneller als Schleifen in Python, da NumPy diese Operationen in optimierten Routinen ausführen. \n",
    "\n",
    "\n",
    "**Hier ist was zu tun**\n",
    "Mit dem Befehl $\\texttt{time.time()}$ kann die aktuelle Zeit abgerufen werden. Indem man die Zeit zum Startzeitpunkt mit der zum Endzeitpunkt der Rechnungen vergleicht, kann man die Rechendauer beider Varianten evaluieren. Dies wurde in beiden Beispielen für Sie gemacht. Bevor Sie sich den kommenden Aufgaben widmen, bei denen Sie selbst eine vektorisierte Variante erarbeiten, ändern Sie die Variable $n$ in den vorherigen Beispielen. Wie verändert sich der Unterschied der Rechenzeiten beider Varianten?\n",
    "\n",
    ":::{admonition} Aufgabe 1.1\n",
    "Der folgende Code berechnen die elementweise Wurzel eines Vektors. Einmal über eine for-Scheilfe, einmal mit der Funkion $\\texttt{np.sqrt}$. \n",
    "\n",
    "Variieren Sie die Länge $n$ des Vektor. Wie verändert sich der Unterschied der Rechenzeiten beider Varianten?\n",
    ":::\n"
   ]
  },
  {
   "cell_type": "code",
   "execution_count": null,
   "metadata": {},
   "outputs": [],
   "source": [
    "x = np.arange(1,n+1)\n",
    "\n",
    "# Variante mit Schleife\n",
    "startzeit = time.time()\n",
    "sqrt_schleife = np.zeros(n)\n",
    "for i in range(n):\n",
    "    sqrt_schleife[i] = np.sqrt(x[i])\n",
    "endzeit = time.time()\n",
    "print(f\"Schleifenzeit: {endzeit - startzeit:.5f} Sekunden\")\n",
    "\n",
    "# Vektorisierte Variante\n",
    "startzeit = time.time()\n",
    "sqrt_vektorisierung = np.sqrt(x)\n",
    "endzeit = time.time()\n",
    "print(f\"Vektorisierte Zeit: {endzeit - startzeit:.5f} Sekunden\")"
   ]
  },
  {
   "cell_type": "markdown",
   "metadata": {},
   "source": [
    ":::{admonition} Aufgabe 1.2\n",
    "Der folgende Code soll die euklidische Norm jeder Zeile einer $(m \\times n)$ Matrix berechnen. Für die vektorisierte Variante soll dabei der Befehl $\\texttt{np.linalg.norm}$ verwendet werden. Machen Sie sich mit dem Befehl vertraut und ergänzen Sie den fehlenden Code. \n",
    ":::"
   ]
  },
  {
   "cell_type": "code",
   "execution_count": null,
   "metadata": {},
   "outputs": [],
   "source": [
    "m, n = 1000, 100\n",
    "A = np.random.rand(m, n)\n",
    "\n",
    "# Variante mit Schleife\n",
    "startzeit = time.time()\n",
    "# Ihr Code \n",
    "\n",
    "\n",
    "\n",
    "endzeit = time.time()\n",
    "print(f\"Schleifenzeit: {endzeit - startzeit:.5f} Sekunden\")\n",
    "\n",
    "# Vektorisierte Variante\n",
    "startzeit = time.time()\n",
    "# Ihr Code \n",
    "\n",
    "endzeit = time.time()\n",
    "print(f\"Vektorisierte Zeit: {endzeit - startzeit:.5f} Sekunden\")"
   ]
  },
  {
   "cell_type": "markdown",
   "metadata": {},
   "source": [
    "\n",
    ":::{admonition} Hinweis\n",
    ":class: note dropdown\n",
    "\n",
    "Nutzen Sie für die Schleifen-Variante eine for-Schleife über $\\texttt{range(m)}$. Für die Vektorisierung verwenden Sie den Befehl $\\texttt{np.linalg.norm(A, axis = 1)}%.\n",
    ":::\n",
    "\n",
    ":::{admonition} Lösung\n",
    ":class: tip dropdown\n",
    "\n",
    "``` python\n",
    "m, n = 1000, 100\n",
    "A = np.random.rand(m, n)\n",
    "\n",
    "# Variante mit Schleife\n",
    "startzeit = time.time()\n",
    "norm_schleife = np.zeros(m)\n",
    "for i in range(m):\n",
    "    norm_schleife[i] = np.sqrt(np.sum(A[i, :] ** 2))\n",
    "endzeit = time.time()\n",
    "print(f\"Schleifenzeit: {endzeit - startzeit:.5f} Sekunden\")\n",
    "\n",
    "# Vektorisierte Variante\n",
    "startzeit = time.time()\n",
    "norm_vektorisierung = np.linalg.norm(A, axis=1)\n",
    "endzeit = time.time()\n",
    "print(f\"Vektorisierte Zeit: {endzeit - startzeit:.5f} Sekunden\")\n",
    "```\n",
    ":::"
   ]
  },
  {
   "cell_type": "markdown",
   "metadata": {},
   "source": [
    "Die vektorisierte Variante der Addition lässt sich auch auf Matrizen und Vektoren erweitern. Angenommen wir haben den Vektor \n",
    "\n",
    "$$\n",
    "\\begin{pmatrix}\n",
    "0 \\\\\n",
    "10 \\\\\n",
    "20 \\\\\n",
    "30\\\\\n",
    "\\end{pmatrix} \\quad \\text{und} \\quad \n",
    "\\begin{pmatrix}\n",
    "0 & 1 & 2\\\\\n",
    "\\end{pmatrix}\n",
    "$$\n",
    "\n",
    "Unser Ziel ist es aus diesen Vektoren die Matrix \n",
    "\n",
    "$$\n",
    "\\begin{pmatrix}\n",
    "0 & 1 & 2 \\\\\n",
    "10 & 11 & 12 \\\\\n",
    "20 & 21 & 22 \\\\\n",
    "30 & 31 & 32 \\\\\n",
    "\\end{pmatrix}\n",
    "$$\n",
    "zu erzeugen. Auch hier hilft uns Vektorisierung Zeit zu sparen, denn es ist möglich einen Vektor spaltenweise und zeilenweise auf eine Matrix und einen anderen Vektor zu addieren. In unserem Beispiel kann das wie folgt aussehen.\n",
    "\n",
    "```{figure} img/numpy_broadcasting.png\n",
    ":width: 90%\n",
    "spaltenweise Addition\n",
    "<p style=\"font-size: 80%; text-align: center; margin-top: 0; padding-top: 0;\">\n",
    "<strong>Quelle:</strong> <a href=\"https://scipy-lectures.org/intro/numpy/operations.html\">scipy lectures</a>\n",
    "</p>\n",
    "```\n",
    "\n",
    "Für alle Methoden genügt es die Vektoren und Matrizen miteinander zu addieren. Bei der zweiten Methode muss allerdings sichergestellt sein, dass die Anzahl der Spalten des Vekors und der Matriz übereinstimmen.\n",
    "\n",
    ":::{admonition} Achtung\n",
    ":class: warning\n",
    "\n",
    "Die spaltenweise oder zeilenweise Addition funktioniert nur, wenn die Anzahl der Zeilen oder Spalten der Matrix und des Vektors identisch sind. \n",
    ":::\n",
    "\n",
    "Bei der dritten Variante erstellt Python automatisch eine Matrix, die so viele Zeilen hat, wie der Zeilenvektor, und so viele Spalten wie der Spaltenvektor. "
   ]
  },
  {
   "cell_type": "code",
   "execution_count": null,
   "metadata": {},
   "outputs": [],
   "source": [
    "matrix = np.array([[0, 0, 0],[10, 10, 10],[20, 20, 20],[30, 30, 30]])\n",
    "zeilenvektor = np.array([[0, 1, 2]])\n",
    "spaltenvektor = np.array([[0, 10, 20, 30]]).T\n",
    "print(matrix + zeilenvektor)\n",
    "print(spaltenvektor + zeilenvektor)"
   ]
  },
  {
   "cell_type": "markdown",
   "metadata": {},
   "source": [
    "Ganz analog zu Addition funktioniert auch die zeilenweise bzw. spaltenweise Multiplikation. Dazu betrachten wir das folgenden Beispiel. Angenommen, wir haben eine Matrix der historischen Renditen von vier Aktien über drei Jahre:\n",
    "\n",
    "$$\n",
    "R = \\begin{pmatrix}\n",
    "0.05 & 0.02 & -0.01 & 0.03 \\\\\n",
    "0.07 & 0.04 & 0.00  & 0.05 \\\\\n",
    "-0.03 & 0.01 & 0.02  & 0.01 \\\\\n",
    "\\end{pmatrix}\n",
    "$$\n",
    "\n",
    "Nun möchten wir für jedes Jahr einen unterschiedlichen Steuerfaktor anwenden. Die Steuerfaktoren sind:\n",
    "\n",
    "$$\n",
    "\\text{Steuerfaktoren} = \\begin{pmatrix}\n",
    "0.9\\\\\n",
    "0.88\\\\\n",
    "0.92\\\\\n",
    "\\end{pmatrix}.\n",
    "$$\n",
    "\n",
    "Die Matrix der Renditen nach Anwendung des jeweiligen Steuerfaktors für jedes Jahr ergibt sich durch die Multiplikation der Zeilen der Matrix $R$ mit dem Vektor der Steuerfaktoren. "
   ]
  },
  {
   "cell_type": "markdown",
   "metadata": {},
   "source": [
    ":::{admonition} Aufgabe 1.2\n",
    "Berechnen Sie mit Hilfe der Zeilenweise Multiplikation die tatsächlichten Renditen nach der Steuer und speichern Sie das Ergebnis in der Matrix $\\textt{R_steuer}$. \n",
    ":::"
   ]
  },
  {
   "cell_type": "code",
   "execution_count": null,
   "metadata": {},
   "outputs": [],
   "source": [
    "# Ihr Code"
   ]
  },
  {
   "cell_type": "markdown",
   "metadata": {},
   "source": [
    ":::{admonition} Hinweis\n",
    ":class: note dropdown\n",
    "\n",
    "Achten Sie auf die richtigen Dimensionen. \n",
    ":::\n",
    "\n",
    ":::{admonition} Lösung\n",
    ":class: tip dropdown\n",
    "\n",
    "``` python\n",
    "# Renditenmatrix (3 Jahre x 4 Aktien)\n",
    "R = np.array([\n",
    "    [0.05, 0.02, -0.01, 0.03],  # 2019\n",
    "    [0.07, 0.04, 0.00, 0.05],   # 2020\n",
    "    [-0.03, 0.01, 0.02, 0.01]   # 2021\n",
    "])\n",
    "\n",
    "# Steuerfaktoren für jedes Jahr\n",
    "steuerfaktoren = np.array([0.9, 0.88, 0.92])\n",
    "\n",
    "# Anwendung der Steuerfaktoren auf die entsprechenden Zeilen der Matrix\n",
    "R_steuer = R * steuerfaktoren\n",
    "\n",
    "print(\"Matrix der Renditen nach Anwendung der Steuerfaktoren:\")\n",
    "print(R_steuer)\n",
    "```\n",
    ":::"
   ]
  },
  {
   "cell_type": "markdown",
   "metadata": {},
   "source": [
    ":::{admonition} Aufgabe 1.3\n",
    "Nutzen Sie ihr neu hinzugewonnenes Wissen, um effizient (ohne Schleife) die Summer der Quadrate der ersten 100 natürlichen Zahlen zu berechnen.\n",
    ":::"
   ]
  },
  {
   "cell_type": "code",
   "execution_count": null,
   "metadata": {},
   "outputs": [],
   "source": [
    "# Ihr Code"
   ]
  },
  {
   "cell_type": "markdown",
   "metadata": {},
   "source": [
    ":::{admonition} Hinweis\n",
    ":class: note dropdown\n",
    "Die Funktion $\\texttt{np.sum}$ könnte hilfreich sein. \n",
    ":::\n",
    "\n",
    ":::{admonition} Lösung\n",
    ":class: tip dropdown\n",
    "\n",
    "``` python\n",
    "n = 100\n",
    "\n",
    "# Erstellen eines Arrays mit Zahlen von 1 bis n\n",
    "zahlen = np.arange(1, n + 1)  \n",
    "\n",
    "# Berechnung der Summe der Quadrate\n",
    "summe_quadrate = np.sum(zahlen**2) \n",
    "\n",
    "print(f\"Die Quadratsumme der ersten {n} natürlichen Zahlen ist: {summe_quadrate}\")\n",
    "```\n",
    ":::"
   ]
  },
  {
   "cell_type": "markdown",
   "metadata": {},
   "source": [
    "Erinnern Sie sich an das Beispiel aus Kapitel [Fehleranzeige](../../chapter03_spezialisierung/debugging/error_signs.ipynb) zurück, bei dem Produkte gemäß Gewichte im Bezug auf sechs verschiedene Merkmale bewertet werden sollten. "
   ]
  },
  {
   "cell_type": "code",
   "execution_count": null,
   "metadata": {},
   "outputs": [],
   "source": [
    "def score_berechnung(P, w):\n",
    "    \"\"\"\n",
    "    Berechnet die gewichteten Scores für Produkte.\n",
    "    EINGABE:\n",
    "     - P: numpy Array mit Produktinformationen (erste Spalte sind Nummern, restliche Spalten sind Merkmale)\n",
    "     - w: numpy Array mit Gewichtungen für jedes Merkmal\n",
    "    AUSGABE:\n",
    "     - scores: numpy Array mit Produktnummern und gewichteten Scores\n",
    "    \"\"\"\n",
    "    ids = P[:, 0]  # Produktnummern\n",
    "    values = P[:, 1:]  # Merkmale\n",
    "\n",
    "    # Normalisierung der Merkmale\n",
    "    for i in range(values.shape[1]):\n",
    "        values[:, i] = values[:, i] / np.max(values[:, i])\n",
    "\n",
    "    # Berechnung der Scores mit einer Schleife\n",
    "    scores = np.zeros(len(ids))  # Initialisiere ein Array für die Scores\n",
    "    for i in range(len(ids)):\n",
    "        for j in range(len(w)):\n",
    "            scores[i] += values[i, j] * w[j]  # Gewichtetes Merkmal aufsummieren\n",
    "\n",
    "    # Kombiniere Produktnummern mit Scores\n",
    "    product_scores = np.column_stack((ids, scores))\n",
    "\n",
    "    return product_scores\n",
    "\n",
    "# Beispiel-Daten\n",
    "products = np.array([\n",
    "    [1, 90, 85, 30, 80, 500, 1200],\n",
    "    [2, 80, 90, 20, 85, 200, 1500],\n",
    "    [3, 85, 80, 25, 90, 1000, 800],\n",
    "    [4, 70, 75, 40, 75, 250, 500],\n",
    "    [5, 95, 90, 15, 97, 400, 1300],\n",
    "    [6, 97, 80, 35, 80, 300, 1200],\n",
    "    [7, 80, 85, 30, 85, 500, 1400],\n",
    "    [8, 75, 78, 28, 85, 350, 1100],\n",
    "    [9, 88, 82, 32, 88, 600, 1600],\n",
    "    [10, 76, 82, 30, 80, 350, 1100]\n",
    "], dtype=float)\n",
    "\n",
    "# Gewichtungen (für jedes Merkmal)\n",
    "weights = np.array([0.4, 0.25, -0.15, 0.15, 0.05, 0.05])\n",
    "\n",
    "# Berechnung der Scores\n",
    "product_scores = score_berechnung(products, weights)\n",
    "\n",
    "# Ausgabe der Produktnummern und Scores\n",
    "for product, score in product_scores:\n",
    "    print(f\"Produkt {int(product)}: {score:.2f}\")"
   ]
  },
  {
   "cell_type": "markdown",
   "metadata": {},
   "source": [
    ":::{admonition} Aufgabe 1.4\n",
    "Vektorisieren Sie die Funktion $\\texttt{score_berechnung(P, w)}$. Lassen Sie den Code zunächst ohne Bearbeitung durchlaufen, um sich zu vergewissern, welche Werte herauskommen sollten. \n",
    ":::"
   ]
  },
  {
   "cell_type": "code",
   "execution_count": null,
   "metadata": {},
   "outputs": [],
   "source": [
    "# Ihr Code"
   ]
  },
  {
   "cell_type": "markdown",
   "metadata": {},
   "source": [
    ":::{admonition} Hinweis\n",
    ":class: note dropdown\n",
    "Die Funktionen $\\texttt{np.max}$ und $\\texttt{np.dot}$ könnten hilfreich sein. \n",
    ":::\n",
    "\n",
    ":::{admonition} Lösung\n",
    ":class: tip dropdown\n",
    "\n",
    "``` python\n",
    "\n",
    "def score_berechnung(P, w):\n",
    "    \"\"\"\n",
    "    Berechnet die gewichteten Scores für Produkte.\n",
    "    EINGABE:\n",
    "     - P: numpy Array mit Produktinformationen (erste Spalte sind Nummern, restliche Spalten sind Merkmale)\n",
    "     - w: numpy Array mit Gewichtungen für jedes Merkmal\n",
    "    AUSGABE:\n",
    "     - scores: numpy Array mit Produktnummern und gewichteten Scores\n",
    "    \"\"\"\n",
    "    ids = P[:, 0]  # Produktnummern\n",
    "    values = P[:, 1:]  # Merkmale\n",
    "\n",
    "    # Normalisierung der Merkmale (nur einmal pro Merkmal)\n",
    "    values = values / np.max(values, axis=0)\n",
    "\n",
    "    # Berechnung der Scores mit vektorisierten Operationen\n",
    "    scores = np.dot(values, w)  # Gewichtete Merkmale aufsummieren\n",
    "\n",
    "    # Kombiniere Produktnummern mit Scores\n",
    "    product_scores = np.column_stack((ids, scores))\n",
    "\n",
    "    return product_scores\n",
    "```\n",
    ":::"
   ]
  },
  {
   "cell_type": "markdown",
   "metadata": {},
   "source": [
    "Zum Abschluss dieses Kapitels geben wir Ihnen eine Übersicht von vielen verschiedenen Methoden, um seinen Code effizienter zu gestalten. Die Tabelle ist lediglich für Sie in der Zukunft als Nachschlagewerk gedacht.\n",
    "\n",
    "- **Broadcasting**: ermöglicht es, Operationen auf Arrays unterschiedlicher Größe anzuwenden, indem kleinere Arrays automatisch auf die Form des größeren Arrays angepasst werden."
   ]
  },
  {
   "cell_type": "markdown",
   "metadata": {},
   "source": [
    "::::{div} full-width\n",
    "| Mechanismus                | Beschreibung                                                                 | Beispiel                                                                 |\n",
    "|---------------------------------------|-----------------------------------------------------------------------------|--------------------------------------------------------------------------|\n",
    "| Broadcasting                      | Ermöglicht es, Operationen auf Arrays unterschiedlicher Größe anzuwenden, indem kleinere Arrays automatisch auf die Form des größeren Arrays angepasst werden. | $\\texttt{np.add(arr1, arr2)}$ wenn $\\texttt{arr1}$ (3,1) und $\\texttt{arr2}$ (1,3) sind.           |\n",
    "| Array-Operationen                 | Mathematische Operationen wie Addition, Subtraktion, Multiplikation und Division werden auf ganze Arrays angewendet, ohne explizite Schleifen. | $\\texttt{np.array([1, 2, 3]) + 10}$ ergibt $\\texttt{array([11, 12, 13])}$.                |\n",
    "| $\\texttt{np.vectorize()}$ | Mit $\\texttt{np.vectorize()}$ können benutzerdefinierte Funktionen auf ganze Arrays angewendet werden, ohne explizite Schleifen. | $\\texttt{np.vectorize(lambda x: x ** 2)(arr)}$ berechnet das Quadrat jedes Elements im Array $\\texttt{arr}$. |\n",
    "| Trigonometrische Funktionen         | NumPy bietet eine Vielzahl von trigonometrischen Funktionen wie $\\texttt{np.sin()}$, $\\texttt{np.cos()}$, $\\texttt{np.tan()}$ usw. für jedes Element im Array. | $\\texttt{np.sin(arr)}$ berechnet den Sinus jedes Elements im Array $\\texttt{arr}$.         |\n",
    "| $\\texttt{np.matmul()}$| Führt eine Matrixmultiplikation durch. Ähnlich wie $\\texttt{np.dot()}$, aber speziell für 2D-Arrays optimiert. | $\\texttt{np.matmul(A, B)}$ berechnet das Matrixprodukt der Matrizen $A$ und $B$. |\n",
    "| $\\texttt{np.multiply()}$ | Berechnet die elementweise Multiplikation zwischen Arrays. | $\\texttt{np.multiply(arr1, arr2)}$ multipliziert die Arrays $\\texttt{arr1}$ und $\\texttt{arr2}$ elementweise. |\n",
    "| Ufuncs (Universal Functions)    | Ufuncs sind vektorisierte Funktionen, die auf ganze Arrays angewendet werden und elementweise Operationen effizient ausführen. | \n",
    "- $\\texttt{np.sqrt(arr)}$: Quadratwurzel\n",
    "- $\\texttt{np.log(arr)}$: natürlicher Logarithmus \n",
    "- $\\texttt{np.exp(arr)}$: Exponentialfunktion \n",
    "- $\\texttt{np.abs(arr)}$: Betragsfunktion \n",
    "- $\\texttt{np.floor(arr)}$: untere Gaußklammer \n",
    "- $\\texttt{np.ceil(arr)}$: obere Gaußklammer \n",
    "- $\\texttt{np.round(arr)}$: Rundungsfunktion \n",
    "- $\\texttt{np.log10(arr)}$: Logarithmus zur Basis 10 |\n",
    "::::"
   ]
  }
 ],
 "metadata": {
  "language_info": {
   "name": "python"
  }
 },
 "nbformat": 4,
 "nbformat_minor": 2
}
