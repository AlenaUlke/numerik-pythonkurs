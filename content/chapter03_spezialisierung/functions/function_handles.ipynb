{
 "cells": [
  {
   "cell_type": "markdown",
   "metadata": {},
   "source": [
    "# Function handles\n",
    "\n",
    "Sometimes you may need to pass a function as input to another function. For example, if you want to take a derivative, integrate, or optimize a function, you will need to specify which function.\n",
    "This also comes up if you need to apply a function to the contents of a table, cell array, or structure array.\n",
    "A function handle is a variable that stores a reference to a function. \n",
    "\n",
    "Bild 1\n",
    "\n",
    "The reference can be to a function file, MATLAB function,\n",
    "or a command specified in an anonymous function. \n",
    "\n",
    "Create a Function Handle to a Defined Function\n",
    "Use the @ symbol to create a function handle referencing an existing function. You can reference a MATLAB function, a local function, or a function defined in a function file. \n",
    "\n",
    "Create a Function Handle to a Specific Command\n",
    "These are called anonymous functions. Again, you use the @ symbol. Specify inputs with parentheses. Here, the function handle g has three inputs: a, b, and c . \n",
    "\n",
    "Using Function Handles\n",
    "Once defined, the function handles f and g can be used the same way. They can be called with inputs or passed as an input to another function. \n",
    "\n",
    "Bild 2\n",
    "\n",
    "Bild 3 ist eine quizfrage, die auf jeden Fall hier geklärt werden sollte. zoo(@giraffe) ist Lösung."
   ]
  },
  {
   "cell_type": "code",
   "execution_count": null,
   "metadata": {
    "tags": [
     "thebe-init"
    ]
   },
   "outputs": [],
   "source": [
    "# jumps ist einfach irgendeine Funktion, die zwei hügel hat, also irgendein polynom.\n",
    "x = -1:0.01:1;\n",
    "plot(x,humps(x))\n",
    "grid on"
   ]
  },
  {
   "cell_type": "markdown",
   "metadata": {},
   "source": [
    "You can use the fzero function to find a root of fcnName with a starting value of xStart.\n",
    "\n",
    "x = fzero(@fcnName,xStart)"
   ]
  },
  {
   "cell_type": "markdown",
   "metadata": {},
   "source": [
    ":::{admonition} Aufgabe 1.1\n",
    "Create a variable named x0 which contains the root of the humps function with a starting value of 0.\n",
    ":::"
   ]
  },
  {
   "cell_type": "code",
   "execution_count": null,
   "metadata": {},
   "outputs": [],
   "source": [
    "# Ihr Code "
   ]
  },
  {
   "cell_type": "markdown",
   "metadata": {},
   "source": [
    ":::{admonition} Hinweis\n",
    ":class: note dropdown\n",
    "\n",
    "Call fzero function with a function handle to humps.\n",
    "\n",
    "yIntercept = fzero(@functionName,0);\n",
    ":::\n",
    "\n",
    ":::{admonition} Lösung\n",
    ":class: tip dropdown\n",
    "\n",
    "``` python\n",
    "x0 = fzero(@humps,0)\n",
    "```\n",
    ":::"
   ]
  },
  {
   "cell_type": "markdown",
   "metadata": {},
   "source": [
    "You can use fminbnd to find the minimum value within a given range. Call fminbnd with three inputs:\n",
    "\n",
    "    a function handle to fcnName\n",
    "    a lower bound scalar value\n",
    "    an upper bound scalar value\n",
    "\n",
    "\n",
    "x = fminbnd(@fcnName,lowerBnd,upperBnd)"
   ]
  },
  {
   "cell_type": "markdown",
   "metadata": {},
   "source": [
    ":::{admonition} Aufgabe 1.2\n",
    "Create a variable named xMin which contains the x-value for the local minimum value of humps that is near 0.6.\n",
    ":::"
   ]
  },
  {
   "cell_type": "code",
   "execution_count": null,
   "metadata": {},
   "outputs": [],
   "source": [
    "# Ihr Code "
   ]
  },
  {
   "cell_type": "markdown",
   "metadata": {},
   "source": [
    ":::{admonition} Hinweis\n",
    ":class: note dropdown\n",
    "\n",
    "Use the function fminbnd.\n",
    "\n",
    "xValue = fminbnd(@functionName,-5,10)\n",
    ":::\n",
    "\n",
    ":::{admonition} Lösung\n",
    ":class: tip dropdown\n",
    "\n",
    "``` python\n",
    "xMin = fminbnd(@humps,0.3,1)\n",
    "```\n",
    ":::"
   ]
  },
  {
   "cell_type": "markdown",
   "metadata": {},
   "source": [
    "Nun wollen wir das ganze nochmal mit Daten wiederholen. Dazu benutzen wir die Crash Test Data\n",
    "\n",
    "You will be working with data from vehicle crash tests. crashData contains anonymized data from 15 different crash tests.\n",
    "\n",
    "The field named data contains a cell array of numeric vectors. These sensor measurements record the force on the driver’s head in the X, Y, and Z directions along with their respective times. In this activity, you will define anonymous functions you can apply to different elements of the struct. \n",
    "\n",
    "Bild 4 zeigt die Struktur"
   ]
  },
  {
   "cell_type": "code",
   "execution_count": null,
   "metadata": {},
   "outputs": [],
   "source": [
    "# Hier kommt erklärender Code\n",
    "load crashData.mat\n",
    "headForce = crashData(1).data"
   ]
  },
  {
   "cell_type": "markdown",
   "metadata": {},
   "source": [
    ":::{admonition} Aufgabe 1.3\n",
    "Create an anonymous function named maxabs that takes a single vector and calculates the maximum of the absolute value.\n",
    ":::"
   ]
  },
  {
   "cell_type": "code",
   "execution_count": null,
   "metadata": {},
   "outputs": [],
   "source": [
    "# Ihr Code "
   ]
  },
  {
   "cell_type": "markdown",
   "metadata": {},
   "source": [
    ":::{admonition} Hinweis\n",
    ":class: note dropdown\n",
    "\n",
    "You can create an anonymous function that calculates the absolute values of a vector using the syntax\n",
    "\n",
    "a = @(x) abs(x)\n",
    "\n",
    "What you call the input does not matter.\n",
    ":::\n",
    "\n",
    ":::{admonition} Lösung\n",
    ":class: tip dropdown\n",
    "\n",
    "``` python\n",
    "maxabs = @(x) max(abs(x))\n",
    "```\n",
    ":::"
   ]
  },
  {
   "cell_type": "markdown",
   "metadata": {},
   "source": [
    "Hier die Anmerkung, dass headForce{2} die zweite spalte ist und 3130 Einträge besitzt."
   ]
  },
  {
   "cell_type": "markdown",
   "metadata": {},
   "source": [
    ":::{admonition} Aufgabe 1.4\n",
    "Use the function handle to calculate the maximum of the absolute values of the second element of headForce and save it to a variable named ma.\n",
    ":::"
   ]
  },
  {
   "cell_type": "code",
   "execution_count": null,
   "metadata": {},
   "outputs": [],
   "source": [
    "# Ihr Code "
   ]
  },
  {
   "cell_type": "markdown",
   "metadata": {},
   "source": [
    ":::{admonition} Hinweis\n",
    ":class: note dropdown\n",
    "\n",
    "Use curly braces to extract the second element of headForce and pass that to the function handle maxabs using regular function syntax\n",
    ":::\n",
    "\n",
    ":::{admonition} Lösung\n",
    ":class: tip dropdown\n",
    "\n",
    "``` python\n",
    "ma = maxabs(headForce{2})\n",
    "```\n",
    ":::"
   ]
  },
  {
   "cell_type": "markdown",
   "metadata": {},
   "source": [
    "Recall that the X, Y, and Z force measurements are in the second, fourth, and sixth entries of headForce. You will write an anonymous function that calculates the maximum absolute value in each direction. This function handle can be used on the data field of other elements in crashData."
   ]
  },
  {
   "cell_type": "markdown",
   "metadata": {},
   "source": [
    ":::{admonition} Aufgabe 1.5\n",
    "Create a function handle named maxForces that accepts a cell array with 6 elements that are double arrays.\n",
    "\n",
    "maxForces should return a 1-by-3 vector of the maximum absolute values of the second, fourth, and sixth elements of the input cell array (in that order)\n",
    ":::"
   ]
  },
  {
   "cell_type": "code",
   "execution_count": null,
   "metadata": {},
   "outputs": [],
   "source": [
    "# Ihr Code "
   ]
  },
  {
   "cell_type": "markdown",
   "metadata": {},
   "source": [
    ":::{admonition} Hinweis\n",
    ":class: note dropdown\n",
    "\n",
    "You will need to index into the cell array within the anonymous function. The following code creates a function handle that calculates the maximum absolute value of the second element of a cell array:\n",
    "\n",
    "gM = @(hf) maxabs(hf{2})\n",
    ":::\n",
    "\n",
    ":::{admonition} Lösung\n",
    ":class: tip dropdown\n",
    "\n",
    "``` python\n",
    "maxForces = @(hf) [maxabs(hf{2}) maxabs(hf{4}) maxabs(hf{6})]\n",
    "maxes = maxForces(headForce)\n",
    "```\n",
    ":::"
   ]
  },
  {
   "cell_type": "markdown",
   "metadata": {},
   "source": [
    "You can create a function that plots the X data using the following code:\n",
    "\n",
    "plotXdata = @(hf) plot(hf{1},hf{2})\n",
    "plotXdata(headForce)"
   ]
  },
  {
   "cell_type": "markdown",
   "metadata": {},
   "source": [
    ":::{admonition} Aufgabe 1.6\n",
    "Try altering this function handle so that it accepts an integer, n and plots the forces in the X direction of the nth element of crashData.\n",
    ":::"
   ]
  },
  {
   "cell_type": "code",
   "execution_count": null,
   "metadata": {},
   "outputs": [],
   "source": [
    "# Ihr Code "
   ]
  },
  {
   "cell_type": "markdown",
   "metadata": {},
   "source": [
    ":::{admonition} Hinweis\n",
    ":class: note dropdown\n",
    "\n",
    ":::\n",
    "\n",
    ":::{admonition} Lösung\n",
    ":class: tip dropdown\n",
    "\n",
    "``` python\n",
    "\n",
    "```\n",
    ":::"
   ]
  }
 ],
 "metadata": {
  "language_info": {
   "name": "python"
  }
 },
 "nbformat": 4,
 "nbformat_minor": 2
}
