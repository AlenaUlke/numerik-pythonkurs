{
 "cells": [
  {
   "cell_type": "markdown",
   "id": "8bfcfe7c-2978-4ab4-855d-f5805a66ea4c",
   "metadata": {
    "id": "Dh1YRA5AHxif"
   },
   "source": [
    "# Befehle\n",
    "Ein *Befehl* in Python ist eine Anweisung, die vom Computer direkt ausgeführt wird. Meistens besteht er aus einem Ausdruck, wie zum Beispiel einer Rechnung oder einer Zuweisung. Python wertet den Befehl aus, zeigt das Ergebnis aber nicht zwingend an.\n",
    "Sie können Befehle ausführen, indem Sie in einer Codezeile `# Ihr Code` die gewünschte Eingabe laufen lassen. Nutzen Sie dazu den Button **Run**.\n",
    "\n",
    ":::{admonition} Aufgabe 1.1\n",
    "Multiplizieren Sie die Zahlen 3 und 5 mithilfe des Befehls `3 * 5`.\n",
    ":::\n"
   ]
  },
  {
   "cell_type": "code",
   "execution_count": null,
   "id": "2caf88f9",
   "metadata": {},
   "outputs": [],
   "source": [
    "# Ihr Code"
   ]
  },
  {
   "cell_type": "markdown",
   "id": "8efb5b35-5864-48a0-9d0d-1364d22e7ef3",
   "metadata": {
    "id": "clVpBxeZKC3X"
   },
   "source": [
    ":::{admonition} Hinweis\n",
    ":class: note dropdown\n",
    "\n",
    "Klicken Sie auf die Rakete oben rechts auf der Seite. Aktivieren Sie **Live Code** und drücken Sie anschließend auf **Run**, um Ihren eigenen Code auszuführen.\n",
    "Verwenden Sie `*`, um zwei Zahlen zu multiplizieren.\n",
    ":::\n",
    "\n",
    ":::{admonition} Lösung\n",
    ":class: tip dropdown\n",
    "\n",
    "``` python\n",
    "3 * 5\n",
    "```\n",
    ":::\n",
    "\n",
    "<br>\n",
    "\n",
    "Python zeigt Ihnen das Rechenergebnis nicht zwingend automatisch an. Dazu müssen Sie Python explizit mit dem Befehl `print` auffordern.\n"
   ]
  },
  {
   "cell_type": "code",
   "execution_count": null,
   "id": "a1015057",
   "metadata": {},
   "outputs": [],
   "source": [
    "print(10 - 2)"
   ]
  },
  {
   "cell_type": "markdown",
   "id": "533cd00b",
   "metadata": {},
   "source": [
    ":::{admonition} Aufgabe 1.2\n",
    "Berechnen Sie das Produkt $3 \\cdot 5$ und lassen Sie sich das Ergebnis von Python ausgeben.\n",
    ":::"
   ]
  },
  {
   "cell_type": "code",
   "execution_count": null,
   "id": "f9830eae",
   "metadata": {},
   "outputs": [],
   "source": [
    "# Ihr Code "
   ]
  },
  {
   "cell_type": "markdown",
   "id": "46c5af25",
   "metadata": {},
   "source": [
    ":::{admonition} Hinweis\n",
    ":class: note dropdown\n",
    "\n",
    "Verwenden Sie den Befehl `print`. \n",
    ":::\n",
    "\n",
    ":::{admonition} Lösung\n",
    ":class: tip dropdown\n",
    "\n",
    "``` python\n",
    "print(3 * 5)\n",
    "```\n",
    ":::\n"
   ]
  },
  {
   "cell_type": "markdown",
   "id": "1ade0ddb",
   "metadata": {},
   "source": [
    "<br>\n",
    "\n",
    "# Einfache Rechenarithmetik\n",
    "\n",
    "Python stellt eine Reihe von grundlegenden Rechenoperationen zur Verfügung, mit denen Sie einfache mathematische Berechnungen direkt im Code durchführen können. \n",
    "Im obigen Beispiel haben Sie bereits die Syntax für die Multiplikation (`*`) kennengelernt.\n",
    "Die Syntax weitere wichtiger Rechenoperationen sind in der Tabelle zumsammengefasst.\n",
    "\n",
    "\n",
    ":::{list-table}\n",
    ":header-rows: 1\n",
    "\n",
    "* - Syntax\n",
    "  - Rechenoperation\n",
    "  - Beispiel\n",
    "  - Ergebnis\n",
    "* - `+`\n",
    "  - Addition\n",
    "  - `3 + 2`\n",
    "  - `5`\n",
    "* - `-`\n",
    "  - Subtraktion\n",
    "  - `7 - 3`\n",
    "  - `4`\n",
    "* - `*`\n",
    "  - Multiplikation\n",
    "  - `3 * 5`\n",
    "  - `15`\n",
    "* - `/`\n",
    "  - Division (mit Kommazahl)\n",
    "  - `11 / 2`\n",
    "  - `5.5`\n",
    "* - `//`\n",
    "  - ganzzahlige Division\n",
    "  - `11 // 2`\n",
    "  - `5`\n",
    "* - `%`\n",
    "  - Modulo (Rest bei Division)\n",
    "  - `10 % 3`\n",
    "  - `1`\n",
    "* - `**`\n",
    "  - Potenzierung\n",
    "  - `6**2`\n",
    "  - `36`\n",
    ":::\n",
    "\n",
    "Diese Operatoren lassen sich direkt auf Zahlen anwenden und können beliebig kombiniert oder in Klammern gruppiert werden. Python folgt dabei den üblichen mathematischen Rechenregeln, insbesondere der Punkt-vor-Strich-Rechnung.\n",
    "\n",
    ":::{admonition} Achtung\n",
    ":class: warning\n",
    "\n",
    "Anhänging davon, ob eine Zahl reell oder ganzzahlig ist, kann sich die ganzzahlige Divsion und die Modulo-Operation leicht anders verhalten.\n",
    ":::\n"
   ]
  },
  {
   "cell_type": "markdown",
   "id": "e9013a77",
   "metadata": {},
   "source": [
    "<br>\n",
    "\n",
    "# Variablen\n",
    "\n",
    "*Variablen* sind Namen, mit denen man Werte in einem Programm speichert - ähnlich wie in der Mathematik. Sie dienen dazu, Zwischenergebnisse festzuhalten und später wiederzuverwenden. Eine Variable besteht immer aus einem Namen und einem zugewiesenen Wert.\n",
    "Wenn man einer bestehenden Variable einen neuen Wert zuweist, wird der alte überschrieben. Variablen behalten ihren Wert so lange, bis sie überschrieben oder das Programm beendet wird. \n",
    "\n",
    "## Zuweisen von Variablen\n",
    "\n",
    "Um in Python einer Variablen einen Wert zuzuweisen, verwendet man dafür den Zuweisungsoperator `=`. Dabei wird der Ausdruck rechts vom Gleichheitszeichen zuerst ausgewertet, und das Ergebnis wird der Variablen auf der linken Seite zugewiesen.\n"
   ]
  },
  {
   "cell_type": "code",
   "execution_count": null,
   "id": "71b98bec",
   "metadata": {},
   "outputs": [],
   "source": [
    "x = 3 + 4\n",
    "print(x)"
   ]
  },
  {
   "cell_type": "markdown",
   "id": "dab868e0",
   "metadata": {},
   "source": [
    "Python berechnet zunächst den Ausdruck `3 + 4` und weist das Ergebnis `7` der Variablen `x` zu. Danach kann `x` beliebig oft verwendet werden, ohne dass die Berechnung erneut durchgeführt werden muss.\n",
    "\n",
    ":::{admonition} Aufgabe 2.1\n",
    "Weisen Sie dem Ergebnis von `3 * 5` eine Variablen mit dem Namen `m` zu.\n",
    ":::\n"
   ]
  },
  {
   "cell_type": "code",
   "execution_count": null,
   "id": "c93484f4",
   "metadata": {},
   "outputs": [],
   "source": [
    "# Ihr Code \n"
   ]
  },
  {
   "cell_type": "markdown",
   "id": "62f44e3d",
   "metadata": {},
   "source": [
    ":::{admonition} Lösung\n",
    ":class: tip dropdown\n",
    "\n",
    "``` python\n",
    "m = 3 * 5\n",
    "```\n",
    ":::\n",
    "\n",
    "<br>\n",
    "\n",
    "Wenn Sie `print` nur einen Variablennamen übergebengeben, zeigt Python den aktuellen Wert dieser Variablen an.\n",
    "\n",
    ":::{admonition} Aufgabe 2.2\n",
    "Geben Sie den Befehl `m = m + 1` ein, um zu sehen, was geschieht. Geben Sie `m` vor und nach dem Befehl `m` mithilfe von `print` aus. Was beobachten Sie?\n",
    ":::\n"
   ]
  },
  {
   "cell_type": "code",
   "execution_count": null,
   "id": "3466d153",
   "metadata": {},
   "outputs": [],
   "source": [
    "# Ihr Code "
   ]
  },
  {
   "cell_type": "markdown",
   "id": "dd46dac1",
   "metadata": {},
   "source": [
    ":::{admonition} Lösung\n",
    ":class: tip dropdown\n",
    "\n",
    "``` python\n",
    "print(m)\n",
    "m = m + 1\n",
    "print(m)\n",
    "```\n",
    ":::\n",
    "\n",
    ":::{admonition} Aufgabe 2.3\n",
    "Erstellen Sie eine Variable mit dem Namen `y`, die den Wert `m/2`aufweist. Führen Sie anschließend `m = m + 1` aus. Wird `y` neu berechnet, wenn sich der Wert für `m` ändert?\n",
    ":::\n"
   ]
  },
  {
   "cell_type": "code",
   "execution_count": null,
   "id": "5f32197d",
   "metadata": {},
   "outputs": [],
   "source": [
    "print(\"m =\", m)\n",
    "\n",
    "# Ihr Code \n",
    "\n",
    "print(\"y =\", y)\n",
    "print(\"m =\", m)"
   ]
  },
  {
   "cell_type": "markdown",
   "id": "19c273ef",
   "metadata": {},
   "source": [
    ":::{admonition} Lösung\n",
    ":class: tip dropdown\n",
    "\n",
    "``` python\n",
    "y = m / 2\n",
    "\n",
    "print(\"m =\", m)\n",
    "print(\"y =\", y)\n",
    "\n",
    "m = m + 1\n",
    "\n",
    "print(\"y =\", y)\n",
    "print(\"m =\", m)\n",
    "```\n",
    "\n",
    "Der Wert von `y` bleibt unverändert, weil Python die vorherigen Befehle im Befehlsfenster nicht erneut ausführt. Zur erneuten Berechnung von `y` mit dem geänderten Wert von `m` wiederholen Sie den Befehl `y = m / 2`. Probieren Sie Folgendes aus: Rufen Sie erneut den Befehl `y = m/2` auf.\n",
    ":::\n",
    "\n",
    "## Benennung von Variablen\n",
    "\n",
    "In Python unterliegt die Bennung von Variablen einigen Regeln, zum Beispiel darf eine Variable nur Buchstaben, Zahlen und Unterstriche `_` enthalten und muss mit einem Buchstaben oder einem Unterstrich beginnen, zum Beispiel `x_1`, `y2`, `noten_druchschnitt`. Leerzeichen und Sonderzeichen sind nicht erlaubt, sowie bereits von Python verwendete [Schlüsselworte](https://docs.python.org/3/reference/lexical_analysis.html#keywords).\n",
    "\n",
    "\n",
    ":::{list-table}\n",
    ":header-rows: 1\n",
    "\n",
    "* - ungültige Variable\n",
    "  - Begründung\n",
    "* - `1x`\n",
    "  - Variable beginnt mit einer Zahl\n",
    "* - `wert-gesamt`\n",
    "  - Sonderzeichen `-` ist nicht erlaubt\n",
    "* - `x y`\n",
    "  - Variablenname enthält ein Leerzeichen\n",
    "* - `def`\n",
    "  - `def` ist ein reserviertes Schlüsselwort\n",
    ":::\n",
    "\n",
    "Python unterscheiden außerdem zwischen Groß- und Kleinschreibung, das heißt `wert`, `Wert` und `wErT` sind drei verschieden Variablen.\n",
    "\n",
    ":::{admonition} Aufgabe 2.4\n",
    "Erstellen Sie eine Variable mit dem Namen `A` und dem Wert $-2$ und eine Variable mit dem Namen `a` und dem Wert $8$.\n",
    ":::"
   ]
  },
  {
   "cell_type": "code",
   "execution_count": null,
   "id": "fde89948",
   "metadata": {},
   "outputs": [],
   "source": [
    "# Ihr Code "
   ]
  },
  {
   "cell_type": "markdown",
   "id": "d43ddc1a",
   "metadata": {},
   "source": [
    ":::{admonition} Lösung\n",
    ":class: tip dropdown\n",
    "\n",
    "``` python\n",
    "a = 8\n",
    "A = -2\n",
    "\n",
    "print(\"a =\", a)\n",
    "print(\"A =\", A)\n",
    "```\n",
    "\n",
    ":::\n",
    "\n",
    "Sie können alle Ihre Variablen mit einem einzelnen Buchstaben benennen. Es empfiehlt sich jedoch, aussagekräftige Namen zu verwenden – etwa `anzahl` statt nur `a`. So bleibt der Code besser lesbar, besonders bei längeren Rechnungen.\n",
    "\n",
    "\n",
    ":::{admonition} Aufgabe 2.5\n",
    "Verwenden Sie `A` und `a` um $\\frac{a + A}{2}$ zu berechnen. Speichern Sie das Ergebnis in einer Variablen mit dem Namen `meanAa`.\n",
    ":::"
   ]
  },
  {
   "cell_type": "code",
   "execution_count": null,
   "id": "8f2b6197",
   "metadata": {},
   "outputs": [],
   "source": [
    "# Ihr Code "
   ]
  },
  {
   "cell_type": "markdown",
   "id": "4cbdecbb",
   "metadata": {},
   "source": [
    ":::{admonition} Hinweis\n",
    ":class: note dropdown\n",
    "\n",
    "Verwenden Sie, wie auch in der Mathematik, Klammern `()` um den Ausdruck korrekt zu bestimmen.\n",
    ":::\n",
    "\n",
    ":::{admonition} Lösung\n",
    ":class: tip dropdown\n",
    "\n",
    "``` python\n",
    "meanAa = (a + A) / 2\n",
    "print(meanAa)\n",
    "```\n",
    "\n",
    ":::"
   ]
  },
  {
   "cell_type": "markdown",
   "id": "f5199be0",
   "metadata": {},
   "source": [
    "<br>\n",
    "<br>"
   ]
  }
 ],
 "metadata": {
  "kernelspec": {
   "display_name": "Python 3.8.3 ('base')",
   "language": "python",
   "name": "python3"
  },
  "language_info": {
   "codemirror_mode": {
    "name": "ipython",
    "version": 3
   },
   "file_extension": ".py",
   "mimetype": "text/x-python",
   "name": "python",
   "nbconvert_exporter": "python",
   "pygments_lexer": "ipython3",
   "version": "3.8.3"
  },
  "vscode": {
   "interpreter": {
    "hash": "fb539783ae425cb9a41fd0e05fac6b0c01245dc8f3eb338114414f2eedb48908"
   }
  }
 },
 "nbformat": 4,
 "nbformat_minor": 5
}
