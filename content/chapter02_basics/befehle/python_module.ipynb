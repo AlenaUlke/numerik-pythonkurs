{
 "cells": [
  {
   "cell_type": "markdown",
   "id": "8bfcfe7c-2978-4ab4-855d-f5805a66ea4c",
   "metadata": {
    "id": "Dh1YRA5AHxif"
   },
   "source": [
    "# Python Pakete\n",
    "\n",
    "## Importieren von Paketen\n",
    "Um ein Paket in Ihrem eigenen Python-Programm nutzen zu können, müssen Sie es zunächst importieren. Dies geschieht mit dem Schlüsselwort `import`. Ein einfaches Beispiel ist das Einbinden des Pakets `math`, das eine Vielzahl mathematischer Funktionen enthält:\n"
   ]
  },
  {
   "cell_type": "code",
   "execution_count": null,
   "id": "2caf88f9",
   "metadata": {},
   "outputs": [],
   "source": [
    "import math\n",
    "\n",
    "wurzel = math.sqrt(16)\n",
    "print(wurzel)  # Ausgabe: 4.0\n"
   ]
  },
  {
   "cell_type": "markdown",
   "id": "a2896b34",
   "metadata": {},
   "source": [
    "Alternativ können Sie auch nur einzelne Funktionen eines Pakets importieren, dann können Sie den Suffix `math` weglassen:"
   ]
  },
  {
   "cell_type": "code",
   "execution_count": null,
   "id": "33b962e3",
   "metadata": {},
   "outputs": [],
   "source": [
    "from math import sqrt\n",
    "\n",
    "print(sqrt(25))  # Ausgabe: 5.0\n"
   ]
  },
  {
   "cell_type": "markdown",
   "id": "f044304d",
   "metadata": {},
   "source": [
    "## Externe Pakete installieren\n",
    "\n",
    "Neben den in Python integrierten Standardpaketen gibt es viele externe Pakete, die Sie bei Bedarf installieren können. Dies geschieht in der Regel über den Paketmanager pip. Ein Beispiel:"
   ]
  },
  {
   "cell_type": "code",
   "execution_count": null,
   "id": "49ec694b",
   "metadata": {},
   "outputs": [],
   "source": [
    "pip install numpy"
   ]
  },
  {
   "cell_type": "markdown",
   "id": "8d8df6d5",
   "metadata": {},
   "source": [
    "Nach der Installation können Sie das Paket wie gewohnt in Ihrem Python-Code verwenden:"
   ]
  },
  {
   "cell_type": "code",
   "execution_count": null,
   "id": "79a55350",
   "metadata": {},
   "outputs": [],
   "source": [
    "import numpy as np\n",
    "\n",
    "array = np.array([1, 2, 3])\n",
    "print(array)\n"
   ]
  },
  {
   "cell_type": "markdown",
   "id": "4eee7188",
   "metadata": {},
   "source": [
    "## Gleichnamige oder ähnliche Funktionen in verschiedenen Paketen\n",
    "\n",
    "Beim Arbeiten mit Paketen in Python kann es vorkommen, dass mehrere Pakete ähnliche oder sogar gleichnamige Funktionen bereitstellen. Dies ist nicht ungewöhnlich, da verschiedene Entwicklerteams ähnliche Probleme auf unterschiedliche Weise lösen – beispielsweise mit unterschiedlichem Funktionsumfang, anderer Performance oder alternativer Syntax.\n",
    "\n",
    "Ein klassisches Beispiel ist die Quadratwurzel-Funktion sqrt. Diese ist sowohl im Standardpaket math als auch im beliebten Paket numpy verfügbar:"
   ]
  },
  {
   "cell_type": "code",
   "execution_count": null,
   "id": "b3066216",
   "metadata": {},
   "outputs": [],
   "source": [
    "import math\n",
    "import numpy as np\n",
    "\n",
    "print(math.sqrt(16))  # Ausgabe: 4.0\n",
    "print(np.sqrt(16))    # Ausgabe: 4.0\n"
   ]
  },
  {
   "cell_type": "markdown",
   "id": "e48c29cb",
   "metadata": {},
   "source": [
    "Obwohl beide Funktionen denselben Namen tragen und das gleiche Ergebnis liefern, unterscheiden sie sich im Detail – zum Beispiel bei der Unterstützung für ganze Arrays:"
   ]
  },
  {
   "cell_type": "code",
   "execution_count": null,
   "id": "b307f4ae",
   "metadata": {},
   "outputs": [],
   "source": [
    "import numpy as np\n",
    "\n",
    "werte = np.array([4, 9, 16])\n",
    "print(np.sqrt(werte))  # Ausgabe: [2. 3. 4.]\n"
   ]
  },
  {
   "cell_type": "markdown",
   "id": "90223539",
   "metadata": {},
   "source": [
    "Die math.sqrt()-Funktion dagegen funktioniert nur mit einzelnen Zahlen und nicht mit Listen oder Arrays.\n",
    "\n",
    "## Namenskonflikte vermeiden\n",
    "\n",
    "Wenn zwei Pakete Funktionen mit gleichem Namen bereitstellen, besteht die Gefahr von Namenskonflikten – insbesondere dann, wenn Sie Funktionen direkt mit from ... import ... in den Namensraum importieren. Um dies zu vermeiden, empfiehlt es sich, Pakete mit eindeutigen Aliasnamen zu importieren:"
   ]
  },
  {
   "cell_type": "code",
   "execution_count": null,
   "id": "ce15f6ff",
   "metadata": {},
   "outputs": [],
   "source": [
    "import numpy as np\n",
    "import math\n",
    "\n",
    "# Klare Unterscheidung über Präfixe\n",
    "print(math.sqrt(25))\n",
    "print(np.sqrt(25))\n"
   ]
  },
  {
   "cell_type": "markdown",
   "id": "3a8957f4",
   "metadata": {},
   "source": [
    "Alternativ sollten Sie auf `from ... import ...` nur zurückgreifen, wenn sicher ist, dass es keine Namensüberschneidungen gibt oder der Kontext klar eingegrenzt ist."
   ]
  }
 ],
 "metadata": {
  "kernelspec": {
   "display_name": "Python 3.8.3 ('base')",
   "language": "python",
   "name": "python3"
  },
  "language_info": {
   "codemirror_mode": {
    "name": "ipython",
    "version": 3
   },
   "file_extension": ".py",
   "mimetype": "text/x-python",
   "name": "python",
   "nbconvert_exporter": "python",
   "pygments_lexer": "ipython3",
   "version": "3.8.3"
  },
  "vscode": {
   "interpreter": {
    "hash": "fb539783ae425cb9a41fd0e05fac6b0c01245dc8f3eb338114414f2eedb48908"
   }
  }
 },
 "nbformat": 4,
 "nbformat_minor": 5
}
