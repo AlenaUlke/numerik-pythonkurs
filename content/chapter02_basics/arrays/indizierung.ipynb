{
 "cells": [
  {
   "cell_type": "markdown",
   "metadata": {},
   "source": [
    "# Indizierung von Arrays\n",
    "\n",
    "Da Arrays für die Programmierung numerischer Algorithmen fundamental sind, ist es wichtig, vertraut im Umgang mit ihnen zu sein. \n",
    "Der erste Schritt ist das Zugreifen oder Verweisen auf Elemente eines Arrays, auch Indizierung genannt.\n",
    "Die Indizierung erlaubt es, Elemente eines Arrays auszulesen oder zu verändern.\n",
    "Die Position eines Wertes innerhalb eines Arrays nennt man *Index*. In Python beginnt die Indizierung bei $0$, das bedeutet das erste Element hat den Index $0$, das zweite den Index $1$, das dritte den Index $2$ und so weiter.\n",
    "\n",
    "In diesem Unterkapitel werden Sie mit dem eindimensionalen Array $\\texttt{alter}$ und zweidimensionalem Array $\\texttt{data}$ arbeiten. Der folgende, versteckte Code initialisiert sowohl $\\texttt{alter}$ als auch $\\texttt{data}$ automatisch sobald Sie den Live-Code-Modus starten."
   ]
  },
  {
   "cell_type": "code",
   "execution_count": null,
   "metadata": {
    "tags": [
     "thebe-init",
     "hide-cell"
    ]
   },
   "outputs": [],
   "source": [
    "import numpy as np\n",
    "import pandas as pd\n",
    "\n",
    "url = \"https://www4.stat.ncsu.edu/~boos/var.select/diabetes.tab.txt\"\n",
    "\n",
    "diabetes_data_raw = pd.read_csv(url, sep=\"\\t\", skiprows=0, header=0, engine=\"python\")\n",
    "diabetes_data_raw.columns = diabetes_data_raw.columns.str.strip()\n",
    "\n",
    "data = diabetes_data_raw.to_numpy()[0:15, [0,2,3,7,9]]\n",
    "data[:7, -1] = np.nan\n",
    "\n",
    "alter = data[:, 0]\n",
    "alter[2] = np.nan"
   ]
  },
  {
   "cell_type": "markdown",
   "metadata": {},
   "source": [
    "In $\\texttt{data}$ sind Daten von 15 verschiedenen Diabetespatientinnen hinterlegt. Eine Zeile entspricht einem oder einer Patienten/in und eine Spalte den verschiedene Daten, die erhoben worden sind. Es stehen folgende Daten zur Verfügung:\n",
    "\n",
    ":::{list-table}\n",
    "\n",
    "* - Spalte 0\n",
    "  - Alter in Jahren\n",
    "* - Spalte 1\n",
    "  - Body Mass Index (BMI)\n",
    "* - Spalte 2\n",
    "  - Blutdruck\n",
    "* - Spalte 3\n",
    "  - Cholesterinwerte\n",
    "* - Spalte 4\n",
    "  - Blutzuckerwerte\n",
    ":::\n",
    "\n",
    "In $\\texttt{alter}$ ist das Alter der Patientinnen in Jahren hinterlegt.\n",
    "\n",
    "## Einzelne Arrayelemte extrahieren\n",
    "Um ein einzelnes Element eines eindimensionalen Arrays $\\texttt{x}$ auszulesen (zu vergleichen mit einem *Vektor*), nutzt man die Syntax $\\texttt{x[idx]}$. Möchte man beispielsweise das dritte Element von $\\texttt{x}$ auslesen, so ist dies mit $\\texttt{x[2]}$ möglich.\n",
    "\n",
    "```{figure} img/array_single_value.jpeg\n",
    "    :figclass: center \n",
    "    :width: 75%\n",
    "```\n",
    "Um Elemente aus einem zweidimensional Array $\\texttt{A}$ auszulesen (zu vergleichen mit einer *Matrix*), benötigen man zwei Indizes. Der erste gibt die Zeile, der zweite die Spalte an: $\\texttt{A[zeile, spalte]}$. Beispielsweise gibt $\\texttt{A[0, 2]}$ den Wert in der ersten Zeile und der dritten Spalte zurück.\n",
    "\n",
    ":::{admonition} Aufgabe 1.1\n",
    "Speichern Sie das Alter von Patientin 4, also das vierte Element des Arrays $\\texttt{alter}$, in einer Variable $\\texttt{patient_a}$.\n",
    ":::"
   ]
  },
  {
   "cell_type": "code",
   "execution_count": null,
   "metadata": {},
   "outputs": [],
   "source": [
    "# Ihr Code "
   ]
  },
  {
   "cell_type": "markdown",
   "metadata": {},
   "source": [
    ":::{admonition} Hinweis\n",
    ":class: note dropdown\n",
    "\n",
    "Beachten Sie, dass in Python die Indizierung bei $0$ beginnt. Verwenden Sie $[]$ zur Indizierung in $\\texttt{alter}$.  \n",
    ":::\n",
    "\n",
    ":::{admonition} Lösung\n",
    ":class: tip dropdown\n",
    "\n",
    "``` python\n",
    "patient_a = alter[3]\n",
    "```\n",
    ":::\n",
    "\n",
    "\n",
    ":::{admonition} Aufgabe 1.2\n",
    "Speichern Sie ebenfalls den BMI von Patientin 4 also das Element in der vierten Zeile und zweiten Spalte des Arrays $\\texttt{data}$ in einer Variablen $\\texttt{patient4_bmi}$.\n",
    ":::\n"
   ]
  },
  {
   "cell_type": "code",
   "execution_count": null,
   "metadata": {},
   "outputs": [],
   "source": [
    "# Ihr Code "
   ]
  },
  {
   "cell_type": "markdown",
   "metadata": {},
   "source": [
    ":::{admonition} Hinweis\n",
    ":class: note dropdown\n",
    "\n",
    "Beachten Sie, dass in Python die Indizierung bei $0$ beginnt. Verwenden Sie $1$ und $3$ zur Indizierung in $\\texttt{data}$.  \n",
    ":::\n",
    "\n",
    ":::{admonition} Lösung\n",
    ":class: tip dropdown\n",
    "\n",
    "``` python\n",
    "patient4_bmi = data[3, 1]\n",
    "```\n",
    ":::\n",
    "\n",
    "\n",
    "\n",
    "\n",
    "Python ermöglicht es Ihnen $-1$ als Index bei Arrays zu verwenden, um auf das letzte Element zuzugreifen.\n",
    "Möchten Sie zum Beispiel auf das letzte Elemente des eindimensionalen Arrays $\\texttt{x}$ zugreifen, geht dies mit der Syntax $\\texttt{x[-1]}$. \n",
    "Bei zweidimensionalen Arrays müssen Sie zudem einen zweiten Index angeben. So gibt $\\texttt{A[-1, 3]}$ beispielsweise den Eintrag in der letzten Zeile und 4. Spalte zurück.\n",
    "\n",
    "```{figure} img/array_last_element.jpeg\n",
    "    :figclass: center \n",
    "    :width: 75%\n",
    "```\n",
    "\n",
    "Die Verwendung des Index $-1$, um auf das letzte Element zuzugreifen, ist Teil der allgemeinen Indexierungslogik in Python, bei der negative Indizes verwendet werden, um Elemente von hinten aus zu zählen. Das bedeutet:\n",
    "\n",
    "- *Positive Indizes* beginnen am Anfang des Arrays und zählen nach rechts: $0, 1, 2,\\ldots$\n",
    "- *Negative Indizes* beginnen am Ende des Arrays und zählen nach links: $-1, -2, -3,\\ldots$\n",
    "\n",
    "\n",
    ":::{admonition} Aufgabe 1.3\n",
    "Extrahieren Sie den Wert in der 8. Zeile und der letzten Spalte von $\\texttt{data}$, indem Sie die Syntax $-1$ verwenden. Weisen Sie anschließend diesen Wert einer Variablen mit dem Namen $\\texttt{patient8_blutzucker}$ zu.\n",
    ":::"
   ]
  },
  {
   "cell_type": "code",
   "execution_count": null,
   "metadata": {},
   "outputs": [],
   "source": [
    "# Ihr Code "
   ]
  },
  {
   "cell_type": "markdown",
   "metadata": {},
   "source": [
    ":::{admonition} Lösung\n",
    ":class: tip dropdown\n",
    "\n",
    "``` python\n",
    "patient8_blutzucker = data[7, -1]\n",
    "```\n",
    ":::\n",
    "\n",
    "\n",
    ":::{admonition} Aufgabe 1.4\n",
    "Erstellen Sie eine Variable $\\texttt{patient_b_alter}$, die das Alter der vorletzten Patentin, also das vorletzte Element von $\\texttt{alter}$ enthält. Nutzen Sie negative Indizes! \n",
    ":::"
   ]
  },
  {
   "cell_type": "code",
   "execution_count": null,
   "metadata": {},
   "outputs": [],
   "source": [
    "# Ihr Code "
   ]
  },
  {
   "cell_type": "markdown",
   "metadata": {},
   "source": [
    ":::{admonition} Lösung\n",
    ":class: tip dropdown\n",
    "\n",
    "``` python\n",
    "patient_b_alter = alter[-2]\n",
    "```\n",
    ":::"
   ]
  },
  {
   "cell_type": "markdown",
   "metadata": {},
   "source": [
    "\n",
    "\n",
    "## Mehre Arrayelemente extrahieren\n",
    "\n",
    "Oft benötigt man eine ganze Zeile oder eine ganze Spalte eines zweidimensionales Arrays $\\texttt{A}$. In diesem Fall kann der Doppelpunkt-Operator $\\texttt{:}$ als Index verwenden, was Python als \"alle Zeilen\" oder \"alle Spalten\" interpretiert. Zum Beispiel liefert $\\texttt{A[0, :]}$ die erste Zeile von $\\texttt{A}$ und $\\texttt{A[:, 1]}$ die zweite Spalte von $\\texttt{A}$.\n",
    "\n",
    "```{figure} img/array_row_col.jpeg\n",
    "    :figclass: center \n",
    "    :width: 75%\n",
    "```\n",
    "\n",
    ":::{admonition} Aufgabe 2.1\n",
    "Erstellen Sie einen Spaltenvektor mit dem Namen $\\texttt{blutdruck}$, der alle Elemente aus der 3. Spalte des Arrays $\\texttt{data}$ enthält.\n",
    ":::"
   ]
  },
  {
   "cell_type": "code",
   "execution_count": null,
   "metadata": {},
   "outputs": [],
   "source": [
    "# Ihr Code "
   ]
  },
  {
   "cell_type": "markdown",
   "metadata": {},
   "source": [
    ":::{admonition} Hinweis\n",
    ":class: note dropdown\n",
    "\n",
    "Verwenden Sie den Operator $\\texttt{:}$ als ersten Index. Mit diesem Operator werden alle Zeilen extrahiert. Verwenden Sie $2$ als zweiten Index. Dieser Index gibt die dritte Spalte an.\n",
    ":::\n",
    "\n",
    "\n",
    ":::{admonition} Lösung\n",
    ":class: tip dropdown\n",
    "\n",
    "``` python\n",
    "blutdruck = data[:, 2]\n",
    "```\n",
    ":::"
   ]
  },
  {
   "cell_type": "markdown",
   "metadata": {},
   "source": [
    "\n",
    "\n",
    "Sie können den Doppelpunkt-Operator ebenfalls verwenden, um einen Wertebereich anzugeben und so mehrere aufeinanderfolgende Elemente auszulesen.\n",
    "Der Code $\\texttt{x[1:4]}$ extrahiert das zweite, dritte und vierte Element des Arrays $\\texttt{x}$. Der fünfte Wert $\\texttt{x[4]}$ wird dabei nicht mit ausgelesen. Die Syntax $\\texttt{start:end}$ ist also als das halboffenes Intervall $[\\texttt{start}, \\texttt{end})$ zu verstehen.\n",
    "\n",
    "```{figure} img/array_indexrange.jpeg\n",
    "    :figclass: center\n",
    "    :width: 75% \n",
    "```\n",
    " \n",
    "Genauso liefert $\\texttt{A[0:3, 2]}$ das erste, zweite und dritte Element der dritten Spalte von $\\texttt{A}$. \n",
    "\n",
    "\n",
    ":::{admonition} Aufgabe 2.2\n",
    "Extrahieren Sie aus dem eindimensionalen Array $\\texttt{alter}$ das Alter der Patienten, welche zu den Indices 5 bis 12 korresponsieren und speichern Sie das Ergebnis in der Variable $\\texttt{teilgruppe_alter}$.\n",
    ":::\n"
   ]
  },
  {
   "cell_type": "code",
   "execution_count": null,
   "metadata": {},
   "outputs": [],
   "source": [
    "# Ihr Code"
   ]
  },
  {
   "cell_type": "markdown",
   "metadata": {},
   "source": [
    ":::{admonition} Lösung\n",
    ":class: tip dropdown\n",
    "\n",
    "``` python\n",
    "teilgruppe_alter = alter[5:13]\n",
    "```\n",
    ":::\n",
    "\n",
    "\n",
    ":::{admonition} Aufgabe 2.3\n",
    "Erstellen Sie die Variable $\\texttt{blutwerte}$, die die letzten beiden Spalten von $\\texttt{data}$ enthält. \n",
    ":::"
   ]
  },
  {
   "cell_type": "code",
   "execution_count": null,
   "metadata": {},
   "outputs": [],
   "source": [
    "# Ihr Code "
   ]
  },
  {
   "cell_type": "markdown",
   "metadata": {},
   "source": [
    ":::{admonition} Lösung\n",
    ":class: tip dropdown\n",
    "\n",
    "``` python\n",
    "blutwerte = data[:, 3:5]\n",
    "```\n",
    ":::"
   ]
  },
  {
   "cell_type": "markdown",
   "metadata": {},
   "source": [
    "\n",
    "Python stellt außderdem eine komfortable Methode zur Verfügung, um alle Elemente ausgehend von einem Startindex zu extrahieren. Das Beispiel $\\texttt{x[3:]}$ gibt die Teilmenge der Elemente von $\\texttt{x}$ beginnend beim Index $3$ bis zum Ende des Vektors zurück.\n",
    "\n",
    "Umgekehrt gibt der Code $\\texttt{x[:4]}$ die Teilmenge der Elemente von $\\texttt{x}$ beginned bei Index $0$ bis einschließlich Index $3$. Das Ende des Wertebereichs ist also wieder als offene Intervallgrenze zu verstehen.\n",
    "\n",
    "```{figure} img/array_from_index_to_end.jpeg\n",
    "    :figclass: center\n",
    "    :width: 75% \n",
    "```\n",
    "\n",
    "Zusammen mit einem weiteren Index funktioniert diese Syntax auch für zweidimensionale Array vollkommen analog.\n",
    "\n",
    "\n",
    ":::{admonition} Aufgabe 2.4\n",
    "Erstellen Sie eine Array mit dem Namen $\\texttt{testgruppe_a}$, welches alle Daten der ersten sieben Patientinnen, sprich die ersten 7 Zeilen, und allen Spalten des Arrays $\\texttt{data}$ enthält.\n",
    ":::"
   ]
  },
  {
   "cell_type": "code",
   "execution_count": null,
   "metadata": {},
   "outputs": [],
   "source": [
    "# Ihr Code "
   ]
  },
  {
   "cell_type": "markdown",
   "metadata": {},
   "source": [
    ":::{admonition} Lösung\n",
    ":class: tip dropdown\n",
    "\n",
    "``` python\n",
    "testgruppe_a = data[:7, :]\n",
    "\n",
    "# alternativ bzw. äquivalent\n",
    "testgruppe_a = data[0:7, :]\n",
    "```\n",
    ":::\n",
    "\n",
    "\n",
    ":::{admonition} Zusatzaufgabe\n",
    "Bei Indizes kann es sich auch um nicht aufeinanderfolgende Zahlen handeln. Beispielsweise können Sie zum Extrahieren der ersten, dritten und sechsten Elemente von $\\texttt{alter}$ den Index $\\texttt{[0, 3, 5]}$ verwenden. \n",
    "\n",
    "Aber Achtung: Hier ist es wichtig, dass Sie die eckigen Klammern um die Indizes $0, 3, 5$ beim Einsetzen nicht vergessen!\n",
    ":::\n"
   ]
  },
  {
   "cell_type": "code",
   "execution_count": null,
   "metadata": {},
   "outputs": [],
   "source": [
    "# Ihr Code"
   ]
  },
  {
   "cell_type": "markdown",
   "metadata": {},
   "source": [
    "\n",
    "\n",
    "**Zusammenfassung** \n",
    "\n",
    "In Python beginnt die Indizierung bei $0$ anstatt bei $1$. Bei Angabe von Indexbereichen mittels $\\texttt{:}$ ist die rechte Intervalgrenze offen, das heißt $\\texttt{i:j}$ umfasst die Indizes $\\texttt{[i, j)}$.\n",
    "\n",
    ":::{list-table}\n",
    "* - einzelnes Element\n",
    "  - $\\texttt{x[idx]}$ oder $\\texttt{A[zeile, spalte]}$\n",
    "* - letztes Element\n",
    "  - $\\{\\texttt{idx}, \\texttt{zeile}, \\texttt{spalte}\\} = -1$ \n",
    "* - alle Zeilen bzw. Spalten\n",
    "  - $\\texttt{A[:, spalte]}$ bzw. $\\texttt{A[zeile, :]}$\n",
    "* - alle Werte ab Index $i$\n",
    "  - $\\texttt{i:}$\n",
    "* - alle Werte bis Index $i$\n",
    "  - $\\texttt{:(i+1)}$\n",
    "* - alle Werte zwischen Index $\\texttt{i}$ und $\\texttt{j}$\n",
    "  - $\\texttt{i:(j+1)}$\n",
    ":::\n"
   ]
  },
  {
   "cell_type": "markdown",
   "metadata": {},
   "source": [
    "## Arraywerte modifizieren\n",
    "\n",
    "Zum Modifizieren von Arrayelementen kann die gleiche Syntax verwendet werden wie beim Elemente auslesen. Zum Beispiel ändert $\\texttt{x[2] = -2}$ das dritte Element des eindimensionalen Array $\\texttt{x}$ von $0$ zu $-2$. Für zweidimensionale Arrays ist das Vorgehen analog. Das Beispiel $\\texttt{A[2, 3] =  42}$ ändert das Element in der 3. Zeile und 4. Spalte von $7$ zu $42$. \n",
    "\n",
    "```{figure} img/array_modify.jpeg\n",
    "    :figclass: center\n",
    "    :width: 75% \n",
    "```\n",
    "\n",
    "Leider ist beim Eintragen der Patientinnendaten ein Fehler unterlaufen, sodass das Alter von Patentinn $3$ nicht eingetragen wurde (gekennzeichent durch nan, engl. **N**ot **a N**umber).\n",
    "\n",
    "```{figure} img/vector_nan.jpg\n",
    "    :figclass: center \n",
    "    :width: 60%\n",
    "```\n",
    "\n",
    "\n",
    ":::{admonition} Aufgabe 3.1\n",
    "Ändern Sie das dritte Element von $\\texttt{alter}$ von $\\texttt{nan}$ zu $72$.\n",
    ":::\n"
   ]
  },
  {
   "cell_type": "code",
   "execution_count": null,
   "metadata": {},
   "outputs": [],
   "source": [
    "# Ihr Code "
   ]
  },
  {
   "cell_type": "markdown",
   "metadata": {},
   "source": [
    "\n",
    ":::{admonition} Lösung\n",
    ":class: tip dropdown\n",
    "\n",
    "``` python\n",
    "alter[2] = 72\n",
    "```\n",
    ":::\n",
    "\n",
    "\n",
    "Python erlaubt es außerdem auch direkt mehrere Werte auf einmal zu ändern, genauso wie es möglich ist mehrere Werte auf einmal auszulesen.\n",
    "\n",
    "```{figure} img/array_modify2.jpeg\n",
    "    :figclass: center\n",
    "    :width: 75% \n",
    "```\n",
    "\n",
    "Ähnlich wie eine Lücke in den Altersdaten der Patienten, ist auch eine Lücke bei den Blutzuckerwerten zu verzeichnen.\n",
    "\n",
    "```{figure} img/matrix_nan.jpg\n",
    "    :figclass: center \n",
    "    :width: 50%\n",
    "```\n",
    "\n",
    ":::{admonition} Aufgabe 3.2\n",
    "Erstellen Sie das Array $\\texttt{testgruppe_a_werte}$ mit den Einträgen \n",
    "\n",
    "$$\n",
    "    \\begin{pmatrix} \n",
    "        87 & 69 & 85 & 89 & 80 & 68 & 82\n",
    "    \\end{pmatrix}.\n",
    "$$\n",
    "\n",
    ":::\n"
   ]
  },
  {
   "cell_type": "code",
   "execution_count": null,
   "metadata": {},
   "outputs": [],
   "source": [
    "# Ihr Code \n"
   ]
  },
  {
   "cell_type": "markdown",
   "metadata": {},
   "source": [
    ":::{admonition} Lösung\n",
    ":class: tip dropdown\n",
    "\n",
    "``` python\n",
    "testgruppe_a_werte = np.array([87, 69, 85, 89, 80, 68, 82])\n",
    "```\n",
    ":::\n",
    "\n",
    ":::{admonition} Aufgabe 3.3\n",
    "Tragen Sie die Blutzuckerwerte der Testgruppe A nach, indem Sie den ersten $7$ Einträge der letzen Spalten des Arrays $\\texttt{data}$ das Array $\\texttt{testgruppe_a_werte}$ zu weisen.\n",
    ":::\n"
   ]
  },
  {
   "cell_type": "code",
   "execution_count": null,
   "metadata": {},
   "outputs": [],
   "source": [
    "# Ihr Code "
   ]
  },
  {
   "cell_type": "markdown",
   "metadata": {},
   "source": [
    ":::{admonition} Hinweis\n",
    ":class: note dropdown\n",
    "\n",
    "Greifen Sie zuerst auf die Einträge in der letzten Spalte und den ersten sieben Zeilen in $\\texttt{data}$ zu. Nutzen Sie anschließen den Zuweisungsoperator $\\texttt{=}$ zusammen mit $\\texttt{testgruppe_a_werte}$. \n",
    ":::\n",
    "\n",
    ":::{admonition} Lösung\n",
    ":class: tip dropdown\n",
    "\n",
    "``` python\n",
    "data[:7, -1] = testgruppe_a_werte\n",
    "\n",
    "# alternativ\n",
    "data[0:7, -1] = testgruppe_a_werte\n",
    "```\n",
    ":::"
   ]
  }
 ],
 "metadata": {
  "language_info": {
   "name": "python"
  }
 },
 "nbformat": 4,
 "nbformat_minor": 2
}
