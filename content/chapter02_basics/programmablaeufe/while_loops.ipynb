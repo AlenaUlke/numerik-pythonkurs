{
 "cells": [
  {
   "cell_type": "markdown",
   "id": "8bfcfe7c-2978-4ab4-855d-f5805a66ea4c",
   "metadata": {
    "id": "Dh1YRA5AHxif"
   },
   "source": [
    "# While-Schleifen\n",
    "\n",
    "\n",
    "Computers do not store infinitely precise numbers. So numbers are stored up to a certain number of decimal places. For instance, if you have software that only stores two decimal places, then 0.001 and 0.008 are both \"equal to\" zero.\n",
    "\n",
    "What is the biggest value of epsilon such that MATLAB cannot tell 1 + epsilon from 1?\n",
    "\n",
    "\n",
    ":::{admonition} Aufgabe 1\n",
    "Modify the script so that epsilon keeps dividing in half until it is imperceptible when added to 1.\n",
    ":::"
   ]
  },
  {
   "cell_type": "code",
   "execution_count": null,
   "id": "f788b2a3",
   "metadata": {},
   "outputs": [],
   "source": [
    "x = 1\n",
    "epsilon = x\n",
    "y = x + epsilon\n",
    "\n",
    "\n",
    "epsilon = epsilon/2;\n",
    "y = x+epsilon;\n",
    "\n",
    "x + \" + \" + epsilon + \" is the same as \" + x"
   ]
  },
  {
   "cell_type": "markdown",
   "id": "7e888d65",
   "metadata": {},
   "source": [
    ":::{admonition} Hinweis\n",
    ":class: note dropdown\n",
    "\n",
    "Use the while construct. The following code will execute until k > 5.\n",
    "while k <= 5\n",
    "    k = k + 1;\n",
    "end\n",
    "In this problem, you want to keep iterating as long as y (which is 1+epsilon) does not equal x (which is equal to 1).\n",
    "\n",
    "while y~=x\n",
    ":::\n",
    "\n",
    ":::{admonition} Lösung\n",
    ":class: tip dropdown\n",
    "\n",
    "``` python\n",
    "dsize = data.shape\n",
    "```\n",
    ":::\n",
    "\n",
    "<br>\n",
    "\n",
    "The default numeric data type in MATLAB is type double. A scalar takes 64 bits of memory, which is equivalent to 16 decimal places.\n",
    "\n",
    "Notice that epsilon is on the order of 10−16\n",
    ".\n",
    "\n",
    ":::{admonition} Aufgabe 1\n",
    "When you compete to win \"best out of five\", you only need to win three games. A winner can be determined in three, four, or five games, and you don't know in advance how many it will take.\n",
    "\n",
    "The code in the Task 1 box models a round by deciding a winner (1 for teamA and 2 for teamB). Then the total wins (so far) for each team are stored in teamA and teamB. \n",
    "\n",
    "Modify the script so that the following code continues to execute until either teamA or teamB has won three games.\n",
    ":::\n",
    "\n",
    ":::{admonition} Hinweis\n",
    ":class: note dropdown\n",
    "You need a condition that checks if both teamA and teamB are still less than than three. One way to do this is my checking the maximum of the two.\n",
    "\n",
    "while max([teamA teamB])<3\n",
    ":::"
   ]
  },
  {
   "cell_type": "code",
   "execution_count": null,
   "id": "5a7130fc",
   "metadata": {},
   "outputs": [],
   "source": [
    "k = 0\n",
    "teamA = 0\n",
    "teamB = 0\n",
    "outcome = zeros(5, 1)\n",
    "\n",
    "\n",
    "k = k+1;\n",
    "outcome(k) = randi(2,1);\n",
    "\n",
    "teamA = nnz(outcome == 1);\n",
    "teamB = nnz(outcome == 2);"
   ]
  },
  {
   "cell_type": "markdown",
   "id": "8b0ea6ca",
   "metadata": {},
   "source": [
    "Who won? You can add code at the end to display the variables teamA and teamB.\n",
    "\n",
    "Try adding an if-else statement to determine the winner and display either \"The winner is Team A\" or \"The winner is Team B\"."
   ]
  }
 ],
 "metadata": {
  "kernelspec": {
   "display_name": "Python 3.8.3 ('base')",
   "language": "python",
   "name": "python3"
  },
  "language_info": {
   "codemirror_mode": {
    "name": "ipython",
    "version": 3
   },
   "file_extension": ".py",
   "mimetype": "text/x-python",
   "name": "python",
   "nbconvert_exporter": "python",
   "pygments_lexer": "ipython3",
   "version": "3.8.3"
  },
  "vscode": {
   "interpreter": {
    "hash": "fb539783ae425cb9a41fd0e05fac6b0c01245dc8f3eb338114414f2eedb48908"
   }
  }
 },
 "nbformat": 4,
 "nbformat_minor": 5
}
