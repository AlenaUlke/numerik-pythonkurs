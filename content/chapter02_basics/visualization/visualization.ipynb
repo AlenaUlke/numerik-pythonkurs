{
 "cells": [
  {
   "cell_type": "markdown",
   "metadata": {},
   "source": [
    "# Visualiserung\n",
    "\n",
    "## Vektoren in einem Diagramm darstellen\n",
    "\n",
    "Sie können zwei Vektoren derselben Länge mithilfe der Funktion `plot` in einem Diagramm im Vergleich zueinander darstellen.\n",
    "\n",
    "`plot(x,y)`\n",
    "\n",
    ":::{admonition} Aufgabe 1.1\n",
    "\n",
    "Erstellen Sie ein Diagramm mit `sample` auf der x-Achse und `mass1` auf der y-Achse.  \n",
    ":::\n"
   ]
  },
  {
   "cell_type": "code",
   "execution_count": null,
   "metadata": {},
   "outputs": [],
   "source": [
    "# Ihr Code "
   ]
  },
  {
   "cell_type": "markdown",
   "metadata": {},
   "source": [
    ":::{admonition} Hinweis\n",
    ":class: note dropdown\n",
    "\n",
    "Verwenden Sie die Funktion plot mit den Variablen `sample` und `mass1` als Eingaben.  \n",
    ":::\n",
    "\n",
    ":::{admonition} Lösung\n",
    ":class: tip dropdown\n",
    "\n",
    "``` python\n",
    "y = np.array([3, 7, 9])\n",
    "```\n",
    ":::\n",
    "\n",
    "<br>\n",
    "\n",
    "Sie können Farbe, Linienart und Markierung eines Diagramms angeben, indem Sie mit der Funktion `plot` verschiedene Symbole in Anführungszeichen angeben.\n",
    "\n",
    "`plot(x,y,\"r--o\")`\n",
    "\n",
    "Mit diesem Befehl wird eine rote (r), gestrichelte (--) Linie mit kreisförmigen (o) Markierungen in einem Diagramm dargestellt. Weitere Informationen zu den verfügbaren Symbolen erhalten Sie in der Dokumentation Line Specification (Linienspezifikation).\n",
    "\n",
    ":::{admonition} Aufgabe 1.2\n",
    "Erstellen Sie ein Diagramm, in dem `mass2` (y-Achse) im Vergleich zu `sample` (x-Achse) dargestellt wird. Verwenden Sie in Ihrem Diagramm rote (`r`), sternförmige (`*`) Markierungen ohne Linie.  \n",
    ":::"
   ]
  },
  {
   "cell_type": "code",
   "execution_count": null,
   "metadata": {},
   "outputs": [],
   "source": [
    "# Ihr Code "
   ]
  },
  {
   "cell_type": "markdown",
   "metadata": {},
   "source": [
    ":::{admonition} Lösung\n",
    ":class: tip dropdown\n",
    "\n",
    "``` python\n",
    "y = np.array([3, 7, 9])\n",
    "```\n",
    ":::\n",
    "\n",
    "<br>\n",
    "\n",
    "Beachten Sie, dass mit jedem `plot`-Befehl ein separates Diagramm erstellt wurde. Mithilfe des Befehls `hold on` können Sie ein Diagramm erstellen, in dem eine Linie entlang derselben Achsen über einer anderen dargestellt wird.\n"
   ]
  },
  {
   "cell_type": "code",
   "execution_count": null,
   "metadata": {},
   "outputs": [],
   "source": [
    "plot(x1,y1)\n",
    "hold on\n",
    "plot(x2,y2)"
   ]
  },
  {
   "cell_type": "markdown",
   "metadata": {},
   "source": [
    ":::{admonition} Aufgabe 1.3\n",
    "Geben Sie den Befehl `hold on` ein.\n",
    "Erstellen Sie anschließend ein Diagramm, in dem `mass1` (y-Achse) im Vergleich zu `sample` (x-Achse) dargestellt wird, und verwenden Sie schwarze (`k`), quadratische (`s`) Markierungen ohne Linie. \n",
    ":::"
   ]
  },
  {
   "cell_type": "code",
   "execution_count": null,
   "metadata": {},
   "outputs": [],
   "source": [
    "# Ihr Code "
   ]
  },
  {
   "cell_type": "markdown",
   "metadata": {},
   "source": [
    ":::{admonition} Lösung\n",
    ":class: tip dropdown\n",
    "\n",
    "``` python\n",
    "y = np.array([3, 7, 9])\n",
    "```\n",
    ":::\n",
    "\n",
    "<br>\n",
    "\n",
    "Solange der Haltezustand (`hold`) aktiviert ist, werden die Diagramme weiter auf denselben Achsen angezeigt. Um zum Standardverhalten für Diagramme zurückzukehren, bei dem jedes Diagramm auf seinen eigenen Achsen angezeigt wird, geben Sie `hold off` ein.\n",
    "\n",
    ":::{admonition} Aufgabe 1.4\n",
    "Geben Sie den Befehl `hold off` ein. \n",
    ":::\n"
   ]
  },
  {
   "cell_type": "code",
   "execution_count": null,
   "metadata": {},
   "outputs": [],
   "source": [
    "# Ihr Code "
   ]
  },
  {
   "cell_type": "markdown",
   "metadata": {},
   "source": [
    ":::{admonition} Lösung\n",
    ":class: tip dropdown\n",
    "\n",
    "``` python\n",
    "y = np.array([3, 7, 9])\n",
    "```\n",
    ":::\n",
    "\n",
    "<br>\n",
    "\n",
    "Wenn Sie nur einen einzelnen Vektor in einem Diagramm darstellen möchten, verwendet MATLAB die Vektorwerte als Daten für die y-Achse und setzt die Daten für die x-Achse auf den Bereich von 1 bis n (die Anzahl der Elemente im Vektor).\n",
    "\n",
    "plot(y)\n",
    "\n",
    "\n",
    ":::{admonition} Aufgabe 1.5\n",
    "Stellen Sie den Vektor `v1` in einem Diagramm dar.  \n",
    ":::"
   ]
  },
  {
   "cell_type": "code",
   "execution_count": null,
   "metadata": {},
   "outputs": [],
   "source": [
    "# Ihr Code "
   ]
  },
  {
   "cell_type": "markdown",
   "metadata": {},
   "source": [
    ":::{admonition} Lösung\n",
    ":class: tip dropdown\n",
    "\n",
    "``` python\n",
    "y = np.array([3, 7, 9])\n",
    "```\n",
    ":::\n",
    "\n",
    "<br>\n",
    "\n",
    "Wenn Sie die Funktion `plot` verwenden, können Sie optional Eigenschaften festlegen, indem Sie mindestens ein Name-Wert-Argument verwenden, das aus einem Argumentnamen und einem zugeordneten Wert besteht. Beispielsweise wird mit diesem Befehl eine Linie mit sehr breiter Linienstärke in einem Diagramm dargestellt.\n",
    "\n",
    "`plot(y,LineWidth=5)`\n",
    "\n",
    "\n",
    "Weitere Informationen zu verfügbaren Eigenschaften erhalten Sie in der Dokumentation Line Properties (Linieneigenschaften).\n",
    "\n",
    "\n",
    ":::{admonition} Aufgabe 1.6\n",
    "Stellen Sie `v1` mit einer Linienstärke von 3 in einem Diagramm dar.\n",
    ":::"
   ]
  },
  {
   "cell_type": "code",
   "execution_count": null,
   "metadata": {},
   "outputs": [],
   "source": [
    "# Ihr Code "
   ]
  },
  {
   "cell_type": "markdown",
   "metadata": {},
   "source": [
    ":::{admonition} Lösung\n",
    ":class: tip dropdown\n",
    "\n",
    "``` python\n",
    "y = np.array([3, 7, 9])\n",
    "```\n",
    ":::\n",
    "\n",
    "<br>\n",
    "\n",
    "Sie können für die Funktion plot nach der Linienspezifikation Name-Wert-Argumente angeben.\n",
    "\n",
    "`plot(x,y,\"ro-\",LineWidth=5)`\n",
    "\n",
    ":::{admonition} Aufgabe 1.7\n",
    "Stellen Sie `v1` (y-Achse) im Vergleich zu `sample` (x-Achse) mit roten (`r`), kreisförmigen (`o`) Markierungen und einer durchgezogenen Linie (`-`) in einem Diagramm dar. Verwenden Sie eine Linienstärke von 4. \n",
    ":::"
   ]
  },
  {
   "cell_type": "code",
   "execution_count": null,
   "metadata": {},
   "outputs": [],
   "source": [
    "# Ihr Code "
   ]
  },
  {
   "cell_type": "markdown",
   "metadata": {},
   "source": [
    "\n",
    "\n",
    ":::{admonition} Lösung\n",
    ":class: tip dropdown\n",
    "\n",
    "``` python\n",
    "y = np.array([3, 7, 9])\n",
    "```\n",
    ":::\n",
    "\n",
    "<br>\n",
    "\n",
    "Die Funktion `plot` erstellt Linien. In MATLAB gibt es noch viele weitere Diagrammerstellungsfunktionen. Eine umfangreiche Liste finden Sie in der MATLAB Plot Gallery (MATLAB-Diagrammgalerie).\n",
    "\n",
    "Für jedes Diagramm stehen andere Anpassungsfunktionen zur Verfügung. Versuchen Sie, ein Histogramm von `density` mithilfe der Funktion histogram zu erstellen. Setzen Sie FaceColor auf Gelb (`y`).\n",
    "\n",
    "Wenn Sie mit einer MATLAB-Version vor R2021a arbeiten, verwenden Sie Kommas, um die einzelnen Namen und Werte zu trennen, und setzen Sie Name in Anführungszeichen. Beispielsweise können Sie diesen Code für Task 6 verwenden:\n",
    "\n",
    "`plot(v1,\"LineWidth\",3)`"
   ]
  },
  {
   "cell_type": "markdown",
   "metadata": {},
   "source": [
    "## Beschriftungen von Diagrammen\n",
    "\n",
    "Sie können Diagrammen Beschriftungen hinzufügen, indem Sie Diagrammanmerkungsfunktionen wie `title` verwenden. Für diese Funktionen müssen Sie Text eingeben. Der Text in MATLAB wird in Anführungszeichen (`\"`) gesetzt.\n",
    "\n",
    "`title(\"Plot Title\")`\n",
    "\n",
    ":::{admonition} Aufgabe 2.1\n",
    "Fügen Sie einem vorhandenen Diagramm den Titel `\"Sample Mass\"` hinzu.\n",
    ":::"
   ]
  },
  {
   "cell_type": "code",
   "execution_count": null,
   "metadata": {},
   "outputs": [],
   "source": [
    "# Ihr Code "
   ]
  },
  {
   "cell_type": "markdown",
   "metadata": {},
   "source": [
    ":::{admonition} Hinweis\n",
    ":class: note dropdown\n",
    "\n",
    "Verwenden Sie die Funktion `title` mit einer Texteingabe. Verwenden Sie `\"Sample Mass\"` als Eingabe exakt wie abgebildet. \n",
    ":::\n",
    "\n",
    ":::{admonition} Lösung\n",
    ":class: tip dropdown\n",
    "\n",
    "``` python\n",
    "y = np.array([3, 7, 9])\n",
    "```\n",
    ":::\n",
    "\n",
    "<br>\n",
    "\n",
    "Sie können Beschriftungen zu Ihren Achsen hinzufügen, indem Sie die Funktionen `xlabel` und `ylabel` verwenden.\n",
    "\n",
    "`ylabel(\"Y-Axis Label\")`\n",
    "\n",
    ":::{admonition} Aufgabe 2.2\n",
    "Fügen Sie der y-Achse die Beschriftung `Mass (g)\"` hinzu.  \n",
    ":::"
   ]
  },
  {
   "cell_type": "code",
   "execution_count": null,
   "metadata": {},
   "outputs": [],
   "source": [
    "# Ihr Code "
   ]
  },
  {
   "cell_type": "markdown",
   "metadata": {},
   "source": [
    ":::{admonition} Lösung\n",
    ":class: tip dropdown\n",
    "\n",
    "``` python\n",
    "y = np.array([3, 7, 9])\n",
    "```\n",
    ":::\n",
    "\n",
    "<br>\n",
    "\n",
    "Sie können Ihrem Diagramm mithilfe der Funktion `legend` eine Legende hinzufügen.\n",
    "\n",
    "`legend(\"a\",\"b\",\"c\")`\n",
    "\n",
    ":::{admonition} Aufgabe 2.3\n",
    "\n",
    "Erstellen Sie eine Legende mit den Beschriftungen `\"Exp A\"` und `\"Exp B\"` genau in dieser Reihenfolge.\n",
    ":::"
   ]
  },
  {
   "cell_type": "code",
   "execution_count": null,
   "metadata": {},
   "outputs": [],
   "source": [
    "# Ihr Code "
   ]
  },
  {
   "cell_type": "markdown",
   "metadata": {},
   "source": [
    "\n",
    "\n",
    ":::{admonition} Lösung\n",
    ":class: tip dropdown\n",
    "\n",
    "``` python\n",
    "y = np.array([3, 7, 9])\n",
    "```\n",
    ":::\n",
    "\n",
    "<br>\n",
    "\n",
    "Sie können den Wert einer Variablen in Diagrammanmerkungen verwenden, indem Sie dem Text eine Variable hinzufügen.\n"
   ]
  },
  {
   "cell_type": "code",
   "execution_count": null,
   "metadata": {},
   "outputs": [],
   "source": [
    "bar(data(3,:))\n",
    "title(\"Sample \" + sample(3) + \" Data\")"
   ]
  }
 ],
 "metadata": {
  "language_info": {
   "name": "python"
  }
 },
 "nbformat": 4,
 "nbformat_minor": 2
}
