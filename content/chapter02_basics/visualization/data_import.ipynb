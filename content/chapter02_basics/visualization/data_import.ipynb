{
 "cells": [
  {
   "cell_type": "markdown",
   "metadata": {},
   "source": [
    "# Datenimportierung\n",
    "\n",
    "Zum Extrahieren einer Variablen aus einer Tabelle können Sie die Schreibweise mit Punkt verwenden.\n",
    "\n",
    "`table.VariableName`\n",
    "\n",
    ":::{admonition} Aufgabe 1\n",
    "Weisen Sie den Inhalt von `elements.Density` einem Spaltenvektor mit dem Namen `d` zu.  \n",
    ":::"
   ]
  },
  {
   "cell_type": "code",
   "execution_count": null,
   "metadata": {},
   "outputs": [],
   "source": [
    "# Ihr Code "
   ]
  },
  {
   "cell_type": "markdown",
   "metadata": {},
   "source": [
    ":::{admonition} Hinweis\n",
    ":class: note dropdown\n",
    "\n",
    "Verwenden Sie zum Zuweisen einer Tabellenvariablen zu einem Spaltenvektor die Schreibweise `colVec = Tabellenname.Variablenname`. \n",
    ":::\n",
    "\n",
    ":::{admonition} Lösung\n",
    ":class: tip dropdown\n",
    "\n",
    "``` python\n",
    "y = np.array([3, 7, 9])\n",
    "```\n",
    ":::\n",
    "\n",
    "<br>\n",
    "\n",
    "Wenn Sie mit einer Tabelle arbeiten, haben Sie die Möglichkeit, zugehörige Daten zusammenzuhalten. Anstatt separate Variablen zu erstellen, können Sie das Ergebnis einer Berechnung an eine Tabelle anhängen.\n",
    "\n",
    "`data.HeightMeters = data.HeightYards*0.9144`\n",
    "\n",
    "\n",
    "Wenn die Variable `data.HeightMeters` nicht vorhanden ist, erstellt MATLAB eine neue Variable in der Tabelle `data` mit dem Namen HeightMeters.\n",
    "\n",
    ":::{admonition} Aufgabe 2\n",
    "\n",
    "Multiplizieren Sie jedes Element von elements.Density mit `elements.Volume1`. Denken Sie daran, die elementweise Multiplikation mit `*` zu verwenden.\n",
    "Weisen Sie das Ergebnis `elements.Mass` zu. \n",
    ":::"
   ]
  },
  {
   "cell_type": "code",
   "execution_count": null,
   "metadata": {},
   "outputs": [],
   "source": [
    "# Ihr Code "
   ]
  },
  {
   "cell_type": "markdown",
   "metadata": {},
   "source": [
    ":::{admonition} Lösung\n",
    ":class: tip dropdown\n",
    "\n",
    "``` python\n",
    "y = np.array([3, 7, 9])\n",
    "```\n",
    ":::\n",
    "\n",
    "<br>\n",
    "\n",
    "Bilder ggf bzw. nicht anwendwar in Python.\n",
    "\n",
    "Sie können mit einer Tabelle interagieren, indem Sie im Ausgabebereich eines Live-Skripts auf sie klicken. Beispielsweise können Sie eine Tabelle mithilfe einer ihrer Variablen sortieren.\n",
    "Screenshot mit der Schaltfläche „Sort Smallest to Largest“ (Sortierung von kleinstem zu größtem Wert) im Ausgabebereich.\n",
    "Zum Speichern Ihrer Änderungen an der Tabelle in Ihrem Skript klicken Sie auf die Schaltfläche Update Code (Code aktualisieren).\n",
    "\n",
    ":::{admonition} Aufgabe 3\n",
    "Sortieren Sie die Tabelle von der kleinsten zur größten Masse. Aktualisieren Sie anschließend den Code im Skript, bevor Sie auf die Schaltfläche Submit (Übergeben) klicken.  \n",
    ":::"
   ]
  },
  {
   "cell_type": "code",
   "execution_count": null,
   "metadata": {},
   "outputs": [],
   "source": [
    "# Ihr Code "
   ]
  },
  {
   "cell_type": "markdown",
   "metadata": {},
   "source": [
    ":::{admonition} Lösung\n",
    ":class: tip dropdown\n",
    "\n",
    "``` python\n",
    "y = np.array([3, 7, 9])\n",
    "```\n",
    ":::\n",
    "\n",
    "<br>\n",
    "\n",
    "Zum Extrahieren von Tabellenvariablen können Sie die Schreibweise mit Punkt verwenden. Verwenden Sie zum Extrahieren von Zeilen die reguläre Arrayindizierung.\n",
    "\n",
    "Versuchen Sie, die ersten drei Zeilen der Tabelle zu extrahieren.\n",
    "\n",
    "`top3 = elements(1:3,:)`\n",
    "\n",
    "Beachten Sie, dass `top3` auch eine Tabelle ist."
   ]
  }
 ],
 "metadata": {
  "language_info": {
   "name": "python"
  }
 },
 "nbformat": 4,
 "nbformat_minor": 2
}
