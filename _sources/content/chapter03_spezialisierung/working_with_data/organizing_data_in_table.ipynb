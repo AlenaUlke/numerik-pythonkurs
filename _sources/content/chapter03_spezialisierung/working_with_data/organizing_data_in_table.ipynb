{
 "cells": [
  {
   "cell_type": "markdown",
   "metadata": {},
   "source": [
    "# Tabellen aufbauen\n",
    "\n",
    "Bei Datensätzen mit unterschiedlichen Datentypen (z. B. Text, Zahlen, Kategorien) stößt NumPy schnell an seine Grenzen. Das Paket *Pandas* bietet hier eine flexible und leistungsstarke Möglichkeit, strukturierte Daten in Tabellenform zu speichern und zu analysieren. Es ermöglicht:\n",
    "- Eine klare tabellarische Darstellung\n",
    "- Unterschiedliche Datentypen in den Spalten\n",
    "- Sinnvolle Benennung einzelner Spalten \n",
    "- Einfache Filterung, Gruppierung und Transformation von Daten\n",
    "\n",
    "## Tabellen erstellen und erweitern\n",
    "\n",
    "Ein $\\texttt{DataFrame}$ ist die zentrale Datenstruktur in Pandas vergleichbar mit einer Tabelle in Excel. Jede Spalte kann dabei unterschiedliche Datentypen enthalten, z. B. Zahlen, Texte, Datumswerte, solange jede Spalte die gleiche Anzahl an Einträgen hat.\n",
    "Als Beispiel betrachten wir einen Ausschnitt aus der Veranstaltungsübersicht der Uni Mannheim. \n",
    "\n",
    ":::{list-table}\n",
    ":header-rows: 1\n",
    "\n",
    "* - Veranstaltung\n",
    "  - Typ\n",
    "  - Raumgröße\n",
    "* - Stochastik I\n",
    "  - Vorlesung\n",
    "  - 150\n",
    "* - Lineare Algebra I\n",
    "  - Vorlesung\n",
    "  - 150\n",
    "* - Produktion\n",
    "  - Vorlesung\n",
    "  - 300\n",
    "* - Ökonometrie\n",
    "  - Übung\n",
    "  - 40\n",
    ":::\n",
    "\n",
    "In Pandas können Sie diese Tabelle wie folgt reproduzieren:"
   ]
  },
  {
   "cell_type": "code",
   "execution_count": null,
   "metadata": {},
   "outputs": [],
   "source": [
    "import pandas as pd  \n",
    "\n",
    "veranstaltungen = pd.DataFrame({\n",
    "    # Spaltenname    Liste mit Werten für jede Veranstaltung\n",
    "    'Veranstaltung': ['Stochastik I', 'Lineare Algebra I', 'Produktion', 'Ökonometrie'],\n",
    "    'Typ':           ['Vorlesung', 'Vorlesung', 'Vorlesung', 'Übung'],\n",
    "    'Raumgröße':     [150, 150, 300, 40]\n",
    "    # Wichtig: Alle Listen müssen gleich lang sein \n",
    "})\n",
    "print(veranstaltungen)"
   ]
  },
  {
   "cell_type": "markdown",
   "metadata": {},
   "source": [
    "Der Befehl $\\texttt{pd.DataFrame()}$ benötigt eine Sammlung von Spaltennamen und den dazugehörigen Daten um eine Tabelle zu erstellen.\n",
    "- Man gibt zuerst für jede Spalte einen Namen an, z. B. \"Veranstaltung\" oder \"Raumgröße\" an,\n",
    "- und ordnet diesem Namen eine Liste mit Werten zu – also z. B. alle Veranstaltungsnamen oder die jeweiligen Raumgrößen.\n",
    "\n",
    "So entsteht eine strukturierte Tabelle, bei der jede Zeile für eine Beobachtung steht (hier: eine Veranstaltung) und jede Spalte eine bestimmte Information über diese Beobachtungen enthält.\n",
    "In unserem Beispiel bauen wir eine Tabelle mit Lehrveranstaltungen auf. Jede Zeile steht für eine Veranstaltung. Die Spalten geben den Titel, den Veranstaltungstyp und die Größe des Raums an."
   ]
  },
  {
   "cell_type": "markdown",
   "metadata": {},
   "source": [
    ":::{admonition} Aufgabe 1.1\n",
    "Reproduzieren Sie die folgende Tabelle und nennen Sie sie $\\texttt{studierende}$.\n",
    "| Name   | Fachsemester | Studiengang           |\n",
    "| ------ | ------------ | --------------------- |\n",
    "| Anna   | 2            | Wima |\n",
    "| Berkan | 4            | VWL                   |\n",
    "| Clara  | 1            | Wima |\n",
    "| Daniel | 3            | BWL                   |\n",
    "\n",
    ":::"
   ]
  },
  {
   "cell_type": "code",
   "execution_count": null,
   "metadata": {},
   "outputs": [],
   "source": [
    "# Ihr Code "
   ]
  },
  {
   "cell_type": "markdown",
   "metadata": {},
   "source": [
    "\n",
    ":::{admonition} Hinweis\n",
    ":class: note dropdown\n",
    "\n",
    "Nutzen Sie $\\texttt{pd.DataFrame()}$ und übergeben Sie die Spaltennamen als String und den Spalteninhalt als Liste.\n",
    ":::\n",
    "\n",
    ":::{admonition} Lösung\n",
    ":class: tip dropdown\n",
    "\n",
    "``` python\n",
    "# Tabelle erzeugen\n",
    "studierende = pd.DataFrame({\n",
    "    'Name': ['Anna', 'Berkan', 'Clara', 'Daniel'],\n",
    "    'Fachsemester': [2, 4, 1, 3],\n",
    "    'Studiengang': ['Wima', 'VWL', 'Wima', 'BWL']\n",
    "})\n",
    "\n",
    "# Tabelle anzeigen\n",
    "print(studierende)\n",
    "```\n",
    ":::"
   ]
  },
  {
   "cell_type": "markdown",
   "metadata": {},
   "source": [
    "Ähnlich wie bei Arrays können Sie auch auf Elemente einer Tabelle zugreifen, um diese auszulesen, zu verändern oder neue hinzuzufügen. Die Syntax unterscheidet sich dabei jedoch leicht.\n",
    "- Spalten können Sie mittels ihres Spaltennames adressieren, zum Beispiel $\\texttt{studierende['Name']} \\rightarrow \\texttt{['Anna', 'Berkan', 'Clara', 'Daniel']}$.\n",
    "- Zeilen werden mit ihrer Zeilennummer adressiert, zum Beispiel $\n",
    "\\texttt{studierende.loc[0]} \\rightarrow \\texttt{['Anna', 2, 'Wima']}.\n",
    "$\n",
    "\n",
    "Im Kapitel zum [Auslesen von Tabellen](../working_with_data/organizing_data_in_table_2.ipynb) werden wir ausführlicher behandeln, wie genau man Daten aus einem $\\texttt{DataFrame}$ extrahieren kann. Fürs Erste reicht aber die grundlegende Zugriffssyntax.\n",
    "\n",
    "Wenn Sie eine neue Zeile zu einem bestehenden $\\texttt{DataFrame}$ hinzufügen möchten, können Sie dafür ebenfalls die $\\texttt{loc[]}$-Methode verwenden. Dabei geben Sie den Index an, unter dem die neue Zeile eingefügt werden soll. Die Werte der neuen Zeile müssen in der gleichen Reihenfolge angegeben werden wie die Spalten im $\\texttt{DataFrame}$ names $\\texttt{data}$: \n",
    "\n",
    "$$\n",
    "\\texttt{data.loc[neuer_index] = [wert_spalte1, wert_spalte2, ..., wert_spalteN]}.\n",
    "$$\n",
    "\n",
    "Typischerweise sollte der Index der neuen Zeile der Zeilennummer entsprechen, damit der Zugriff auf konkrete Zeilen einheitlich bleibt."
   ]
  },
  {
   "cell_type": "code",
   "execution_count": null,
   "metadata": {},
   "outputs": [],
   "source": [
    "# Neue Zeile ganz unten hinzufügen\n",
    "veranstaltungen.loc[len(veranstaltungen)] = ['Marketing', 'Vorlesung', 300]\n",
    "\n",
    "print(veranstaltungen)"
   ]
  },
  {
   "cell_type": "markdown",
   "metadata": {},
   "source": [
    ":::{admonition} Aufgabe 1.2\n",
    "Fügen Sie die VWL-Studierende Elif zum Datensatz $\\texttt{studierende}$ hinzu. Sie ist im 2. Fachsemster.\n",
    ":::"
   ]
  },
  {
   "cell_type": "code",
   "execution_count": null,
   "metadata": {},
   "outputs": [],
   "source": [
    "# Ihr Code "
   ]
  },
  {
   "cell_type": "markdown",
   "metadata": {},
   "source": [
    "\n",
    ":::{admonition} Hinweis\n",
    ":class: note dropdown\n",
    "\n",
    "Nutzen Sie $\\texttt{.loc[neue_zeilennummer]}$ und übergeben Sie die relevanten Informationen in der richtigen Reihenfolge in einer Liste.\n",
    "\n",
    ":::\n",
    "\n",
    ":::{admonition} Lösung\n",
    ":class: tip dropdown\n",
    "\n",
    "``` python\n",
    "# Neue Zeile einfügen\n",
    "studierende.loc[len(studierende)] = ['Elif', 2, 'VWL']\n",
    "\n",
    "print(studierende)\n",
    "```\n",
    ":::"
   ]
  },
  {
   "cell_type": "markdown",
   "metadata": {},
   "source": [
    "Wenn Sie eine neue Spalte zu einem bestehenden $\\texttt{DataFrame}$ hinzufügen möchten, können Sie einfach einen neuen Spaltennamen in eckigen Klammern angeben und ihm eine Liste von Werten zuweisen: \n",
    "\n",
    "$$\n",
    "\\texttt{veranstaltung[\"neue_spalte\"] = [wert1, wert2, ..., wertN]}.\n",
    "$$"
   ]
  },
  {
   "cell_type": "code",
   "execution_count": null,
   "metadata": {},
   "outputs": [],
   "source": [
    "# Neue Spalte 'Gebäude' hinzufügen\n",
    "veranstaltungen['Gebäude'] = ['B6', 'B6', 'A3', 'SO', 'A3']\n",
    "\n",
    "print(veranstaltungen)"
   ]
  },
  {
   "cell_type": "markdown",
   "metadata": {},
   "source": [
    ":::{admonition} Aufgabe 1.3\n",
    "Erweitern Sie $\\texttt{studierende}$ um eine neue Spalte namens *Alter*. Verwenden Sie dafür die folgenden Altersangaben:\n",
    "\n",
    ":::{list-table}\n",
    ":header-rows: 1\n",
    "\n",
    "* - Name\n",
    "  - Fachsemester\n",
    "  - Studiengang\n",
    "  - Alter\n",
    "* - Anna\n",
    "  - 2\n",
    "  - Wima\n",
    "  - 20\n",
    "* - Berkan\n",
    "  - 4\n",
    "  - VWL\n",
    "  - 23\n",
    "* - Clara\n",
    "  - 1\n",
    "  - Wima\n",
    "  - 19\n",
    "* - Daniel\n",
    "  - 3\n",
    "  - BWL\n",
    "  - 22\n",
    "* - Elif\n",
    "  - 2\n",
    "  - VWL\n",
    "  - 21\n",
    ":::"
   ]
  },
  {
   "cell_type": "code",
   "execution_count": null,
   "metadata": {},
   "outputs": [],
   "source": [
    "# Ihr Code "
   ]
  },
  {
   "cell_type": "markdown",
   "metadata": {},
   "source": [
    "\n",
    ":::{admonition} Lösung\n",
    ":class: tip dropdown\n",
    "\n",
    "``` python\n",
    "# Neue Spalte 'Alter' hinzufügen\n",
    "studierende['Alter'] = [20, 23, 19, 22, 21]\n",
    "\n",
    "print(studierende)\n",
    "```\n",
    ":::"
   ]
  },
  {
   "cell_type": "markdown",
   "metadata": {},
   "source": [
    "\n",
    "## Existierende Tabellen zusammenfügen\n",
    "\n",
    "Manchmal sind Informationen auf mehrere Tabellen verteilt. Das Kombinieren von Tabellen funktioniert ähnlich wie bei Matrizen, solange die Dimensionen und Inhalte kompatibel sind. \n",
    "\n",
    "Bei der *vertikalen Verkettung* werden Tabellen untereinandergehängt. In Pandas funktioniert das mit $\\texttt{pd.concat()}$. Dafür müssen:\n",
    "- Die Spalten denselben Namen haben.\n",
    "- Die Datentypen der Spalten kompatibel sein (z. B. dürfen keine Zahlen mit Text kombiniert werden)."
   ]
  },
  {
   "cell_type": "code",
   "execution_count": null,
   "metadata": {},
   "outputs": [],
   "source": [
    "# Neue Zeilen in einem zweiten DataFrame\n",
    "neue_veranstaltungen = pd.DataFrame({\n",
    "    'Veranstaltung': ['Mikroökonomie', 'Numerik'],\n",
    "    'Typ': ['Vorlesung', 'Große Übung'],\n",
    "    'Raumgröße': [210, 150],\n",
    "    'Gebäude': ['SO','A5']\n",
    "})\n",
    "\n",
    "# Kombination durch vertikale Verkettung\n",
    "alle_veranstaltungen = pd.concat([veranstaltungen, neue_veranstaltungen])\n",
    "print(alle_veranstaltungen)"
   ]
  },
  {
   "cell_type": "markdown",
   "metadata": {},
   "source": [
    "Standardmäßig behält Pandas die ursprünglichen Zeilenindizes bei, was zu doppelten oder nicht fortlaufenden Indizes in der zusammengeführten Tabelle führen kann. Um eine fortlaufende Nummerierung zu erhalten, muss man $\\texttt{ignore_index=True}$ setzen:"
   ]
  },
  {
   "cell_type": "code",
   "execution_count": null,
   "metadata": {},
   "outputs": [],
   "source": [
    "# Neue Zeilen in einem zweiten DataFrame\n",
    "neue_veranstaltungen = pd.DataFrame({\n",
    "    'Veranstaltung': ['Mikroökonomie', 'Numerik'],\n",
    "    'Typ': ['Vorlesung', 'Große Übung'],\n",
    "    'Raumgröße': [210, 150],\n",
    "    'Gebäude': ['SO','A5']\n",
    "})\n",
    "\n",
    "# Kombination durch vertikale Verkettung\n",
    "alle_veranstaltungen = pd.concat([veranstaltungen, neue_veranstaltungen], ignore_index=True)\n",
    "print(alle_veranstaltungen)"
   ]
  },
  {
   "cell_type": "markdown",
   "metadata": {},
   "source": [
    ":::{admonition} Aufgabe 2.1\n",
    "Erzeugen Sie einen Datensatz namens $\\texttt{alle_studierenden}$, der die Informationen aus $\\texttt{studierende}$ mit der folgenden Tabelle kombinert:\n",
    "| Name   | Fachsemester | Studiengang | Alter |\n",
    "| ------ | ------------ | ----------- | ----- |\n",
    "| Fatma  | 1            | Wima        | 18    |\n",
    "| Gustav | 5            | VWL         | 25    |\n",
    "\n",
    ":::"
   ]
  },
  {
   "cell_type": "code",
   "execution_count": null,
   "metadata": {},
   "outputs": [],
   "source": [
    "# Ihr Code "
   ]
  },
  {
   "cell_type": "markdown",
   "metadata": {},
   "source": [
    "\n",
    ":::{admonition} Hinweis\n",
    ":class: note dropdown\n",
    "\n",
    "Reproduzieren Sie zunächst die Tabelle mit den zwei neuen Studierenden und utzen Sie anschließend $\\texttt{pd.concat()}$. Achten Sie darauf, dass die Spalten denselben Namen haben und die Datentypen kompatibel sind. \n",
    ":::\n",
    "\n",
    ":::{admonition} Lösung\n",
    ":class: tip dropdown\n",
    "\n",
    "``` python\n",
    "neue_studierende = pd.DataFrame({\n",
    "    'Name': ['Fatma', 'Gustav'],\n",
    "    'Fachsemester': [1, 5],\n",
    "    'Studiengang': ['Wima', 'VWL'],\n",
    "    'Alter': [18, 25]\n",
    "})\n",
    "\n",
    "# Vertikal zusammenfügen (neue Zeilen)\n",
    "alle_studierenden = pd.concat([studierende, neue_studierende], ignore_index=True)\n",
    "\n",
    "print(alle_studierenden)\n",
    "```\n",
    ":::"
   ]
  },
  {
   "cell_type": "markdown",
   "metadata": {},
   "source": [
    "Bei der *horizontalen Verkettung* werden Tabellen nebeneinandergehängt. Auch das funktioniert mit $\\texttt{pd.concat()}$ jedoch mit der zusätzlichen Eingabe $\\texttt{axis=1}$, wenn:\n",
    "- Die Tabellen gleich viele Zeilen haben.\n",
    "- Jede Zeile zur gleichen Beobachtung gehört."
   ]
  },
  {
   "cell_type": "code",
   "execution_count": null,
   "metadata": {},
   "outputs": [],
   "source": [
    "# Zusätzliche Informationen zu bestehenden Zeilen\n",
    "ausstattung = pd.DataFrame({\n",
    "    'Technik': ['Beamer', 'Tafel', 'Tafel', 'Beamer', 'Beamer'],\n",
    "    'Fenster': [True, True, True, True, True]\n",
    "})\n",
    "\n",
    "# Kombination durch horizontale Verkettung\n",
    "veranstaltungen_mit_technik = pd.concat([veranstaltungen, ausstattung], axis=1)\n",
    "print(veranstaltungen_mit_technik)"
   ]
  },
  {
   "cell_type": "markdown",
   "metadata": {},
   "source": [
    ":::{admonition} Achtung\n",
    ":class: warning\n",
    "\n",
    "Die Zeilen müssen in der gleichen Reihenfolge stehen wie im Original. Sonst können falsche Informationen kombiniert werden. \n",
    ":::"
   ]
  },
  {
   "cell_type": "markdown",
   "metadata": {},
   "source": [
    ":::{admonition} Aufgabe 2.2\n",
    "Erzeugen Sie einen Datensatz namens $\\texttt{studierende_mit_anfahrt}$, der die Informationen aus $\\texttt{studierende}$ mit der folgenden Tabelle kombiniert:\n",
    "| Name   | Wohnort   | Weg zur Uni |\n",
    "| ------ | --------- | ----------- |\n",
    "| Anna   | Frankfurt | Zug         |\n",
    "| Berkan | Mannheim  | zu Fuß      |\n",
    "| Daniel | Stuttgart | Auto        |\n",
    "| Elif   | Mannheim  | Tram        |\n",
    "| Clara  | Mannheim  | Bus         |\n",
    "\n",
    ":::"
   ]
  },
  {
   "cell_type": "code",
   "execution_count": null,
   "metadata": {},
   "outputs": [],
   "source": [
    "# Ihr Code "
   ]
  },
  {
   "cell_type": "markdown",
   "metadata": {},
   "source": [
    "\n",
    ":::{admonition} Hinweis\n",
    ":class: note dropdown\n",
    "\n",
    "Nutzen Sie $\\texttt{pd.concat()}$ und achten Sie darauf, dass gleich viele Zeilen vorhanden sind und die Zeilen der gleichen Beobachtung zugeordnet werden. \n",
    ":::\n",
    "\n",
    ":::{admonition} Lösung\n",
    ":class: tip dropdown\n",
    "\n",
    "``` python\n",
    "# Neuer DataFrame mit Zusatzinfos\n",
    "zusatzinfos = pd.DataFrame({\n",
    "    'Name': ['Anna', 'Berkan', 'Clara', 'Daniel', 'Elif'],\n",
    "    'Wohnort': ['Frankfurt', 'Mannheim', 'Mannheim', 'Stuttgart', 'Mannheim'],\n",
    "    'Weg zur Uni': ['Zug', 'zu Fuß', 'Bus', 'Auto', 'Tram']\n",
    "})\n",
    "\n",
    "# Horizontales Zusammenfügen (Spalten werden ergänzt)\n",
    "studierende_mit_anfahrt = pd.concat([studierende, zusatzinfos], axis=1)\n",
    "\n",
    "print(studierende_mit_anfahrt)\n",
    "```\n",
    ":::"
   ]
  }
 ],
 "metadata": {
  "language_info": {
   "name": "python"
  }
 },
 "nbformat": 4,
 "nbformat_minor": 2
}
