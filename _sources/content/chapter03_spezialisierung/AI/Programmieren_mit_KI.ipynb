{
 "cells": [
  {
   "cell_type": "markdown",
   "metadata": {},
   "source": [
    "# Programmieren mit KI\n",
    "\n",
    "Das Schreiben von Algorithmen ist oft eine herausfordernde Aufgabe. Während Programmieren traditionell bedeutet, dass wir alle Details selbst festlegen müssen, eröffnet uns KI neue Möglichkeiten, diese Prozesse zu beschleunigen und zu vereinfachen. Auch wenn KI sehr leistungsfähig ist, ist es wichtig zu verstehen, dass ihre Lösungen nicht immer fehlerfrei sind. Die Vorschläge müssen hinterfragt und überprüft werden, um sicherzustellen, dass sie nicht nur syntaktisch korrekt, sondern auch logisch und inhaltlich sinnvoll sind.\n",
    "\n",
    "In diesem Abschnitt werden wir uns damit beschäftigen, wie man Künstliche Intelligenz als Unterstützung beim Programmieren nutzen kann. Sie werden lernen, wie Sie kleine Aufgaben selbstständig programmieren, diese dann der KI übergeben und anschließend die Ergebnisse kritisch prüfen.\n",
    "\n",
    "## Regelwerk\n",
    "\n",
    "Das Ziel dieses Kapitels ist es ein simples Text-RPG-Spiel zu implementieren. Die Spielregeln sind die folgenden:\n",
    "\n",
    "- Es gibt zwei Spieler: Der „Spieler“ und der „Gegner“.\n",
    "- Jeder Spieler hat 100 Lebenspunkte, die nicht überschritten werden können.\n",
    "- Der Gegner greift in jedem Zug an, was zufälligen Schaden zwischen 5 und 25 Punkten anrichtet.\n",
    "- Der Spieler entscheidet, ob er angreifen oder sich heilen möchte.\n",
    "    - Heilen: Der Spieler heilt sich um 0 bis 30 Punkte.\n",
    "    - Angriff: Der Spieler fügt dem Gegner zwischen 5 und 25 Punkten Schaden zu.\n",
    "- Der Spieler macht zuerst seinen Zug\n",
    "- Der Kampf geht weiter, bis einer der beiden Spieler 0 Lebenspunkte erreicht.\n",
    "- Am Ende des Kampfes soll angezeigt werden, wer gewonnen hat und wie lange der Kampf gedauert hat.\n",
    "\n",
    "\n",
    "## Exkurs: User-Inputs\n",
    "\n",
    "Da das Spiel interaktiv ist, müssen Sie Python im Kampf mitteilen welche Aktion Sie ausführen wollen. Deswegen ist es wichtig, dass Sie wissen wie Sie User-Eingaben in Python anfordern können. \n",
    "\n",
    "Mit dem Befehl $\\texttt{input()}$ öffnet Python ein Kommandofester, in das der User seine Eingabe eingibt und schließlich mit der Eingabetaste bestätigt. "
   ]
  },
  {
   "cell_type": "code",
   "execution_count": null,
   "metadata": {},
   "outputs": [],
   "source": [
    "Zahl = input(\"Wähle eine Zahl zwischen 1 und 6 \")\n",
    "print(f\"Deine Zahl ist {Zahl}.\")"
   ]
  },
  {
   "cell_type": "markdown",
   "metadata": {},
   "source": [
    "Auch wenn wir den User um eine Zahl zwischen 1 und 6 bitten, kann er trotzdem zum Beispiel die Zahl 7 eingeben. Im Rahmen des RPG-Spiels sollten Sie den Spieler darauf aufmerksam machen, wenn die Eingabe ungültig war, damit der Zug wiederholt werden kann. Alternativ können Sie den Zug als ungültig erklären und den User aussetzen lassen. \n",
    "\n",
    "Natürlich können Sie die User-Eingabe auch weiter verarbeiten und typische Fehler auffangen, zum Beispiel indem Sie Ihren Code robust gegen Groß- und Kleinschreibung sowie unnötige Leerzeichen machen.\n",
    "- $\\texttt{.strip()}$ eliminiert alle Leerzeichen vor und nach der Eingabe, das heißt $\\texttt{\"}~~~\\texttt{HaLloOo}~~~~~\\texttt{\"}$ wird zu $\\texttt{\"HaLloOo\"}$.\n",
    "-  $\\texttt{.lower()}$ verwandelt alle Buchstaben in Kleinbuchstaben, das heißt $\\texttt{\"HaLloOo\"}$ wird zu $\\texttt{\"hallooo\"}$.\n"
   ]
  },
  {
   "cell_type": "code",
   "execution_count": 3,
   "metadata": {},
   "outputs": [
    {
     "name": "stdout",
     "output_type": "stream",
     "text": [
      "   HaLloOo    \n",
      "HaLloOo\n",
      "hallooo\n"
     ]
    }
   ],
   "source": [
    "text = \"   HaLloOo    \"\n",
    "print(text)\n",
    "\n",
    "text_kein_leerzeichen = text.strip()\n",
    "print(text_kein_leerzeichen)\n",
    "\n",
    "text_klein = text_kein_leerzeichen.lower()\n",
    "print(text_klein)\n",
    "\n"
   ]
  },
  {
   "cell_type": "markdown",
   "metadata": {},
   "source": [
    ":::{admonition} Aufgabe 1.1\n",
    "Probieren Sie aus, wie sich die Ausgabe ändert, wenn Sie Leerzeichen und Großbuchstaben verwenden. \n",
    ":::\n"
   ]
  },
  {
   "cell_type": "code",
   "execution_count": null,
   "metadata": {},
   "outputs": [],
   "source": [
    "Wort = input(\"Was ist Ihr Lieblingswort? \").strip().lower()\n",
    "print(f\"Ihr Lieblingswort ist {Wort}.\")"
   ]
  },
  {
   "cell_type": "markdown",
   "metadata": {},
   "source": [
    "Möchte man die Auswahl der Eingaben eingrenzen, kann es sinnvoll sein die möglichen Eingaben in der Frage zu erwähnen. Auch wenn das den User nicht davon abhält sich unerwartet zu verhalten und auf die Frage *Welches Wort mögen Sie mehr: Freizeit oder Urlaub?* mit *42* zu antworten. Wie Sie mit einem solchen Verhalten in Ihrem Code umgehen, liegt an Ihnen.\n"
   ]
  },
  {
   "cell_type": "markdown",
   "metadata": {},
   "source": [
    "## Spieleentwicklung\n",
    "\n",
    "Zuerst sollen Sie das Spiel einmal möglichst selbst implementieren. Die Lösung ist mitnichten eindeutig - hier führen viele Wege zum Ziel. Bevor Sie den Python-Code schreiben, überlegen Sie sich wie Sie Ihren Code aufbauen wollen, das heißt schreiben Sie zunächst einen Pseudo-Code. \n",
    "Versuchen Sie möglichst den Pseudo-Code selbstständig zuerstellen um ein Gefühl für das Problem zu bekommen und Ihr algorithmisches Denken zu schulen. Fragen Sie daher die KI tunlichst **nicht** um Hilfe.\n",
    "\n",
    "\n",
    ":::{admonition} Aufgabe 1.2\n",
    "Überlegen Sie sich, zum Beispiel in Pseudo-Code, wie Sie das Spiel in Python aufbauen wollen. \n",
    ":::\n",
    "\n",
    ":::{admonition} Hinweis 1\n",
    ":class: note dropdown\n",
    "\n",
    "Wie läuft eine Runde des Spiels ab? Gehen Sie davon aus, dass Sie als erstes am Zug sind. \n",
    ":::\n",
    "\n",
    ":::{admonition} Hinweis 2\n",
    ":class: note dropdown\n",
    "\n",
    "Welche Aktionen kann der Spieler ausführen? Welche der Gegener? Welchen Effekt haben die Aktionen auf den aktiven Spielen und auf den passiven Spieler? \n",
    ":::\n",
    "\n",
    ":::{admonition} Hinweis 3\n",
    ":class: note dropdown\n",
    "\n",
    "Unter welchen Umständen endet das Spiel?\n",
    ":::\n",
    "\n",
    ":::{admonition} Lösungsidee\n",
    ":class: tip dropdown\n",
    "\n",
    "``` python\n",
    "while Gegener und Spiele noch am Leben:\n",
    "    Infos über aktuelles Geschehen (Lebensernergie und Rundenanzahl)\n",
    "\n",
    "    nach Spieler-Input fragen\n",
    "\n",
    "    Was tut der Spieler?\n",
    "        kämpfen: Schaden bestimmen und Leben bei Gegner abziehen\n",
    "        heilen: Heilung bestimmen und Leben bei Spieler regenerieren \n",
    "                und sicher stellen, dass Lebensengergie < 100\n",
    "\n",
    "    Ist der Gegner tot?\n",
    "        Ja: Gewonnen und damit Spielende\n",
    "        Nein: Gegner ist am Zug\n",
    "\n",
    "    Ist der Spieler nach Gegner-Aktion tot?\n",
    "        Ja: Leider verloren und damit Spielende\n",
    "        Nein: Es wird eine weitere Runde gespielt\n",
    "\n",
    "nach Spielende \n",
    "    ausgeben wer gewonnen hat und wie viele runden gespielt wurden\n",
    "```\n",
    ":::\n",
    "\n",
    "\n",
    "Als nächstes sollen Sie Ihren Pseudo-Code in funktionierenden Python-Code übersetzen.\n",
    "Da dieses Spiel interaktiv programmiert wird, sollten einige Dinge beachtet werden. Es sollte möglichst alles, was im Spiel passiert, über $\\texttt{print}$ an den Spieler übergeben werden, damit er basierend darauf seine nächste Entscheidung treffen kann. Das heißt die aktuellen Lebenspunkte beider Parteien sollten in jeder Runde angezeigt werden. \n",
    "\n",
    ":::{admonition} Aufgabe 1.3\n",
    "Implementieren Sie nun das Spiel in Python. Nutzen Sie Ihren zuvor entwickelten Pseudo-Code. Bei der Umwandlung in Python-Code kann Ihnen eine KI gerne helfen. Natürlich können Sie den Code auch selbstständig schreiben.\n",
    ":::"
   ]
  },
  {
   "cell_type": "code",
   "execution_count": null,
   "metadata": {},
   "outputs": [],
   "source": [
    "# Ihr Code"
   ]
  },
  {
   "cell_type": "markdown",
   "metadata": {},
   "source": [
    ":::{admonition} Hinweis 1\n",
    ":class: note dropdown\n",
    "\n",
    "Nutzen Sie $\\texttt{input()}$ und beschreiben Sie mit $\\texttt{print()}$ alle Geschehnisse des Spiels in der Ausgabe. \n",
    ":::\n",
    "\n",
    ":::{admonition} Hinweis 2\n",
    ":class: note dropdown\n",
    "\n",
    "Mit $\\texttt{break}$ können Sie eine Schleife beenden. \n",
    ":::\n",
    "\n",
    ":::{admonition} Lösung\n",
    ":class: tip dropdown\n",
    "\n",
    "``` python\n",
    "import numpy as np\n",
    "\n",
    "spieler_lp = 100  # Lebenspunkte des Spielers\n",
    "gegner_lp = 100  # Lebenspunkte des Gegners\n",
    "runden = 0  # Anzahl der Runden\n",
    "    \n",
    "while spieler_lp > 0 and gegner_lp > 0:\n",
    "    runden += 1\n",
    "    print(f\"Runde {runden}:\")\n",
    "    print(f\"Deine Lebenspunkte: {spieler_lp}\")\n",
    "    print(f\"Gegnerische Lebenspunkte: {gegner_lp}\")\n",
    "        \n",
    "    aktion = input(\"Wähle eine Aktion (angreifen/heilen): \").strip().lower()\n",
    "        \n",
    "    if aktion == \"angreifen\":\n",
    "        schaden = np.random.randint(5, 25)\n",
    "        gegner_lp = gegner_lp - schaden\n",
    "        print(f\"Du greifst an und verursachst {schaden} Schaden!\")\n",
    "        \n",
    "    elif aktion == \"heilen\":\n",
    "        heilung = np.random.randint(0, 30)\n",
    "        spieler_lp = min(100, spieler_lp + heilung) \n",
    "        print(f\"Du heilst dich um {heilung} Punkte!\")\n",
    "        \n",
    "    else:\n",
    "        print(\"Ungültige Eingabe! Du verlierst deinen Zug.\")\n",
    "        \n",
    "    if gegner_lp <= 0:\n",
    "        print(\"\\nHerzlichen Glückwunsch! Du hast gewonnen!\")\n",
    "        break\n",
    "        \n",
    "    # Gegner greift an\n",
    "    gegner_schaden = random.randint(5, 25)\n",
    "    spieler_lp = spieler_lp - gegner_schaden\n",
    "    print(f\"Der Gegner greift an und verursacht {gegner_schaden} Schaden!\\n\")\n",
    "        \n",
    "    if spieler_lp <= 0:\n",
    "        print(\"Du wurdest besiegt! Spiel vorbei.\")\n",
    "        break\n",
    "    \n",
    "print(f\"Der Kampf dauerte {runden} Runden.\")\n",
    "```\n",
    ":::"
   ]
  },
  {
   "cell_type": "markdown",
   "metadata": {},
   "source": [
    "## KI als Spieleentwickler\n",
    "\n",
    "Abschließend wollen wir einer KI Ihrer Wahl auch die Chance geben sich als Spieleentwicker*in zu etablieren. Lassen Sie eine KI, am besten in einem neuen Chat (sofern Sie für Aufgabe 1.3 eine KI zu Rate gezogen habe), das Spiel vollständig selbst implementieren.\n",
    "\n",
    ":::{admonition} Aufgabe 1.4\n",
    "Fragen Sie eine beliebige KI nach einem Code zum simulieren des Spiels. Wird ein fehler- oder lückenhafter Code produziert? Kopieren Sie den Code in die unter Zeile und probieren Sie ihn aus.\n",
    ":::"
   ]
  },
  {
   "cell_type": "code",
   "execution_count": null,
   "metadata": {},
   "outputs": [],
   "source": [
    "# Ihr Code "
   ]
  },
  {
   "cell_type": "markdown",
   "metadata": {},
   "source": [
    ":::{admonition} Achtung\n",
    ":class: warning\n",
    "\n",
    "Künstliche Intelligenzen sind im stetigen Wandel und werden im besser. Fehler die zum Beispiel ChatGPT während des Zeitpunkts der Erstellung der Website gemacht hat, müssen nicht notwendigerweise auftauchen, wenn Sie zum aktuellen Zeitpunkt nach dem Gleichen fragen. Zudem beeinflusst die Art und Weise, wie man die Aufgabe in den Prompt der KI eingibt maßgeblich das Ergebnis. Daher ist es - egal was Sie mit der KI machen - wichtig die Ausgabe zu hinterfragen und mit Hilfe von Tests auf Fehler zu untersuchen. Je komplexer das Problem, desto fehleranfälliger ist die KI.\n",
    ":::"
   ]
  }
 ],
 "metadata": {
  "kernelspec": {
   "display_name": "Python 3",
   "language": "python",
   "name": "python3"
  },
  "language_info": {
   "codemirror_mode": {
    "name": "ipython",
    "version": 3
   },
   "file_extension": ".py",
   "mimetype": "text/x-python",
   "name": "python",
   "nbconvert_exporter": "python",
   "pygments_lexer": "ipython3",
   "version": "3.13.3"
  }
 },
 "nbformat": 4,
 "nbformat_minor": 2
}
