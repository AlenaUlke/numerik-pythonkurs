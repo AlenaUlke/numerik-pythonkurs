{
 "cells": [
  {
   "cell_type": "markdown",
   "metadata": {},
   "source": [
    "# Visualiserung\n",
    "\n",
    "Zur Visualisierung von Daten benutzt man in Python typischerweise das Modul $\\texttt{pyplot}$ des Pakets Matplotlib. Daher importieren wir es zu Beginn dieses Kapitels.\n"
   ]
  },
  {
   "cell_type": "code",
   "execution_count": 2,
   "metadata": {
    "tags": [
     "thebe-init"
    ]
   },
   "outputs": [],
   "source": [
    "import matplotlib.pyplot as plt \n",
    "import numpy as np"
   ]
  },
  {
   "cell_type": "markdown",
   "metadata": {},
   "source": [
    "In diesem Unterkapitel werden Sie mit den eindimensionalen Arrays $\\texttt{wochentag}$, $\\texttt{besuchszahlen_montag}$, $\\texttt{besuchszahlen_dienstag}$ und $\\texttt{besuchszahlen_montage_average}$ arbeiten. Der folgende, versteckte Code initialisiert die Arrays automatisch, sobald Sie den Live-Code-Modus starten."
   ]
  },
  {
   "cell_type": "code",
   "execution_count": null,
   "metadata": {
    "tags": [
     "thebe-init",
     "hide-cell"
    ]
   },
   "outputs": [],
   "source": [
    "uhrzeit = np.arange(11.5, 15, 0.5)\n",
    "besuchszahlen_montag = np.array([99,  372,  250,  600,  357,  116, 23])\n",
    "besuchszahlen_dienstag = np.array([94, 225, 424, 528, 416, 284, 201])\n",
    "besuchszahlen_montag_average = np.array([5.45, 367.32, 268.12, 620.07, 370.34, 70.58,  23.56])"
   ]
  },
  {
   "cell_type": "markdown",
   "metadata": {},
   "source": [
    "## Vektoren in einem Diagramm/Plot darstellen\n",
    "\n",
    "Zwei Vektoren $\\texttt{x}$ und $\\texttt{y}$ derselben Länge können mittels der Funktion $\\texttt{plt.plot(x, y)}$ in einem Diagramm/Plot dargestellt werden. \n",
    "Der Vektor $\\texttt{x}$ entspricht dabei den $x$- und der Vektor $\\texttt{y}$ den $y$-Koordinaten des Graphen.\n"
   ]
  },
  {
   "cell_type": "code",
   "execution_count": 3,
   "metadata": {},
   "outputs": [
    {
     "data": {
      "image/png": "[encoded data removed]",
      "text/plain": [
       "<Figure size 640x480 with 1 Axes>"
      ]
     },
     "metadata": {},
     "output_type": "display_data"
    }
   ],
   "source": [
    "x = np.arange(0.05, 2.05, 0.05)\n",
    "y = np.log(x)\n",
    "\n",
    "plt.plot(x, y)\n",
    "plt.show()"
   ]
  },
  {
   "cell_type": "markdown",
   "metadata": {},
   "source": [
    "Der Befehl $\\texttt{plt.show()}$ wird in Python verwendet, um bei der Datenvisualisierung mit Matplotlib das Diagramm anzuzeigen. $\\texttt{plt.show()}$ öffnet ein Fenster mit dem erstellten Diagramm oder zeigt es im Jupyter Notebook. Ohne diesen Befehl bleibt das Diagramm oft verborgen, besonders außerhalb von interaktiven Programmierumgebungen. Sowohl diese Website als auch Jupyther Notebooks stellen eine interaktive Umgebnung dar. Hier können Sie den Befehl $\\texttt{plt.show()}$ also auch weglassen.\n",
    "\n",
    ":::{admonition} Aufgabe 1.1\n",
    "\n",
    "Erstellen Sie ein Diagramm mit $\\texttt{uhrzeit}$ auf der $x$-Achse und $\\texttt{besuchszahlen_montag}$ auf der $y$-Achse.  \n",
    ":::\n",
    "\n"
   ]
  },
  {
   "cell_type": "code",
   "execution_count": null,
   "metadata": {},
   "outputs": [],
   "source": [
    "# Ihr Code "
   ]
  },
  {
   "cell_type": "markdown",
   "metadata": {},
   "source": [
    ":::{admonition} Hinweis\n",
    ":class: note dropdown\n",
    "\n",
    "Nutzen Sie die Funktion $\\texttt{plt.plot}$ und die Variablen $\\texttt{uhrzeit}$ und $\\texttt{besuchszahlen_montag}$ als Eingaben.  \n",
    ":::\n",
    "\n",
    ":::{admonition} Lösung\n",
    ":class: tip dropdown\n",
    "\n",
    "``` python\n",
    "plt.plot(uhrzeit, besuchszahlen_montag)\n",
    "plt.show()\n",
    "```\n",
    ":::\n",
    "\n",
    "\n",
    "Sie können unter anderem die Farbe, die Linienart, sowie die Markierung innerhalb eines Plots angepassen.\n",
    "\n",
    "``` python\n",
    "plt.plot(x, y, 'r--o')\n",
    "plt.show()\n",
    "```\n",
    "\n",
    "Der obige Befehl erstellt ein Diagramm mit einer roten ($\\texttt{r}$), gestrichelten ($\\texttt{--}$) Linie mit kreisförmigen Markierungen ($\\texttt{o}$). \n",
    "\n",
    "Weitere Informationen zu den verfügbaren Markersymbolen finden Sie [hier](https://matplotlib.org/stable/gallery/lines_bars_and_markers/marker_reference.html) und zu den verfügbaren Linienarten [hier](https://matplotlib.org/stable/gallery/lines_bars_and_markers/linestyles.html).\n",
    "\n",
    "\n",
    ":::{admonition} Aufgabe 1.2\n",
    "Erstellen Sie ein Diagramm, in dem $\\texttt{besuchszahlen_dienstag}$ ($y$-Achse) im Vergleich zu $\\texttt{uhrzeit}$ ($x$-Achse) dargestellt wird. Der geplottete Graph soll dabei eine blaue ($\\texttt{b}$), gepunktete ($\\texttt{:}$) Linie mit sternförmige ($\\texttt{*}$) Markierungen sein. \n",
    ":::"
   ]
  },
  {
   "cell_type": "code",
   "execution_count": null,
   "metadata": {},
   "outputs": [],
   "source": [
    "# Ihr Code "
   ]
  },
  {
   "cell_type": "markdown",
   "metadata": {},
   "source": [
    ":::{admonition} Lösung\n",
    ":class: tip dropdown\n",
    "\n",
    "``` python\n",
    "plt.plot(uhrzeit, besuchszahlen_montag, 'b:*')\n",
    "plt.show()\n",
    "```\n",
    ":::\n",
    "\n",
    "\n",
    "Beachten Sie, dass wenn Sie mehrere $\\texttt{plot}$-Befehle direkt hintereinander ausführen ohne diese durch den Befehl $\\texttt{plt.show()}$ zu trennen, werden die Graphen entlang derselben Achsen geplottet in einen gemeinsamen Diagramm dargestellt.\n"
   ]
  },
  {
   "cell_type": "code",
   "execution_count": null,
   "metadata": {},
   "outputs": [],
   "source": [
    "x = np.array([5, 6, 8, 9, 11])\n",
    "y = np.array([10, 11, 12, 15, 17])\n",
    "\n",
    "x2 = x + 1\n",
    "y2 = y + 2\n",
    "\n",
    "plt.plot(x, y)\n",
    "plt.plot(x2, y2)\n",
    "plt.show()"
   ]
  },
  {
   "cell_type": "markdown",
   "metadata": {},
   "source": [
    "Dieses Verhalten kann gewünscht sein, muss es aber nicht. Um Python mitzuteilen, dass Sie beide Plots separat darstellen wollen, können Sie den bereits bekannten Befehl $\\texttt{plt.show()}$ verwenden oder den Befehl $\\texttt{plt.figure()}$, welcher Python signalisiert, dass das Diagramm in einem neuen Plot mit eigenen Achsen dargestellt werden soll.\n",
    "\n",
    "Im besten Fall verwenden Sie beide Befehle, denn $\\texttt{plt.figure}$ erstellt eine leere Leinwand (außerhalb von interaktiven Programmierumgebungen ein neues Fenster) für die kommenden $\\texttt{plot}$-Befehle und der Befehl $\\texttt{plt.show}$ zeigt die Diagramme schließlich an."
   ]
  },
  {
   "cell_type": "code",
   "execution_count": null,
   "metadata": {},
   "outputs": [],
   "source": [
    "plt.figure()        # Python erstellt eine neue Figure (= leere Leinwand)\n",
    "plt.plot(x, y)      # der Graph wir erstellt \n",
    "plt.show()          # der Graph wird angezeigt\n",
    "\n",
    "plt.figure()\n",
    "plt.plot(x2, y2)\n",
    "plt.show()"
   ]
  },
  {
   "cell_type": "markdown",
   "metadata": {},
   "source": [
    ":::{admonition} Aufgabe 1.3\n",
    "Erstellen Sie ein Diagramm, in dem $\\texttt{besuchszahlen_montag}$ ($y$-Achse) in Bezug zu $\\texttt{uhrzeit}$ ($x$-Achse) dargestellt wird, und verwenden Sie schwarze ($\\texttt{k}$), quadratische ($\\texttt{s}$) Markierungen ohne Linie. Stellen Sie im selben Diagramm auch $\\texttt{besuchszahlen_dienstag}$ ($y$-Achse) in Bezug zu $\\texttt{uhrzeit}$ dar. Verwenden Sie dabei blaue ($\\texttt{b}$), dreieckige ($\\texttt{^}$) Markierungen ohne Linie.\n",
    ":::"
   ]
  },
  {
   "cell_type": "code",
   "execution_count": null,
   "metadata": {},
   "outputs": [],
   "source": [
    "# Ihr Code "
   ]
  },
  {
   "cell_type": "markdown",
   "metadata": {},
   "source": [
    ":::{admonition} Lösung\n",
    ":class: tip dropdown\n",
    "\n",
    "``` python\n",
    "plt.figure()\n",
    "plt.plot(uhrzeit, besuchszahlen_montag, 'ks')\n",
    "plt.plot(uhrzeit, besuchszahlen_dienstag, 'b^')\n",
    "plt.show()\n",
    "```\n",
    ":::\n",
    "\n",
    "\n",
    "\n",
    "Wenn Sie der Funktion $\\texttt{plt.plot}$ nur einen einzelnen Vektor übergeben um ein Diagramm zu erstellen, verwendet Python die Vektorwerte als Daten für die $y$-Achse und setzt die Daten für die $x$-Achse auf den Bereich von $0$ bis $n-1$, wobei $n$ die Anzahl der Elemente im Vektor ist.\n",
    "\n",
    ":::{admonition} Aufgabe 1.4\n",
    "Stellen Sie den Vektor $\\texttt{besuchszahlen_montag}$ in einem Diagramm dar.  \n",
    ":::"
   ]
  },
  {
   "cell_type": "code",
   "execution_count": null,
   "metadata": {},
   "outputs": [],
   "source": [
    "# Ihr Code "
   ]
  },
  {
   "cell_type": "markdown",
   "metadata": {},
   "source": [
    ":::{admonition} Lösung\n",
    ":class: tip dropdown\n",
    "\n",
    "``` python\n",
    "plt.figure()\n",
    "plt.plot(besuchszahlen_montag)\n",
    "plt.show()\n",
    "```\n",
    ":::\n",
    "\n",
    "\n",
    "Wenn Sie die Funktion $\\texttt{plt.plot}$ verwenden, können Sie optional Eigenschaften festlegen, indem Sie Name-Wert-Argumente verwenden, welche aus einem Argumentnamen und einem zugeordneten Wert bestehen. Beispielsweise wird mit diesem Befehl eine Linie mit sehr breiter Linienstärke in einem Diagramm dargestellt:\n",
    "\n",
    "``` python\n",
    "plt.plot(y, linewidth=5)\n",
    "```\n",
    "\n",
    "Weitere Informationen zu verfügbaren Eigenschaften erhalten Sie in der Dokumentation [Line Properties](https://matplotlib.org/stable/api/_as_gen/matplotlib.lines.Line2D.html#matplotlib.lines.Line2D).\n",
    "\n",
    "\n",
    ":::{admonition} Aufgabe 1.5\n",
    "Stellen Sie $\\texttt{besuchszahlen_montag}$ mit einer Linienstärke von $3$ in einem Diagramm dar.\n",
    ":::"
   ]
  },
  {
   "cell_type": "code",
   "execution_count": null,
   "metadata": {},
   "outputs": [],
   "source": [
    "# Ihr Code "
   ]
  },
  {
   "cell_type": "markdown",
   "metadata": {},
   "source": [
    ":::{admonition} Lösung\n",
    ":class: tip dropdown\n",
    "\n",
    "``` python\n",
    "plt.figure()\n",
    "plt.plot(besuchszahlen_montag, linewidth=3)\n",
    "plt.show()\n",
    "```\n",
    ":::\n",
    "\n",
    "\n",
    "``` python\n",
    "plt.plot(x, y,\"ro--\", linewidth=5)\n",
    "```\n",
    "\n",
    "\n",
    ":::{admonition} Aufgabe 1.6\n",
    "Stellen Sie $\\texttt{besuchszahlen_montag}$ ($y$-Achse) im Vergleich zu $\\texttt{uhrzeit}$ ($x$-Achse) mit roten ($\\texttt{r}$), kreisförmigen ($\\texttt{o}$) Markierungen und einer durchgezogenen Linie ($\\texttt{-}$) in einem Diagramm dar. Verwenden Sie eine Linienstärke von $4$. \n",
    ":::"
   ]
  },
  {
   "cell_type": "code",
   "execution_count": null,
   "metadata": {},
   "outputs": [],
   "source": [
    "# Ihr Code "
   ]
  },
  {
   "cell_type": "markdown",
   "metadata": {},
   "source": [
    ":::{admonition} Lösung\n",
    ":class: tip dropdown\n",
    "\n",
    "``` python\n",
    "plt.figure()\n",
    "plt.plot(uhrzeit, besuchszahlen_montag, 'r-o', linewidth=4)\n",
    "plt.show()\n",
    "```\n",
    ":::\n",
    "\n",
    "\n",
    "Die Funktion $\\texttt{plt.plot}$ erstellt Linien. Python stellt jedoch noch viele weitere Diagrammerstellungsfunktionen zur Verfügung. Eine umfangreiche Übersicht finden Sie [hier](https://matplotlib.org/stable/plot_types/index.html). Für jedes Diagramm stehen andere Anpassungsfunktionen zur Verfügung.\n",
    "\n",
    ":::{admonition} Aufgabe 1.6\n",
    "Erstellen Sie ein Histogramm von $\\texttt{besuchszahlen_montag_average}$ mithilfe der Funktion $\\texttt{plt.hist}$. Setzen Sie die Farbe auf Grün ($\\texttt{green}$) und die Kantenfarbe ($\\texttt{edgecolor}$) auf Weiß ($\\texttt{white}$)\n",
    ":::"
   ]
  },
  {
   "cell_type": "code",
   "execution_count": null,
   "metadata": {},
   "outputs": [],
   "source": [
    "# Ihr Code "
   ]
  },
  {
   "cell_type": "markdown",
   "metadata": {},
   "source": [
    ":::{admonition} Lösung\n",
    ":class: tip dropdown\n",
    "\n",
    "``` python\n",
    "plt.figure()\n",
    "plt.hist(besuchszahlen_montag_average, color='green', edgecolor='white')\n",
    "plt.show()\n",
    "```\n",
    ":::\n",
    "\n",
    "\n",
    "## Beschriftungen von Diagrammen\n",
    "\n",
    "Sie können Diagrammen Beschriftungen hinzufügen, indem Sie Plotanmerkungsfunktionen wie $\\texttt{plt.title}$ verwenden. Für diese Funktionen müssen Sie Text eingeben. In Python wird Text in Anführungszeichen ($\\texttt{\"}$) gesetzt.\n",
    "\n",
    "``` python\n",
    "plt.title(\"Plot Titel\")\n",
    "```\n",
    "\n",
    ":::{admonition} Aufgabe 2.1\n",
    "Erweitern Sie den vorgegebenen Code, sodass das Diagramm den Titel $\\texttt{\"Durchschnittliche Besuchszahlen am Montag\"}$ hat.\n",
    ":::"
   ]
  },
  {
   "cell_type": "code",
   "execution_count": null,
   "metadata": {},
   "outputs": [],
   "source": [
    "plt.figure()\n",
    "plt.plot(uhrzeit, besuchszahlen_montag_average)\n",
    "plt.show()"
   ]
  },
  {
   "cell_type": "markdown",
   "metadata": {},
   "source": [
    ":::{admonition} Hinweis\n",
    ":class: note dropdown\n",
    "\n",
    "Verwenden Sie die Funktion $\\texttt{plt.title}$ mit einer Texteingabe. Verwenden Sie $\\texttt{\"Durchschnittliche Besuchszahlen am Montag\"}$ als Eingabe. Der Befehl $\\texttt{plt.show()}$ zeigt das finale Bild an. Überlegen Sie sich also an welcher Stelle Sie den Befehl $\\texttt{plt.title}$ platzieren. \n",
    ":::\n",
    "\n",
    ":::{admonition} Lösung\n",
    ":class: tip dropdown\n",
    "\n",
    "``` python\n",
    "plt.figure()\n",
    "plt.plot(uhrzeit, besuchszahlen_montag_average)\n",
    "plt.title(\"Durchschnittliche Besuchszahlen am Montag\")\n",
    "plt.show()\n",
    "```\n",
    ":::\n",
    "\n",
    "\n",
    "Sie können Beschriftungen zu Ihren Achsen hinzufügen, indem Sie die Funktionen $\\texttt{xlabel}$ und $\\texttt{ylabel}$ verwenden.\n",
    "\n",
    "``` python\n",
    "plt.ylabel(\"Label der y-Achse\")\n",
    "```\n",
    "\n",
    ":::{admonition} Aufgabe 2.2\n",
    "Erweitern Sie den vorgegebenen Code, sodass die $y$-Achse des Plots mit $\\texttt{\"durchschnittliche Besuchszahlen\"}$ beschriftet wird.\n",
    ":::"
   ]
  },
  {
   "cell_type": "code",
   "execution_count": null,
   "metadata": {},
   "outputs": [],
   "source": [
    "plt.figure()\n",
    "plt.plot(uhrzeit, besuchszahlen_montag_average)\n",
    "plt.show()"
   ]
  },
  {
   "cell_type": "markdown",
   "metadata": {},
   "source": [
    ":::{admonition} Lösung\n",
    ":class: tip dropdown\n",
    "\n",
    "``` python\n",
    "plt.figure()\n",
    "plt.plot(uhrzeit, besuchszahlen_montag_average)\n",
    "plt.ylabel(\"Durchschnittliche Besuchszahlen\")\n",
    "plt.show()\n",
    "```\n",
    ":::\n",
    "\n",
    "\n",
    "Wenn Sie in einem Diagramm mehrere Daten darstellen, ist es sinnvoll eine Legende zu verwenden. Um eine Legende zu erstellen stehen Ihnen zwei, äquivalente Möglichkeiten zur Verfügung.\n",
    "\n",
    "::::{tab-set} \n",
    "\n",
    ":::{tab-item} Funktion $\\texttt{plt.legend}$\n",
    "Sie könnnen die Funktion $\\texttt{plt.legend([\"Label A\", \"Label B\"])}$ verwenden, um in Ihrem Diagramm eine Legende hinzufügen.\n",
    "``` python\n",
    "plt.figure()\n",
    "plt.plot(x, y)\n",
    "plt.plot(x2,y2)\n",
    "plt.legend([\"Label A\", \"Label B\"])\n",
    "plt.show()\n",
    "```\n",
    ":::\n",
    "\n",
    ":::{tab-item} Schlüsselwort $\\texttt{label}$\n",
    "Sie können das Schlüsselwort $\\texttt{label}$ verwenden um jedem Diagramm direkt beim Ausführen des $\\texttt{plot}$-Befehls einen Namen zuzuweisen.\n",
    "``` python\n",
    "plt.figure()\n",
    "plt.plot(x, y, label=\"Label A\")\n",
    "plt.plot(x2, y2, label=\"Label B\")\n",
    "plt.legend()\n",
    "plt.show()\n",
    "```\n",
    ":::\n",
    "::::\n",
    "\n",
    "\n",
    ":::{admonition} Aufgabe 2.3\n",
    "Die Daten $\\texttt{besuchszahlen_montag}$ stammen von einem Montag und die Daten $\\texttt{besuchszahlen_dienstag}$ von einem Dienstag im Semester. Erweitern Sie den vorgegebenen Code, sodass eine Legende mit den entsprechenden Beschriftungen $\\texttt{\"Montag\"}$ und $\\texttt{\"Dienstag\"}$ für das Diagramm erstellt wird.\n",
    ":::"
   ]
  },
  {
   "cell_type": "code",
   "execution_count": null,
   "metadata": {},
   "outputs": [],
   "source": [
    "plt.figure()\n",
    "plt.plot(uhrzeit, besuchszahlen_montag)\n",
    "plt.plot(uhrzeit, besuchszahlen_dienstag)\n",
    "plt.show()"
   ]
  },
  {
   "cell_type": "markdown",
   "metadata": {},
   "source": [
    ":::{admonition} Lösung\n",
    ":class: tip dropdown\n",
    "\n",
    "``` python\n",
    "# Option 1\n",
    "plt.figure()\n",
    "plt.plot(uhrzeit, besuchszahlen_montag)\n",
    "plt.plot(uhrzeit, besuchszahlen_dienstag)\n",
    "plt.legend([\"Montag\", \"Dienstag\"])\n",
    "plt.show()\n",
    "\n",
    "# Option 2\n",
    "plt.figure()\n",
    "plt.plot(uhrzeit, besuchszahlen_montag, label=\"Montag\")\n",
    "plt.plot(uhrzeit, besuchszahlen_dienstag, label=\"Dienstag\")\n",
    "plt.legend()\n",
    "plt.show()\n",
    "```\n",
    ":::\n",
    "\n",
    "\n",
    "Sie können den Wert einer Variablen in Diagrammanmerkungen verwenden, indem Sie dem Text eine Variable hinzufügen. Die Funktion $\\texttt{str}$ wandelt dabei einen Zahlwert in Text um.\n",
    "``` python\n",
    "plt.figure()\n",
    "plt.plot(x, y)\n",
    "plt.title(\"Sample \" + str(x[2]) + \" Data\")\n",
    "plt.show()\n",
    "```\n"
   ]
  }
 ],
 "metadata": {
  "kernelspec": {
   "display_name": "Python 3",
   "language": "python",
   "name": "python3"
  },
  "language_info": {
   "codemirror_mode": {
    "name": "ipython",
    "version": 3
   },
   "file_extension": ".py",
   "mimetype": "text/x-python",
   "name": "python",
   "nbconvert_exporter": "python",
   "pygments_lexer": "ipython3",
   "version": "3.13.3"
  }
 },
 "nbformat": 4,
 "nbformat_minor": 2
}
