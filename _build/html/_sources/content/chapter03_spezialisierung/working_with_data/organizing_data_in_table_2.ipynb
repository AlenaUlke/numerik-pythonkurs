{
 "cells": [
  {
   "cell_type": "markdown",
   "metadata": {},
   "source": [
    "# Auslesen von Tabellen\n",
    "\n",
    "Nachdem wir eigene Datenstrukturen erstellt haben, arbeiten wir nun mit bereits existierenden Datensätzen. Dabei lernen Sie, wie man Daten lädt, gezielt Informationen extrahiert und vorhandene Tabellen effizient bearbeitet, um aussagekräftige Analysen zu ermöglichen.\n",
    "\n",
    "Mit Pandas lassen sich Daten direkt aus dem Internet laden. Dazu verwendet man die Funktion $\\texttt{pd.read_csv()}$, die *CSV-Dateien* einlesen kann. Übergibt man dieser Funktion eine *URL*, lädt Panda die Datei direkt von dort und erstellt ein $\\texttt{DataFrame}.$ Die URL muss dabei in Anführungszeichen, sprich $\\texttt{' '}$ oder $\\texttt{\" \"}$, gesetzt werden."
   ]
  },
  {
   "cell_type": "markdown",
   "metadata": {},
   "source": [
    ":::{admonition} Aufgabe 1.1\n",
    "Laden Sie den Trinkgeld-Datensatz, welcher unter der URL 'https://raw.githubusercontent.com/mwaskom/seaborn-data/master/tips.csv' verfügbar ist, als $\\texttt{DataFrame}$ unter dem Namen $\\texttt{Trinkgeld}$.\n",
    ":::"
   ]
  },
  {
   "cell_type": "code",
   "execution_count": null,
   "metadata": {},
   "outputs": [],
   "source": [
    "# Ihr Code "
   ]
  },
  {
   "cell_type": "markdown",
   "metadata": {},
   "source": [
    "\n",
    ":::{admonition} Hinweis\n",
    ":class: note dropdown\n",
    "\n",
    "Verwenden Sie $\\texttt{pd.read_csv()}$, um die Daten von der angegebenen URL zu laden. Stellen Sie sicher, dass die URL korrekt übergeben wird.\n",
    ":::\n",
    "\n",
    ":::{admonition} Lösung\n",
    ":class: tip dropdown\n",
    "\n",
    "``` python\n",
    "import pandas as pd\n",
    "\n",
    "url = 'https://raw.githubusercontent.com/mwaskom/seaborn-data/master/tips.csv'\n",
    "Trinkgeld = pd.read_csv(url)\n",
    "\n",
    "print(Trinkgeld)\n",
    "```\n",
    ":::"
   ]
  },
  {
   "cell_type": "markdown",
   "metadata": {},
   "source": [
    "Der geladene Datensatz enthält Informationen über Restaurantbesuche. Jede Zeile steht für einen Besuch und enthält unter anderem:\n",
    "- die Rechnungssumme unter dem Namen $\\texttt{total_bill}$\n",
    "- das Trinkgeld, hier $\\texttt{tip}$\n",
    "- das Geschlecht der Bedienung, hier $\\texttt{sex}$\n",
    "- ob geraucht wurde, hier $\\texttt{smoker}$\n",
    "- den Wochentag und die Uhrzeit\n",
    "- die Anzahl der Gäste\n",
    "\n",
    "$\\texttt{DataFrame.head()}$ zeigt die ersten fünf Zeilen eines DataFrames an. Optional kann man in Klammern angeben, wie viele Zeilen man sehen möchte (z. B. $\\texttt{df.head(10)}$). Vor dem Punkt muss der Name des $\\texttt{DataFrames}$ stehen, hier heißt der $\\texttt{DataFrame}$ als $\\texttt{df}$."
   ]
  },
  {
   "cell_type": "markdown",
   "metadata": {},
   "source": [
    ":::{admonition} Aufgabe 1.2\n",
    "Versuchen Sie ein Gefühl für den Datensatz zu bekommen, indem Sie sich die ersten sieben Zeilen ausgeben lassen. \n",
    ":::"
   ]
  },
  {
   "cell_type": "code",
   "execution_count": null,
   "metadata": {},
   "outputs": [],
   "source": [
    "# Ihr Code "
   ]
  },
  {
   "cell_type": "markdown",
   "metadata": {},
   "source": [
    "\n",
    ":::{admonition} Hinweis\n",
    ":class: note dropdown\n",
    "Nutzen Sie $\\texttt{DataFrame.head()}$.\n",
    ":::\n",
    "\n",
    ":::{admonition} Lösung\n",
    ":class: tip dropdown\n",
    "\n",
    "``` python\n",
    "Trinkgeld.head(7)\n",
    "```\n",
    ":::"
   ]
  },
  {
   "cell_type": "markdown",
   "metadata": {},
   "source": [
    "## Daten extrahieren \n",
    "\n",
    "### Spalten extrahieren\n",
    "\n",
    "In einem $\\texttt{DataFrame}$  können Sie gezielt einzelne Spalten oder mehrere Spalten gleichzeitig extrahieren. Spalten entsprechen dabei inhaltlich den Merkmalen, also den Variablen, die in einer Datentabelle erfasst wurden – zum Beispiel $\\texttt{total_bill},$ $\\texttt{tip}$ oder $\\texttt{sex}$.\n",
    "\n",
    "Eine einzelne Spalte wählen Sie über ihren Spaltennamen in eckigen Klammern aus, zum Beispiel $\\texttt{Trinkgeld['tip']}$. Mehrere Spalten gleichzeitig ruft man mit einer Liste von Spaltennamen auf, zum Beispiel \n",
    "\n",
    "$$\\texttt{Trinkgeld[['tip','size']]}.$$"
   ]
  },
  {
   "cell_type": "markdown",
   "metadata": {},
   "source": [
    ":::{admonition} Aufgabe 1.3\n",
    "Extrahieren Sie die Spalten $\\texttt{total_bill}$ und $\\texttt{tip}$ und speichern diese als neuen $\\texttt{DataFrame}$ namens $\\texttt{rechnung_und_trinkgeld}$ ab.\n",
    ":::"
   ]
  },
  {
   "cell_type": "code",
   "execution_count": null,
   "metadata": {},
   "outputs": [],
   "source": [
    "# Ihr Code "
   ]
  },
  {
   "cell_type": "markdown",
   "metadata": {},
   "source": [
    "\n",
    ":::{admonition} Hinweis\n",
    ":class: note dropdown\n",
    "\n",
    "Mehrere Spalten wählt man mit einer Liste von Spaltennamen in doppelten eckigen Klammern aus: $\\texttt{Trinkgeld[[...]]}$.\n",
    ":::\n",
    "\n",
    ":::{admonition} Lösung\n",
    ":class: tip dropdown\n",
    "\n",
    "``` python\n",
    "rechnung_und_trinkgeld = Trinkgeld[['total_bill', 'tip']]\n",
    "rechnung_und_trinkgeld.head()\n",
    "```\n",
    ":::"
   ]
  },
  {
   "cell_type": "markdown",
   "metadata": {},
   "source": [
    "### Zeilen extrahieren\n",
    "\n",
    "Neben einzelnen Spalten können Sie auch gezielt einzelne Zeilen oder Gruppen von Zeilen extrahieren. Dazu nutzen Sie ihren Indexwert. Standardmäßig haben $\\texttt{DataFrames}$ einen numerischen Index, der bei 0 beginnt. Wenn Sie zum Beispiel die erste Zeile von $\\texttt{Trinkgeld}$ anzeigen möchten, schreiben Sie $\\texttt{Trinkgeld.loc[0]}$. Mehrere Zeilen lassen sich mit einer Liste von Indexwerten extrahieren, zum Beispiel \n",
    "\n",
    "$$\\texttt{Trinkgeld.loc[[0, 2, 4]]}$$\n",
    "\n",
    "Auch ein ganzer Zeilenbereich kann mit einem Slice angegeben werden, zum Beispiel \n",
    "\n",
    "$$\\texttt{Trinkgeld.loc[0:4]}$$"
   ]
  },
  {
   "cell_type": "markdown",
   "metadata": {},
   "source": [
    ":::{admonition} Aufgabe 1.4\n",
    "Extrahieren Sie die fünfte und sechste Zeile aus $\\texttt{Trinkgeld}$.\n",
    ":::"
   ]
  },
  {
   "cell_type": "code",
   "execution_count": null,
   "metadata": {},
   "outputs": [],
   "source": [
    "# Ihr Code "
   ]
  },
  {
   "cell_type": "markdown",
   "metadata": {},
   "source": [
    "\n",
    ":::{admonition} Hinweis\n",
    ":class: note dropdown\n",
    "\n",
    "Nutzen Sie $\\texttt{Trinkgeld.loc[Index]}$. Denken Sie daran, dass die Indixierung in Python bei 0 startet. \n",
    ":::\n",
    "\n",
    ":::{admonition} Lösung\n",
    ":class: tip dropdown\n",
    "\n",
    "``` python\n",
    "Trinkgeld.loc[4:5]\n",
    "\n",
    "print(Trinkgeld.loc[4:5])\n",
    "```\n",
    ":::"
   ]
  },
  {
   "cell_type": "markdown",
   "metadata": {},
   "source": [
    "### Zeilen und Spalten simultan extrahieren\n",
    "\n",
    "Wenn Sie gleichzeitig Zeilen und Spalten extrahieren möchten, kombinieren Sie beide Auswahlkriterien in eckigen Klammern, zum Beispiel\n",
    "\n",
    "$$\\texttt{Trinkgeld.loc[0:2, [\"total_bill\", \"tip\"]]}.$$"
   ]
  },
  {
   "cell_type": "markdown",
   "metadata": {},
   "source": [
    ":::{admonition} Aufgabe 1.5\n",
    "Extrahieren Sie die Zeilen 3 bis 11 und die Spalten $\\texttt{total_bill}$ und $\\texttt{size}$ des $\\texttt{DataFrames}$ namens $\\texttt{Trinkgeld}$.\n",
    ":::"
   ]
  },
  {
   "cell_type": "code",
   "execution_count": null,
   "metadata": {},
   "outputs": [],
   "source": [
    "# Ihr Code "
   ]
  },
  {
   "cell_type": "markdown",
   "metadata": {},
   "source": [
    "\n",
    ":::{admonition} Hinweis\n",
    ":class: note dropdown\n",
    "Nutzen Sie $\\texttt{.loc[start:end, [spaltenliste]]}$.\n",
    ":::\n",
    "\n",
    ":::{admonition} Lösung\n",
    ":class: tip dropdown\n",
    "\n",
    "``` python\n",
    "Trinkgeld.loc[2:10, ['total_bill', 'size']]\n",
    "\n",
    "print(Trinkgeld.loc[2:10, ['total_bill', 'size']])\n",
    "```\n",
    ":::"
   ]
  },
  {
   "cell_type": "markdown",
   "metadata": {},
   "source": [
    "### Nach Kriterien extrahieren\n",
    "\n",
    "Neben der Auswahl nach Position oder Name lassen sich auch gezielt Zeilen mit bestimmten Eigenschaften extrahieren. Dabei formulieren Sie Bedingungen innerhalb der eckigen Klammern $\\texttt{[]}$. Wenn Sie z. B. alle Zeilen anzeigen möchten, bei denen eine Frau bedient hat, schreiben Sie:"
   ]
  },
  {
   "cell_type": "code",
   "execution_count": null,
   "metadata": {},
   "outputs": [],
   "source": [
    "bedient_von_frau = Trinkgeld[Trinkgeld['sex'] == 'Female']\n",
    "print(bedient_von_frau.head())"
   ]
  },
  {
   "cell_type": "markdown",
   "metadata": {},
   "source": [
    "Bei solchen kategorischen Bedingungen (z. B. $\\texttt{== 'Female'}$) gibt Pandas automatisch nur die passenden Zeilen zurück.\n",
    "\n",
    "Genauso können Sie numerische Bedingungen formulieren, z. B. um alle Rechnungen über 30 Dollar zu extrahieren:"
   ]
  },
  {
   "cell_type": "code",
   "execution_count": null,
   "metadata": {},
   "outputs": [],
   "source": [
    "hohe_rechnungen = Trinkgeld[Trinkgeld['total_bill'] > 30]\n",
    "print(hohe_rechnungen.head())"
   ]
  },
  {
   "cell_type": "markdown",
   "metadata": {},
   "source": [
    "Sie können auch mehrere Bedingungen kombinieren, z. B. mit $\\texttt{&}$ (und) oder $\\texttt{|}$ (oder). Dabei muss jede Teilbedingung in Klammern stehen."
   ]
  },
  {
   "cell_type": "code",
   "execution_count": null,
   "metadata": {},
   "outputs": [],
   "source": [
    "hohe_rechnungen_und_bedient_von_frau =  Trinkgeld[(Trinkgeld['total_bill'] > 30) & (Trinkgeld['sex'] == 'Female')]\n",
    "print(hohe_rechnungen_und_bedient_von_frau.head())"
   ]
  },
  {
   "cell_type": "markdown",
   "metadata": {},
   "source": [
    ":::{admonition} Aufgabe 1.6\n",
    "Filtern Sie alle Gäste, die in einem Raucherbereich saßen, und speichern die Daten als neuen $\\texttt{DataFrame}$ namens $\\texttt{raucher}$ ab.\n",
    ":::"
   ]
  },
  {
   "cell_type": "code",
   "execution_count": null,
   "metadata": {},
   "outputs": [],
   "source": [
    "# Ihr Code "
   ]
  },
  {
   "cell_type": "markdown",
   "metadata": {},
   "source": [
    "\n",
    ":::{admonition} Hinweis\n",
    ":class: note dropdown\n",
    "\n",
    "Auch hier verwenden Sie eine Bedingung für die Spalte $\\texttt{smoker}$. Die Information ob die Gäste im Raucherbereich saßen ist mit $\\texttt{Yes}$ und $\\texttt{No}$ codiert.\n",
    ":::\n",
    "\n",
    ":::{admonition} Lösung\n",
    ":class: tip dropdown\n",
    "\n",
    "``` python\n",
    "raucher = Trinkgeld[Trinkgeld['smoker'] == 'Yes']\n",
    "print(raucher.head())\n",
    "```\n",
    ":::"
   ]
  },
  {
   "cell_type": "markdown",
   "metadata": {},
   "source": [
    ":::{admonition} Aufgabe 1.7\n",
    "Extrahieren Sie alle Zeilen, in denen entweder geraucht wurde oder das Trinkgeld über $6 \\$ $ lag. Speichern Sie diese in einem neuen $\\texttt{DataFrame}$ namens $\\texttt{rauch_oder_viel_trinkgeld}$.\n",
    ":::"
   ]
  },
  {
   "cell_type": "code",
   "execution_count": null,
   "metadata": {},
   "outputs": [],
   "source": [
    "# Ihr Code "
   ]
  },
  {
   "cell_type": "markdown",
   "metadata": {},
   "source": [
    "\n",
    ":::{admonition} Hinweis\n",
    ":class: note dropdown\n",
    "\n",
    "Verwenden Sie das logische Oder $\\texttt{|}$ und setzen Sie jede Bedingung in Klammern.\n",
    ":::\n",
    "\n",
    ":::{admonition} Lösung\n",
    ":class: tip dropdown\n",
    "\n",
    "``` python\n",
    "rauch_oder_viel_trinkgeld = Trinkgeld[(Trinkgeld['smoker'] == 'Yes') | (Trinkgeld['tip'] > 6)]\n",
    "print(rauch_oder_viel_trinkgeld.head())\n",
    "```\n",
    ":::"
   ]
  },
  {
   "cell_type": "markdown",
   "metadata": {},
   "source": [
    "## Daten bearbeiten\n",
    "\n",
    "In einem $\\texttt{DataFrame}$ mit dem Namen $\\texttt{df}$ können Sie ganz einfach Rechenoperationen mit den Werten einzelner Spalten durchführen, zum Beispiel\n",
    "\n",
    "$$\n",
    "\\texttt{df['Differenz'] = df['Spalte1'] - df['Spalte2']}.\n",
    "$$\n",
    "\n",
    "Dabei funktioniert jede Rechenoperation elementweise – das heißt, sie wird automatisch auf jeden Wert der Spalte angewendet."
   ]
  },
  {
   "cell_type": "markdown",
   "metadata": {},
   "source": [
    ":::{admonition} Aufgabe 2.1\n",
    "Der Wechselkurs von Dollar in Euro beträgt aktuell $0.92$. Rechnen Sie den Rechnungsbetrag ($\\texttt{total_bill}$) und das Trinkgeld ($\\texttt{tip}$) in Euro um und speichern Sie das Ergebnis jeweils in einer neuen Spalte.\n",
    ":::"
   ]
  },
  {
   "cell_type": "code",
   "execution_count": null,
   "metadata": {},
   "outputs": [],
   "source": [
    "# Ihr Code "
   ]
  },
  {
   "cell_type": "markdown",
   "metadata": {},
   "source": [
    ":::{admonition} Lösung\n",
    ":class: tip dropdown\n",
    "\n",
    "``` python\n",
    "Trinkgeld['tip_euro'] = 0.92 * Trinkgeld['tip'] \n",
    "Trinkgeld['total_bill_euro'] = 0.92 * Trinkgeld['total_bill'] \n",
    "\n",
    "print(Trinkgeld[['total_bill', 'total_bill_euro', 'tip', 'tip_euro']].head())\n",
    "```\n",
    ":::\n",
    "\n",
    ":::{admonition} Aufgabe 2.2\n",
    "Berechnen Sie für jede Zeile das Verhältnis vom Trinkgeld zur Gesamtrechnug und speichern Sie das Ergebnis in einer neuen Spalte namens $\\texttt{tip_ratio}$.\n",
    ":::"
   ]
  },
  {
   "cell_type": "code",
   "execution_count": null,
   "metadata": {},
   "outputs": [],
   "source": [
    "# Ihr Code "
   ]
  },
  {
   "cell_type": "markdown",
   "metadata": {},
   "source": [
    "\n",
    ":::{admonition} Hinweis\n",
    ":class: note dropdown\n",
    "\n",
    "Sie können zwei Spalten direkt miteinander verrechnen, zum Beispiel durch Division: \n",
    "\n",
    "$$\n",
    "\\texttt{DataFrame['neue_spalte'] = DataFrame['Spalte1'] / DataFrame['Spalte2']}.\n",
    "$$\n",
    ":::\n",
    "\n",
    ":::{admonition} Lösung\n",
    ":class: tip dropdown\n",
    "\n",
    "``` python\n",
    "# Alternativ können Sie auch mit den Wert in Euro rechnen\n",
    "Trinkgeld['tip_ratio'] = Trinkgeld['tip'] / Trinkgeld['total_bill']\n",
    "\n",
    "print(Trinkgeld[['total_bill', 'tip', 'tip_ratio']].head())\n",
    "```\n",
    ":::"
   ]
  },
  {
   "cell_type": "markdown",
   "metadata": {},
   "source": [
    ":::{admonition} Aufgabe 2.3\n",
    "Erstellen Sie eine neue Spalte namens $\\texttt{grosszuegig}$, die angibt, ob das Trinkgeld mehr als $15 \\% $ der Gesamtrechnung beträgt. In dieser Spalte soll für jede Zeile entweder $\\texttt{True}$ oder $\\texttt{False}$ stehen – je nachdem, ob die Bedingung erfüllt ist.\n",
    ":::"
   ]
  },
  {
   "cell_type": "code",
   "execution_count": null,
   "metadata": {},
   "outputs": [],
   "source": [
    "# Ihr Code "
   ]
  },
  {
   "cell_type": "markdown",
   "metadata": {},
   "source": [
    "\n",
    ":::{admonition} Hinweis\n",
    ":class: note dropdown\n",
    "\n",
    "Logische Bedingungen zwischen Spalten können direkt formuliert werden:$$\\texttt{DataFrame['neue_spalte'] = DataFrame['spalte'] > 10}$$\n",
    ":::\n",
    "\n",
    ":::{admonition} Lösung\n",
    ":class: tip dropdown\n",
    "\n",
    "``` python\n",
    "Trinkgeld['grosszuegig'] = Trinkgeld['tip_ratio'] > 0.15\n",
    "print(Trinkgeld[['total_bill', 'tip', 'tip_ratio', 'grosszuegig']].head())\n",
    "```\n",
    ":::"
   ]
  },
  {
   "cell_type": "markdown",
   "metadata": {},
   "source": [
    "In Pandas lassen sich numerische Spalten sehr einfach auswerten, ohne dass man selbst durch die Werte iterieren muss. Stattdessen stellt Pandas dafür eingebaute Funktionen zur Verfügung, wie etwa $\\texttt{.mean()}$ für den Mittelwert oder $\\texttt{.sum()}$ für die Summe.\n",
    "\n",
    "Solche Funktionen können direkt auf numerische Spalten angewendet werden. Dadurch erhält man auf einfache Weise Kennzahlen wie Minimum, Maximum, Mittelwert oder Standardabweichung."
   ]
  },
  {
   "cell_type": "code",
   "execution_count": null,
   "metadata": {},
   "outputs": [],
   "source": [
    "# Durchschnittliches Trinkgeld aller Gäste\n",
    "durchschnitt = Trinkgeld['tip'].mean()\n",
    "print(f\"Durchschnittliches Trinkgeld: {durchschnitt:.2f} $\")"
   ]
  },
  {
   "cell_type": "markdown",
   "metadata": {},
   "source": [
    "Die folgende Tabelle zeigt Ihnen einige der wichtigsten Funktionen, mit denen Sie numerische Spalten schnell auswerten können.\n",
    "\n",
    ":::{list-table}\n",
    ":header-rows: 1\n",
    ":widths: 15 40 45\n",
    "\n",
    "* - Funktion\n",
    "  - Beschreibung\n",
    "  - Beispiel\n",
    "* - $\\texttt{mean()}$\n",
    "  - Mittelwert\n",
    "  - $\\texttt{DataFrame['Spalte'].mean()}$\n",
    "* - $\\texttt{median()}$\n",
    "  - Median (Zentralwert)\n",
    "  - $\\texttt{DataFrame['Spalte'].median()}$\n",
    "* - $\\texttt{sum()}$\n",
    "  - Summe aller Werte\n",
    "  - $\\texttt{DataFrame['Spalte'].sum()}$\n",
    "* - $\\texttt{min()}$\n",
    "  - Kleinster Wert\n",
    "  - $\\texttt{DataFrame['Spalte'].min()}$\n",
    "* - $\\texttt{max()}$\n",
    "  - Größter Wert\n",
    "  - $\\texttt{DataFrame['Spalte'].max()}$\n",
    "* - $\\texttt{std()}$\n",
    "  - Standardabweichung\n",
    "  - $\\texttt{DataFrame['Spalte'].std()}$\n",
    "* - $\\texttt{var()}$\n",
    "  - Varianz\n",
    "  - $\\texttt{DataFrame['Spalte'].var()}$\n",
    "* - $\\texttt{count()}$\n",
    "  - Anzahl gültiger Werte (ohne $\\texttt{NaN}$)\n",
    "  - $\\texttt{DataFrame['Spalte'].count()}$\n",
    ":::\n",
    "\n",
    "\n"
   ]
  },
  {
   "cell_type": "markdown",
   "metadata": {},
   "source": [
    ":::{admonition} Aufgabe 2.4\n",
    "Vergleichen Sie das durchschnittliche Trinkgeld von Gästen, die von einer Frau bedient wurden, mit dem von Gästen, die von einem Mann bedient wurden. Wer gibt im Schnitt mehr?\n",
    ":::"
   ]
  },
  {
   "cell_type": "code",
   "execution_count": null,
   "metadata": {},
   "outputs": [],
   "source": [
    "# Ihr Code "
   ]
  },
  {
   "cell_type": "markdown",
   "metadata": {},
   "source": [
    "\n",
    ":::{admonition} Hinweis\n",
    ":class: note dropdown\n",
    "\n",
    "Filtern Sie mit einer Bedingung auf die Spalte $\\texttt{sex}$, z. B. $\\texttt{Trinkgeld[Trinkgeld['sex'] == 'Female']}$, und wenden Sie $\\texttt{.mean()}$ auf die Spalte $\\texttt{tip}$ an.\n",
    ":::\n",
    "\n",
    ":::{admonition} Lösung\n",
    ":class: tip dropdown\n",
    "\n",
    "``` python\n",
    "frau = Trinkgeld[Trinkgeld['sex'] == 'Female']['tip'].mean()\n",
    "mann = Trinkgeld[Trinkgeld['sex'] == 'Male']['tip'].mean()\n",
    "\n",
    "print(\"Durchschnitt Trinkgeld – Frau bedient:\", frau)\n",
    "print(\"Durchschnitt Trinkgeld – Mann bedient:\", mann)\n",
    "```\n",
    ":::"
   ]
  },
  {
   "cell_type": "markdown",
   "metadata": {},
   "source": [
    ":::{admonition} Aufgabe 2.5\n",
    "Finden Sie heraus, wie hoch das größte gegebene Trinkgeld war. Ermitteln Sie außerdem, zu welchem Rechnungsbetrag und an welchem Wochentag es gegeben wurde.\n",
    ":::"
   ]
  },
  {
   "cell_type": "code",
   "execution_count": null,
   "metadata": {},
   "outputs": [],
   "source": [
    "# Ihr Code "
   ]
  },
  {
   "cell_type": "markdown",
   "metadata": {},
   "source": [
    "\n",
    ":::{admonition} Hinweis\n",
    ":class: note dropdown\n",
    "Nutzen Sie $\\texttt{.max()}$ auf die Spalte $\\texttt{tip}$, um den höchsten Wert zu finden. Verwenden Sie anschließend eine Filterbedingung, um die entsprechende Zeile anzuzeigen.\n",
    ":::\n",
    "\n",
    ":::{admonition} Lösung\n",
    ":class: tip dropdown\n",
    "\n",
    "``` python\n",
    "max_tip = Trinkgeld['tip'].max()\n",
    "spender = Trinkgeld[Trinkgeld['tip'] == max_tip]\n",
    "\n",
    "print(\"Größtes Trinkgeld:\", max_tip)\n",
    "print(spender[['total_bill', 'day']])\n",
    "```\n",
    ":::"
   ]
  }
 ],
 "metadata": {
  "language_info": {
   "name": "python"
  }
 },
 "nbformat": 4,
 "nbformat_minor": 2
}
