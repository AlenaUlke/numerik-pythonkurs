{
 "cells": [
  {
   "cell_type": "markdown",
   "metadata": {},
   "source": [
    "# Datenaufbereitung in Tabellenform\n",
    "\n",
    "We often have vectors of related information. If the variables contain information about a set of observations and can be arranged as a table, then we call the data tabular.\n",
    "Here you will learn when and how to organize related vectors of data in a table.\n",
    "\n",
    "## Tabellen erstellen\n",
    "\n",
    "The variables can be different data types, but must have the same number of rows, here 4. \n",
    "\n",
    "Bild 1\n",
    "\n",
    "To combine the data into a table, each entry should correspond to the same observation. Here the third entry of each variable identifies the 2018 Honda Odyssey, which is a minivan. \n",
    "Sometimes you may have tables you want to combine. For instance, you may want to add new cars to your dataset. \n",
    "\n",
    "Bild 2\n",
    "\n",
    "It would also be useful to attach numeric data about the cars in the fleet. \n",
    "\n",
    "Bild 3\n",
    "\n",
    "\n",
    "\n",
    "When several variables in your workspace hold data about the same observations, you can use the table function to collect this information into a table. \n",
    "\n",
    "eklärendes Bild wie Bild 4\n",
    "\n",
    "Use the 'VariableNames' property to specify column names. So the following command creates a table with columns named Thought1 and OnSecondThought.\n",
    "\n",
    "  tbl = table(var1,var2, 'VariableNames',{'Thought1','OnSecondThought'})\n",
    "    "
   ]
  },
  {
   "cell_type": "markdown",
   "metadata": {},
   "source": [
    "\n",
    "In this exercise, you will combine information on several 2018 cars into a single table. Wir haben hier genau so einen Datensatz wie in Bild 1 dargestellt, mit exakt 4 Einträgen."
   ]
  },
  {
   "cell_type": "code",
   "execution_count": null,
   "metadata": {},
   "outputs": [],
   "source": [
    "# Einbinden des Pakets numpy unter dem Alias 'np'\n",
    "load carInfo.mat\n",
    "whos"
   ]
  },
  {
   "cell_type": "markdown",
   "metadata": {},
   "source": [
    ":::{admonition} Aufgabe 1.1\n",
    "Create a table named fleet containing the data in variables mk, md, yr, tp.\n",
    ":::"
   ]
  },
  {
   "cell_type": "code",
   "execution_count": null,
   "metadata": {},
   "outputs": [],
   "source": [
    "# Ihr Code "
   ]
  },
  {
   "cell_type": "markdown",
   "metadata": {},
   "source": [
    "\n",
    ":::{admonition} Hinweis\n",
    ":class: note dropdown\n",
    "\n",
    "Use the table function.  The following syntax creates a table from variables a, b, and c:\n",
    "\n",
    "table(a,b,c) \n",
    ":::\n",
    "\n",
    ":::{admonition} Lösung\n",
    ":class: tip dropdown\n",
    "\n",
    "``` python\n",
    "fleet= table(mk,md,yr,tp);\n",
    "```\n",
    ":::"
   ]
  },
  {
   "cell_type": "markdown",
   "metadata": {},
   "source": [
    "One of the advantages of tables is that each column is a named variable so you and others can understand quickly how the dataset is organized and access the data efficiently.  To leverage this advantage, specify descriptive variable names."
   ]
  },
  {
   "cell_type": "markdown",
   "metadata": {},
   "source": [
    ":::{admonition} Aufgabe 1.2\n",
    "Again, create a table named fleet containing the data in variables mk, md, yr, and tp.  This time give the variables the names:\n",
    "\n",
    "    Make\n",
    "    Model\n",
    "    Year\n",
    "    Type\n",
    ":::"
   ]
  },
  {
   "cell_type": "code",
   "execution_count": null,
   "metadata": {},
   "outputs": [],
   "source": [
    "# Ihr Code "
   ]
  },
  {
   "cell_type": "markdown",
   "metadata": {},
   "source": [
    "\n",
    ":::{admonition} Hinweis\n",
    ":class: note dropdown\n",
    "\n",
    "Use the VariableNames name-value pair argument to specify the desired variable names as a cell array of character vectors.\n",
    ":::\n",
    "\n",
    ":::{admonition} Lösung\n",
    ":class: tip dropdown\n",
    "\n",
    "``` python\n",
    "fleet = table(mk,md,yr,tp,'VariableNames',{'Make' 'Model' 'Year' 'Type'})\n",
    "```\n",
    ":::"
   ]
  },
  {
   "cell_type": "markdown",
   "metadata": {},
   "source": [
    "You have created a table containing information about cars in a fleet.\n",
    "\n",
    "You can view the properties of the table, including the variable names, by calling the properties with dot notation.\n",
    "\n",
    "fleet.Properties"
   ]
  },
  {
   "cell_type": "markdown",
   "metadata": {},
   "source": [
    ":::{admonition} Aufgabe 1.3\n",
    "\n",
    ":::"
   ]
  },
  {
   "cell_type": "code",
   "execution_count": null,
   "metadata": {},
   "outputs": [],
   "source": [
    "# Ihr Code "
   ]
  },
  {
   "cell_type": "markdown",
   "metadata": {},
   "source": [
    "\n",
    ":::{admonition} Hinweis\n",
    ":class: note dropdown\n",
    "\n",
    ":::\n",
    "\n",
    ":::{admonition} Lösung\n",
    ":class: tip dropdown\n",
    "\n",
    "``` python\n",
    "\n",
    "```\n",
    ":::"
   ]
  },
  {
   "cell_type": "markdown",
   "metadata": {},
   "source": [
    "<br>\n",
    "\n",
    "## Existierende Tabellen zusammenfügen"
   ]
  },
  {
   "cell_type": "markdown",
   "metadata": {},
   "source": [
    "Sometimes information is spread across multiple tables. Vertical and horizontal concatenation work the same way as they do with matrices as long as the concatenation is compatible.\n",
    "\n",
    "Vertical Concatenation\n",
    "For vertical concatenation, each column must have the same name and compatible data types. \n",
    "Bild 5\n",
    "\n",
    "Horizontal Concatenation\n",
    "Each table must have the same number of rows, and each row should correspond to the same observation for horizontal concatenation to make sense\n",
    "Bild 6\n",
    "These tables do not have the same number of rows. \n",
    "The rows in these tables do not correspond to the same observation. The code would run but the resulting table would not make sense. \n",
    "Horizontal concatenation makes sense for these tables, but you may want to remove duplicate information after concatenating. \n",
    "Bild 7\n",
    "\n",
    "\n",
    "Tables may contain information about the same observations, but the rows may be sorted differently. Horizontal concatenation would not cause a syntax error, but may result in mismatched data or columns with redundant information. \n",
    "Bild 8\n",
    "Here we want to add the weight, length, and width of each car to the corresponding row in fleet.\n",
    "\n",
    "You can join tables together with the join function to match corresponding rows using key variables.\n",
    "\n",
    ">> newTbl\n",
    " = join(tbl1,tbl2,\"Keys\",[\"Var1\" \"Var2\"])\n",
    "Bild 9\n",
    "\n",
    "The redundant columns of tbl2 are not included in newTbl.  "
   ]
  },
  {
   "cell_type": "markdown",
   "metadata": {},
   "source": [
    "In this exercise, you will add 2019 cars to the existing 2018 fleet. Ich würde sagen, wir machen hier die gleichen Daten wie in den Bildern angezeigt."
   ]
  },
  {
   "cell_type": "code",
   "execution_count": null,
   "metadata": {},
   "outputs": [],
   "source": [
    "# Einbinden des Pakets numpy unter dem Alias 'np'\n",
    "load fleet.mat\n",
    "load fleet2019.mat\n",
    "load sizeData.mat\n",
    "whos"
   ]
  },
  {
   "cell_type": "markdown",
   "metadata": {},
   "source": [
    ":::{admonition} Aufgabe 2.1\n",
    "Update the variable fleet so that it contains the cars from the original variable fleet on top of cars from the variable fleet2019.\n",
    ":::"
   ]
  },
  {
   "cell_type": "code",
   "execution_count": null,
   "metadata": {},
   "outputs": [],
   "source": [
    "# Ihr Code "
   ]
  },
  {
   "cell_type": "markdown",
   "metadata": {},
   "source": [
    "\n",
    ":::{admonition} Hinweis\n",
    ":class: note dropdown\n",
    "\n",
    "Use square brackets to concatenate tables just as you would for numeric arrays.  \n",
    ":::\n",
    "\n",
    ":::{admonition} Lösung\n",
    ":class: tip dropdown\n",
    "\n",
    "``` python\n",
    "fleet = [fleet; fleet2019]\n",
    "```\n",
    ":::"
   ]
  },
  {
   "cell_type": "markdown",
   "metadata": {},
   "source": [
    "You would like to append numeric data on the vehicles in your fleet to your table, but the cars in the new set are listed in a different order"
   ]
  },
  {
   "cell_type": "code",
   "execution_count": null,
   "metadata": {},
   "outputs": [],
   "source": [
    "# Einbinden des Pakets numpy unter dem Alias 'np'\n",
    "import numpy as np "
   ]
  },
  {
   "cell_type": "markdown",
   "metadata": {},
   "source": [
    ":::{admonition} Aufgabe 2.2\n",
    "Update the variable fleet so that it includes the numeric data in sizeData so that the weights are associated to the correct cars and there are no redundant columns.\n",
    ":::"
   ]
  },
  {
   "cell_type": "code",
   "execution_count": null,
   "metadata": {},
   "outputs": [],
   "source": [
    "# Ihr Code "
   ]
  },
  {
   "cell_type": "markdown",
   "metadata": {},
   "source": [
    "\n",
    ":::{admonition} Hinweis\n",
    ":class: note dropdown\n",
    "\n",
    "Use the join function with key variables Make and Model. \n",
    ":::\n",
    "\n",
    ":::{admonition} Lösung\n",
    ":class: tip dropdown\n",
    "\n",
    "``` python\n",
    "fleet = join(fleet,sizeData,\"Keys\",[\"Make\" \"Model\"])\n",
    "```\n",
    ":::"
   ]
  },
  {
   "cell_type": "markdown",
   "metadata": {},
   "source": [
    ":::{admonition} Aufgabe 2.3\n",
    "Complete! What is the difference in switching the order of fleet and sizeData in Task 2? Try changing the order of inputs in your code.\n",
    ":::"
   ]
  },
  {
   "cell_type": "code",
   "execution_count": null,
   "metadata": {},
   "outputs": [],
   "source": [
    "# Ihr Code "
   ]
  },
  {
   "cell_type": "markdown",
   "metadata": {},
   "source": [
    "\n",
    ":::{admonition} Hinweis\n",
    ":class: note dropdown\n",
    "\n",
    ":::\n",
    "\n",
    ":::{admonition} Lösung\n",
    ":class: tip dropdown\n",
    "\n",
    "``` python\n",
    "\n",
    "```\n",
    ":::"
   ]
  },
  {
   "cell_type": "markdown",
   "metadata": {},
   "source": [
    "<br>\n",
    "\n",
    "## Tabellendaten auslesen\n",
    "\n",
    "You will sometimes need to do analysis on a portion of your data. There are two ways to extract data from a table:\n",
    "\n",
    "    Extract a portion of the original table as a table itself.\n",
    "    Extract the contents of a table. For instance if you have a column of numeric values, you can extract a numeric array.\n",
    "\n",
    "The best choice depends on if you need the structure of a table or a homogeneous data type.\n",
    "Bild 10\n",
    "\n",
    "Most tables contain more data than you might need for your particular analysis. You may want to take a smaller piece of your data to remove the extraneous information.\n",
    "You can index into a table using array indexing with parentheses. Columns can be specified either numerically or by name. \n",
    "Bild 11\n",
    "As with any array indexing, the result is always the same data type as the original data. "
   ]
  },
  {
   "cell_type": "markdown",
   "metadata": {},
   "source": [
    "\n",
    "\n",
    "You can index into a table using the numerical index of the rows you want. Dieser Datensatz ist wieder ähnlich (und wahrscheinlich macht es Sinn immer mit dem gleichen Datensatz zu arbeiten). Wir Haben Spalten Make (das Unternehmen, welches die Autos gemacht hat), Model, Jahr, Typ (SUV, minivan, compact), weight, length and width."
   ]
  },
  {
   "cell_type": "code",
   "execution_count": null,
   "metadata": {},
   "outputs": [],
   "source": [
    "# Einbinden des Pakets numpy unter dem Alias 'np'\n",
    "load fleet.mat\n",
    "fleet"
   ]
  },
  {
   "cell_type": "markdown",
   "metadata": {},
   "source": [
    ":::{admonition} Aufgabe 3.1\n",
    "Create a variable named smallCars that contains the last four columns of fleet for the cars in row 1 and rows 4 to the end.\n",
    ":::"
   ]
  },
  {
   "cell_type": "code",
   "execution_count": null,
   "metadata": {},
   "outputs": [],
   "source": [
    "# Ihr Code "
   ]
  },
  {
   "cell_type": "markdown",
   "metadata": {},
   "source": [
    "\n",
    ":::{admonition} Hinweis\n",
    ":class: note dropdown\n",
    "\n",
    "The end keyword can be used to get the last rows or columns when indexing.\n",
    ":::\n",
    "\n",
    ":::{admonition} Lösung\n",
    ":class: tip dropdown\n",
    "\n",
    "``` python\n",
    "smallCars = fleet([1 4:end],end-3:end)\n",
    "```\n",
    ":::"
   ]
  },
  {
   "cell_type": "markdown",
   "metadata": {},
   "source": [
    "You can specify specific columns by name using a string array."
   ]
  },
  {
   "cell_type": "markdown",
   "metadata": {},
   "source": [
    ":::{admonition} Aufgabe 3.2\n",
    "Create a table named sizes that contains the columns of fleet named Weight, Length, and Width.\n",
    ":::"
   ]
  },
  {
   "cell_type": "code",
   "execution_count": null,
   "metadata": {},
   "outputs": [],
   "source": [
    "# Ihr Code "
   ]
  },
  {
   "cell_type": "markdown",
   "metadata": {},
   "source": [
    "\n",
    ":::{admonition} Hinweis\n",
    ":class: note dropdown\n",
    "\n",
    "You can use the : operator to extract an entire row or column.\n",
    ":::\n",
    "\n",
    ":::{admonition} Lösung\n",
    ":class: tip dropdown\n",
    "\n",
    "``` python\n",
    "sizes = fleet(:,[\"Weight\", \"Length\", \"Width\"])\n",
    "```\n",
    ":::"
   ]
  },
  {
   "cell_type": "markdown",
   "metadata": {},
   "source": [
    "Text"
   ]
  },
  {
   "cell_type": "markdown",
   "metadata": {},
   "source": [
    ":::{admonition} Aufgabe 3.3\n",
    "Try creating a table for all of the Toyota cars.\n",
    ":::"
   ]
  },
  {
   "cell_type": "code",
   "execution_count": null,
   "metadata": {},
   "outputs": [],
   "source": [
    "# Ihr Code "
   ]
  },
  {
   "cell_type": "markdown",
   "metadata": {},
   "source": [
    "\n",
    ":::{admonition} Hinweis\n",
    ":class: note dropdown\n",
    "\n",
    ":::\n",
    "\n",
    ":::{admonition} Lösung\n",
    ":class: tip dropdown\n",
    "\n",
    "``` python\n",
    "\n",
    "```\n",
    ":::"
   ]
  },
  {
   "cell_type": "markdown",
   "metadata": {},
   "source": [
    "Extracting from a Single Column Using Dot Notation\n",
    "To perform analysis on the data contained in a table, you'll need to extract the contents from the table before passing it to another function, such as plot.\n",
    "You can index using dot notation with the variable name to extract the contents from a table variable.\n",
    "   variableData = tableName.VariableName\n",
    "\n",
    "Bild 12\n",
    "The result from dot indexing has the data type of the underlying data.\n",
    "\n",
    "\n",
    "Extracting from Multiple Columns Using Curly Braces\n",
    "You can also index using curly brackets to extract the contents of multiple columns. You specify the rows and columns using numerical or named indexing.\n",
    "\n",
    "   variableData = tableName{rowIndices,colIndices}\n",
    "The variable rowIndices is a numeric vector. colIndices can be either a numeric vector or string array specifying column names. You can also use logical vectors to specify rows and columns. \n",
    "\n",
    "Bild 13\n",
    "The result from dot indexing has the data type of the underlying data.\n",
    "When extracting from multiple columns, you must be careful to only extract columns with compatible data types. \n",
    "\n",
    " "
   ]
  },
  {
   "cell_type": "code",
   "execution_count": null,
   "metadata": {},
   "outputs": [],
   "source": [
    "# Einbinden des Pakets numpy unter dem Alias 'np'\n",
    "load fleet.mat\n",
    "fleet"
   ]
  },
  {
   "cell_type": "markdown",
   "metadata": {},
   "source": [
    ":::{admonition} Aufgabe 3.4\n",
    "Create a string variable called models containing the Model column of fleet.\n",
    ":::"
   ]
  },
  {
   "cell_type": "code",
   "execution_count": null,
   "metadata": {},
   "outputs": [],
   "source": [
    "# Ihr Code "
   ]
  },
  {
   "cell_type": "markdown",
   "metadata": {},
   "source": [
    "\n",
    ":::{admonition} Hinweis\n",
    ":class: note dropdown\n",
    "\n",
    "You can use . indexing to specify the name of the column you want.\n",
    ":::\n",
    "\n",
    ":::{admonition} Lösung\n",
    ":class: tip dropdown\n",
    "\n",
    "``` python\n",
    "models = fleet.Model\n",
    "```\n",
    ":::"
   ]
  },
  {
   "cell_type": "markdown",
   "metadata": {},
   "source": [
    "Text"
   ]
  },
  {
   "cell_type": "markdown",
   "metadata": {},
   "source": [
    ":::{admonition} Aufgabe 3.5\n",
    "Create a numeric variable called w containing the Weight column of fleet.\n",
    ":::"
   ]
  },
  {
   "cell_type": "code",
   "execution_count": null,
   "metadata": {},
   "outputs": [],
   "source": [
    "# Ihr Code "
   ]
  },
  {
   "cell_type": "markdown",
   "metadata": {},
   "source": [
    "\n",
    ":::{admonition} Hinweis\n",
    ":class: note dropdown\n",
    "\n",
    "You can use . indexing to specify the name of the column you want.\n",
    ":::\n",
    "\n",
    ":::{admonition} Lösung\n",
    ":class: tip dropdown\n",
    "\n",
    "``` python\n",
    "w = fleet.Weight\n",
    "```\n",
    ":::"
   ]
  },
  {
   "cell_type": "markdown",
   "metadata": {},
   "source": [
    "You can also use . notation to update data in a table using the syntax:\n",
    "\n",
    "tbl.Var = updatedColumn\n",
    "tbl.Var(2) = updatedValue"
   ]
  },
  {
   "cell_type": "markdown",
   "metadata": {},
   "source": [
    ":::{admonition} Aufgabe 3.6\n",
    "Convert the data in the Weight column from kilograms to pounds. One kilogram is equal to 2.2046 pounds.\n",
    ":::"
   ]
  },
  {
   "cell_type": "code",
   "execution_count": null,
   "metadata": {},
   "outputs": [],
   "source": [
    "# Ihr Code "
   ]
  },
  {
   "cell_type": "markdown",
   "metadata": {},
   "source": [
    "\n",
    ":::{admonition} Hinweis\n",
    ":class: note dropdown\n",
    "You can use . indexing to specify the Weight column. Assign the new weights to that column. (The new values should be a little over twice the original values.)\n",
    ":::\n",
    "\n",
    ":::{admonition} Lösung\n",
    ":class: tip dropdown\n",
    "\n",
    "``` python\n",
    "fleet.Weight = w*2.2046\n",
    "```\n",
    ":::"
   ]
  },
  {
   "cell_type": "markdown",
   "metadata": {},
   "source": [
    "You can also use . notation to create a new column in a table using the syntax:\n",
    "\n",
    "tbl.newVar = newColumn"
   ]
  },
  {
   "cell_type": "markdown",
   "metadata": {},
   "source": [
    ":::{admonition} Aufgabe 3.7\n",
    "Add a new column called Area to the table fleet by multiplying each element in the column Length by the corresponding element in the column Width\n",
    ":::"
   ]
  },
  {
   "cell_type": "code",
   "execution_count": null,
   "metadata": {},
   "outputs": [],
   "source": [
    "# Ihr Code "
   ]
  },
  {
   "cell_type": "markdown",
   "metadata": {},
   "source": [
    "\n",
    ":::{admonition} Hinweis\n",
    ":class: note dropdown\n",
    "\n",
    "Use elementwise multiplication to multiply each element of Length by the corresponding element in the column Width.\n",
    ":::\n",
    "\n",
    ":::{admonition} Lösung\n",
    ":class: tip dropdown\n",
    "\n",
    "``` python\n",
    "fleet.Area = fleet.Length.*fleet.Width\n",
    "```\n",
    ":::"
   ]
  },
  {
   "cell_type": "markdown",
   "metadata": {},
   "source": [
    "You can use curly brackets to extract data from multiple columns."
   ]
  },
  {
   "cell_type": "markdown",
   "metadata": {},
   "source": [
    ":::{admonition} Aufgabe 3.8\n",
    "Create a double array called data containing all of the numeric physical properties from the table fleet. Then find the average of each numeric variable using the mean function. Save this to the variable m.\n",
    ":::"
   ]
  },
  {
   "cell_type": "code",
   "execution_count": null,
   "metadata": {},
   "outputs": [],
   "source": [
    "# Ihr Code "
   ]
  },
  {
   "cell_type": "markdown",
   "metadata": {},
   "source": [
    "\n",
    ":::{admonition} Hinweis\n",
    ":class: note dropdown\n",
    "\n",
    "The physical properties are in the Weight, Length, Width, and Area columns. The mean function will return the average of each column of a numeric array.\n",
    ":::\n",
    "\n",
    ":::{admonition} Lösung\n",
    ":class: tip dropdown\n",
    "\n",
    "``` python\n",
    "data = fleet{:,end-3:end}\n",
    "m = mean(data)\n",
    "```\n",
    ":::"
   ]
  },
  {
   "cell_type": "markdown",
   "metadata": {},
   "source": [
    "Once a column is extracted, you can use it to make logical comparisons. The resulting logical vector can be used to subset the original table."
   ]
  },
  {
   "cell_type": "markdown",
   "metadata": {},
   "source": [
    ":::{admonition} Aufgabe 3.9\n",
    "Create a logical vector named idx identifying each of the compact cars. Use idx to create a string array called smallCars containing the makes and models of compact cars.\n",
    ":::"
   ]
  },
  {
   "cell_type": "code",
   "execution_count": null,
   "metadata": {},
   "outputs": [],
   "source": [
    "# Ihr Code "
   ]
  },
  {
   "cell_type": "markdown",
   "metadata": {},
   "source": [
    "\n",
    ":::{admonition} Hinweis\n",
    ":class: note dropdown\n",
    "\n",
    "Create idx by comparing each element of Type to \"compact\".\n",
    ":::\n",
    "\n",
    ":::{admonition} Lösung\n",
    ":class: tip dropdown\n",
    "\n",
    "``` python\n",
    "idx = fleet.Type == \"compact\"\n",
    "smallCars = fleet{idx,[\"Make\" \"Model\"]}\n",
    "```\n",
    ":::"
   ]
  },
  {
   "cell_type": "markdown",
   "metadata": {},
   "source": [
    "The vartype function allows you to select all columns of a specific data type. For instance,\n",
    "\n",
    "T{:,vartype(\"categorical\")}\n",
    "\n",
    "extracts data from all of the categorical columns and outputs a categorical array."
   ]
  },
  {
   "cell_type": "markdown",
   "metadata": {},
   "source": [
    ":::{admonition} Aufgabe 3.10\n",
    "Try extracting all of the variables of type string and pass that to the join function to create a list of cars.\n",
    ":::"
   ]
  },
  {
   "cell_type": "code",
   "execution_count": null,
   "metadata": {},
   "outputs": [],
   "source": [
    "# Ihr Code "
   ]
  },
  {
   "cell_type": "markdown",
   "metadata": {},
   "source": [
    "\n",
    ":::{admonition} Hinweis\n",
    ":class: note dropdown\n",
    "\n",
    ":::\n",
    "\n",
    ":::{admonition} Lösung\n",
    ":class: tip dropdown\n",
    "\n",
    "``` python\n",
    "\n",
    "```\n",
    ":::"
   ]
  }
 ],
 "metadata": {
  "language_info": {
   "name": "python"
  }
 },
 "nbformat": 4,
 "nbformat_minor": 2
}
