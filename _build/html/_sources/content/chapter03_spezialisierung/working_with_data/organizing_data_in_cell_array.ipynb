{
 "cells": [
  {
   "cell_type": "markdown",
   "metadata": {},
   "source": [
    "# Datenaufbereitung mit Arrays\n",
    "\n",
    "\n",
    "## Estellen und Zusammenfügen von Daten-Arrays\n",
    "\n",
    "Cell arrays are rectangular, like tables. But unlike tables, there is no other assumed structure. You can store any data type you wish in an element of a cell array.\n",
    "Use curly braces, {}, with commas, spaces, and semicolons to create a cell array in the same way you would create a numeric array. \n",
    "\n",
    "Create a cell array using curly braces and separating elements with commas and semicolons.\n",
    "\n",
    "Since a cell array does not store metadata about its contents, you may need to document this information in comments. \n",
    "    "
   ]
  },
  {
   "cell_type": "markdown",
   "metadata": {},
   "source": [
    "\n",
    "Storing Sensor Data from a Crash Test\n",
    "\n",
    "Cell arrays can be used to combine related variables of different sizes. \n",
    "\n",
    "Bild 14\n",
    "Here you have sensor data from a crash test measuring the force on the head in the X, Y, and Z directions. \n",
    "Can you concatenate them vertically ([ ; ])? Vertical concatenation would not result in an error, but you would lose which sensor produced each measurement\n",
    "You also cannot use horizontal concatenation because each set has a different number of measurements. \n",
    "Storing these in a cell array allows you to keep related data together, but maintain each set of measurements as a distinct array.\n",
    "Bild 15 bis 17 veranschaulichen das. \n",
    "\n",
    "Here you have variables headX, headY, and headZ containing force measurements in the X, Y, and Z directions. Notice that they are different sizes. They are 3096, 1296 and 3272. Bild 19 zeigt wie die Daten geplottet aussehen"
   ]
  },
  {
   "cell_type": "code",
   "execution_count": null,
   "metadata": {},
   "outputs": [],
   "source": [
    "# Einbinden des Pakets numpy unter dem Alias 'np'\n",
    "load sensorData\n",
    "whos"
   ]
  },
  {
   "cell_type": "markdown",
   "metadata": {},
   "source": [
    ":::{admonition} Aufgabe 1.1\n",
    "Create a 1-by-3 cell array named forceXYZ that contains the numeric vectors in the variables headX, headY, and headZ in that order.\n",
    ":::"
   ]
  },
  {
   "cell_type": "code",
   "execution_count": null,
   "metadata": {},
   "outputs": [],
   "source": [
    "# Ihr Code "
   ]
  },
  {
   "cell_type": "markdown",
   "metadata": {},
   "source": [
    "\n",
    ":::{admonition} Hinweis\n",
    ":class: note dropdown\n",
    "\n",
    "Use curly braces, {}, to create a cell array. Separate the numeric variables with spaces or commas to create a horizontal array.\n",
    "\n",
    "cellArray = {'little' 2 'bug'} \n",
    ":::\n",
    "\n",
    ":::{admonition} Lösung\n",
    ":class: tip dropdown\n",
    "\n",
    "``` python\n",
    "forceXYZ = {headX headY headZ}\n",
    "```\n",
    ":::"
   ]
  },
  {
   "cell_type": "markdown",
   "metadata": {},
   "source": [
    "Text"
   ]
  },
  {
   "cell_type": "markdown",
   "metadata": {},
   "source": [
    ":::{admonition} Aufgabe 1.2\n",
    "Create a 1-by-3 cell array named descriptions. It should contain the following character vectors:\n",
    "\n",
    "    'Force on head in X direction'\n",
    "    'Force on head in Y direction'\n",
    "    'Force on head in Z direction'\n",
    ":::"
   ]
  },
  {
   "cell_type": "code",
   "execution_count": null,
   "metadata": {},
   "outputs": [],
   "source": [
    "# Ihr Code "
   ]
  },
  {
   "cell_type": "markdown",
   "metadata": {},
   "source": [
    "\n",
    ":::{admonition} Hinweis\n",
    ":class: note dropdown\n",
    "\n",
    "Use curly braces to create a cell array.\n",
    "\n",
    "zFriends = {'Sophia' 'Claire' 'Hunter'}\n",
    "\n",
    "Be careful with capitalization. You can cut and paste the text.\n",
    ":::\n",
    "\n",
    ":::{admonition} Lösung\n",
    ":class: tip dropdown\n",
    "\n",
    "``` python\n",
    "descriptions = {'Force on head in X direction','Force on head in Y direction','Force on head in Z direction'}\n",
    "```\n",
    ":::"
   ]
  },
  {
   "cell_type": "markdown",
   "metadata": {},
   "source": [
    "You can concatenate cell arrays using square brackets, commas, spaces, and semicolons in the same way you concatenate numeric matrices or tables."
   ]
  },
  {
   "cell_type": "markdown",
   "metadata": {},
   "source": [
    ":::{admonition} Aufgabe 1.3\n",
    "Create a 2-by-3 cell array named sensorData that contains information from the descriptions variable in the first row and the numeric measurements from the forceXYZ variable in the second row.\n",
    ":::"
   ]
  },
  {
   "cell_type": "code",
   "execution_count": null,
   "metadata": {},
   "outputs": [],
   "source": [
    "# Ihr Code "
   ]
  },
  {
   "cell_type": "markdown",
   "metadata": {},
   "source": [
    "\n",
    ":::{admonition} Hinweis\n",
    ":class: note dropdown\n",
    "\n",
    "The following code concatenates two 3-by-1 cell arrays horizontally into a 3-by-2 cell array.\n",
    "\n",
    " x = {'a';'b';'c'};\n",
    " y = {1 ; 2 ; 3};\n",
    " z = [x y]\n",
    "z = \n",
    "    'a'    [1]\n",
    "    'b'    [2]\n",
    "    'c'    [3]\n",
    "\n",
    "\n",
    "You need to do vertical concatenation.\n",
    ":::\n",
    "\n",
    ":::{admonition} Lösung\n",
    ":class: tip dropdown\n",
    "\n",
    "``` python\n",
    "sensorData = [descriptions; forceXYZ]\n",
    "```\n",
    ":::"
   ]
  },
  {
   "cell_type": "markdown",
   "metadata": {},
   "source": [
    "Wir kommen zu unseren Auto-Daten zurück\n",
    "\n",
    "Sometimes the text output of a function or method is a cell array of character vectors. For instance, the variable names of a table are returned as a cell array of character vectors."
   ]
  },
  {
   "cell_type": "code",
   "execution_count": null,
   "metadata": {},
   "outputs": [],
   "source": [
    "# Einbinden des Pakets numpy unter dem Alias 'np'\n",
    "load fleetData.mat\n",
    "fleet"
   ]
  },
  {
   "cell_type": "markdown",
   "metadata": {},
   "source": [
    ":::{admonition} Aufgabe 1.4\n",
    "Create a variable named varNames that contains the cell array of variable names from the table fleet.\n",
    ":::"
   ]
  },
  {
   "cell_type": "code",
   "execution_count": null,
   "metadata": {},
   "outputs": [],
   "source": [
    "# Ihr Code "
   ]
  },
  {
   "cell_type": "markdown",
   "metadata": {},
   "source": [
    "\n",
    ":::{admonition} Hinweis\n",
    ":class: note dropdown\n",
    "\n",
    "You can access the variables names using dot notation.\n",
    "\n",
    "table.Properties.VariableNames\n",
    ":::\n",
    "\n",
    ":::{admonition} Lösung\n",
    ":class: tip dropdown\n",
    "\n",
    "``` python\n",
    "varNames = fleet.Properties.VariableNames\n",
    "```\n",
    ":::"
   ]
  },
  {
   "cell_type": "markdown",
   "metadata": {},
   "source": [
    "Many functions designed for strings also work on cell arrays of character vectors. "
   ]
  },
  {
   "cell_type": "markdown",
   "metadata": {},
   "source": [
    ":::{admonition} Aufgabe 1.5\n",
    "Use the lower function to convert varNames to lower case. Then use the result to update the table variable names in fleet.\n",
    ":::"
   ]
  },
  {
   "cell_type": "code",
   "execution_count": null,
   "metadata": {},
   "outputs": [],
   "source": [
    "# Ihr Code "
   ]
  },
  {
   "cell_type": "markdown",
   "metadata": {},
   "source": [
    "\n",
    ":::{admonition} Hinweis\n",
    ":class: note dropdown\n",
    "\n",
    "Assign the output of the lower function to fleet.Properties.VariableNames.\n",
    ":::\n",
    "\n",
    ":::{admonition} Lösung\n",
    ":class: tip dropdown\n",
    "\n",
    "``` python\n",
    "fleet.Properties.VariableNames = lower(varNames)\n",
    "```\n",
    ":::"
   ]
  },
  {
   "cell_type": "markdown",
   "metadata": {},
   "source": [
    "\n",
    "The categories function returns the categories of a categorical variable. The output is a cell array of character vectors."
   ]
  },
  {
   "cell_type": "markdown",
   "metadata": {},
   "source": [
    ":::{admonition} Aufgabe 1.6\n",
    "Obtain the categories of the type variable from the table fleet. Assign the output to the variable typeNames.\n",
    ":::"
   ]
  },
  {
   "cell_type": "code",
   "execution_count": null,
   "metadata": {},
   "outputs": [],
   "source": [
    "# Ihr Code "
   ]
  },
  {
   "cell_type": "markdown",
   "metadata": {},
   "source": [
    "\n",
    ":::{admonition} Hinweis\n",
    ":class: note dropdown\n",
    "\n",
    "Obtain the categories of the type variable from the table fleet. Assign the output to the variable typeNames.\n",
    ":::\n",
    "\n",
    ":::{admonition} Lösung\n",
    ":class: tip dropdown\n",
    "\n",
    "``` python\n",
    "typeNames = categories(fleet.type)\n",
    "```\n",
    ":::"
   ]
  },
  {
   "cell_type": "markdown",
   "metadata": {},
   "source": [
    "\n",
    "Cell arrays can contain other cell arrays as elements. This can be a way of storing related lists of varying lengths."
   ]
  },
  {
   "cell_type": "code",
   "execution_count": null,
   "metadata": {},
   "outputs": [],
   "source": [
    "# The following code creates four variables with a list of cars of each type.\n",
    "suv = {'Audi Q7'; 'Ford Expedition'};\n",
    "minivan = 'Honda Odyssey';\n",
    "subcompact = 'Toyota Prius';\n",
    "compact = {'Toyota Corrolla';'Volkswagen Jetta'};"
   ]
  },
  {
   "cell_type": "markdown",
   "metadata": {},
   "source": [
    ":::{admonition} Aufgabe 1.7\n",
    "In the script, four variables have been created which contain the makes and models of vehicles of each type: suv, minivan, subcompact, and compact.\n",
    "\n",
    "Use these lists to create a 2-by-4 cell array named labeledCars containing the type names in the first row and the lists of vehicles of that type in the second row.\n",
    ":::"
   ]
  },
  {
   "cell_type": "code",
   "execution_count": null,
   "metadata": {},
   "outputs": [],
   "source": [
    "# Ihr Code "
   ]
  },
  {
   "cell_type": "markdown",
   "metadata": {},
   "source": [
    "\n",
    ":::{admonition} Hinweis\n",
    ":class: note dropdown\n",
    "\n",
    "Each row is a 1-by-4 cell array. You will need to create a cell array of the elements that go in the second row. Then you can use square brackets for concatenation.\n",
    ":::\n",
    "\n",
    ":::{admonition} Lösung\n",
    ":class: tip dropdown\n",
    "\n",
    "``` python\n",
    "labeledCars = [typeNames';{suv minivan subcompact compact}]\n",
    "```\n",
    ":::"
   ]
  },
  {
   "cell_type": "markdown",
   "metadata": {},
   "source": [
    "<br>\n",
    "\n",
    "## Daten-Arrays auslesen"
   ]
  },
  {
   "cell_type": "markdown",
   "metadata": {},
   "source": [
    "How Do You Extract Data from a Cell Array?\n",
    "You can index into a cell array using standard MATLAB indexing with parentheses, (). This returns a portion of the original cell array, and is therefore itself a cell array.\n",
    "\n",
    "You can access the contents of cells in a cell array by indexing with curly braces, {}, rather than parentheses, (). \n",
    "Bild 18"
   ]
  },
  {
   "cell_type": "markdown",
   "metadata": {},
   "source": [
    "The cell array sensorData contains data on the force on the head during a crash test. The first row contains descriptions of each numeric variable. The second row contains the measurements from each of three sensors. Wir arbeiten wieder mit den sensor daten."
   ]
  },
  {
   "cell_type": "code",
   "execution_count": null,
   "metadata": {},
   "outputs": [],
   "source": [
    "# Einbinden des Pakets numpy unter dem Alias 'np'\n",
    "load sensorData.mat\n",
    "sensorData"
   ]
  },
  {
   "cell_type": "markdown",
   "metadata": {},
   "source": [
    ":::{admonition} Aufgabe 2.1\n",
    "Create a 1-by-3 cell array named numericData containing the second row of sensorData.\n",
    ":::"
   ]
  },
  {
   "cell_type": "code",
   "execution_count": null,
   "metadata": {},
   "outputs": [],
   "source": [
    "# Ihr Code "
   ]
  },
  {
   "cell_type": "markdown",
   "metadata": {},
   "source": [
    "\n",
    ":::{admonition} Hinweis\n",
    ":class: note dropdown\n",
    "\n",
    "Index into a cell array using parentheses () to return a cell array subset.\n",
    "\n",
    "The following code will return the first column of sensorData.\n",
    "\n",
    " x = sensorData(:,1);\n",
    ":::\n",
    "\n",
    ":::{admonition} Lösung\n",
    ":class: tip dropdown\n",
    "\n",
    "``` python\n",
    "numericData = sensorData(2,:)\n",
    "```\n",
    ":::"
   ]
  },
  {
   "cell_type": "markdown",
   "metadata": {},
   "source": [
    "The cell array numericData contains three numeric column vectors. The plot function takes numeric input, so you will need to extract the contents of numericData and pass it to the plot function."
   ]
  },
  {
   "cell_type": "markdown",
   "metadata": {},
   "source": [
    ":::{admonition} Aufgabe 2.2\n",
    "Plot the data contained in the first element of numericData against its index.\n",
    ":::"
   ]
  },
  {
   "cell_type": "code",
   "execution_count": null,
   "metadata": {},
   "outputs": [],
   "source": [
    "# Ihr Code "
   ]
  },
  {
   "cell_type": "markdown",
   "metadata": {},
   "source": [
    "\n",
    ":::{admonition} Hinweis\n",
    ":class: note dropdown\n",
    "\n",
    "Use curly braces to index into the cell array to return the contents inside the cell.\n",
    "\n",
    "myKids{1}\n",
    "ans =\n",
    " 'Zurey'\n",
    "\n",
    "\n",
    "By default, the plot function plots a numeric vector against its index.\n",
    ":::\n",
    "\n",
    ":::{admonition} Lösung\n",
    ":class: tip dropdown\n",
    "\n",
    "``` python\n",
    "plot(numericData{1})\n",
    "\n",
    "```\n",
    ":::"
   ]
  },
  {
   "cell_type": "markdown",
   "metadata": {},
   "source": [
    ":::{admonition} Aufgabe 2.3\n",
    "Add the contents in the second and third elements of numericData to the plot in that order. Then add a legend using the labels in the first row of sensorData\n",
    ":::"
   ]
  },
  {
   "cell_type": "code",
   "execution_count": null,
   "metadata": {},
   "outputs": [],
   "source": [
    "# Ihr Code "
   ]
  },
  {
   "cell_type": "markdown",
   "metadata": {},
   "source": [
    "\n",
    ":::{admonition} Hinweis\n",
    ":class: note dropdown\n",
    "The hold on/off commands allows you to add data to an existing plot. The legend functions accepts a cell array of character vectors as input.\n",
    ":::\n",
    "\n",
    ":::{admonition} Lösung\n",
    ":class: tip dropdown\n",
    "\n",
    "``` python\n",
    "hold on\n",
    "plot(numericData{2})\n",
    "plot(numericData{3})\n",
    "hold off\n",
    "legend(sensorData(1,:))\n",
    "```\n",
    ":::"
   ]
  },
  {
   "cell_type": "markdown",
   "metadata": {},
   "source": [
    "\n",
    "In the plot you may have noticed that the second sensor's data is incomplete. That might be because the sensor stopped recording data on impact."
   ]
  },
  {
   "cell_type": "markdown",
   "metadata": {},
   "source": [
    ":::{admonition} Aufgabe 2.4\n",
    "Replace the second column of the second row of sensorData with the character vector 'Broken Sensor'.\n",
    ":::"
   ]
  },
  {
   "cell_type": "code",
   "execution_count": null,
   "metadata": {},
   "outputs": [],
   "source": [
    "# Ihr Code "
   ]
  },
  {
   "cell_type": "markdown",
   "metadata": {},
   "source": [
    "\n",
    ":::{admonition} Hinweis\n",
    ":class: note dropdown\n",
    "\n",
    "In your assignment, you must either assign a cell array to a cell array or the contents of the cell array to the new contents. For instance, either of the following syntaxes would change the first element of myKids to 'Lilja':\n",
    "\n",
    "myKids{1} = 'Lilja';\n",
    "myKids(1) = {'Lilja'};\n",
    ":::\n",
    "\n",
    ":::{admonition} Lösung\n",
    ":class: tip dropdown\n",
    "\n",
    "``` python\n",
    "sensorData{2,2} = 'Broken Sensor'\n",
    "```\n",
    ":::"
   ]
  },
  {
   "cell_type": "markdown",
   "metadata": {},
   "source": [
    "You can also remove bad data. To remove an element from an array, use parentheses and set the result to an empty array, []."
   ]
  },
  {
   "cell_type": "markdown",
   "metadata": {},
   "source": [
    ":::{admonition} Aufgabe 2.5\n",
    "Remove the data from the broken sensor in the second element of numericData to create a 1-by-2 cell array\n",
    ":::"
   ]
  },
  {
   "cell_type": "code",
   "execution_count": null,
   "metadata": {},
   "outputs": [],
   "source": [
    "# Ihr Code "
   ]
  },
  {
   "cell_type": "markdown",
   "metadata": {},
   "source": [
    "\n",
    ":::{admonition} Hinweis\n",
    ":class: note dropdown\n",
    "\n",
    "Index into the cell array using parentheses and set it equal to an empty array.\n",
    "myKids(3) = [];\n",
    ":::\n",
    "\n",
    ":::{admonition} Lösung\n",
    ":class: tip dropdown\n",
    "\n",
    "``` python\n",
    "numericData(2) = []\n",
    "```\n",
    ":::"
   ]
  },
  {
   "cell_type": "markdown",
   "metadata": {},
   "source": [
    "Text"
   ]
  },
  {
   "cell_type": "markdown",
   "metadata": {},
   "source": [
    ":::{admonition} Aufgabe 2.6\n",
    "Remove the data from the broken sensor in the second column of sensorData to create a 2-by-2 cell array\n",
    ":::"
   ]
  },
  {
   "cell_type": "code",
   "execution_count": null,
   "metadata": {},
   "outputs": [],
   "source": [
    "# Ihr Code "
   ]
  },
  {
   "cell_type": "markdown",
   "metadata": {},
   "source": [
    "\n",
    ":::{admonition} Hinweis\n",
    ":class: note dropdown\n",
    "Index into the cell array using parentheses and set the second column equal to the empty array.\n",
    ":::\n",
    "\n",
    ":::{admonition} Lösung\n",
    ":class: tip dropdown\n",
    "\n",
    "``` python\n",
    "sensorData(:,2) = []\n",
    "```\n",
    ":::"
   ]
  },
  {
   "cell_type": "markdown",
   "metadata": {},
   "source": [
    "\n",
    "The variable headY_redundant contains data from a redundant sensor. To look at the properties of this variable, type\n",
    "\n",
    "whos headY_redundant\n",
    "\n",
    "You can simultaneously add data to a cell array and extend its size by updating the contents of a non-existent element."
   ]
  },
  {
   "cell_type": "markdown",
   "metadata": {},
   "source": [
    ":::{admonition} Aufgabe 2.7\n",
    "Add headY_redundant as a third element of numericData, resulting in a 1-by-3 cell array.\n",
    ":::"
   ]
  },
  {
   "cell_type": "code",
   "execution_count": null,
   "metadata": {},
   "outputs": [],
   "source": [
    "# Ihr Code "
   ]
  },
  {
   "cell_type": "markdown",
   "metadata": {},
   "source": [
    "\n",
    ":::{admonition} Hinweis\n",
    ":class: note dropdown\n",
    "\n",
    "Add headY_redundant as a third element of numericData, resulting in a 1-by-3 cell array.\n",
    ":::\n",
    "\n",
    ":::{admonition} Lösung\n",
    ":class: tip dropdown\n",
    "\n",
    "``` python\n",
    "numericData{end+1} = headY_redundant\n",
    "```\n",
    ":::"
   ]
  },
  {
   "cell_type": "markdown",
   "metadata": {},
   "source": [
    "Text"
   ]
  },
  {
   "cell_type": "markdown",
   "metadata": {},
   "source": [
    ":::{admonition} Aufgabe 2.8\n",
    "Replot the data in numericData, including the legend, to visualize the force on the head of the crash test dummy in the X, Y, and Z directions.:::"
   ]
  },
  {
   "cell_type": "code",
   "execution_count": null,
   "metadata": {},
   "outputs": [],
   "source": [
    "# Ihr Code "
   ]
  },
  {
   "cell_type": "markdown",
   "metadata": {},
   "source": [
    "\n",
    ":::{admonition} Hinweis\n",
    ":class: note dropdown\n",
    "\n",
    ":::\n",
    "\n",
    ":::{admonition} Lösung\n",
    ":class: tip dropdown\n",
    "\n",
    "``` python\n",
    "\n",
    "```\n",
    ":::"
   ]
  }
 ],
 "metadata": {
  "language_info": {
   "name": "python"
  }
 },
 "nbformat": 4,
 "nbformat_minor": 2
}
