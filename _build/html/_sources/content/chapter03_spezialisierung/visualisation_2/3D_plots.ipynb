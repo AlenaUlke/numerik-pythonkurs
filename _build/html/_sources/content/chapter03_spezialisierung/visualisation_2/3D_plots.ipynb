{
 "cells": [
  {
   "cell_type": "markdown",
   "metadata": {},
   "source": [
    "# 3D Plots\n",
    "\n",
    "Hier ein bisschen Motivation, warum was sinnvoll ist.\n",
    "\n",
    "## Plots mit Matrixen als Eingabe\n",
    "\n",
    "How can you visualize the columns of a matrix?\n",
    "\n",
    "You could, of course, plot each column separately using hold on and hold off.  That would get cumbersome if there were a lot of columns to visualize.\n",
    "\n",
    "Bild 3 \n",
    "\n",
    "In this practice, you will learn how to plot the columns of a matrix in a single function call.\n",
    "\n",
    "\n",
    "Nun folgen Beispiele zum Plotten basierend auf dem Datensatz elictricity, der gegeben der Matrix im Bild 4 Umsatz durch Elektrizität während bestimmter Jahre.\n",
    "\n",
    "\n",
    "The variable revenue contains electricity revenue data for each month from 1990 to 2019.\n",
    "\n",
    "each row is a month and each column is a year\n",
    "\n",
    "Two-dimensional plotting functions (plot, bar, stem, etc.) behave in the same manner as statistical functions when dealing with matrices: the columns are assumed to be independent variables and plotted as separate lines"
   ]
  },
  {
   "cell_type": "code",
   "execution_count": null,
   "metadata": {
    "tags": [
     "thebe-init"
    ]
   },
   "outputs": [],
   "source": [
    "# Einbinden des Pakets numpy unter dem Alias 'np'\n",
    "load electricity\n",
    "revenue = price.*usage;"
   ]
  },
  {
   "cell_type": "markdown",
   "metadata": {},
   "source": [
    ":::{admonition} Aufgabe 1.1\n",
    "Create a line plot for each column in revenue. Label the x-axis with \"Months\"..\n",
    ":::"
   ]
  },
  {
   "cell_type": "code",
   "execution_count": null,
   "metadata": {},
   "outputs": [],
   "source": [
    "# Ihr Code "
   ]
  },
  {
   "cell_type": "markdown",
   "metadata": {},
   "source": [
    "\n",
    ":::{admonition} Hinweis\n",
    ":class: note dropdown\n",
    "Use the plot function.\n",
    "\n",
    "plot(Mat)\n",
    ":::\n",
    "\n",
    ":::{admonition} Lösung\n",
    ":class: tip dropdown\n",
    "\n",
    "``` python\n",
    "plot(revenue)\n",
    "xlabel(\"Months\")\n",
    "```\n",
    ":::"
   ]
  },
  {
   "cell_type": "markdown",
   "metadata": {},
   "source": [
    "\n",
    "\n",
    "Text"
   ]
  },
  {
   "cell_type": "markdown",
   "metadata": {},
   "source": [
    ":::{admonition} Aufgabe 1.2\n",
    "Create a line plot for each row in revenue. Label the x-axis with \"Years\".\n",
    ":::"
   ]
  },
  {
   "cell_type": "code",
   "execution_count": null,
   "metadata": {},
   "outputs": [],
   "source": [
    "# Ihr Code "
   ]
  },
  {
   "cell_type": "markdown",
   "metadata": {},
   "source": [
    "\n",
    ":::{admonition} Hinweis\n",
    ":class: note dropdown\n",
    "Use the plot function on revenue'.\n",
    "\n",
    "plot(Mat')\n",
    ":::\n",
    "\n",
    ":::{admonition} Lösung\n",
    ":class: tip dropdown\n",
    "\n",
    "``` python\n",
    "plot(revenue')\n",
    "xlabel(\"Years\")\n",
    "```\n",
    ":::"
   ]
  },
  {
   "cell_type": "markdown",
   "metadata": {},
   "source": [
    "\n",
    "\n",
    "\n",
    "You can use the same line specs for matrices as you did for vectors."
   ]
  },
  {
   "cell_type": "markdown",
   "metadata": {},
   "source": [
    ":::{admonition} Aufgabe 1.3\n",
    "Create a plot for each column in revenue with a solid line and x markers.\n",
    ":::"
   ]
  },
  {
   "cell_type": "code",
   "execution_count": null,
   "metadata": {},
   "outputs": [],
   "source": [
    "# Ihr Code "
   ]
  },
  {
   "cell_type": "markdown",
   "metadata": {},
   "source": [
    "\n",
    ":::{admonition} Hinweis\n",
    ":class: note dropdown\n",
    "Use the plot function with a line specification \"x\" for the marker and \"-\" for a solid line.\n",
    "\n",
    "plot(Mat,\"x-\")\n",
    ":::\n",
    "\n",
    ":::{admonition} Lösung\n",
    ":class: tip dropdown\n",
    "\n",
    "``` python\n",
    "plot(revenue,\"x-\")\n",
    "```\n",
    ":::"
   ]
  },
  {
   "cell_type": "markdown",
   "metadata": {},
   "source": [
    "\n",
    "\n",
    "Text"
   ]
  },
  {
   "cell_type": "markdown",
   "metadata": {},
   "source": [
    ":::{admonition} Aufgabe 1.4\n",
    "Create a line plot for each column in revenue with a red dotted line and circle markers.\n",
    ":::"
   ]
  },
  {
   "cell_type": "code",
   "execution_count": null,
   "metadata": {},
   "outputs": [],
   "source": [
    "# Ihr Code "
   ]
  },
  {
   "cell_type": "markdown",
   "metadata": {},
   "source": [
    "\n",
    ":::{admonition} Hinweis\n",
    ":class: note dropdown\n",
    "Use the plot function with a line specification \"r\" for red, \"o\" for the marker, and \":\" for a dotted line.\n",
    "\n",
    "plot(M,\"r:o\")\n",
    ":::\n",
    "\n",
    ":::{admonition} Lösung\n",
    ":class: tip dropdown\n",
    "\n",
    "``` python\n",
    "plot(revenue,\"r:o\")\n",
    "```\n",
    ":::"
   ]
  },
  {
   "cell_type": "markdown",
   "metadata": {},
   "source": [
    "\n",
    "\n",
    "Did you notice that all the lines are now red? A color specification will apply to all columns and remove any distinction between the different variables. That can be very helpful if you want to highlight several lines against something else, like the average.\n",
    "\n"
   ]
  },
  {
   "cell_type": "code",
   "execution_count": null,
   "metadata": {},
   "outputs": [],
   "source": [
    "# Einbinden des Pakets numpy unter dem Alias 'np'\n",
    "hold on\n",
    "plot(mean(revenue,2),\"LineWidth\",2)\n",
    "hold off"
   ]
  },
  {
   "cell_type": "markdown",
   "metadata": {},
   "source": [
    ":::{admonition} Aufgabe 1.5\n",
    "\n",
    ":::"
   ]
  },
  {
   "cell_type": "code",
   "execution_count": null,
   "metadata": {},
   "outputs": [],
   "source": [
    "# Ihr Code "
   ]
  },
  {
   "cell_type": "markdown",
   "metadata": {},
   "source": [
    "\n",
    ":::{admonition} Hinweis\n",
    ":class: note dropdown\n",
    "Use the plot function.\n",
    "\n",
    "\n",
    ":::\n",
    "\n",
    ":::{admonition} Lösung\n",
    ":class: tip dropdown\n",
    "\n",
    "``` python\n",
    "\n",
    "```\n",
    ":::"
   ]
  },
  {
   "cell_type": "markdown",
   "metadata": {},
   "source": [
    "<br>\n",
    "\n",
    "## Plots mit Matrixen und Vektoren als Eingabe\n",
    "\n",
    "You can provide a vector of x-values when you plot a matrix.\n",
    "\n",
    "plot(vector,Matrix)"
   ]
  },
  {
   "cell_type": "markdown",
   "metadata": {},
   "source": [
    ":::{admonition} Aufgabe 2.1\n",
    "Plot each row of revenue on the y-axis using the elements in yr for the x-axis values. Label the x-axis with \"Year\".\n",
    ":::"
   ]
  },
  {
   "cell_type": "code",
   "execution_count": null,
   "metadata": {},
   "outputs": [],
   "source": [
    "# Ihr Code "
   ]
  },
  {
   "cell_type": "markdown",
   "metadata": {},
   "source": [
    "\n",
    ":::{admonition} Hinweis\n",
    ":class: note dropdown\n",
    "Use the plot function.\n",
    "\n",
    "plot(v,M)\n",
    ":::\n",
    "\n",
    ":::{admonition} Lösung\n",
    ":class: tip dropdown\n",
    "\n",
    "``` python\n",
    "plot(yr,revenue)\n",
    "xlabel(\"Year\")\n",
    "```\n",
    ":::"
   ]
  },
  {
   "cell_type": "markdown",
   "metadata": {},
   "source": [
    "Plotting a Matrix Against a Vector\n",
    "\n",
    "\n",
    "Did you notice that you could plot the rows of revenue without transposing it in plot? That is because when you provide a vector, the plot function uses its length to determine whether to plot the rows or columns of the matrix. \n",
    "\n",
    "Hier kommen Bild 5 :  So if the vector of x-values has the same number of elements as each column, then the columns are plotted. , 6 :  So if the vector of x-values has the same number of elements as each column, then the columns are plotted.\n",
    "If the number of elements in the x vector are the same as the number of elements in each row, then the rows are plotted und 7 :  If the number of elements in the x vector are the same as the number of elements in each row, then the rows are plotted.\n",
    "Whether the vector is a row or column vector doesn't matter—just the number of elements. "
   ]
  },
  {
   "cell_type": "markdown",
   "metadata": {},
   "source": [
    ":::{admonition} Aufgabe 2.2\n",
    "Create a line plot for each row in revenue against yr with dashed lines and a line width of 2.\n",
    ":::"
   ]
  },
  {
   "cell_type": "code",
   "execution_count": null,
   "metadata": {},
   "outputs": [],
   "source": [
    "# Ihr Code "
   ]
  },
  {
   "cell_type": "markdown",
   "metadata": {},
   "source": [
    "\n",
    ":::{admonition} Hinweis\n",
    ":class: note dropdown\n",
    "Use the plot function with the line specification for a dashed line, \"--\" and the \"LineWidth\" property value set to 2.\n",
    "\n",
    "plot(x,M,\"--\",\"PropertyName\",Value)\n",
    "\n",
    ":::\n",
    "\n",
    ":::{admonition} Lösung\n",
    ":class: tip dropdown\n",
    "\n",
    "``` python\n",
    "plot(yr,revenue,\"--\",\"LineWidth\",2)\n",
    "```\n",
    ":::"
   ]
  },
  {
   "cell_type": "markdown",
   "metadata": {},
   "source": [
    "\n",
    "\n",
    "The variable usage contains electricity usage data for each month from 1990 to 2019. \n",
    "\n",
    "Bild 3 hier wieder \n"
   ]
  },
  {
   "cell_type": "markdown",
   "metadata": {},
   "source": [
    ":::{admonition} Aufgabe 2.3\n",
    "Plot each year's electricity usage as a separate line versus the month, mth\n",
    ":::"
   ]
  },
  {
   "cell_type": "code",
   "execution_count": null,
   "metadata": {},
   "outputs": [],
   "source": [
    "# Ihr Code "
   ]
  },
  {
   "cell_type": "markdown",
   "metadata": {},
   "source": [
    "\n",
    ":::{admonition} Hinweis\n",
    ":class: note dropdown\n",
    "\n",
    "Use the plot function with mth as the x-axis data and usage as the y-axis data.\n",
    "\n",
    "plot(xData,yData)\n",
    "\n",
    "\n",
    ":::\n",
    "\n",
    ":::{admonition} Lösung\n",
    ":class: tip dropdown\n",
    "\n",
    "``` python\n",
    "plot(mth,usage)\n",
    "```\n",
    ":::"
   ]
  },
  {
   "cell_type": "markdown",
   "metadata": {},
   "source": [
    "Text"
   ]
  },
  {
   "cell_type": "markdown",
   "metadata": {},
   "source": [
    ":::{admonition} Aufgabe 2.4\n",
    "Plot each months's electricity usage as a separate line versus the year, yr.\n",
    ":::"
   ]
  },
  {
   "cell_type": "code",
   "execution_count": null,
   "metadata": {},
   "outputs": [],
   "source": [
    "# Ihr Code "
   ]
  },
  {
   "cell_type": "markdown",
   "metadata": {},
   "source": [
    "\n",
    ":::{admonition} Hinweis\n",
    ":class: note dropdown\n",
    "Use the plot function with yr as the x-axis data and usage' as the y-axis data.\n",
    "\n",
    "plot(xData,yData)\n",
    "\n",
    ":::\n",
    "\n",
    ":::{admonition} Lösung\n",
    ":class: tip dropdown\n",
    "\n",
    "``` python\n",
    "plot(yr,usage)\n",
    "```\n",
    ":::"
   ]
  },
  {
   "cell_type": "markdown",
   "metadata": {},
   "source": [
    "Text"
   ]
  },
  {
   "cell_type": "markdown",
   "metadata": {},
   "source": [
    ":::{admonition} Aufgabe 2.5\n",
    "Plot the revenue for the first month of each quarter (January, April, July, and October) as separate lines versus the year, yr. Add a descriptive legend to your plot.\n",
    ":::"
   ]
  },
  {
   "cell_type": "code",
   "execution_count": null,
   "metadata": {},
   "outputs": [],
   "source": [
    "# Ihr Code "
   ]
  },
  {
   "cell_type": "markdown",
   "metadata": {},
   "source": [
    "\n",
    ":::{admonition} Hinweis\n",
    ":class: note dropdown\n",
    "\n",
    "Hinweis\n",
    "Use the plot function with yr as the x-axis data and revenue(1:3:12,:)' as the y-axis data.\n",
    "\n",
    "plot(xData,yData)\n",
    "\n",
    ":::\n",
    "\n",
    ":::{admonition} Lösung\n",
    ":class: tip dropdown\n",
    "\n",
    "``` python\n",
    "firstMonth = revenue(1:3:12,:);\n",
    "plot(yr,firstMonth)\n",
    "legend(Q,\"Location\",\"northwest\")\n",
    "xlabel(\"Year\")\n",
    "ylabel(\"Revenue (US$)\")\n",
    "```\n",
    ":::"
   ]
  },
  {
   "cell_type": "markdown",
   "metadata": {},
   "source": [
    "The variable M in the workspace contains a string array of the month names. Try changing the x-tick labels in your first plot to display the month names.\n",
    "\n",
    "xticks(1:12)\n",
    "xticklabels(M)  \n",
    "\n",
    "\n",
    "\n",
    "Similarly, you can use M to create a legend for your second plot.\n",
    "\n",
    "legend(M,\"Location\",\"eastoutside\")\n",
    "\n",
    "\n",
    "\n",
    "You can open the solution script with the following command.\n",
    "\n",
    "edit plotElecDataSolnFP.mlx"
   ]
  },
  {
   "cell_type": "markdown",
   "metadata": {},
   "source": [
    ":::{admonition} Aufgabe 2.6\n",
    "\n",
    ":::"
   ]
  },
  {
   "cell_type": "code",
   "execution_count": null,
   "metadata": {},
   "outputs": [],
   "source": [
    "# Ihr Code "
   ]
  },
  {
   "cell_type": "markdown",
   "metadata": {},
   "source": [
    "\n",
    ":::{admonition} Hinweis\n",
    ":class: note dropdown\n",
    "\n",
    "\n",
    ":::\n",
    "\n",
    ":::{admonition} Lösung\n",
    ":class: tip dropdown\n",
    "\n",
    "``` python\n",
    "\n",
    "```\n",
    ":::"
   ]
  },
  {
   "cell_type": "markdown",
   "metadata": {},
   "source": [
    "<br>\n",
    "\n",
    "## Oberflächen erzeugen\n",
    "\n",
    "You can use the surf function to visualize an m-by-n matrix by representing each value in the matrix as the height of a surface.\n",
    "\n",
    "surf(A)\n",
    "\n",
    "Bild 8"
   ]
  },
  {
   "cell_type": "markdown",
   "metadata": {},
   "source": [
    ":::{admonition} Aufgabe 3.1\n",
    "Use surf to create a surface plot of the matrix revenue.\n",
    ":::"
   ]
  },
  {
   "cell_type": "code",
   "execution_count": null,
   "metadata": {},
   "outputs": [],
   "source": [
    "# Ihr Code "
   ]
  },
  {
   "cell_type": "markdown",
   "metadata": {},
   "source": [
    "\n",
    ":::{admonition} Hinweis\n",
    ":class: note dropdown\n",
    "\n",
    "Pass revenue to the surf function.\n",
    ":::\n",
    "\n",
    ":::{admonition} Lösung\n",
    ":class: tip dropdown\n",
    "\n",
    "``` python\n",
    "surf(revenue)\n",
    "```\n",
    ":::"
   ]
  },
  {
   "cell_type": "markdown",
   "metadata": {},
   "source": [
    "Just like the plot function, the data are plotted against the index values if you don't specify independent variables. If you want to specify the x and y values, you can pass those as vector input to the surf function and other matrix visualization functions.\n",
    "\n",
    "surf(X,Y,matrix)\n",
    "\n",
    "Bild 9\n",
    "\n",
    "If matrix is an m-by-n matrix, x is an n-element vector that describes the columns, and y is an m-element vector that describes the rows. "
   ]
  },
  {
   "cell_type": "markdown",
   "metadata": {},
   "source": [
    ":::{admonition} Aufgabe 3.2\n",
    "Recreate the surface plot, this time specifying the x and y data as yr and mth respectively.\n",
    ":::"
   ]
  },
  {
   "cell_type": "code",
   "execution_count": null,
   "metadata": {},
   "outputs": [],
   "source": [
    "# Ihr Code "
   ]
  },
  {
   "cell_type": "markdown",
   "metadata": {},
   "source": [
    "\n",
    ":::{admonition} Hinweis\n",
    ":class: note dropdown\n",
    "\n",
    "Pass yr, mth, and revenue to the surf function, in that order.\n",
    "\n",
    ":::\n",
    "\n",
    ":::{admonition} Lösung\n",
    ":class: tip dropdown\n",
    "\n",
    "``` python\n",
    "surf(yr,mth,revenue)\n",
    "```\n",
    ":::"
   ]
  },
  {
   "cell_type": "markdown",
   "metadata": {},
   "source": [
    "\n",
    "You can use the same syntax with the mesh function.\n",
    "\n",
    "mesh(X,Y,matrix)"
   ]
  },
  {
   "cell_type": "markdown",
   "metadata": {},
   "source": [
    ":::{admonition} Aufgabe 3.3\n",
    "Use mesh to create a mesh plot of the matrix revenue. Use the same x and y data\n",
    ":::"
   ]
  },
  {
   "cell_type": "code",
   "execution_count": null,
   "metadata": {},
   "outputs": [],
   "source": [
    "# Ihr Code "
   ]
  },
  {
   "cell_type": "markdown",
   "metadata": {},
   "source": [
    "\n",
    ":::{admonition} Hinweis\n",
    ":class: note dropdown\n",
    "\n",
    "Pass yr, mth, and revenue to the mesh function, in that order.\n",
    ":::\n",
    "\n",
    ":::{admonition} Lösung\n",
    ":class: tip dropdown\n",
    "\n",
    "``` python\n",
    "mesh(yr,mth,revenue)\n",
    "```\n",
    ":::"
   ]
  },
  {
   "cell_type": "markdown",
   "metadata": {},
   "source": [
    "\n",
    "You can use a contour plot to visualize matrix data in two dimensions.\n",
    "\n",
    "contour(X,Y,matrix)"
   ]
  },
  {
   "cell_type": "markdown",
   "metadata": {},
   "source": [
    ":::{admonition} Aufgabe 3.4\n",
    "Use contour to create a contour plot of the matrix revenue. Use the same x and y data.\n",
    ":::"
   ]
  },
  {
   "cell_type": "code",
   "execution_count": null,
   "metadata": {},
   "outputs": [],
   "source": [
    "# Ihr Code "
   ]
  },
  {
   "cell_type": "markdown",
   "metadata": {},
   "source": [
    "\n",
    ":::{admonition} Hinweis\n",
    ":class: note dropdown\n",
    "\n",
    "Pass yr, mth, and revenue to the contour function, in that order.\n",
    "\n",
    ":::\n",
    "\n",
    ":::{admonition} Lösung\n",
    ":class: tip dropdown\n",
    "\n",
    "``` python\n",
    "contour(yr,mth,revenue)\n",
    "```\n",
    ":::"
   ]
  },
  {
   "cell_type": "markdown",
   "metadata": {},
   "source": [
    "Text"
   ]
  },
  {
   "cell_type": "markdown",
   "metadata": {},
   "source": [
    ":::{admonition} Aufgabe 3.5\n",
    "The y-axis labels in both plots might be more clear if you used text instead of numbers. Try changing the tick labels of the y-axis to the values contained in M.\n",
    "\n",
    "yticks(1:12)\n",
    "yticklabels(M)\n",
    "\n",
    "\n",
    "In the surface plot, try also changing the rotation of the y-axis labels.\n",
    "\n",
    "ytickangle(30)\n",
    "\n",
    "\n",
    "\n",
    "Try changing the x-tick labels on the different plot types.\n",
    ":::"
   ]
  },
  {
   "cell_type": "code",
   "execution_count": null,
   "metadata": {},
   "outputs": [],
   "source": [
    "# Ihr Code "
   ]
  },
  {
   "cell_type": "markdown",
   "metadata": {},
   "source": [
    "\n",
    ":::{admonition} Hinweis\n",
    ":class: note dropdown\n",
    "\n",
    "\n",
    "\n",
    "plot(xData,yData)\n",
    "\n",
    ":::\n",
    "\n",
    ":::{admonition} Lösung\n",
    ":class: tip dropdown\n",
    "\n",
    "``` python\n",
    "\n",
    "```\n",
    ":::"
   ]
  },
  {
   "cell_type": "markdown",
   "metadata": {},
   "source": [
    "Bild 10 ist Idee für Quiz"
   ]
  }
 ],
 "metadata": {
  "language_info": {
   "name": "python"
  }
 },
 "nbformat": 4,
 "nbformat_minor": 2
}
