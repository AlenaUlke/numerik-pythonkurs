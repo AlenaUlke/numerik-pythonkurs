{
 "cells": [
  {
   "cell_type": "markdown",
   "metadata": {},
   "source": [
    "# Plots individuell gestalten\n",
    "\n",
    "\n",
    "## Eigenschaften des Plots anpassen\n",
    "\n",
    "A large number of properties of plot elements can be specified directly using optional pairs of inputs to the plot function (and other similar plotting functions):\n",
    "\n",
    "plot(x,y,Property1,Value1,Property2,Value2,Property3,Value3,...)\n",
    "\n",
    "The properties are given as text, such as \"LineWidth\".\n",
    "The accompanying value can be either a string or a numeric value, depending on the details of the property."
   ]
  },
  {
   "cell_type": "code",
   "execution_count": null,
   "metadata": {
    "tags": [
     "thebe-init"
    ]
   },
   "outputs": [],
   "source": [
    "# Einbinden des Pakets numpy unter dem Alias 'np'\n",
    "x = 2000:2007;\n",
    "y = [4.88 7.49 8.41 9.42 9.67 8.79 11.72 13.63];\n",
    "plot(x,y,\"o-\")"
   ]
  },
  {
   "cell_type": "markdown",
   "metadata": {},
   "source": [
    ":::{admonition} Aufgabe 1.1\n",
    "Repeat the plot command in the script, using a solid line and circular markers. This time use a \"MarkerSize\" of 10.\n",
    ":::"
   ]
  },
  {
   "cell_type": "code",
   "execution_count": null,
   "metadata": {},
   "outputs": [],
   "source": [
    "# Ihr Code "
   ]
  },
  {
   "cell_type": "markdown",
   "metadata": {},
   "source": [
    "\n",
    ":::{admonition} Hinweis\n",
    ":class: note dropdown\n",
    "\n",
    "You can specify the marker size by setting the \"MarkerSize\" property.\n",
    "plot(x,y,\"o-\",\"PropertyName\",PropertyValue)\n",
    ":::\n",
    "\n",
    ":::{admonition} Lösung\n",
    ":class: tip dropdown\n",
    "\n",
    "``` python\n",
    "plot(x,y,\"o-\",\"MarkerSize\",10)\n",
    "```\n",
    ":::"
   ]
  },
  {
   "cell_type": "markdown",
   "metadata": {},
   "source": [
    "You can set multiple properties at once by providing multiple pairs of property names and values.\n",
    "\n",
    "    The properties can be given in any order.\n",
    "    A property must be immediately followed by its value.\n",
    "    The name-value pairs appear at the end of the argument list."
   ]
  },
  {
   "cell_type": "markdown",
   "metadata": {},
   "source": [
    ":::{admonition} Aufgabe 1.2\n",
    "Plot the data with a solid line, circular markers of size 10, and a marker fill color of green (\"g\").\n",
    "\n",
    "You can set the fill color of markers with the \"MarkerFaceColor\" property.\n",
    ":::"
   ]
  },
  {
   "cell_type": "code",
   "execution_count": null,
   "metadata": {},
   "outputs": [],
   "source": [
    "# Ihr Code "
   ]
  },
  {
   "cell_type": "markdown",
   "metadata": {},
   "source": [
    "\n",
    ":::{admonition} Hinweis\n",
    ":class: note dropdown\n",
    "Specify both the \"MarkerSize\" and \"MarkerFaceColor\" properties (to 10 and \"g\", respectively).\n",
    "\n",
    "plot(x,y,\"o-\",Property1,Value1,Property2,Value2)\n",
    ":::\n",
    "\n",
    ":::{admonition} Lösung\n",
    ":class: tip dropdown\n",
    "\n",
    "``` python\n",
    "plot(x,y,\"o-\",\"MarkerSize\",10,\"MarkerFaceColor\",\"g\")\n",
    "```\n",
    ":::\n"
   ]
  },
  {
   "cell_type": "markdown",
   "metadata": {},
   "source": [
    "You can experiment with modifying other properties, such as the line width. Other than the properties that can be changed with line specification input (marker, line style, and line color), the most commonly modified properties for a line plot are:\n",
    "\n",
    "    LineWidth (width of the line and marker edges)\n",
    "    MarkerSize (size of the marker symbols)\n",
    "    MarkerEdgeColor (color of the edge of the marker symbols)\n",
    "    MarkerFaceColor (color of the interior of the marker symbols)\n",
    "\n",
    "\n",
    "Different graphical objects, including different plot types, have different sets of properties. Rather than try to remember the vast number of property names for each of the various types of graphical objects, you can access detailed documentation on MATLAB Graphics Objects Properties."
   ]
  },
  {
   "cell_type": "markdown",
   "metadata": {},
   "source": [
    ":::{admonition} Aufgabe 1.3\n",
    "\n",
    ":::"
   ]
  },
  {
   "cell_type": "code",
   "execution_count": null,
   "metadata": {},
   "outputs": [],
   "source": [
    "# Ihr Code "
   ]
  },
  {
   "cell_type": "markdown",
   "metadata": {},
   "source": [
    "\n",
    ":::{admonition} Hinweis\n",
    ":class: note dropdown\n",
    "\n",
    ":::\n",
    "\n",
    ":::{admonition} Lösung\n",
    ":class: tip dropdown\n",
    "\n",
    "``` python\n",
    "```\n",
    ":::"
   ]
  },
  {
   "cell_type": "markdown",
   "metadata": {},
   "source": [
    "For eight specific colors, you can refer to them by name or a single letter abbreviation:\n",
    "red (r)\tgreen (g)\tblue (b)\tblack (k)\n",
    "magenta (m)\tyellow (y)\tcyan (c)\twhite (w)"
   ]
  },
  {
   "cell_type": "code",
   "execution_count": null,
   "metadata": {},
   "outputs": [],
   "source": [
    "# Einbinden des Pakets numpy unter dem Alias 'np'\n",
    "x = 0:0.1:2*pi;\n",
    "y = sin(x);\n",
    "plot(x,y)"
   ]
  },
  {
   "cell_type": "markdown",
   "metadata": {},
   "source": [
    ":::{admonition} Aufgabe 1.4\n",
    "Plot the data stored in the x and y variables again, this time with a black line.\n",
    ":::"
   ]
  },
  {
   "cell_type": "code",
   "execution_count": null,
   "metadata": {},
   "outputs": [],
   "source": [
    "# Ihr Code "
   ]
  },
  {
   "cell_type": "markdown",
   "metadata": {},
   "source": [
    "\n",
    ":::{admonition} Hinweis\n",
    ":class: note dropdown\n",
    "\n",
    "You can use the optional line specification input to the plot function to specify line color with a text code. Use \"k\" or \"black\" to specify a black line.\n",
    "\n",
    "plot(x,y,\"k\")\n",
    ":::\n",
    "\n",
    ":::{admonition} Lösung\n",
    ":class: tip dropdown\n",
    "\n",
    "``` python\n",
    "plot(x,y,\"k\")\n",
    "```\n",
    ":::"
   ]
  },
  {
   "cell_type": "markdown",
   "metadata": {},
   "source": [
    "You can specify over ten million other colors with a 3-element vector of red-green-blue (RGB) values. The three elements correspond to the fractional red, green, and blue parts of the color composition. The values in this RGB range from 0 to 1.\n",
    "\n",
    "Note that you cannot use an RGB triplet in the line specification input. Instead, to specify line color with an RGB vector, you need to provide an optional property name-value pair to the plot function. The property name is \"Color\" and the corresponding value is the RGB triplet"
   ]
  },
  {
   "cell_type": "markdown",
   "metadata": {},
   "source": [
    ":::{admonition} Aufgabe 1.5\n",
    "Plot the data with the \"Color\" property set to the RGB vector [0.5 0.6 0].\n",
    ":::"
   ]
  },
  {
   "cell_type": "code",
   "execution_count": null,
   "metadata": {},
   "outputs": [],
   "source": [
    "# Ihr Code "
   ]
  },
  {
   "cell_type": "markdown",
   "metadata": {},
   "source": [
    "\n",
    ":::{admonition} Hinweis\n",
    ":class: note dropdown\n",
    "\n",
    "Specify the \"Color\" property with an associated value of [0.5 0.6 0].\n",
    "\n",
    "plot(x,y,Property,Value)\n",
    ":::\n",
    "\n",
    ":::{admonition} Lösung\n",
    ":class: tip dropdown\n",
    "\n",
    "``` python\n",
    "plot(x,y,\"Color\",[0.5 0.6 0])\n",
    "```\n",
    ":::"
   ]
  },
  {
   "cell_type": "markdown",
   "metadata": {},
   "source": [
    "You can use either text codes or RGB vectors when specifying any color property."
   ]
  },
  {
   "cell_type": "markdown",
   "metadata": {},
   "source": [
    ":::{admonition} Aufgabe 1.6\n",
    "Plot the data with cyan circular markers and a solid line with the custom color [0.6 0.2 0.8].\n",
    "\n",
    "Use the \"MarkerEdgeColor\" and \"Color\" properties to set the colors. Cyan can be specified with the text code \"c\".\n",
    ":::"
   ]
  },
  {
   "cell_type": "code",
   "execution_count": null,
   "metadata": {},
   "outputs": [],
   "source": [
    "# Ihr Code "
   ]
  },
  {
   "cell_type": "markdown",
   "metadata": {},
   "source": [
    "\n",
    ":::{admonition} Hinweis\n",
    ":class: note dropdown\n",
    "\n",
    "Use the \"o-\" line specification and set both properties by specifying name-value pairs. Use the RGB vector to set the line color and the code \"c\" to set the marker color.\n",
    "\n",
    "plot(x,y,\"o-\",\"Color\",RGB,\"MarkerEdgeColor\",code)\n",
    ":::\n",
    "\n",
    ":::{admonition} Lösung\n",
    ":class: tip dropdown\n",
    "\n",
    "``` python\n",
    "plot(x,y,\"o-\",\"Color\",[0.6 0.2 0.8],\"MarkerEdgeColor\",\"c\")\n",
    "```\n",
    ":::"
   ]
  },
  {
   "cell_type": "markdown",
   "metadata": {},
   "source": [
    "In the last plot, the edge of the markers and the line are different colors. What happens when we change the face color of the markers?"
   ]
  },
  {
   "cell_type": "markdown",
   "metadata": {},
   "source": [
    ":::{admonition} Aufgabe 1.7\n",
    "Plot the data with cyan circular markers and a solid line with the custom color [0.6 0.2 0.8].\n",
    "\n",
    "This time, use the \"MarkerFaceColor\" instead of \"MarkerEdgeColor\".\n",
    ":::"
   ]
  },
  {
   "cell_type": "code",
   "execution_count": null,
   "metadata": {},
   "outputs": [],
   "source": [
    "# Ihr Code "
   ]
  },
  {
   "cell_type": "markdown",
   "metadata": {},
   "source": [
    "\n",
    ":::{admonition} Hinweis\n",
    ":class: note dropdown\n",
    "\n",
    "Change \"MarkerEdgeColor\" to \"MarkerFaceColor\".\n",
    ":::\n",
    "\n",
    ":::{admonition} Lösung\n",
    ":class: tip dropdown\n",
    "\n",
    "``` python\n",
    "plot(x,y,\"o-\",\"Color\",[0.6 0.2 0.8],\"MarkerFaceColor\",\"c\")\n",
    "```\n",
    ":::"
   ]
  },
  {
   "cell_type": "markdown",
   "metadata": {},
   "source": [
    "You may have noticed that when there are multiple plots on a graph, they have different colors, and the sequence of colors MATLAB uses is always the same. This is called the color order and can be accessed programmatically.\n",
    "\n",
    "cols = colororder"
   ]
  },
  {
   "cell_type": "code",
   "execution_count": null,
   "metadata": {},
   "outputs": [],
   "source": [
    "# Ihr Code "
   ]
  },
  {
   "cell_type": "markdown",
   "metadata": {},
   "source": [
    "<br>\n",
    "\n",
    "## Echte Daten plotten und gestalten\n",
    "\n",
    "Hier benötigen wir einen echten Datensatz. Der in Matlab ist resElectricity. Dieser beinhaltet 3 315x1 Vektoren. residential (residential electricity usage), year (Jahreszahl wie 1999) und resFitted"
   ]
  },
  {
   "cell_type": "markdown",
   "metadata": {},
   "source": [
    "Hier erklären, was der Datensatz macht."
   ]
  },
  {
   "cell_type": "code",
   "execution_count": null,
   "metadata": {},
   "outputs": [],
   "source": [
    "# Datensatz laden oder so, wie auch immer wir das machen"
   ]
  },
  {
   "cell_type": "markdown",
   "metadata": {},
   "source": [
    ":::{admonition} Aufgabe 2.1\n",
    "Plot the residential electricity usage (residential) as a function of yr with a solid line and circular markers of size 3 filled with the custom color given by RGB = [0.7 0.9 1].\n",
    ":::"
   ]
  },
  {
   "cell_type": "code",
   "execution_count": null,
   "metadata": {},
   "outputs": [],
   "source": [
    "# Ihr Code "
   ]
  },
  {
   "cell_type": "markdown",
   "metadata": {},
   "source": [
    "\n",
    ":::{admonition} Hinweis\n",
    ":class: note dropdown\n",
    "\n",
    "Use the plot function to plot residential against yr with circular markers and a solid line. Use property name-value pairs to set the \"MarkerSize\" and \"MarkerFaceColor\" properties.\n",
    "\n",
    "plot(x,y,\"o-\",\"Property1\",Value1,\"Property2\",Value2)\n",
    ":::\n",
    "\n",
    ":::{admonition} Lösung\n",
    ":class: tip dropdown\n",
    "\n",
    "``` python\n",
    "plot(yr,residential,\"o-\",\"MarkerSize\",3,\"MarkerFaceColor\",[0.7 0.9 1])\n",
    "```\n",
    ":::"
   ]
  },
  {
   "cell_type": "markdown",
   "metadata": {},
   "source": [
    ":::{admonition} Aufgabe 2.2\n",
    "Add the fitted model (resFitted) as a function of yr to the plot, using a solid red line of width 2 (and no markers).\n",
    ":::"
   ]
  },
  {
   "cell_type": "code",
   "execution_count": null,
   "metadata": {},
   "outputs": [],
   "source": [
    "# Ihr Code "
   ]
  },
  {
   "cell_type": "markdown",
   "metadata": {},
   "source": [
    "\n",
    ":::{admonition} Hinweis\n",
    ":class: note dropdown\n",
    "\n",
    "Use hold on and hold off to add to your current plot.\n",
    "\n",
    "Use the plot function to plot resFitted against yr with a solid red line. Use a property name-value pair to set the \"LineWidth\" property.\n",
    ":::\n",
    "\n",
    ":::{admonition} Lösung\n",
    ":class: tip dropdown\n",
    "\n",
    "``` python\n",
    "hold on\n",
    "plot(yr,resFitted,\"r\",\"LineWidth\",2)\n",
    "hold off\n",
    "```\n",
    ":::"
   ]
  },
  {
   "cell_type": "markdown",
   "metadata": {},
   "source": [
    "Erkläre hier, wie die Legende funktionier. Eventuell noch das mit den Achsen, wenn es nicht eh gleich kommt."
   ]
  },
  {
   "cell_type": "markdown",
   "metadata": {},
   "source": [
    ":::{admonition} Aufgabe 2.3\n",
    "Add a legend and other annotations to your plot.\n",
    "\n",
    "Try modifying the x-axis limits to fit the data.\n",
    "\n",
    "xlim([yr(1) yr(end)])\n",
    ":::"
   ]
  },
  {
   "cell_type": "code",
   "execution_count": null,
   "metadata": {},
   "outputs": [],
   "source": [
    "# Ihr Code "
   ]
  },
  {
   "cell_type": "markdown",
   "metadata": {},
   "source": [
    "\n",
    ":::{admonition} Hinweis\n",
    ":class: note dropdown\n",
    "\n",
    ":::\n",
    "\n",
    ":::{admonition} Lösung\n",
    ":class: tip dropdown\n",
    "\n",
    "``` python\n",
    "\n",
    "```\n",
    ":::"
   ]
  },
  {
   "cell_type": "markdown",
   "metadata": {},
   "source": [
    "<br>\n",
    "\n",
    "## Anpassung der Achsen\n",
    "\n",
    "How do you change the scale of a plot?\n",
    "MATLAB automatically chooses the limits and tick markings for plot axes. Although the automatic values are usually aesthetically reasonable, you may want more precise control of the axis appearance to investigate subsets of the data.\n",
    "\n",
    "For instance, this graph tracking gas prices shows an upward trend starting in 2001. How can you zoom in on the data from that point on? And how can you see the changing gas prices on an absolute scale where the y -axis starts at zero? \n",
    "\n",
    "Bild 1 shows such a plot. We want to reproduce something close to that.\n",
    "\n",
    "In this practice, you will learn to control the axes of a plot so you can focus on a portion of the data and control the scale on which it is displayed. "
   ]
  },
  {
   "cell_type": "markdown",
   "metadata": {},
   "source": [
    "Before looking at the data from the 1990's separately from the 2000's, let's extract the default limits of the graph.\n",
    "\n",
    "You can use the function axis with no inputs to get the current axes limits. For example, if the following figure is open:\n",
    "\n",
    "Bild 2 \n",
    "\n",
    "then the command v = axis returns a vector of 4 elements containing the x- and y-axis limits.\n",
    "\n",
    "v = axis\n",
    " v = \n",
    "      10   20   1   5\n",
    "\n",
    "\n",
    "Wir benötigen hier einen Datensatz, der ähnliche Dinge tut, wie der in Matlab. Dort stehen für verschiedene Länder die Gaspreise für verschieden Zeiten."
   ]
  },
  {
   "cell_type": "code",
   "execution_count": null,
   "metadata": {},
   "outputs": [],
   "source": [
    "# Einbinden des Pakets numpy unter dem Alias 'np'\n",
    "load AuDeMx\n",
    "plot(Year,Australia,\"*--\")\n",
    "hold on\n",
    "plot(Year,Germany,\"*--\")\n",
    "plot(Year,Mexico,\"*--\")\n",
    "hold off\n",
    "xlabel(\"Year\")\n",
    "ylabel(\"Prices (USD/gal)\")\n",
    "t = \"Gasoline Prices\";\n",
    "title(t)\n",
    "legend(\"Australia\",\"Germany\",\"Mexico\",\"Location\",\"northwest\")"
   ]
  },
  {
   "cell_type": "markdown",
   "metadata": {},
   "source": [
    ":::{admonition} Aufgabe 3.1\n",
    "Get the existing axes limits of the plot and store them in the variable xyLims.\n",
    ":::"
   ]
  },
  {
   "cell_type": "code",
   "execution_count": null,
   "metadata": {},
   "outputs": [],
   "source": [
    "# Ihr Code "
   ]
  },
  {
   "cell_type": "markdown",
   "metadata": {},
   "source": [
    "\n",
    ":::{admonition} Hinweis\n",
    ":class: note dropdown\n",
    "\n",
    "Enter the command axis and assign it to xyLims.\n",
    ":::\n",
    "\n",
    ":::{admonition} Lösung\n",
    ":class: tip dropdown\n",
    "\n",
    "``` python\n",
    "xyLims = axis\n",
    "```\n",
    ":::"
   ]
  },
  {
   "cell_type": "markdown",
   "metadata": {},
   "source": [
    "You can use the functions xlim and ylim to set the x- and y-axis limits. Both functions take a vector of two elements as an input. For example, the following command sets the lower y-axis limit to 2 and the upper y-axis limit to 4.\n",
    "ylim([2 4])"
   ]
  },
  {
   "cell_type": "code",
   "execution_count": null,
   "metadata": {},
   "outputs": [],
   "source": [
    "# Einbinden des Pakets numpy unter dem Alias 'np'\n"
   ]
  },
  {
   "cell_type": "markdown",
   "metadata": {},
   "source": [
    ":::{admonition} Aufgabe 3.2\n",
    "Change the y-axis limits so that y starts at 0 and has the same upper limit as before.\n",
    ":::"
   ]
  },
  {
   "cell_type": "code",
   "execution_count": null,
   "metadata": {},
   "outputs": [],
   "source": [
    "# Ihr Code "
   ]
  },
  {
   "cell_type": "markdown",
   "metadata": {},
   "source": [
    "\n",
    ":::{admonition} Hinweis\n",
    ":class: note dropdown\n",
    "\n",
    "Use the ylim function to change the y-axis limits to values specified in a vector. You can create the vector using the xyLims variable.\n",
    "\n",
    "[0 xyLims(end)];\n",
    ":::\n",
    "\n",
    ":::{admonition} Lösung\n",
    ":class: tip dropdown\n",
    "\n",
    "``` python\n",
    "ylim([0 xyLims(end)])\n",
    "```\n",
    ":::"
   ]
  },
  {
   "cell_type": "markdown",
   "metadata": {},
   "source": [
    "To focus on the steady increase that started around 2001, you need to change the x- axis limits to start at 2001 and go to the final year, which is stored in the second element of xyLims."
   ]
  },
  {
   "cell_type": "code",
   "execution_count": null,
   "metadata": {},
   "outputs": [],
   "source": [
    "# Einbinden des Pakets numpy unter dem Alias 'np'\n"
   ]
  },
  {
   "cell_type": "markdown",
   "metadata": {},
   "source": [
    ":::{admonition} Aufgabe 3.3\n",
    "Change the x-axis limits so that x starts at 2001 and has the same upper limit as before.\n",
    ":::"
   ]
  },
  {
   "cell_type": "code",
   "execution_count": null,
   "metadata": {},
   "outputs": [],
   "source": [
    "# Ihr Code "
   ]
  },
  {
   "cell_type": "markdown",
   "metadata": {},
   "source": [
    "\n",
    ":::{admonition} Hinweis\n",
    ":class: note dropdown\n",
    "\n",
    "Use the xlim(v) function to change the x-axis limits to values specified in a vector. The first element of of the vector should be 2001, and you can get the second element using the xyLims variable.\n",
    "\n",
    "[2001 xyLims(2)];\n",
    ":::\n",
    "\n",
    ":::{admonition} Lösung\n",
    ":class: tip dropdown\n",
    "\n",
    "``` python\n",
    "xlim([2001 xyLims(2)])\n",
    "```\n",
    ":::"
   ]
  },
  {
   "cell_type": "markdown",
   "metadata": {},
   "source": [
    "\n",
    "When you change the x- and y-axis limits, the underlying data in the axes is not modified—it's all still there. Only the way the plot is displayed is changed.\n",
    "\n",
    "If you want to change the axes limits to equal exactly the range of the data, use the command:\n",
    "\n",
    "axis tight"
   ]
  },
  {
   "cell_type": "code",
   "execution_count": null,
   "metadata": {},
   "outputs": [],
   "source": [
    "# Einbinden des Pakets numpy unter dem Alias 'np'\n"
   ]
  },
  {
   "cell_type": "markdown",
   "metadata": {},
   "source": [
    ":::{admonition} Aufgabe 3.4\n",
    "Change the axis limits to match the smallest and the largest values in the data.\n",
    ":::"
   ]
  },
  {
   "cell_type": "code",
   "execution_count": null,
   "metadata": {},
   "outputs": [],
   "source": [
    "# Ihr Code "
   ]
  },
  {
   "cell_type": "markdown",
   "metadata": {},
   "source": [
    "\n",
    ":::{admonition} Hinweis\n",
    ":class: note dropdown\n",
    "\n",
    "Use the command:\n",
    "\n",
    "axis tight\n",
    ":::\n",
    "\n",
    ":::{admonition} Lösung\n",
    ":class: tip dropdown\n",
    "\n",
    "``` python\n",
    "axis tight\n",
    "```\n",
    ":::"
   ]
  },
  {
   "cell_type": "markdown",
   "metadata": {},
   "source": [
    "Try other options for axis. What do you think each one does?\n",
    "\n",
    "    axis equal\n",
    "    axis square\n",
    "    axis normal"
   ]
  },
  {
   "cell_type": "markdown",
   "metadata": {},
   "source": [
    ":::{admonition} Aufgabe 3.5\n",
    "Try other options for axis. What do you think each one does?\n",
    "\n",
    "    axis equal\n",
    "    axis square\n",
    "    axis normal\n",
    ":::"
   ]
  },
  {
   "cell_type": "code",
   "execution_count": null,
   "metadata": {},
   "outputs": [],
   "source": [
    "# Ihr Code "
   ]
  },
  {
   "cell_type": "markdown",
   "metadata": {},
   "source": [
    "\n",
    ":::{admonition} Hinweis\n",
    ":class: note dropdown\n",
    "\n",
    ":::\n",
    "\n",
    ":::{admonition} Lösung\n",
    ":class: tip dropdown\n",
    "\n",
    "``` python\n",
    "\n",
    "```\n",
    ":::"
   ]
  },
  {
   "cell_type": "code",
   "execution_count": null,
   "metadata": {},
   "outputs": [],
   "source": []
  }
 ],
 "metadata": {
  "language_info": {
   "name": "python"
  }
 },
 "nbformat": 4,
 "nbformat_minor": 2
}
