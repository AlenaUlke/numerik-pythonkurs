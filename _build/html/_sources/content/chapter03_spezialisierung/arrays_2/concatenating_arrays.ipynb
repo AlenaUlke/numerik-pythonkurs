{
 "cells": [
  {
   "cell_type": "markdown",
   "metadata": {},
   "source": [
    "# Arrays zusammenfügen\n",
    "\n",
    "Hier erklären, wie man Arrays zusammenfügt. Ähnlich motivieren wie in Bild 9, dass man Umweltschermutzungsdaten vom Morgen und Abend unter der Woche hat und die vom Wochenende\n",
    "\n",
    "## Existierende Arrays kombinieren\n",
    "\n",
    "Bild 10 (hier) und 11 (bei der nächsten Aufgabe) verwenden, um zu erklären, wie man Arrays kombinieren kann. Aber achtung aufpassen bei den Dimensionen, dass Spalten und Zeilen zusammenpassen.\n",
    "\n",
    "You can concatenate two matrices horizontally (side-by-side) if they are the same height (have an equal number of rows).\n",
    "z = [ x y ]\n",
    "Use square brackets around the matrices and separate them with a space.\n",
    "\n",
    "x = [x11 ; x21];\n",
    "y = [y11 y12 ; y21 y22];\n",
    "z = [x y]\n",
    "\n",
    "$$\n",
    "    \\begin{pmatrix} \n",
    "        x11 & y11 & y12 \\\\\n",
    "        x21 & y21 & y22\n",
    "    \\end{pmatrix}\n",
    "$$\n"
   ]
  },
  {
   "cell_type": "code",
   "execution_count": null,
   "metadata": {
    "tags": [
     "thebe-init"
    ]
   },
   "outputs": [],
   "source": [
    "# Hier kommt erklärender Code\n",
    "A = [1 2 3;4 5 6]\n",
    "B = [1 2;3 4;5 6]\n",
    "C = [1 2 3;4 NaN 6;7 8 9]"
   ]
  },
  {
   "cell_type": "markdown",
   "metadata": {},
   "source": [
    ":::{admonition} Aufgabe 1.1\n",
    "Create a 3-by-5 matrix named BC concatenating B and C where B is on the left and C is on the right.\n",
    "\n",
    ":::"
   ]
  },
  {
   "cell_type": "code",
   "execution_count": null,
   "metadata": {},
   "outputs": [],
   "source": [
    "# Ihr Code "
   ]
  },
  {
   "cell_type": "markdown",
   "metadata": {},
   "source": [
    ":::{admonition} Hinweis\n",
    ":class: note dropdown\n",
    "\n",
    "Use square brackets and a space to concatenate matrices horizontally.\n",
    "\n",
    "mCat = [m1 m2 m3]\n",
    ":::\n",
    "\n",
    ":::{admonition} Lösung\n",
    ":class: tip dropdown\n",
    "\n",
    "``` python\n",
    "BC = [B C]\n",
    "```\n",
    ":::"
   ]
  },
  {
   "cell_type": "markdown",
   "metadata": {},
   "source": [
    "You can concatenate two matrices vertically (stacked on top of one another) using ; if they are the same width (have an equal number of columns).\n",
    "z = [ x ; y ]\n",
    "Use square brackets around the matrices and separate them with a ;.\n",
    "\n",
    "x = [x11 x12; x21 x22];\n",
    "y = [y11 y12];\n",
    "z = [x;y]\n",
    "\n",
    "$$\n",
    "    \\begin{pmatrix} \n",
    "        x11 & x12\\\\\n",
    "        x21 & x22\\\\\n",
    "        y11 & y12\n",
    "    \\end{pmatrix}\n",
    "$$"
   ]
  },
  {
   "cell_type": "markdown",
   "metadata": {},
   "source": [
    ":::{admonition} Aufgabe 1.2\n",
    "Create a 5-by-3 matrix named CA where C is on top of A.\n",
    ":::"
   ]
  },
  {
   "cell_type": "code",
   "execution_count": null,
   "metadata": {},
   "outputs": [],
   "source": [
    "# Ihr Code "
   ]
  },
  {
   "cell_type": "markdown",
   "metadata": {},
   "source": [
    ":::{admonition} Hinweis\n",
    ":class: note dropdown\n",
    "\n",
    "Use square brackets and ; to concatenate matrices vertically.\n",
    "\n",
    "mCat = [m1;m2;m3]\n",
    ":::\n",
    "\n",
    ":::{admonition} Lösung\n",
    ":class: tip dropdown\n",
    "\n",
    "``` python\n",
    "CA = [C;A]\n",
    "```\n",
    ":::"
   ]
  },
  {
   "cell_type": "markdown",
   "metadata": {},
   "source": [
    "Text"
   ]
  },
  {
   "cell_type": "code",
   "execution_count": null,
   "metadata": {},
   "outputs": [],
   "source": [
    "# Hier kommt erklärender Code\n",
    "import numpy as np "
   ]
  },
  {
   "cell_type": "markdown",
   "metadata": {},
   "source": [
    ":::{admonition} Aufgabe 1.3\n",
    "Add a row containing 10, 11, and 12, in order, to the bottom of C. Name the resulting matrix CR.\n",
    "\n",
    "$$\n",
    "    \\begin{pmatrix} \n",
    "        1 & 3 & 3\\\\\n",
    "        4 & NaN & 6\\\\\n",
    "        7 & 8 & 9\\\\\n",
    "        10 & 11 & 12\n",
    "    \\end{pmatrix}\n",
    "$$\n",
    "\n",
    ":::"
   ]
  },
  {
   "cell_type": "code",
   "execution_count": null,
   "metadata": {},
   "outputs": [],
   "source": [
    "# Ihr Code "
   ]
  },
  {
   "cell_type": "markdown",
   "metadata": {},
   "source": [
    ":::{admonition} Hinweis\n",
    ":class: note dropdown\n",
    "Use square brackets and use ; between rows.\n",
    "\n",
    "result = [m; x11 x12 x13]\n",
    ":::\n",
    "\n",
    ":::{admonition} Lösung\n",
    ":class: tip dropdown\n",
    "\n",
    "``` python\n",
    "CR = [C; 10 11 12]\n",
    "```\n",
    ":::"
   ]
  },
  {
   "cell_type": "markdown",
   "metadata": {},
   "source": [
    "Text"
   ]
  },
  {
   "cell_type": "code",
   "execution_count": null,
   "metadata": {},
   "outputs": [],
   "source": [
    "# Hier kommt erklärender Code\n",
    "import numpy as np "
   ]
  },
  {
   "cell_type": "markdown",
   "metadata": {},
   "source": [
    ":::{admonition} Aufgabe 1.4\n",
    "Add a column containing 10, 11, and 12, in order, to the right of C. Name the resulting matrix CC.\n",
    "\n",
    "$$\n",
    "    \\begin{pmatrix} \n",
    "        1 & 3 & 3 & 10\\\\\n",
    "        4 & NaN & 6 & 11\\\\\n",
    "        7 & 8 & 9 & 12\\\\\n",
    "    \\end{pmatrix}\n",
    "$$:::"
   ]
  },
  {
   "cell_type": "code",
   "execution_count": null,
   "metadata": {},
   "outputs": [],
   "source": [
    "# Ihr Code "
   ]
  },
  {
   "cell_type": "markdown",
   "metadata": {},
   "source": [
    ":::{admonition} Hinweis\n",
    ":class: note dropdown\n",
    "\n",
    "You may find it helpful to use an intermediate column vector, and concatenate this with C. Use square brackets and use ; between rows.\n",
    "\n",
    "iv = (1:3)';\n",
    "result = [m iv]\n",
    ":::\n",
    "\n",
    ":::{admonition} Lösung\n",
    ":class: tip dropdown\n",
    "\n",
    "``` python\n",
    "v = [10;11;12];\n",
    "CC = [C v]\n",
    "```\n",
    ":::"
   ]
  },
  {
   "cell_type": "markdown",
   "metadata": {},
   "source": [
    ":::{admonition} Aufgabe 1.5\n",
    "Just like when creating vectors, spaces and commas are interchangeable. Give it a try, and see!\n",
    ":::"
   ]
  },
  {
   "cell_type": "code",
   "execution_count": null,
   "metadata": {},
   "outputs": [],
   "source": [
    "# Ihr Code "
   ]
  },
  {
   "cell_type": "markdown",
   "metadata": {},
   "source": [
    ":::{admonition} Hinweis\n",
    ":class: note dropdown\n",
    "\n",
    ":::\n",
    "\n",
    ":::{admonition} Lösung\n",
    ":class: tip dropdown\n",
    "\n",
    "``` python\n",
    "```\n",
    ":::"
   ]
  },
  {
   "cell_type": "markdown",
   "metadata": {},
   "source": [
    "Bild 12 und 13 sind möhliche Quizfragen."
   ]
  },
  {
   "cell_type": "markdown",
   "metadata": {},
   "source": [
    "<br>\n",
    "\n",
    "## Arrays mittels Zusammenfügen erstellen\n",
    "\n",
    "Text"
   ]
  },
  {
   "cell_type": "markdown",
   "metadata": {},
   "source": [
    ":::{admonition} Aufgabe 2.1\n",
    "Create the following arrays.\n",
    "$$\n",
    "s=\\begin{pmatrix} \n",
    "        99\n",
    "    \\end{pmatrix}, v = \n",
    "    \\begin{pmatrix} \n",
    "        1\\\\\n",
    "        2\\\\\n",
    "        3\n",
    "    \\end{pmatrix} und M = \\begin{pmatrix} \n",
    "        1 & 1 & 1\\\\\n",
    "        2 & 2 & 2\\\\\n",
    "        3 & 3 & 3\\\\\n",
    "    \\end{pmatrix}\n",
    "$$\n",
    "Note that once you have created v, you need not create M manually row by row.\n",
    ":::"
   ]
  },
  {
   "cell_type": "code",
   "execution_count": null,
   "metadata": {},
   "outputs": [],
   "source": [
    "# Ihr Code "
   ]
  },
  {
   "cell_type": "markdown",
   "metadata": {},
   "source": [
    ":::{admonition} Hinweis\n",
    ":class: note dropdown\n",
    "\n",
    "Create variables using the assignment operator.\n",
    "\n",
    "name = value\n",
    "\n",
    "\n",
    "\n",
    "You can create a vector using the colon operator. However, you will need to transpose it.\n",
    "\n",
    "vector = (firstNum:lastNum)'\n",
    "\n",
    "\n",
    "\n",
    "Create a matrix row by row.\n",
    "\n",
    " x = [ x11 x12 x13 ; x21 x22 x23 ; x31 x32 x33 ]\n",
    "\n",
    "\n",
    "You can also create a matrix by concatenating column vectors\n",
    "\n",
    "x = [A B C]\n",
    ":::\n",
    "\n",
    ":::{admonition} Lösung\n",
    ":class: tip dropdown\n",
    "\n",
    "``` python\n",
    "s = 99\n",
    "v = (1:3)'\n",
    "M = [1 1 1; 2 2 2; 3 3 3]\n",
    "x = [A B C]\n",
    "```\n",
    ":::"
   ]
  },
  {
   "cell_type": "markdown",
   "metadata": {},
   "source": [
    "Hier steht ein erklärender Text."
   ]
  },
  {
   "cell_type": "code",
   "execution_count": null,
   "metadata": {},
   "outputs": [],
   "source": [
    "# Hier kommt erklärender Code\n",
    "import numpy as np "
   ]
  },
  {
   "cell_type": "markdown",
   "metadata": {},
   "source": [
    ":::{admonition} Aufgabe 2.2\n",
    "Create a matrix named CM with the configuration shown below. \n",
    "$$\n",
    "\\begin{pmatrix} \n",
    "        M & v\\\\\n",
    "        v^T & s\n",
    "\\end{pmatrix}\n",
    "$$\n",
    ":::"
   ]
  },
  {
   "cell_type": "code",
   "execution_count": null,
   "metadata": {},
   "outputs": [],
   "source": [
    "# Ihr Code "
   ]
  },
  {
   "cell_type": "markdown",
   "metadata": {},
   "source": [
    ":::{admonition} Hinweis\n",
    ":class: note dropdown\n",
    "\n",
    "Concatenate row by row.\n",
    "\n",
    "M = [ A11 A12 ; A21 A22 ]\n",
    ":::\n",
    "\n",
    ":::{admonition} Lösung\n",
    ":class: tip dropdown\n",
    "\n",
    "``` python\n",
    "CM = [M v; v' s]\n",
    "\n",
    "```\n",
    ":::"
   ]
  },
  {
   "cell_type": "markdown",
   "metadata": {},
   "source": [
    "Text"
   ]
  },
  {
   "cell_type": "code",
   "execution_count": null,
   "metadata": {},
   "outputs": [],
   "source": [
    "# Hier kommt erklärender Code\n",
    "import numpy as np "
   ]
  },
  {
   "cell_type": "markdown",
   "metadata": {},
   "source": [
    ":::{admonition} Aufgabe 2.3\n",
    "Aufgabe\n",
    "Create a matrix named CM2 with the configuration shown below. \n",
    "$$\n",
    "\\begin{pmatrix} \n",
    "        M & s\\\\\n",
    "        v^T & v\n",
    "\\end{pmatrix}\n",
    "$$\n",
    ":::"
   ]
  },
  {
   "cell_type": "code",
   "execution_count": null,
   "metadata": {},
   "outputs": [],
   "source": [
    "# Ihr Code "
   ]
  },
  {
   "cell_type": "markdown",
   "metadata": {},
   "source": [
    ":::{admonition} Hinweis\n",
    ":class: note dropdown\n",
    "\n",
    "It might help to make an intermediate matrix that concatenates M on top of v' using ;. And another that concatenates s on top of v using ;. Then, concatenate the intermediate matrices using a space.\n",
    "\n",
    "im1 = [ A1 ; A2' ]\n",
    "im2 = [ A3 ; A2 ]\n",
    "M = [ im1 im2 ]\n",
    ":::\n",
    "\n",
    ":::{admonition} Lösung\n",
    ":class: tip dropdown\n",
    "\n",
    "``` python\n",
    "CM2 = [ [M;v'] [s;v] ]\n",
    "```\n",
    ":::"
   ]
  },
  {
   "cell_type": "markdown",
   "metadata": {},
   "source": [
    ":::{admonition} Aufgabe 2.4\n",
    "\n",
    "What other ways can you combine M, v, and s? \n",
    ":::"
   ]
  },
  {
   "cell_type": "code",
   "execution_count": null,
   "metadata": {},
   "outputs": [],
   "source": [
    "# Ihr Code "
   ]
  },
  {
   "cell_type": "markdown",
   "metadata": {},
   "source": [
    ":::{admonition} Hinweis\n",
    ":class: note dropdown\n",
    "\n",
    ":::\n",
    "\n",
    ":::{admonition} Lösung\n",
    ":class: tip dropdown\n",
    "\n",
    "``` python\n",
    "```\n",
    ":::"
   ]
  }
 ],
 "metadata": {
  "language_info": {
   "name": "python"
  }
 },
 "nbformat": 4,
 "nbformat_minor": 2
}
