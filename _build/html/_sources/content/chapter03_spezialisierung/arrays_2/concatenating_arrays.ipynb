{
 "cells": [
  {
   "cell_type": "markdown",
   "metadata": {},
   "source": [
    "# Arrays zusammenfügen\n",
    "\n",
    "Der Lehrstuhl für wissenschaftliches Rechnen der Universität Mannheim hat sich zu Beginn des Jahres 2025 zum Ziel gesetzt die Anzahl an NextBike Ausleihen zu analysieren. Dazu wurden vom 06.01.2025 bis zum 19.01.2025 alle Ausleihen von der NextBike Station am Hauptbahnhof gezählt. Um Das Arbeitszeitgesetz nicht zu verletzen, wurde die Zählung in 3 Schichten unterteilt. Die erste Schicht beinhaltet den Zeitrum 00:00 Uhr bis 11:59 Uhr unter der Woche. Die Ergebnisse der ersten Schicht für Woche 1 (06.01-10.01) sind in der Matrix `W1_vormittag` gespeichert:\n",
    "\n",
    "$$\n",
    "    \\begin{pmatrix} \n",
    "        32 & 47 & 42 & 42 & 22\n",
    "    \\end{pmatrix}.\n",
    "$$\n",
    "Dabei steht der erste Eintrag für Montag, der zweite für Dienstag etc.. Die für Woche 2 (13.01-17.01) `W2_vormittag` sind \n",
    "\n",
    "$$\n",
    "    \\begin{pmatrix} \n",
    "        35 & 52 & 37 & 50 & 27 \n",
    "    \\end{pmatrix}.\n",
    "$$\n",
    "Analog hat die zweite Schicht (12:00 Uhr bis 23.59 Uhr werktags) ihre Ergebnisse in `W1_nachmittag`\n",
    "\n",
    "$$\n",
    "    \\begin{pmatrix} \n",
    "        50 & 36 & 18 & 39 & 50\n",
    "    \\end{pmatrix}.\n",
    "$$\n",
    "und `W2_nachmittag`\n",
    "\n",
    "$$\n",
    "    \\begin{pmatrix} \n",
    "        58 & 55 & 58 & 60 & 55\n",
    "    \\end{pmatrix}\n",
    "$$\n",
    "gespeichert. In der letzten Schicht wurden die Wochenenden gezählt. Die erste Woche lieferte `W1_wochenende`:\n",
    "\n",
    "$$\n",
    "    \\begin{pmatrix} \n",
    "        21 & 14\\\\\n",
    "        37 & 76\n",
    "    \\end{pmatrix}\n",
    "$$\n",
    "und die zweite `W2_wochenende`:\n",
    "\n",
    "$$\n",
    "    \\begin{pmatrix} \n",
    "        26 & 19\\\\\n",
    "        60 & 63\n",
    "    \\end{pmatrix}.\n",
    "$$\n",
    "Die erste Zeile zeigt jeweils die Ausleihen am Vormittag und die Zweite am Nachmittag an. Die erste Spalte repräsentiert Samstag und die Zweite Sonntag. \n",
    "\n",
    "Das Ziel dieses Kapitels ist es, die in den einzelnen Schichten erhobenen Daten je Woche in einer Matrix zusammenzuführen:\n",
    "\n",
    "$$\n",
    "    \\begin{pmatrix} \n",
    "         & \\text{Mo} & \\text{Di} & \\text{Mi} & \\text{Do} & \\text{Fr} & \\text{Sa} & \\text{So}\\\\\n",
    "        \\text{Vormittag} & 32 & 47 & 42 & 42 & 22 & 21 & 14\\\\\n",
    "        \\text{Nachmittag} & 50 & 36 & 18 & 39 & 50 & 37 & 76\\\\\n",
    "    \\end{pmatrix}.\n",
    "$$\n",
    "\n",
    "## Existierende Arrays kombinieren\n",
    "\n",
    "Es gibt zwei Möglichkeiten Matrizen zusammenzufügen: vertikal und horitontal. \n",
    "\n",
    "```{figure} hstack_vstack.png\n",
    ":name: fig-meinbild\n",
    ":width: 90%\n",
    "Vertikales und horizontales Zusammenfügen\n",
    "<p style=\"font-size: 80%; text-align: center; margin-top: 0; padding-top: 0;\">\n",
    "<strong>Quelle:</strong> <a href=\"https://aman.ai/primers/numpy/\">Aman's AI Journal</a>\n",
    "</p>\n",
    "```\n",
    "Das vertikale Zusammenfügen funktioniert über den Befehl `np.vstack((a,b))`, wobei in diesem Fall die Matrix `b` unten an die Matrix `a` gehängt wird. \n",
    "\n",
    ":::{admonition} Achtung\n",
    ":class: warning\n",
    "\n",
    "Beachten Sie, dass sie mit `np.vstack` nur zwei Matrizen mit der gleichen Anzahl an Spalten zusammenfügen können. \n",
    ":::"
   ]
  },
  {
   "cell_type": "code",
   "execution_count": null,
   "metadata": {
    "tags": [
     "thebe-init"
    ]
   },
   "outputs": [],
   "source": [
    "a = np.array([[1, 2, 3, 4],[5, 6, 7, 8],[9, 10, 11, 12]])\n",
    "b = np.array([[1, 2, 3, 4],[5, 6, 7, 8]])\n",
    "a_über_b = np.vstack((a,b))\n",
    "print(a_über_b)"
   ]
  },
  {
   "cell_type": "markdown",
   "metadata": {},
   "source": [
    ":::{admonition} Aufgabe 1.1\n",
    "Fügen Sie `W1_vormittag` und `W1_nachmittag` zu der Matrix `W1_werktags` zusammen, so dass in der ersten Zeile die Ausleihen von vormittag stehen und in der Zweiten die vom Nachmittag. \n",
    "\n",
    ":::"
   ]
  },
  {
   "cell_type": "code",
   "execution_count": null,
   "metadata": {},
   "outputs": [],
   "source": [
    "W1_vormittag = np.array([[32, 47, 42, 42, 22]])\n",
    "W1_nachmittag = np.array([[50, 36, 18, 39, 50]])\n",
    "# Ihr Code "
   ]
  },
  {
   "cell_type": "markdown",
   "metadata": {},
   "source": [
    ":::{admonition} Hinweis\n",
    ":class: note dropdown\n",
    "\n",
    "Verwenden Sie `np.vstack`.\n",
    ":::\n",
    "\n",
    ":::{admonition} Lösung\n",
    ":class: tip dropdown\n",
    "\n",
    "``` python\n",
    "W1_werktags = np.vstack((W1_vormittag, W1_nachmittag))\n",
    "print(W1_werktags)\n",
    "```\n",
    ":::"
   ]
  },
  {
   "cell_type": "markdown",
   "metadata": {},
   "source": [
    "Mit dem Befehl `np.hstack((a,c))` fügt man zwei Matrizen horizontal zusammen. Wie im Bild gezeigt, wird die Matrix `c` rechts an die Matrix `a` gehängt. \n",
    "\n",
    ":::{admonition} Achtung\n",
    ":class: warning\n",
    "\n",
    "Beachten Sie, dass sie mit `np.hstack` nur zwei Matrizen mit der gleichen Anzahl an Zeilen zusammenfügen können. \n",
    ":::"
   ]
  },
  {
   "cell_type": "code",
   "execution_count": null,
   "metadata": {},
   "outputs": [],
   "source": [
    "a = np.array([[1, 2, 3, 4],[5, 6, 7, 8],[9, 10, 11, 12]])\n",
    "c = np.array([[1, 2],[3, 4],[5, 6]])\n",
    "a_links_c = np.hstack((a,c))\n",
    "print(a_links_c)"
   ]
  },
  {
   "cell_type": "markdown",
   "metadata": {},
   "source": [
    ":::{admonition} Aufgabe 1.2\n",
    "\n",
    "Fügen Sie `W1_werktags` und `W1_wochenende` zu der Matrix `W1` zusammen, so dass die ersten $5$ Spalten die Werktage beschreiben und die letzten beiden das Wochenende. \n",
    ":::"
   ]
  },
  {
   "cell_type": "code",
   "execution_count": null,
   "metadata": {},
   "outputs": [],
   "source": [
    "W1_wochenende = np.array([[21, 14],[37, 76]])\n",
    "# Ihr Code "
   ]
  },
  {
   "cell_type": "markdown",
   "metadata": {},
   "source": [
    ":::{admonition} Hinweis\n",
    ":class: note dropdown\n",
    "\n",
    "Verwenden Sie `np.hstack`.\n",
    ":::\n",
    "\n",
    ":::{admonition} Lösung\n",
    ":class: tip dropdown\n",
    "\n",
    "``` python\n",
    "W1 = np.hstack((W1_werktags, W1_wochenende))\n",
    "print(W1)\n",
    "```\n",
    ":::"
   ]
  },
  {
   "cell_type": "markdown",
   "metadata": {},
   "source": [
    "Alternativ zu `np.vstack((a,b))` bzw. `np.hstack((a,c))` kann man auch `np.concatenate((a,b), axis=0)` bzw. `np.concatenate((a,c), axis=1)` verwenden. Der zusätzliche Eingabeparameter `axis` gibt an, ob man die Matrizen vertikal (`axis=0`) oder horizontal (`axis=1`) zusammenfügen möchte.  "
   ]
  },
  {
   "cell_type": "code",
   "execution_count": null,
   "metadata": {},
   "outputs": [],
   "source": [
    "a = np.array([[1, 2, 3, 4],[5, 6, 7, 8],[9, 10, 11, 12]])\n",
    "b = np.array([[1, 2, 3, 4],[5, 6, 7, 8]])\n",
    "c = np.array([[1, 2],[3, 4],[5, 6]])\n",
    "a_über_b = np.concatenate((a, b), axis=0)\n",
    "a_links_c = np.concatenate((a, c), axis=1)\n",
    "print(a_über_b)\n",
    "print(a_links_c)"
   ]
  },
  {
   "cell_type": "markdown",
   "metadata": {},
   "source": [
    ":::{admonition} Aufgabe 1.3\n",
    "Fügen Sie zu `W1` eine Zeile hinzu, sodass die Matrix die Form\n",
    "\n",
    "$$\n",
    "    \\begin{pmatrix} \n",
    "        \\text{Mo} & \\text{Di} & \\text{Mi} & \\text{Do} & \\text{Fr} & \\text{Sa} & \\text{So}\\\\\n",
    "        32 & 47 & 42 & 42 & 22 & 21 & 14\\\\\n",
    "        50 & 36 & 18 & 39 & 50 & 37 & 76\\\\\n",
    "    \\end{pmatrix}\n",
    "$$\n",
    "hat.\n",
    "\n",
    ":::"
   ]
  },
  {
   "cell_type": "code",
   "execution_count": null,
   "metadata": {},
   "outputs": [],
   "source": [
    "# Ihr Code "
   ]
  },
  {
   "cell_type": "markdown",
   "metadata": {},
   "source": [
    ":::{admonition} Hinweis\n",
    ":class: note dropdown\n",
    "\n",
    "Nutzen Sie `np.vstack` oder `np.concatenate`. Füllen Sie die Einträge des Vektors, den sie an `W1` anhängen mit `strings`.\n",
    ":::\n",
    "\n",
    ":::{admonition} Lösung\n",
    ":class: tip dropdown\n",
    "\n",
    "``` python\n",
    "W1 = np.vstack((np.array([[\"Mo\",\"Di\",\"Mi\",\"Do\",\"Fr\",\"Sa\",\"So\"]]), W1))\n",
    "print(W1)\n",
    "```\n",
    ":::"
   ]
  },
  {
   "cell_type": "markdown",
   "metadata": {},
   "source": [
    ":::{admonition} Aufgabe 1.4\n",
    "Fügen Sie zu `W1` eine Spalte hinzu, sodass die Matrix die Form\n",
    "\n",
    "$$\n",
    "    \\begin{pmatrix} \n",
    "        \\ & \\text{Mo} & \\text{Di} & \\text{Mi} & \\text{Do} & \\text{Fr} & \\text{Sa} & \\text{So}\\\\\n",
    "        \\text{Vormittag} & 32 & 47 & 42 & 42 & 22 & 21 & 14\\\\\n",
    "        \\text{Nachmittag} & 50 & 36 & 18 & 39 & 50 & 37 & 76\\\\\n",
    "    \\end{pmatrix}.\n",
    "$$\n",
    ":::"
   ]
  },
  {
   "cell_type": "code",
   "execution_count": null,
   "metadata": {},
   "outputs": [],
   "source": [
    "# Ihr Code "
   ]
  },
  {
   "cell_type": "markdown",
   "metadata": {},
   "source": [
    ":::{admonition} Hinweis\n",
    ":class: note dropdown\n",
    "\n",
    "Nutzen Sie `np.hstack` oder `np.concatenate`. Füllen Sie die Einträge des Vektors, den sie an `W1` anhängen mit `strings`.\n",
    ":::\n",
    "\n",
    ":::{admonition} Lösung\n",
    ":class: tip dropdown\n",
    "\n",
    "``` python\n",
    "W1 = np.hstack((np.array([[\"\"],[\"Vormittag\"],[\"Nachmittag\"]]), W1))\n",
    "print(W1)\n",
    "```\n",
    ":::"
   ]
  },
  {
   "cell_type": "markdown",
   "metadata": {},
   "source": [
    ":::{admonition} Aufgabe 1.5\n",
    "Versuchen Sie nun die die Daten für Woche 2 in der Matrix `W2`:\n",
    "\n",
    "$$\n",
    "    \\begin{pmatrix} \n",
    "         & \\text{Mo} & \\text{Di} & \\text{Mi} & \\text{Do} & \\text{Fr} & \\text{Sa} & \\text{So}\\\\\n",
    "        \\text{Vormittag} & 35 & 52 & 37 & 50 & 27 & 26 & 19\\\\\n",
    "        \\text{Nachmittag} & 58 & 55 & 58 & 60 & 55 & 60 & 63\\\\\n",
    "    \\end{pmatrix},\n",
    "$$\n",
    "**in einer Zeile Code** aus Ihren Einzelteilen zusammenzusetzen.\n",
    ":::"
   ]
  },
  {
   "cell_type": "code",
   "execution_count": null,
   "metadata": {},
   "outputs": [],
   "source": [
    "# benötigte Vektoren und Matrizen mit den Daten\n",
    "W2_vormittag = np.array([[35, 52, 37, 50, 27]])\n",
    "W2_nachmittag = np.array([[58, 55, 58, 60, 55]])\n",
    "W2_wochenende = np.array([[26, 19],[60, 63]])\n",
    "wochentage = np.array([[\"Mo\",\"Di\",\"Mi\",\"Do\",\"Fr\",\"Sa\",\"So\"]])\n",
    "zeiten = np.array([[\"\"],[\"Vormittag\"],[\"Nachmittag\"]])\n",
    "# Ihr Code "
   ]
  },
  {
   "cell_type": "markdown",
   "metadata": {},
   "source": [
    ":::{admonition} Hinweis\n",
    ":class: note dropdown\n",
    "\n",
    "Verketten Sie alle Operationen, die Sie in den vorangegangenen Aufgaben durchgeführt haben. \n",
    ":::\n",
    "\n",
    ":::{admonition} Lösung\n",
    ":class: tip dropdown\n",
    "\n",
    "``` python\n",
    "\n",
    "W2 = np.hstack((zeiten, np.vstack((wochentage, np.hstack((np.vstack((W2_vormittag, W2_nachmittag)), W2_wochenende))))))\n",
    "print(W2)\n",
    "```\n",
    ":::"
   ]
  },
  {
   "cell_type": "markdown",
   "metadata": {},
   "source": [
    "<br>\n",
    "\n",
    "## Arrays mittels Zusammenfügen erstellen\n",
    "\n",
    "Wenn Matrizen gewisse Regelmäßigkeiten in ihren Zeilen oder Spalten aufweisen, kann man die sie effizient über Vektoren erzeugen. "
   ]
  },
  {
   "cell_type": "markdown",
   "metadata": {},
   "source": [
    ":::{admonition} Aufgabe 2.1\n",
    "Erstellen Sie die 3 Arrays\n",
    "\n",
    "$$\n",
    "s=\\begin{pmatrix} \n",
    "        99\n",
    "    \\end{pmatrix},\\  v = \n",
    "    \\begin{pmatrix} \n",
    "        1\\\\\n",
    "        2\\\\\n",
    "        3\n",
    "    \\end{pmatrix} \\ \\text{ und } \\ M = \\begin{pmatrix} \n",
    "        1 & 1 & 1\\\\\n",
    "        2 & 2 & 2\\\\\n",
    "        3 & 3 & 3\\\\\n",
    "    \\end{pmatrix}.\n",
    "$$\n",
    "\n",
    "Nutzen Sie dabei den Vektor `v`, um `M` zu erzeugen. \n",
    ":::"
   ]
  },
  {
   "cell_type": "code",
   "execution_count": null,
   "metadata": {},
   "outputs": [],
   "source": [
    "# Ihr Code "
   ]
  },
  {
   "cell_type": "markdown",
   "metadata": {},
   "source": [
    ":::{admonition} Hinweis\n",
    ":class: note dropdown\n",
    "\n",
    "Nutzen Sie den Befehl `np.hstack`.\n",
    ":::\n",
    "\n",
    ":::{admonition} Lösung\n",
    ":class: tip dropdown\n",
    "\n",
    "``` python\n",
    "s = np.array([[99]])\n",
    "v = np.array([[1],[2],[3]])\n",
    "M = np.hstack((np.hstack((v,v)),v))\n",
    "print(M)\n",
    "```\n",
    ":::"
   ]
  },
  {
   "cell_type": "markdown",
   "metadata": {},
   "source": [
    ":::{admonition} Aufgabe 2.2\n",
    "Erstellen Sie die Matrix `CM`:\n",
    "\n",
    "$$\n",
    "\\begin{pmatrix} \n",
    "        M & v\\\\\n",
    "        v^T & s\n",
    "\\end{pmatrix}.\n",
    "$$\n",
    ":::"
   ]
  },
  {
   "cell_type": "code",
   "execution_count": null,
   "metadata": {},
   "outputs": [],
   "source": [
    "# Ihr Code "
   ]
  },
  {
   "cell_type": "markdown",
   "metadata": {},
   "source": [
    ":::{admonition} Hinweis\n",
    ":class: note dropdown\n",
    "\n",
    "Verwenden Sie `np.hstack` und `np.vstack`.\n",
    ":::\n",
    "\n",
    ":::{admonition} Lösung\n",
    ":class: tip dropdown\n",
    "\n",
    "``` python\n",
    "CM = np.vstack((np.hstack((M,v)),np.hstack((v.T,s))))\n",
    "```\n",
    ":::"
   ]
  },
  {
   "cell_type": "markdown",
   "metadata": {},
   "source": [
    ":::{admonition} Aufgabe 2.3\n",
    "Aufgabe\n",
    "Erstellen Sie die Matrix `CM2`:\n",
    "\n",
    "$$\n",
    "\\begin{pmatrix} \n",
    "        M & s\\\\\n",
    "        v^T & v\n",
    "\\end{pmatrix}\n",
    "$$\n",
    ":::"
   ]
  },
  {
   "cell_type": "code",
   "execution_count": null,
   "metadata": {},
   "outputs": [],
   "source": [
    "# Ihr Code "
   ]
  },
  {
   "cell_type": "markdown",
   "metadata": {},
   "source": [
    ":::{admonition} Hinweis\n",
    ":class: note dropdown\n",
    "\n",
    "Verwenden Sie `np.hstack` und `np.vstack`.\n",
    ":::\n",
    "\n",
    ":::{admonition} Lösung\n",
    ":class: tip dropdown\n",
    "\n",
    "``` python\n",
    "CM2 = np.hstack((np.vstack((M,v.T)),np.vstack((s,v))))\n",
    "```\n",
    ":::"
   ]
  },
  {
   "cell_type": "markdown",
   "metadata": {},
   "source": [
    ":::{admonition} Zusatzaufgabe\n",
    "Gibt es weitere Möglichkeiten, um `M`, `v` und `s` zu kombinieren?\n",
    ":::"
   ]
  },
  {
   "cell_type": "code",
   "execution_count": null,
   "metadata": {},
   "outputs": [],
   "source": [
    "# Ihr Code "
   ]
  }
 ],
 "metadata": {
  "language_info": {
   "name": "python"
  }
 },
 "nbformat": 4,
 "nbformat_minor": 2
}
