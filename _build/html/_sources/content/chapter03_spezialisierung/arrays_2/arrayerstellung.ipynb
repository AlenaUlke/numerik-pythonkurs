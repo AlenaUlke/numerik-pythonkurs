{
 "cells": [
  {
   "cell_type": "markdown",
   "metadata": {},
   "source": [
    "# Arrayerstellung\n",
    "\n",
    "Im vorangegangenen Kapitel zur [Arrayserstellung](./content/chapter02_basics/arrays/arrayerstellung.md) [ACHTUNG, LINK FUNKTIONIERT BEI MIR NICHT] haben Sie bereits einige Möglichkeiten kennengelernt, um Arrays zu erzeugen. Insbesondere Methoden zur manuellen Arrayerstellung, Erstellung von Vektoren mit gleichmäßigen Abständen und Arrayerstellung mit Hilfe von Funktionen. \n",
    "\n",
    "In diesem Kapitel sollen Sie die gelernten Aspekte wiederholen, um diese elementaren Operationen zu festigen und im nächten Kapitel zu vertiefen. \n",
    "\n",
    "## Manuelle Arrayerstellung\n",
    "\n",
    "Zunächst wiederholen Sie, wie man manuell Arrays erstellt. \n"
   ]
  },
  {
   "cell_type": "markdown",
   "metadata": {},
   "source": [
    ":::{admonition} Aufgabe 1.1\n",
    "Erstellen Sie einen Vektor mit dem Namen `x` mit den Elementen $2$, $\\sin(\\pi)$ und $\\sqrt{36}$.\n",
    ":::"
   ]
  },
  {
   "cell_type": "code",
   "execution_count": null,
   "metadata": {},
   "outputs": [],
   "source": [
    "# Ihr Code "
   ]
  },
  {
   "cell_type": "markdown",
   "metadata": {},
   "source": [
    ":::{admonition} Hinweis\n",
    ":class: note dropdown\n",
    "\n",
    "Verwenden Sie die Funktion `np.array`und eckige Klammern (`[]`), um den Vektor zu erstellen. Die verwendeten Funktionen und Werte könne Sie mittels `np.sin`, `np.pi` und  `np.sqrt` ausdrücken. Vergessen Sie nicht, die notwendigen Pakete zu importieren.\n",
    ":::\n",
    "\n",
    ":::{admonition} Lösung\n",
    ":class: tip dropdown\n",
    "\n",
    "``` python\n",
    "x = np.array([2, np.sin(np.pi), np.sqrt(36)])\n",
    "print(x)\n",
    "```\n",
    ":::"
   ]
  },
  {
   "cell_type": "markdown",
   "metadata": {},
   "source": [
    ":::{admonition} Aufgabe 1.2\n",
    "Erstellen Sie eine Matrix mit dem Namen `A` und diesen Werten:\n",
    "\n",
    "$$\n",
    "    \\begin{pmatrix} \n",
    "        1 & 2 & 3 & 4\\\\\n",
    "        5 & 6 & 7 & 8\n",
    "    \\end{pmatrix}.\n",
    "$$\n",
    ":::"
   ]
  },
  {
   "cell_type": "code",
   "execution_count": null,
   "metadata": {},
   "outputs": [],
   "source": [
    "# Ihr Code "
   ]
  },
  {
   "cell_type": "markdown",
   "metadata": {},
   "source": [
    ":::{admonition} Hinweis\n",
    ":class: note dropdown\n",
    "\n",
    "Verwenden Sie die Funktion `np.array`und eckige Klammern (`[[],[]]`), um die Matrix zu erstellen\n",
    ":::\n",
    "\n",
    ":::{admonition} Lösung\n",
    ":class: tip dropdown\n",
    "\n",
    "``` python\n",
    "A = np.array([[1 2 3 4],[5 6 7 8]])\n",
    "print(A)\n",
    "```\n",
    ":::"
   ]
  },
  {
   "cell_type": "markdown",
   "metadata": {},
   "source": [
    "<br>\n",
    "\n",
    "## Vektoren mit Werten in gleichmäßigen Abständen\n",
    "\n",
    "Die erste Spalte von `A`,\n",
    "\n",
    "$$\n",
    "    \\begin{pmatrix} \n",
    "        1 & 2 & 3 & 4\\\\\n",
    "    \\end{pmatrix},\n",
    "$$\n",
    "kann auch mit Hilfe von in `numpy` enthaltenen Funktionen erzeugt werden, statt sie manuell einzutippen. Die Aufgaben dieses Abschnitts sollen zur Wiederholung dieser Funktionen gelten."
   ]
  },
  {
   "cell_type": "markdown",
   "metadata": {},
   "source": [
    ":::{admonition} Aufgabe 2.1\n",
    "Erstellen Sie einen Vektor\n",
    "\n",
    "$$\n",
    "    \\begin{pmatrix} \n",
    "        1 & 2 & 3 & 4\\\\\n",
    "    \\end{pmatrix}\n",
    "$$\n",
    "namens `A_zeile1` mit Hilfe von in `numpy` enthaltenen Funktionen. \n",
    ":::"
   ]
  },
  {
   "cell_type": "code",
   "execution_count": null,
   "metadata": {},
   "outputs": [],
   "source": [
    "# Ihr Code "
   ]
  },
  {
   "cell_type": "markdown",
   "metadata": {},
   "source": [
    ":::{admonition} Hinweis\n",
    ":class: note dropdown\n",
    "\n",
    "Nutzen Sie die Funktion `np.arange(startwert, endwert)`.\n",
    ":::\n",
    "\n",
    ":::{admonition} Lösung\n",
    ":class: tip dropdown\n",
    "\n",
    "``` python\n",
    "A_zeile1 = np.arange(1, 5)\n",
    "print(A_zeile1)\n",
    "```\n",
    ":::"
   ]
  },
  {
   "cell_type": "markdown",
   "metadata": {},
   "source": [
    ":::{admonition} Aufgabe 2.2\n",
    "Erstellen Sie den Vektor `x_absteigend` mit den Werten\n",
    "\n",
    "$$\n",
    "    \\begin{pmatrix} \n",
    "        55 & 52 & 49 & 46 & 43 & 40\\\\\n",
    "    \\end{pmatrix}\n",
    "$$\n",
    "mit Hilfe von in `numpy` enthaltenen Funktionen. \n",
    ":::"
   ]
  },
  {
   "cell_type": "code",
   "execution_count": null,
   "metadata": {},
   "outputs": [],
   "source": [
    "# Ihr Code "
   ]
  },
  {
   "cell_type": "markdown",
   "metadata": {},
   "source": [
    ":::{admonition} Hinweis\n",
    ":class: note dropdown\n",
    "\n",
    "Nutzen Sie die Funktion `np.arange(startwert, endwert, abstand)`.\n",
    ":::\n",
    "\n",
    ":::{admonition} Lösung\n",
    ":class: tip dropdown\n",
    "\n",
    "``` python\n",
    "x_absteigend = np.arange(55, 37, 3)\n",
    "print(x_absteigend)\n",
    "```\n",
    ":::"
   ]
  },
  {
   "cell_type": "markdown",
   "metadata": {},
   "source": [
    ":::{admonition} Aufgabe 2.3\n",
    "Erstellen Sie den Vektor `x_pi`, welcher bei $-\\pi$ startet, bei $3\\pi$ endet und $50$ Elemente enthält.  \n",
    ":::"
   ]
  },
  {
   "cell_type": "code",
   "execution_count": null,
   "metadata": {},
   "outputs": [],
   "source": [
    "# Ihr Code "
   ]
  },
  {
   "cell_type": "markdown",
   "metadata": {},
   "source": [
    ":::{admonition} Hinweis\n",
    ":class: note dropdown\n",
    "\n",
    "Nutzen Sie die Funktion `np.linspace(startwert, endwert, anzahl_elemente)`.\n",
    ":::\n",
    "\n",
    ":::{admonition} Lösung\n",
    ":class: tip dropdown\n",
    "\n",
    "``` python\n",
    "x_pi = np.linspace(-np.pi, 3*np.pi, 50) \n",
    "print(x_pi)\n",
    "```\n",
    ":::"
   ]
  },
  {
   "cell_type": "markdown",
   "metadata": {},
   "source": [
    "Die Funktionen `np.arange` und `np.linspace`, sind sehr nützliche Funktionen, um eine regelmäßige Zahlenfolgen zu erzeugen. Was erwarten Sie, wenn Sie die Funktion dazu zwingen nur einen Wert auszugeben? Bevor sie die nächste Aufgabe bearbeiten, stellen Sie eine Vermutung auf, wie das Ergebnis aussehen wird. Stimmt Ihre Vermutung mit der tatsächlichen Ausgabe überein?"
   ]
  },
  {
   "cell_type": "markdown",
   "metadata": {},
   "source": [
    ":::{admonition} Aufgabe 2.4\n",
    "Erstellen Sie mit `np.arange` einen Vektor `x_arange_1element`, dessen Elemente bei $0$ beginnen, bei $10$ enden und jeweils durch einen Abstand von $15$ getrennt sind.\n",
    "\n",
    "Erstellen Sie weiterhin einen Vektor `x_linspace_1element`, der bei $0$ beginnt, bei $10$ endet und der nur $1$ Element enthält.\n",
    ":::"
   ]
  },
  {
   "cell_type": "code",
   "execution_count": null,
   "metadata": {},
   "outputs": [],
   "source": [
    "# Ihr Code "
   ]
  },
  {
   "cell_type": "markdown",
   "metadata": {},
   "source": [
    ":::{admonition} Lösung\n",
    ":class: tip dropdown\n",
    "\n",
    "``` python\n",
    "x_arange_1element = np.arange(0,10,15)\n",
    "x_linspace_1element = np.linspace(0,10,1)\n",
    "print(\"x_arange_1element =\", x_arange_1element)\n",
    "print(\"x_linspace_1element =\", x_linspace_1element)\n",
    "```\n",
    ":::"
   ]
  },
  {
   "cell_type": "markdown",
   "metadata": {},
   "source": [
    "<br>\n",
    "\n",
    "## Arrayerstellung mittels Funktionen\n",
    "\n",
    "Um Matrizen mit gewisser Struktur zu erzeugen, haben Sie bereits einige Methoden kennengelernt. Insbesondere begegnet uns in der Mathematik oft die Einheitsmatrix. Auch für sie existiert in `numpy` bereits ein Befehl. Mir `np.eye(n)` erstellt man eine $n$-dimensionale Einheitsmatrix.\n",
    "\n",
    "Versuchen Sie sich durch die erste Aufgabe dieses Abschnittes mit den bereits bekannten Methoden und der `np.eye` Funktion vertraut zu machen. "
   ]
  },
  {
   "cell_type": "markdown",
   "metadata": {},
   "source": [
    ":::{admonition} Aufgabe 3.1\n",
    "Erstellen Sie die $(4 \\times 4)$ Matrix `A_nur5`, bei der jeder Eintrag die Zahl $5$ ist. Berechnen Sie anschließend mit Hilfe der erstellten Matrix `A_nur5`, die Matrix `A_nur45`, bei der alle Einträge $5$ sind außer die Diagonaleinträge. Diese enthalten den Wert $4$.\n",
    ":::"
   ]
  },
  {
   "cell_type": "code",
   "execution_count": null,
   "metadata": {},
   "outputs": [],
   "source": [
    "# Ihr Code "
   ]
  },
  {
   "cell_type": "markdown",
   "metadata": {},
   "source": [
    ":::{admonition} Hinweis\n",
    ":class: note dropdown\n",
    "\n",
    "Verwenden Sie die Funktion `np.ones(zeilen, spalten)` und multiplizieren Sie die Matrix mit dem passenden Faktor. Nutzen Sie anschließend `np.eye(dimension)`, um von jedem Diagonaleintrag $1$ abzuziehen.\n",
    ":::\n",
    "\n",
    ":::{admonition} Lösung\n",
    ":class: tip dropdown\n",
    "\n",
    "``` python\n",
    "A_nur5 = 5*np.ones(4,4)\n",
    "A_nur45 = A_nur5 - np.eye(4)\n",
    "print(A_nur45)\n",
    "```\n",
    ":::"
   ]
  },
  {
   "cell_type": "markdown",
   "metadata": {},
   "source": [
    "Neben den Ihnen bereits bekannten Funktionen, enthält `numpy` viele weitere Funktionen. Dazu gehört `np.diag`. Der Code `np.diag([1, 2, 3])` erstellt eine $(3 \\times 3)$ Diagonalmatrix, mit den Einträgen $1$, $2$ und $3$ auf der Diagonalen.  "
   ]
  },
  {
   "cell_type": "code",
   "execution_count": null,
   "metadata": {},
   "outputs": [],
   "source": [
    "A = np.diag([1, 2, 3]) # erstellt eine 3 x 3 Diagonalmatrix mit Diagonalelemente 1,2 und 3\n",
    "print(A)"
   ]
  },
  {
   "cell_type": "markdown",
   "metadata": {},
   "source": [
    ":::{admonition} Aufgabe 3.2\n",
    "Erstellen Sie die Matrix `A_diagonal` mit den Werten:\n",
    "\n",
    "$$\n",
    "    \\begin{pmatrix} \n",
    "        12 & 0 & 0 & 0\\\\\n",
    "        0 & -3 & 0 & 0\\\\\n",
    "        0 & 0 & 3 & 0\\\\\n",
    "        0 & 0 & 0 & 0\n",
    "    \\end{pmatrix}.\n",
    "$$\n",
    ":::"
   ]
  },
  {
   "cell_type": "code",
   "execution_count": null,
   "metadata": {},
   "outputs": [],
   "source": [
    "# Ihr Code "
   ]
  },
  {
   "cell_type": "markdown",
   "metadata": {},
   "source": [
    ":::{admonition} Hinweis\n",
    ":class: note dropdown\n",
    "\n",
    "Verwenden Sie `np.diag` mit der passenden Eingabevariablen.\n",
    ":::\n",
    "\n",
    ":::{admonition} Lösung\n",
    ":class: tip dropdown\n",
    "\n",
    "``` python\n",
    "A_diagonal = np.diag([12, -3, 3, 0])\n",
    "print(A_diagonal)\n",
    "```\n",
    ":::"
   ]
  },
  {
   "cell_type": "markdown",
   "metadata": {},
   "source": [
    "Zudem gibt es Methoden obere und untere Dreiecksmatrizen zu erzeugen. Dazu erstellt `np.tri(n)` eine $n$-dimensionale untere Dreiecksmatrix mit $1$ auf und unterhalb der Diagonalen. Der Ausdruck `np.triu(A)` transformiert eine quadratische Matrix `A` in eine obere Dreiecksmatrix, indem er alle Einträge unterhalb der Diagonalen auf $0$ setzt. Analog transformiert `np.tril(A)` die quadratische Matrix `A` in eine untere Dreiecksmatrix. "
   ]
  },
  {
   "cell_type": "code",
   "execution_count": null,
   "metadata": {},
   "outputs": [],
   "source": [
    "A = 5*np.ones(4,4) - np.eye(4) # erstellt die Matrix aus Aufgabe 3.1\n",
    "A_untere_dreieck = np.tril(A) # löscht alle Einträge oberhalb der Diagonalen\n",
    "print(A_untere_dreieck)"
   ]
  },
  {
   "cell_type": "markdown",
   "metadata": {},
   "source": [
    ":::{admonition} Aufgabe 3.3\n",
    "Erstellen Sie die Matrix `A_kein_dreieck` mit den Werten:\n",
    "\n",
    "$$\n",
    "    \\begin{pmatrix} \n",
    "        3 & 2 & 2\\\\\n",
    "        1 & 3 & 2\\\\\n",
    "        1 & 1 & 3\n",
    "    \\end{pmatrix}.\n",
    "$$\n",
    "Nutzen Sie dabei die Summe zweier Dreiecksmatrizen. \n",
    ":::"
   ]
  },
  {
   "cell_type": "code",
   "execution_count": null,
   "metadata": {},
   "outputs": [],
   "source": [
    "# Ihr Code "
   ]
  },
  {
   "cell_type": "markdown",
   "metadata": {},
   "source": [
    ":::{admonition} Hinweis\n",
    ":class: note dropdown\n",
    "\n",
    "Verwenden Sie `np.tri`, um eine untere Dreiecksmatrix zu erstellen, und `np.ones` sowie `np.triu`, um eine obere Dreiecksmatrix zu erstellen.  \n",
    ":::\n",
    "\n",
    ":::{admonition} Lösung\n",
    ":class: tip dropdown\n",
    "\n",
    "``` python\n",
    "A_tri = np.tri(3)\n",
    "A_obere_dreieck = np.triu(2*np.ones(3))\n",
    "A_kein_dreieck = A_tri + A_obere_dreieck\n",
    "print(A_kein_dreieck)\n",
    "```\n",
    ":::"
   ]
  },
  {
   "cell_type": "markdown",
   "metadata": {},
   "source": [
    "Sie haben außerdem Funktionen kennengelernt, die verwendet werden, um Matrizen mit Zufallszahlen zu generieren. Dazu kennen Sie den Befehl `np.random.rand`. Dieser generiert gleichverteilte Zufallszahlen im Intervall $[0,1]$. Zudem existiert die Funktion `np.random.randn`, welche standardnormalverteilte Zufallszahlen erzeugt. Zum Beispiel der Ausdruck `np.random.randn(3,2)` erstellt eine $(3 \\times 2)$ Matrix mit standardnormalverteilten Einträgen."
   ]
  },
  {
   "cell_type": "markdown",
   "metadata": {},
   "source": [
    ":::{admonition} Aufgabe 3.4\n",
    "Aufgabe\n",
    "Erstellen Sie eine $(200 \\times 200)$ Matrix `A_uniform`, die zufällig gleichverteilte Einträge zwischen $0$ und $1$ annimmt, sowie eine $(200 \\times 200)$ Matrix `A_normal`, die standardnormalverteilte Zufallszahlen beinhaltet. Vergleichen Sie die maximalen Einträge beider Matrizen. \n",
    ":::"
   ]
  },
  {
   "cell_type": "code",
   "execution_count": null,
   "metadata": {},
   "outputs": [],
   "source": [
    "# Ihr Code "
   ]
  },
  {
   "cell_type": "markdown",
   "metadata": {},
   "source": [
    ":::{admonition} Hinweis\n",
    ":class: note dropdown\n",
    "\n",
    "Verwenden Sie die Funktionen `np.random.rand` und `np.random.randn`, um die Matrizen zu erzeugen. Nutzen Sie anschließend `.max()`, um den maximalen Wert zu extrahieren. \n",
    ":::\n",
    "\n",
    ":::{admonition} Lösung\n",
    ":class: tip dropdown\n",
    "\n",
    "``` python\n",
    "A_uniform = np.random.rand(200,200)\n",
    "A_normal = np.random.randn(200,200)\n",
    "print('Der maximale Wert der uniform verteilten Matrix ist', A_uniform.max(),'und der der gleichverteilten ist', A_normal.max(),'.')\n",
    "# Beobachtung: Der gleichverteilte maximale Wert ist nahe bei 1, der normalverteilte deutlich über 1.\n",
    "```\n",
    ":::"
   ]
  },
  {
   "cell_type": "markdown",
   "metadata": {},
   "source": [
    "Für manche Anwendung möchte man zufällige ganze Zahlen erzeugen. Auch dafür bietet `numpy` eine Funktion an. Sie heißt `np.random.randint` und hat 3 Eingabeparameter: `np.random.randint(min_wert, max_wert, size)`. Die Funktion gibt nun eine Matrix der Größe `size` aus, welche gleichmäßig verteilte ganze Zahlen aus dem Intervall $[\\text{min_wert},\\text{max_wert})$ als Einträge besitzt. Der Ausdruck `np.random.randint(0, 10, (2,3))` erzeugt eine $(2 \\times 3)$ Matrix, die nur ganze Zahlen zwischen $0$ und $9$ annimmt. Beachten Sie auch hier wieder, dass die obere Grenze, die man angibt nicht angenommen wird. "
   ]
  },
  {
   "cell_type": "code",
   "execution_count": null,
   "metadata": {},
   "outputs": [],
   "source": [
    "A_randint = np.random.randint(0, 10, (2,3)) # erzeugt 2 x 3 Matrix, die nur ganze Zahlen zwischen 0 und 9 annimmt\n",
    "print(A_randint) "
   ]
  },
  {
   "cell_type": "markdown",
   "metadata": {},
   "source": [
    ":::{admonition} Aufgabe 3.5\n",
    "Erstellen Sie eine $(200 \\times 200)$ Matrix `A_ganzzahlig`, die zufällige ganzzahlige Einträge zwischen $-3$ und $4$ annimmt. Betrachten Sie anschließend den maximalen Wert der Matrix.\n",
    ":::"
   ]
  },
  {
   "cell_type": "code",
   "execution_count": null,
   "metadata": {},
   "outputs": [],
   "source": [
    "# Ihr Code "
   ]
  },
  {
   "cell_type": "markdown",
   "metadata": {},
   "source": [
    ":::{admonition} Hinweis\n",
    ":class: note dropdown\n",
    "\n",
    "Verwenden Sie die Funktion `np.random.randint`, um die Matrix zu erzeugen. Nutzen Sie anschließend `.max()`, um den maximalen Wert zu extrahieren. \n",
    ":::\n",
    "\n",
    ":::{admonition} Lösung\n",
    ":class: tip dropdown\n",
    "\n",
    "``` python\n",
    "A_ganzzahlig = np.random.randint(-3,5,(200,200))\n",
    "print('Der maximale Wert der gleichverteilten, ganzzahligen Matrix ist', A_ganzzahlig.max(),'.')\n",
    "```\n",
    ":::"
   ]
  },
  {
   "cell_type": "markdown",
   "metadata": {},
   "source": [
    "Möchten Sie Zahlen innerhalb des Intervalls $[\\text{min_wert},\\text{max_wert})$ erzeugen, die nicht zwingend ganzzahlig sind, so können Sie auf die bereits bekannte Funktion `np.random.rand` zurückgreifen. Dabei müssen die so erzeugten Zufallszahlen geeignet skaliert werden. Dies erreichen sie mit Hilfe der Tansformation `min_wert + (max_wert - min_wert) * np.random.rand(m,n)`. Der Code `4 + (12 - 4) * np.random.rand(3,2)` erzeugt eine $(2 \\times 3)$ Matrix, die beliebige rationale Zahlen zwischen $4$ und $12$ annimmt. "
   ]
  },
  {
   "cell_type": "code",
   "execution_count": null,
   "metadata": {},
   "outputs": [],
   "source": [
    "A_rational = 4 + (12 - 4) * np.random.rand(3,2) # erzeugt 2 x 3 Matrix mit beliebigen rationalen Zahlen zwischen 4 und 12\n",
    "print(A_rational)"
   ]
  },
  {
   "cell_type": "markdown",
   "metadata": {},
   "source": [
    ":::{admonition} Aufgabe 3.6\n",
    "Erstellen Sie eine $(200 \\times 200)$ Matrix `A_nicht_ganzzahlig`, die zufällige rationale Einträge zwischen $-3$ und $4$ annimmt. Betrachten Sie anschließend den maximalen Wert der Matrix.\n",
    ":::"
   ]
  },
  {
   "cell_type": "code",
   "execution_count": null,
   "metadata": {},
   "outputs": [],
   "source": [
    "# Ihr Code "
   ]
  },
  {
   "cell_type": "markdown",
   "metadata": {},
   "source": [
    ":::{admonition} Hinweis\n",
    ":class: note dropdown\n",
    "\n",
    "Verwenden Sie die Funktion `np.random.rand` und skalieren Sie diese geeignet, um die Matrix zu erzeugen. Nutzen Sie anschließend `.max()`, um den maximalen Wert zu extrahieren. \n",
    ":::\n",
    "\n",
    ":::{admonition} Lösung\n",
    ":class: tip dropdown\n",
    "\n",
    "``` python\n",
    "A_nicht_ganzzahlig = - 3 + 7 * np.random.rand(200,200)\n",
    "print('Der maximale Wert der gleichverteilten, rationalen Matrix ist', A_nicht_ganzzahlig.max(),'.')\n",
    "```\n",
    ":::"
   ]
  },
  {
   "cell_type": "markdown",
   "metadata": {},
   "source": [
    "Nach einem ähnlichen Vorgehen können Sie normalverteilte Zufallszahlen mit Erwartungsert `nu` und Standardabweichung `sigma` generieren. Dazu verwenden wir erneut `np.random.randn`und skalieren es nach dem Muster `nu + sigma * np.random.randn(m,n)`. Der Code `-1 + 3 * np.random.randn(3,2)` erzeugt eine $(2 \\times 3)$ Matrix, die normalverteilte Zahlen mit Erwartungswert $-1$ und Standardabweichung $3$ annimmt. "
   ]
  },
  {
   "cell_type": "code",
   "execution_count": null,
   "metadata": {},
   "outputs": [],
   "source": [
    "A_normal_skaliert = -1 + 3 * np.random.randn(3,2) # erzeugt 2 x 3 Matrix mit normalverteilte Zahlen zwischen mit Erwartungswert -1 und Standardabweichung 3\n",
    "print(A_normal_skaliert)"
   ]
  },
  {
   "cell_type": "markdown",
   "metadata": {},
   "source": [
    ":::{admonition} Aufgabe 3.7\n",
    "Erstellen Sie eine $(200 \\times 200)$ Matrix `A_normal2`, die standardnormalverteilte Zufallszahlen mit Erwartungswert $2$ uns Standardabweichung $0.5$ annimmt. Betrachten Sie anschließend den maximalen Wert der Matrix.\n",
    ":::"
   ]
  },
  {
   "cell_type": "code",
   "execution_count": null,
   "metadata": {},
   "outputs": [],
   "source": [
    "# Ihr Code "
   ]
  },
  {
   "cell_type": "markdown",
   "metadata": {},
   "source": [
    ":::{admonition} Hinweis\n",
    ":class: note dropdown\n",
    "\n",
    "Verwenden Sie die Funktion `np.random.randn` und skalieren Sie diese geeignet, um die Matrix zu erzeugen. Nutzen Sie anschließend `.max()`, um den maximalen Wert zu extrahieren. \n",
    ":::\n",
    "\n",
    ":::{admonition} Lösung\n",
    ":class: tip dropdown\n",
    "\n",
    "``` python\n",
    "A_normal2 = 2 + 0.5 * np.random.randn(200,200)\n",
    "print('Der maximale Wert der gleichverteilten, rationalen Matrix ist', A_normal2.max(),'.')\n",
    "```\n",
    ":::"
   ]
  },
  {
   "cell_type": "markdown",
   "metadata": {},
   "source": [
    "You can visualize your distributions of random numbers using the histogram function.\n",
    "\n",
    "Uncomment the code in the further practice section and experiment with the sliders to see how the distributions change. \n",
    "\n",
    "** Bild 8 **"
   ]
  },
  {
   "cell_type": "code",
   "execution_count": null,
   "metadata": {},
   "outputs": [],
   "source": []
  },
  {
   "cell_type": "code",
   "execution_count": null,
   "metadata": {},
   "outputs": [],
   "source": [
    "# Import notwendiger Bibliotheken\n",
    "import numpy as np\n",
    "import matplotlib.pyplot as plt\n",
    "from ipywidgets import interact, FloatSlider, VBox\n",
    "\n",
    "# Funktion zur Erstellung der Verteilungen\n",
    "def plot_distributions(a, b, M, s):\n",
    "    # Gleichverteilte Zufallszahlen\n",
    "    x_uniform = a + (b - a) * np.random.rand(1000)\n",
    "    \n",
    "    plt.figure(figsize=(12, 5))\n",
    "\n",
    "    # Gleichverteilte Zufallszahlen Histogramm\n",
    "    plt.subplot(1, 2, 1)\n",
    "    plt.hist(x_uniform, bins=30, edgecolor='black')\n",
    "    plt.xlim([a - 10, b + 10])\n",
    "    plt.title(\"Uniformly Distributed Random Numbers\")\n",
    "    plt.xlabel(\"Value\")\n",
    "    plt.ylabel(\"Frequency\")\n",
    "\n",
    "    # Normalverteilte Zufallszahlen\n",
    "    x_normal = M + s * np.random.randn(1000)\n",
    "\n",
    "    # Normalverteilte Zufallszahlen Histogramm\n",
    "    plt.subplot(1, 2, 2)\n",
    "    plt.hist(x_normal, bins=30, edgecolor='black')\n",
    "    plt.xlim([M - 4*s, M + 4*s])\n",
    "    plt.title(\"Normally Distributed Random Numbers\")\n",
    "    plt.xlabel(\"Value\")\n",
    "    plt.ylabel(\"Frequency\")\n",
    "\n",
    "    plt.tight_layout()\n",
    "    plt.show()\n",
    "\n",
    "# Interaktive Schieberegler erstellen\n",
    "a_slider = FloatSlider(value=-12, min=-50, max=50, step=1, description='a')\n",
    "b_slider = FloatSlider(value=-2, min=-50, max=50, step=1, description='b')\n",
    "M_slider = FloatSlider(value=15, min=0, max=50, step=1, description='M')\n",
    "s_slider = FloatSlider(value=11, min=1, max=20, step=1, description='s')\n",
    "\n",
    "# Interaktive Funktion verbinden\n",
    "ui = VBox([a_slider, b_slider, M_slider, s_slider])\n",
    "out = interact(plot_distributions, a=a_slider, b=b_slider, M=M_slider, s=s_slider)\n"
   ]
  },
  {
   "cell_type": "markdown",
   "metadata": {},
   "source": [
    ":::{admonition} Aufgabe 1.1\n",
    "% a = -12;\n",
    "% b = -2;\n",
    "% x = a + (b-a)*rand(1,1000);\n",
    "% histogram(x)\n",
    "% xlim([-25 25])\n",
    "% title(\"Uniformly Distributed Random Numbers\")\n",
    "% \n",
    "% M = 15;\n",
    "% s = 11;\n",
    "% x = M + s*randn(1,1000);\n",
    "% histogram(x)\n",
    "% xlim([0 50])\n",
    "% title(\"Normally Distributed Random Numbers\")\n",
    ":::"
   ]
  },
  {
   "cell_type": "code",
   "execution_count": null,
   "metadata": {},
   "outputs": [],
   "source": [
    "# Ihr Code "
   ]
  },
  {
   "cell_type": "code",
   "execution_count": null,
   "metadata": {},
   "outputs": [],
   "source": []
  },
  {
   "cell_type": "markdown",
   "metadata": {},
   "source": []
  },
  {
   "cell_type": "markdown",
   "metadata": {},
   "source": [
    "## Übersicht der Matrix- und Vektor-Funktionen\n",
    "\n",
    "Abschließend möchten wir Ihnen noch eine grobe Übersicht über die Funktionen zum Erzeugen von Matrizen und Vektoren geben. Dabei haben wir die Liste um ein paar nützliche Befehle erweitert, die wir in diesem Kurs nicht explizit ansprechen, die aber durchaus von Nutzen sein können. \n",
    "\n",
    "### Vektorerstellung\n",
    "\n",
    "<style>\n",
    ".no-wrap {\n",
    "    white-space: nowrap;\n",
    "}\n",
    "</style>\n",
    "\n",
    "| Funktion | Beschreibung | Beispiel |\n",
    "|----------|--------------|----------|\n",
    "| <span class=\"no-wrap\">`np.arange(start,stop,step)`</span> | <span class=\"no-wrap\">Erzeugt Werte von `start` bis `stop`<br> mit einer Schrittweite von `step`.</span> | <span class=\"no-wrap\">`np.arange(0,5,1)` <br> → [0, 1, 2, 3, 4]</span> |\n",
    "| <span class=\"no-wrap\">`np.linspace(start,stop,num)`</span> | <span class=\"no-wrap\">Erzeugt gleichmäßig verteilte Zahlen <br> zwischen `start` und `stop`.</span> | <span class=\"no-wrap\">`np.linspace(0,1,5)` <br> → [0., 0.25, 0.5, 0.75, 1.]</span> |\n",
    "| <span class=\"no-wrap\">`np.logspace(start,stop,base)`</span> | <span class=\"no-wrap\">Erzeugt logarithmisch verteilte Zahlen <br> zwischen `start` und `stop`.</span> | <span class=\"no-wrap\">`np.logspace(0,2,5)` <br> → [1., 3.162, 10., 31.62, 100.]</span> |\n",
    "\n",
    "---\n",
    "\n",
    "### Erstellung von Matrizen\n",
    "\n",
    "| Funktion | Beschreibung | Beispiel |\n",
    "|----------|--------------|----------|\n",
    "| <span class=\"no-wrap\">`np.zeros(shape)`</span> | <span class=\"no-wrap\">Erstellt eine Matrix der Form <br> `shape`, die nur Nullen enthält.</span> | <span class=\"no-wrap\">`np.zeros((2,3))` <br> → [[0., 0., 0.], <br> &nbsp;&nbsp;&nbsp;&nbsp;&nbsp;[0., 0., 0.]]</span> |\n",
    "| <span class=\"no-wrap\">`np.ones(shape)`</span> | <span class=\"no-wrap\">Erstellt eine Matrix der Form <br> `shape`, die nur Einsen enthält.</span> | <span class=\"no-wrap\">`np.ones((2,3))` <br> → [[1., 1., 1.], <br> &nbsp;&nbsp;&nbsp;&nbsp;&nbsp;[1., 1., 1.]]</span> |\n",
    "| <span class=\"no-wrap\">`np.full(shape,w)`</span> | <span class=\"no-wrap\">Erstellt eine Matrix, die mit <br> einem angegebenen Wert <br> `w` gefüllt ist.</span> | <span class=\"no-wrap\">`np.full((2,3),7)` <br> → [[7, 7, 7], <br> &nbsp;&nbsp;&nbsp;&nbsp;&nbsp;[7, 7, 7]]</span> |\n",
    "| <span class=\"no-wrap\">`np.eye(N)`</span> | <span class=\"no-wrap\">Erstellt eine Identitätsmatrix <br> der Größe `N`.</span> | <span class=\"no-wrap\">`np.eye(3)` <br> → [[1., 0., 0.], <br> &nbsp;&nbsp;&nbsp;&nbsp;&nbsp;[0., 1., 0.], <br> &nbsp;&nbsp;&nbsp;&nbsp;&nbsp;[0., 0., 1.]]</span> |\n",
    "| <span class=\"no-wrap\">`np.diag(v)`</span> | <span class=\"no-wrap\">Erstellt eine diagonale Matrix <br> mit den Elementen von `v`.</span> | <span class=\"no-wrap\">`np.diag([1,2,3])` <br> → [[1, 0, 0], <br> &nbsp;&nbsp;&nbsp;&nbsp;&nbsp;[0, 2, 0], <br> &nbsp;&nbsp;&nbsp;&nbsp;&nbsp;[0, 0, 3]]</span> |\n",
    "| <span class=\"no-wrap\">`np.tri(N)`</span> | <span class=\"no-wrap\">Erstellt eine untere Dreiecksmatrix <br> der Größe `N` mit Einsen unterhalb <br> der Diagonalen.</span> | <span class=\"no-wrap\">`np.tri(3)` <br> → [[1., 0., 0.], <br> &nbsp;&nbsp;&nbsp;&nbsp;&nbsp;[1., 1., 0.], <br> &nbsp;&nbsp;&nbsp;&nbsp;&nbsp;[1., 1., 1.]]</span> |\n",
    "| <span class=\"no-wrap\">`np.triu(A)`</span> | <span class=\"no-wrap\">Erstellt eine obere Dreiecksmatrix, <br> indem alle Werte unter der <br> Diagonalen von `A` auf Null <br> gesetzt werden.</span> | <span class=\"no-wrap\">`np.triu([[1,2,3],[4,5,6],[7,8,9]])` <br> → [[1, 2, 3], <br> &nbsp;&nbsp;&nbsp;&nbsp;&nbsp;[0, 5, 6], <br> &nbsp;&nbsp;&nbsp;&nbsp;&nbsp;[0, 0, 9]]</span> |\n",
    "| <span class=\"no-wrap\">`np.tril(A)`</span> | <span class=\"no-wrap\">Erstellt eine untere Dreiecksmatrix, <br> indem alle Werte oberhalb der <br> Diagonalen von `A` auf Null <br> gesetzt werden.</span> | <span class=\"no-wrap\">`np.tril([[1,2,3],[4,5,6],[7,8,9]])` <br> → [[1, 0, 0], <br> &nbsp;&nbsp;&nbsp;&nbsp;&nbsp;[4, 5, 0], <br> &nbsp;&nbsp;&nbsp;&nbsp;&nbsp;[7, 8, 9]]</span> |\n",
    "\n",
    "---\n",
    "\n",
    "### Erstellung von Zufallsmatrizen\n",
    "\n",
    "| Funktion | Beschreibung | Beispiel |\n",
    "|----------|--------------|----------|\n",
    "| <span class=\"no-wrap\">`np.random.rand(d0,d1)`</span> | <span class=\"no-wrap\">Erzeugt eine $(d0 \\times d1)$ Matrix mit <br> Zufallswerten gleichmäßig verteilt <br> zwischen 0 und 1.</span> | <span class=\"no-wrap\">`np.random.rand(2,3)` <br> → [[0.840228, 0.466983, 0.156066], <br> &nbsp;&nbsp;&nbsp;&nbsp;&nbsp;[0.771374, 0.634024, 0.530364]]</span> |\n",
    "| <span class=\"no-wrap\">`np.random.randn(d0,d1)`</span> | <span class=\"no-wrap\">Erzeugt eine $(d0 \\times d1)$ Matrix mit <br> Zufallswerten aus einer <br> Standardnormalverteilung.</span> | <span class=\"no-wrap\">`np.random.randn(2,3)` <br> → [[ 0.389413, -0.923499,  0.037768], <br> &nbsp;&nbsp;&nbsp;&nbsp;&nbsp;[-0.714868, -1.67741,  -2.08224 ]]</span> |\n",
    "| <span class=\"no-wrap\">`np.random.randint(l,h,size)`</span> | <span class=\"no-wrap\">Erzeugt eine Matrix der Form `size` <br> mit ganzzahligen Zufallswerte <br> zwischen `l`und `h`.</span> | <span class=\"no-wrap\">`np.random.randint(0,10,(2,3))` <br> → [[3, 3, 9], <br> &nbsp;&nbsp;&nbsp;&nbsp;&nbsp;[1, 6, 3]]</span> |\n",
    "| <span class=\"no-wrap\">`np.random.choice(v,size)`</span> | <span class=\"no-wrap\"> Erzeugt eine Matrix der Form `size` <br> mit Einträgen zufällig aus dem <br> Array `v`.</span> | <span class=\"no-wrap\">`np.random.choice([1,2,3,4],(2,3))` <br> → [[3, 4, 2], <br> &nbsp;&nbsp;&nbsp;&nbsp;&nbsp;[2, 2, 1]]</span> |"
   ]
  },
  {
   "cell_type": "markdown",
   "metadata": {},
   "source": [
    "::::{tab-set}\n",
    "\n",
    ":::{tab-item} Aufgabe 2.1\n",
    "s\n",
    ":::\n",
    "\n",
    ":::{tab-item} Aufgabe 2.2\n",
    "s\n",
    ":::\n",
    "\n",
    ":::{tab-item} Aufgabe 2.3\n",
    "s\n",
    ":::\n",
    "\n",
    "::::"
   ]
  }
 ],
 "metadata": {
  "language_info": {
   "name": "python"
  }
 },
 "nbformat": 4,
 "nbformat_minor": 2
}
