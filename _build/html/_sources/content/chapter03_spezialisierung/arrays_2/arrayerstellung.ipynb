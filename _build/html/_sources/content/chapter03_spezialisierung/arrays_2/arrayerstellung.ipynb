{
 "cells": [
  {
   "cell_type": "markdown",
   "metadata": {},
   "source": [
    "# Arrayerstellung \n",
    "\n",
    "In den [Grundlagen zur Arrayserstellung](../../chapter02_basics/arrays/arrayerstellung.ipynb) haben Sie bereits einige Möglichkeiten kennengelernt, um Arrays zu erzeugen. Insbesondere Methoden zur manuellen Arrayerstellung, Erstellung von Vektoren mit gleichmäßigen Abständen und Arrayerstellung mit Hilfe von Funktionen. \n",
    "\n",
    "In diesem Kapitel sollen Sie die gelernten Aspekte wiederholen, um diese elementaren Operationen zu festigen und im nächten Kapitel zu vertiefen. \n",
    "\n",
    "## Manuelle Arrayerstellung\n",
    "\n",
    "Zunächst wiederholen Sie, wie man manuell Arrays erstellt. \n"
   ]
  },
  {
   "cell_type": "markdown",
   "metadata": {},
   "source": [
    ":::{admonition} Aufgabe 1.1\n",
    "Erstellen Sie einen Vektor mit dem Namen $x$ mit den Elementen $2$, $\\sin(\\pi)$ und $\\sqrt{36}$.\n",
    ":::"
   ]
  },
  {
   "cell_type": "code",
   "execution_count": null,
   "metadata": {},
   "outputs": [],
   "source": [
    "# Ihr Code "
   ]
  },
  {
   "cell_type": "markdown",
   "metadata": {},
   "source": [
    ":::{admonition} Hinweis\n",
    ":class: note dropdown\n",
    "\n",
    "Verwenden Sie die Funktion $\\texttt{np.array}$ und eckige Klammern ($\\texttt{[]}$), um den Vektor zu erstellen. Die verwendeten Funktionen und Werte könne Sie mittels $\\texttt{np.sin}$, $\\texttt{np.pi}$ und  $\\texttt{np.sqrt}$ ausdrücken. Vergessen Sie nicht, die notwendigen Pakete zu importieren.\n",
    ":::\n",
    "\n",
    ":::{admonition} Lösung\n",
    ":class: tip dropdown\n",
    "\n",
    "``` python\n",
    "import numpy as np\n",
    "\n",
    "x = np.array([2, np.sin(np.pi), np.sqrt(36)])\n",
    "print(x)\n",
    "```\n",
    ":::"
   ]
  },
  {
   "cell_type": "markdown",
   "metadata": {},
   "source": [
    ":::{admonition} Aufgabe 1.2\n",
    "Erstellen Sie eine Matrix mit dem Namen $A$ und diesen Werten:\n",
    "\n",
    "$$\n",
    "    \\begin{pmatrix} \n",
    "        1 & 2 & 3 & 4\\\\\n",
    "        5 & 6 & 7 & 8\n",
    "    \\end{pmatrix}.\n",
    "$$\n",
    ":::"
   ]
  },
  {
   "cell_type": "code",
   "execution_count": null,
   "metadata": {},
   "outputs": [],
   "source": [
    "# Ihr Code "
   ]
  },
  {
   "cell_type": "markdown",
   "metadata": {},
   "source": [
    ":::{admonition} Hinweis\n",
    ":class: note dropdown\n",
    "\n",
    "Verwenden Sie die Funktion $\\texttt{np.array}$ und eckige Klammern ($\\texttt{[[],[]]}$), um die Matrix zu erstellen\n",
    ":::\n",
    "\n",
    ":::{admonition} Lösung\n",
    ":class: tip dropdown\n",
    "\n",
    "``` python\n",
    "A = np.array([[1 2 3 4],[5 6 7 8]])\n",
    "print(A)\n",
    "```\n",
    ":::"
   ]
  },
  {
   "cell_type": "markdown",
   "metadata": {},
   "source": [
    "\n",
    "\n",
    "## Vektoren mit Werten in gleichmäßigen Abständen\n",
    "\n",
    "<span style=\"color:red\"> Hier bitte nochmal drübergucken. Entweder Widerholung entfernen oder nicht die Matrix A als einleitendens Beispiel nehmen.</span>\n",
    "\n",
    "Die erste Spalte von $A$ kann mit Hilfe von in NumPy enthaltenen Funktionen erzeugt werden, statt sie manuell einzutippen. Die Aufgaben dieses Abschnitts sollen zur Wiederholung dieser Funktionen gelten."
   ]
  },
  {
   "cell_type": "markdown",
   "metadata": {},
   "source": [
    ":::{admonition} Aufgabe 2.1\n",
    "Speichern Sie die erste Zeile von $A$ in dem Vektor $\\texttt{A_zeile1}$. mit Hilfe von in NumPy enthaltenen Funktionen. \n",
    ":::"
   ]
  },
  {
   "cell_type": "code",
   "execution_count": null,
   "metadata": {},
   "outputs": [],
   "source": [
    "# Ihr Code "
   ]
  },
  {
   "cell_type": "markdown",
   "metadata": {},
   "source": [
    ":::{admonition} Hinweis\n",
    ":class: note dropdown\n",
    "\n",
    "Nutzen Sie die Funktion $\\texttt{np.arange(startwert, endwert)}$.\n",
    ":::\n",
    "\n",
    ":::{admonition} Lösung\n",
    ":class: tip dropdown\n",
    "\n",
    "``` python\n",
    "A_zeile1 = np.arange(1, 5)\n",
    "print(A_zeile1)\n",
    "```\n",
    ":::"
   ]
  },
  {
   "cell_type": "markdown",
   "metadata": {},
   "source": [
    ":::{admonition} Aufgabe 2.2\n",
    "Erstellen Sie den Vektor $\\texttt{x_absteigend}$ mit den Werten\n",
    "\n",
    "$$\n",
    "    \\begin{pmatrix} \n",
    "        55 & 52 & 49 & 46 & 43 & 40\\\\\n",
    "    \\end{pmatrix}\n",
    "$$\n",
    "mit Hilfe von in NumPy enthaltenen Funktionen. \n",
    ":::"
   ]
  },
  {
   "cell_type": "code",
   "execution_count": null,
   "metadata": {},
   "outputs": [],
   "source": [
    "# Ihr Code "
   ]
  },
  {
   "cell_type": "markdown",
   "metadata": {},
   "source": [
    ":::{admonition} Hinweis\n",
    ":class: note dropdown\n",
    "\n",
    "Nutzen Sie die Funktion $\\texttt{np.arange(startwert, endwert, abstand)}$.\n",
    ":::\n",
    "\n",
    ":::{admonition} Lösung\n",
    ":class: tip dropdown\n",
    "\n",
    "``` python\n",
    "x_absteigend = np.arange(55, 37, 3)\n",
    "print(x_absteigend)\n",
    "```\n",
    ":::"
   ]
  },
  {
   "cell_type": "markdown",
   "metadata": {},
   "source": [
    ":::{admonition} Aufgabe 2.3\n",
    "Erstellen Sie den Vektor $\\texttt{x_pi}$, welcher ein $-\\pi$ startet, bei $3\\pi$ endet. Der Vektor soll $50$ Elemente enthalten und der Abstand zwischen zwei benachbarten Einträgen soll konstant sein.  \n",
    ":::"
   ]
  },
  {
   "cell_type": "code",
   "execution_count": null,
   "metadata": {},
   "outputs": [],
   "source": [
    "# Ihr Code "
   ]
  },
  {
   "cell_type": "markdown",
   "metadata": {},
   "source": [
    ":::{admonition} Hinweis\n",
    ":class: note dropdown\n",
    "\n",
    "Nutzen Sie die Funktion $\\texttt{np.linspace(startwert, endwert, anzahl_elemente)}$.\n",
    ":::\n",
    "\n",
    ":::{admonition} Lösung\n",
    ":class: tip dropdown\n",
    "\n",
    "``` python\n",
    "x_pi = np.linspace(-np.pi, 3*np.pi, 50) \n",
    "print(x_pi)\n",
    "```\n",
    ":::"
   ]
  },
  {
   "cell_type": "markdown",
   "metadata": {},
   "source": [
    "Die Funktionen $\\texttt{np.arange}$ und $\\texttt{np.linspace}$, sind sehr nützliche Funktionen, um eine regelmäßige Zahlenfolgen zu erzeugen. \n",
    "\n",
    "<span style=\"color:red\"> Ich verstehe die nachfolgende Frage nicht. Was ist das Ziel/die Intention? Genauso Aufgabe 2.4.</span>\n",
    "\n",
    "Was erwarten Sie, wenn Sie die Funktion dazu zwingen nur einen Wert auszugeben? Bevor sie die nächste Aufgabe bearbeiten, stellen Sie eine Vermutung auf, wie das Ergebnis aussehen wird. Stimmt Ihre Vermutung mit der tatsächlichen Ausgabe überein?"
   ]
  },
  {
   "cell_type": "markdown",
   "metadata": {},
   "source": [
    ":::{admonition} Aufgabe 2.4\n",
    "Erstellen Sie mit $\\texttt{np.arange}$ einen Vektor $\\texttt{x_arange_1element}$, dessen Elemente bei $0$ beginnen, bei $10$ enden und jeweils durch einen Abstand von $15$ getrennt sind.\n",
    "\n",
    "Erstellen Sie weiterhin einen Vektor $\\texttt{x_linspace_1element}$, der bei $0$ beginnt, bei $10$ endet und der nur $1$ Element enthält.\n",
    ":::"
   ]
  },
  {
   "cell_type": "code",
   "execution_count": null,
   "metadata": {},
   "outputs": [],
   "source": [
    "# Ihr Code "
   ]
  },
  {
   "cell_type": "markdown",
   "metadata": {},
   "source": [
    ":::{admonition} Lösung\n",
    ":class: tip dropdown\n",
    "\n",
    "``` python\n",
    "x_arange_1element = np.arange(0,10,15)\n",
    "x_linspace_1element = np.linspace(0,10,1)\n",
    "print(\"x_arange_1element =\", x_arange_1element)\n",
    "print(\"x_linspace_1element =\", x_linspace_1element)\n",
    "```\n",
    ":::"
   ]
  },
  {
   "cell_type": "markdown",
   "metadata": {},
   "source": [
    "\n",
    "## Arrayerstellung mittels Funktionen\n",
    "\n",
    "Um Matrizen mit gewisser Struktur zu erzeugen, haben Sie bereits einige Methoden kennengelernt, zum Beispiel $\\texttt{np.zeros()}$ und $\\texttt{np.ones()}$. In der Numerik benötigen wir häufig die Einhheitsmatrix sowie Diagonal- und Dreieckmatrizen. Auch für solche Matrizen stellt NumPy entsprechende Funktionen zur Erstellung bereit. Wir beginnen mit der Einheitsmatrix.\n",
    "Mit $\\texttt{np.eye(n)}$ erstellt man eine $n$-dimensionale Einheitsmatrix."
   ]
  },
  {
   "cell_type": "markdown",
   "metadata": {},
   "source": [
    ":::{admonition} Aufgabe 3.1\n",
    "Erstellen Sie die $(4 \\times 4)$ Matrix $\\texttt{A_nur5}$, bei der jeder Eintrag die Zahl $5$ ist. Berechnen Sie anschließend mit Hilfe der erstellten Matrix $\\texttt{A_nur5}$, die Matrix $\\texttt{A_nur45}$, bei der alle Einträge $5$ sind außer die Diagonaleinträge. Diese enthalten den Wert $4$.\n",
    ":::"
   ]
  },
  {
   "cell_type": "code",
   "execution_count": null,
   "metadata": {},
   "outputs": [],
   "source": [
    "# Ihr Code "
   ]
  },
  {
   "cell_type": "markdown",
   "metadata": {},
   "source": [
    ":::{admonition} Hinweis\n",
    ":class: note dropdown\n",
    "\n",
    "Verwenden Sie die Funktion $\\texttt{np.ones(zeilen, spalten)}$ und multiplizieren Sie die Matrix mit dem passenden Faktor. Nutzen Sie anschließend $\\texttt{np.eye(dimension)}$, um von jedem Diagonaleintrag $1$ abzuziehen.\n",
    ":::\n",
    "\n",
    ":::{admonition} Lösung\n",
    ":class: tip dropdown\n",
    "\n",
    "``` python\n",
    "A_nur5 = 5*np.ones(4,4)\n",
    "A_nur45 = A_nur5 - np.eye(4)\n",
    "print(A_nur45)\n",
    "```\n",
    ":::"
   ]
  },
  {
   "cell_type": "markdown",
   "metadata": {},
   "source": [
    "Nun schauen wir uns Diagonalmatrizen an. Diese können Sie in NumPy mit dem Befehl $\\texttt{np.diag}$ erzeugen. Der Code $\\texttt{np.diag([1, 2, 3])}$ erstellt eine $(3 \\times 3)$ Diagonalmatrix, mit den Einträgen $1$, $2$ und $3$ auf der Diagonalen.  "
   ]
  },
  {
   "cell_type": "code",
   "execution_count": null,
   "metadata": {},
   "outputs": [],
   "source": [
    "A = np.diag([1, 2, 3]) \n",
    "\n",
    "print(A)"
   ]
  },
  {
   "cell_type": "markdown",
   "metadata": {},
   "source": [
    ":::{admonition} Aufgabe 3.2\n",
    "Erstellen Sie die Matrix $\\texttt{A_diagonal}$ mit den Werten:\n",
    "\n",
    "$$\n",
    "    \\begin{pmatrix} \n",
    "        12 & 0 & 0 & 0\\\\\n",
    "        0 & -3 & 0 & 0\\\\\n",
    "        0 & 0 & 3 & 0\\\\\n",
    "        0 & 0 & 0 & 0\n",
    "    \\end{pmatrix}.\n",
    "$$\n",
    ":::"
   ]
  },
  {
   "cell_type": "code",
   "execution_count": null,
   "metadata": {},
   "outputs": [],
   "source": [
    "# Ihr Code "
   ]
  },
  {
   "cell_type": "markdown",
   "metadata": {},
   "source": [
    ":::{admonition} Lösung\n",
    ":class: tip dropdown\n",
    "\n",
    "``` python\n",
    "A_diagonal = np.diag([12, -3, 3, 0])\n",
    "print(A_diagonal)\n",
    "```\n",
    ":::"
   ]
  },
  {
   "cell_type": "markdown",
   "metadata": {},
   "source": [
    "Zudem gibt es Methoden obere und untere Dreiecksmatrizen zu erzeugen. Die FUnktion $\\texttt{np.tri(n)}$ erstellt eine $n$-dimensionale untere Dreiecksmatrix mit $1$ auf und unterhalb der Diagonalen. Der Ausdruck  $\\texttt{np.triu(A)}$ transformiert eine quadratische Matrix $A$ in eine obere Dreiecksmatrix, indem er alle Einträge unterhalb der Diagonalen auf $0$ setzt. Analog transformiert die Funktion $\\texttt{np.tril(A)}$ die quadratische Matrix $A$ in eine untere Dreiecksmatrix. "
   ]
  },
  {
   "cell_type": "code",
   "execution_count": null,
   "metadata": {},
   "outputs": [],
   "source": [
    "# Matrix aus A3.1\n",
    "A = 5*np.ones(4,4) - np.eye(4) \n",
    "\n",
    "# löscht alle Einträge oberhalb der Diagonalen\n",
    "A_untere_dreieck = np.tril(A) \n",
    "print(A_untere_dreieck)"
   ]
  },
  {
   "cell_type": "markdown",
   "metadata": {},
   "source": [
    ":::{admonition} Aufgabe 3.3\n",
    "Erstellen Sie die Matrix  $\\texttt{A_kein_dreieck}$ mit den Werten:\n",
    "\n",
    "$$\n",
    "    \\begin{pmatrix} \n",
    "        3 & 2 & 2\\\\\n",
    "        1 & 3 & 2\\\\\n",
    "        1 & 1 & 3\n",
    "    \\end{pmatrix}.\n",
    "$$\n",
    "Nutzen Sie dabei die Summe zweier Dreiecksmatrizen. \n",
    ":::"
   ]
  },
  {
   "cell_type": "code",
   "execution_count": null,
   "metadata": {},
   "outputs": [],
   "source": [
    "# Ihr Code "
   ]
  },
  {
   "cell_type": "markdown",
   "metadata": {},
   "source": [
    ":::{admonition} Hinweis\n",
    ":class: note dropdown\n",
    "\n",
    "Verwenden Sie  $\\texttt{np.tri}$, um eine untere Dreiecksmatrix zu erstellen, und  $\\texttt{np.ones}$ sowie  $\\texttt{np.triu}$, um eine obere Dreiecksmatrix zu erstellen.  \n",
    ":::\n",
    "\n",
    ":::{admonition} Lösung\n",
    ":class: tip dropdown\n",
    "\n",
    "``` python\n",
    "A_tri = np.tri(3)\n",
    "A_obere_dreieck = np.triu(2*np.ones(3))\n",
    "A_kein_dreieck = A_tri + A_obere_dreieck\n",
    "print(A_kein_dreieck)\n",
    "```\n",
    ":::"
   ]
  },
  {
   "cell_type": "markdown",
   "metadata": {},
   "source": [
    "Neben Funktionen, die strukturierte Matrizen erzeugen, gibt es auch Funktionen, die Matrizen mit zufälligen Einträgen erstellen. Eine solche Funktion haben Sie bereits bei den Grundlagen zur Arrayserstellung kennen gelernt: $\\texttt{np.random.rand}$. Diese Funktion generiert gleichverteilte Zufallszahlen im Intervall $[0,1]$. Zudem existiert die Funktion  $\\texttt{np.random.randn}$, welche standardnormalverteilte Zufallszahlen erzeugt. Zum Beispiel der Ausdruck  $\\texttt{np.random.randn(3,2)}$ erstellt eine $(3 \\times 2)$ Matrix mit standardnormalverteilten Einträgen."
   ]
  },
  {
   "cell_type": "markdown",
   "metadata": {},
   "source": [
    ":::{admonition} Aufgabe 3.4\n",
    "\n",
    "Erstellen Sie eine $(200 \\times 200)$ Matrix  $\\texttt{A_uniform}$, die zufällig gleichverteilte Einträge zwischen $0$ und $1$ annimmt, sowie eine $(200 \\times 200)$ Matrix  $\\texttt{A_normal}$, die standardnormalverteilte Zufallszahlen beinhaltet. Vergleichen Sie die maximalen Einträge beider Matrizen. \n",
    ":::"
   ]
  },
  {
   "cell_type": "code",
   "execution_count": null,
   "metadata": {},
   "outputs": [],
   "source": [
    "# Ihr Code "
   ]
  },
  {
   "cell_type": "markdown",
   "metadata": {},
   "source": [
    ":::{admonition} Hinweis\n",
    ":class: note dropdown\n",
    "\n",
    "Verwenden Sie die Funktionen  $\\texttt{np.random.rand}$ und  $\\texttt{np.random.randn}$, um die Matrizen zu erzeugen. Nutzen Sie anschließend  $\\texttt{.max()}$, um den maximalen Wert zu extrahieren. \n",
    ":::\n",
    "\n",
    ":::{admonition} Lösung\n",
    ":class: tip dropdown\n",
    "\n",
    "``` python\n",
    "A_uniform = np.random.rand(200,200)\n",
    "A_normal = np.random.randn(200,200)\n",
    "print('Der maximale Wert der uniform verteilten Matrix ist', A_uniform.max(),'und der der gleichverteilten ist', A_normal.max(),'.')\n",
    "# Beobachtung: Der gleichverteilte maximale Wert ist nahe bei 1, der normalverteilte deutlich über 1.\n",
    "```\n",
    ":::"
   ]
  },
  {
   "cell_type": "markdown",
   "metadata": {},
   "source": [
    "Für manche Anwendung möchte man zufällige ganze Zahlen erzeugen. Auch dafür bietet NumPy eine Funktion: die Funktion  $\\texttt{np.random.randint}$, welche 3 Eingabeparameter hat:  \n",
    "\n",
    "$$\n",
    "\\texttt{np.random.randint(min_wert, max_wert, size)}\n",
    "$$\n",
    "\n",
    "Die Funktion gibt nun ein Array der Größe  $\\texttt{size}$ aus, welche gleichmäßig verteilte ganze Zahlen aus dem Intervall $[\\texttt{min_wert},\\texttt{max_wert})$ als Einträge besitzt. Der Ausdruck  $\\texttt{np.random.randint(0, 10, (2,3))}$ erzeugt eine $(2 \\times 3)$ Matrix, die nur ganze Zahlen zwischen $0$ und $9$ annimmt. Beachten Sie auch hier wieder, dass die obere Grenze, die man angibt nicht angenommen wird. "
   ]
  },
  {
   "cell_type": "code",
   "execution_count": null,
   "metadata": {},
   "outputs": [],
   "source": [
    "A_randint = np.random.randint(0, 10, (2,3))\n",
    "print(A_randint) "
   ]
  },
  {
   "cell_type": "markdown",
   "metadata": {},
   "source": [
    ":::{admonition} Aufgabe 3.5\n",
    "Erstellen Sie eine $(200 \\times 200)$ Matrix $\\texttt{A_ganzzahlig}$, die zufällige ganzzahlige Einträge zwischen $-3$ und $4$ annimmt. Betrachten Sie anschließend den maximalen Wert der Matrix.\n",
    ":::"
   ]
  },
  {
   "cell_type": "code",
   "execution_count": null,
   "metadata": {},
   "outputs": [],
   "source": [
    "# Ihr Code "
   ]
  },
  {
   "cell_type": "markdown",
   "metadata": {},
   "source": [
    ":::{admonition} Lösung\n",
    ":class: tip dropdown\n",
    "\n",
    "``` python\n",
    "A_ganzzahlig = np.random.randint(-3,5,(200,200))\n",
    "print('Der maximale Wert der gleichverteilten, ganzzahligen Matrix ist', A_ganzzahlig.max(),'.')\n",
    "```\n",
    ":::"
   ]
  },
  {
   "cell_type": "markdown",
   "metadata": {},
   "source": [
    "Möchten Sie Zahlen innerhalb des Intervalls $[\\texttt{min_wert},\\texttt{max_wert})$ erzeugen, die nicht zwingend ganzzahlig sind, können Sie auf die bereits bekannte Funktion  $\\texttt{np.random.rand}$ zurückgreifen. Dabei müssen die so erzeugten Zufallszahlen geeignet skaliert werden. Dies erreichen sie mit Hilfe der Tansformation  \n",
    "\n",
    "$$\\texttt{min_wert + (max_wert - min_wert) * np.random.rand(m,n)}.$$\n",
    "\n",
    "Der Code  $\\texttt{4 + (12 - 4) * np.random.rand(3,2)}$ erzeugt eine $(3 \\times 2)$ Matrix, die beliebige rationale Zahlen zwischen $4$ und $12$ annimmt. "
   ]
  },
  {
   "cell_type": "code",
   "execution_count": null,
   "metadata": {},
   "outputs": [],
   "source": [
    "# erzeugt 3 x 2 Matrix mit beliebigen rationalen Zahlen zwischen 4 und 12\n",
    "A_rational = 4 + (12 - 4) * np.random.rand(3,2) \n",
    "\n",
    "print(A_rational)"
   ]
  },
  {
   "cell_type": "markdown",
   "metadata": {},
   "source": [
    ":::{admonition} Aufgabe 3.6\n",
    "Erstellen Sie eine $(200 \\times 200)$ Matrix $\\texttt{A_nicht_ganzzahlig}$, die zufällige rationale Einträge zwischen $-3$ und $4$ annimmt. Betrachten Sie anschließend den maximalen Wert der Matrix.\n",
    ":::"
   ]
  },
  {
   "cell_type": "code",
   "execution_count": null,
   "metadata": {},
   "outputs": [],
   "source": [
    "# Ihr Code "
   ]
  },
  {
   "cell_type": "markdown",
   "metadata": {},
   "source": [
    ":::{admonition} Hinweis\n",
    ":class: note dropdown\n",
    "\n",
    "Verwenden Sie die Funktion $\\texttt{np.random.rand}$ und skalieren Sie diese geeignet, um die Matrix zu erzeugen. Nutzen Sie anschließend $\\texttt{.max()}$, um den maximalen Wert zu extrahieren. \n",
    ":::\n",
    "\n",
    ":::{admonition} Lösung\n",
    ":class: tip dropdown\n",
    "\n",
    "``` python\n",
    "A_nicht_ganzzahlig = - 3 + 7 * np.random.rand(200,200)\n",
    "print('Der maximale Wert der gleichverteilten, rationalen Matrix ist', A_nicht_ganzzahlig.max(),'.')\n",
    "```\n",
    ":::"
   ]
  },
  {
   "cell_type": "markdown",
   "metadata": {},
   "source": [
    "Nach einem ähnlichen Vorgehen können Sie normalverteilte Zufallszahlen mit Erwartungsert $\\texttt{nu}$ und Standardabweichung $\\texttt{sigma}$ generieren. Dazu verwenden wir erneut $\\texttt{np.random.randn}$ und skalieren mit der folgenden Transformation:\n",
    "\n",
    "$$\\texttt{nu + sigma * np.random.randn(m,n)}.$$ \n",
    "\n",
    "Der Code $\\texttt{-1 + 3 * np.random.randn(3,2)}$ erzeugt eine $(3 \\times 2)$ Matrix, die normalverteilte Zahlen mit Erwartungswert $-1$ und Standardabweichung $3$ annimmt. "
   ]
  },
  {
   "cell_type": "code",
   "execution_count": null,
   "metadata": {},
   "outputs": [],
   "source": [
    "# erzeugt 2 x 3 Matrix mit normalverteilte Zahlen zwischen mit Erwartungswert -1 und Standardabweichung 3\n",
    "A_normal_skaliert = -1 + 3 * np.random.randn(3,2) \n",
    "\n",
    "print(A_normal_skaliert)"
   ]
  },
  {
   "cell_type": "markdown",
   "metadata": {},
   "source": [
    ":::{admonition} Aufgabe 3.7\n",
    "Erstellen Sie eine $(200 \\times 200)$ Matrix $\\texttt{A_normal2}$, die standardnormalverteilte Zufallszahlen mit Erwartungswert $2$ uns Standardabweichung $0.5$ annimmt. Betrachten Sie anschließend den maximalen Wert der Matrix.\n",
    ":::"
   ]
  },
  {
   "cell_type": "code",
   "execution_count": null,
   "metadata": {},
   "outputs": [],
   "source": [
    "# Ihr Code "
   ]
  },
  {
   "cell_type": "markdown",
   "metadata": {},
   "source": [
    ":::{admonition} Lösung\n",
    ":class: tip dropdown\n",
    "\n",
    "``` python\n",
    "A_normal2 = 2 + 0.5 * np.random.randn(200,200)\n",
    "print('Der maximale Wert der gleichverteilten, rationalen Matrix ist', A_normal2.max(),'.')\n",
    "```\n",
    ":::"
   ]
  },
  {
   "cell_type": "markdown",
   "metadata": {},
   "source": [
    "## Übersicht der Matrix- und Vektor-Funktionen\n",
    "\n",
    "Abschließend möchten wir Ihnen noch eine grobe Übersicht über die Funktionen zum Erzeugen von Matrizen und Vektoren geben. Dabei haben wir die Liste um ein paar nützliche Befehle erweitert, die wir in diesem Kurs nicht explizit verwenden, die aber durchaus von Nutzen sein können. \n",
    "\n",
    "### Erstellen von Vektoren\n",
    "\n",
    "::::{div} full-width\n",
    ":::{list-table}\n",
    ":header-rows: 1\n",
    "\n",
    "* - Funktion\n",
    "  - Beschreibung\n",
    "  - Beispiel\n",
    "* - $\\texttt{np.arange(start, stop, step)}$\n",
    "  - Erzeugt Werte von $\\texttt{start}$ bis $\\texttt{stop}$ mit einer Schrittweite von $\\texttt{step}$.\n",
    "  - $\\texttt{np.arange(0, 5, 1)}$  $\\rightarrow \\begin{bmatrix} 0. & 1. & 2. &. 3. & 4. \\end{bmatrix}$\n",
    "* - $\\texttt{np.linspace(start, stop, num)}$\n",
    "  - Erzeugt gleichmäßig verteilte Zahlen zwischen $\\texttt{start}$ und $\\texttt{stop}$.\n",
    "  - $\\texttt{np.linspace(0, 1, 5)}$ $\\rightarrow \\begin{bmatrix} 0. & 0.25 & 0.5 & 0.75 & 1. \\end{bmatrix}$\n",
    "* - $\\texttt{np.logspace(start, stop, num)}$\n",
    "  - Erzeugt logarithmisch verteilte Zahlen zwischen $\\texttt{10^\\text{start}}$ und $\\texttt{10^\\text{stop}}$\n",
    "  - $\\texttt{np.logspace(0, 2, 5)}$  $\\rightarrow \\begin{bmatrix} 1. & 3.162 & 10. & 31.62 & 100. \\end{bmatrix}$\n",
    ":::\n",
    "::::\n",
    "\n",
    "::::\n",
    "\n",
    "### Erstellung von strukturierten Matrizen\n",
    "\n",
    "::::{div} full-width\n",
    ":::{list-table}\n",
    ":header-rows: 1\n",
    "\n",
    "* - Funktion\n",
    "  - Beschreibung\n",
    "  - Beispiel\n",
    "* - $\\texttt{np.zeros(shape)}$\n",
    "  - Erstellt eine Matrix der Form $\\texttt{shape}$, die nur Nullen enthält.\n",
    "  - $\\texttt{np.zeros((2,3))}$ $\\rightarrow \\begin{bmatrix} 0. & 0. & 0. \\\\ 0. & 0. & 0. \\end{bmatrix}$\n",
    "* - $\\texttt{np.ones(shape)}$\n",
    "  - Erstellt eine Matrix der Form $\\texttt{shape}$, die nur Einsen enthält.\n",
    "  - $\\texttt{np.ones((2,3))}$ $\\rightarrow \\begin{bmatrix} 1. & 1. & 1. \\\\ 1. & 1. & 1. \\end{bmatrix}$\n",
    "* - $\\texttt{np.full(shape, w)}$\n",
    "  - Erstellt eine Matrix, die mit einem angegebenen Wert $\\texttt{w}$ gefüllt ist.\n",
    "  - $\\texttt{np.full((2,3), 7)}$ $\\rightarrow \\begin{bmatrix} 7 & 7 & 7 \\\\ 7 & 7 & 7 \\end{bmatrix}$\n",
    "* - $\\texttt{np.eye(N)}$\n",
    "  - Erstellt eine Identitätsmatrix der Größe $\\texttt{N}$.\n",
    "  - $\\texttt{np.eye(3)}$ $\\rightarrow \\begin{bmatrix} 1. & 0. & 0. \\\\ 0. & 1. & 0. \\\\ 0. & 0. & 1. \\end{bmatrix}$\n",
    "* - $\\texttt{np.diag(v)}$\n",
    "  - Erstellt eine diagonale Matrix mit den Elementen von $\\texttt{v}$.\n",
    "  - $\\texttt{np.diag([1, 2, 3])}$ $\\rightarrow \\begin{bmatrix} 1 & 0 & 0 \\\\ 0 & 2 & 0 \\\\ 0 & 0 & 3 \\end{bmatrix}$\n",
    "* - $\\texttt{np.tri(N)}$\n",
    "  - Erstellt eine untere Dreiecksmatrix der Größe $\\texttt{N}$ mit Einsen unterhalb der Diagonalen.\n",
    "  - $\\texttt{np.tri(3)}$ $\\rightarrow \\begin{bmatrix} 1. & 0. & 0. \\\\ 1. & 1. & 0. \\\\ 1. & 1. & 1. \\end{bmatrix}$\n",
    "* - $\\texttt{np.triu(A)}$\n",
    "  - Erstellt eine obere Dreiecksmatrix, indem alle Werte unter der Diagonalen von $\\texttt{A}$ auf Null gesetzt werden.\n",
    "  - $\\texttt{np.triu([[1,2,3],[4,5,6],[7,8,9]])}$ $\\rightarrow \\begin{bmatrix} 1 & 2 & 3 \\\\ 0 & 5 & 6 \\\\ 0 & 0 & 9 \\end{bmatrix}$\n",
    "* - $\\texttt{np.tril(A)}$\n",
    "  - Erstellt eine untere Dreiecksmatrix, indem alle Werte oberhalb der Diagonalen von $\\texttt{A}$ auf Null gesetzt werden.\n",
    "  - $\\texttt{np.tril([[1,2,3],[4,5,6],[7,8,9]])}$ $\\rightarrow \\begin{bmatrix} 1 & 0 & 0 \\\\ 4 & 5 & 0 \\\\ 7 & 8 & 9 \\end{bmatrix}$\n",
    ":::\n",
    "::::\n",
    "\n",
    "### Erstellung von Zufallsmatrizen\n",
    "\n",
    "::::{div} full-width\n",
    ":::{list-table}\n",
    ":header-rows: 1\n",
    ":widths: 20 40 40\n",
    "\n",
    "* - Funktion\n",
    "  - Beschreibung\n",
    "  - Beispiel\n",
    "* - $\\texttt{np.random.rand(d0,d1)}$\n",
    "  - Erzeugt eine $(d0 \\times d1)$ Matrix mit Zufallswerten gleichmäßig verteilt zwischen 0 und 1.\n",
    "  - $\\texttt{np.random.rand(2,3)}$  \n",
    "    $\\rightarrow \\begin{bmatrix} 0.840228 & 0.466983 & 0.156066 \\\\ 0.771374 & 0.634024 & 0.530364 \\end{bmatrix}$\n",
    "* - $\\texttt{np.random.randn(d0,d1)}$\n",
    "  - Erzeugt eine $(d0 \\times d1)$ Matrix mit Zufallswerten aus einer Standardnormalverteilung.\n",
    "  - $\\texttt{np.random.randn(2,3)}$  \n",
    "    $\\rightarrow \\begin{bmatrix} 0.389413 & -0.923499 & 0.037768 \\\\ -0.714868 & -1.67741 & -2.08224 \\end{bmatrix}$\n",
    "* - $\\texttt{np.random.randint(l,h,size)}$\n",
    "  - Erzeugt eine Matrix der Form $\\texttt{size}$ mit ganzzahligen Zufallswerten zwischen $\\texttt{l}$ und $\\texttt{h}$.\n",
    "  - $\\texttt{np.random.randint(0,10,(2,3))}$  \n",
    "    $\\rightarrow \\begin{bmatrix} 3 & 3 & 9 \\\\ 1 & 6 & 3 \\end{bmatrix}$\n",
    "* - $\\texttt{np.random.choice(v,size)}$\n",
    "  - Erzeugt eine Matrix der Form $\\texttt{size}$ mit Einträgen zufällig aus dem Array $\\texttt{v}$.\n",
    "  - $\\texttt{np.random.choice([1,2,3,4],(2,3))}$  \n",
    "    $\\rightarrow \\begin{bmatrix} 3 & 4 & 2 \\\\ 2 & 2 & 1 \\end{bmatrix}$\n",
    ":::\n",
    "::::\n"
   ]
  }
 ],
 "metadata": {
  "language_info": {
   "name": "python"
  }
 },
 "nbformat": 4,
 "nbformat_minor": 2
}
