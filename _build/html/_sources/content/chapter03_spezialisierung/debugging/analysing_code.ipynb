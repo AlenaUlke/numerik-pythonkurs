{
 "cells": [
  {
   "cell_type": "markdown",
   "metadata": {},
   "source": [
    "# Fehleranalyse\n",
    "\n",
    "\n",
    "## Den Code nach Fehlern durchgehen\n",
    "\n",
    "This script should fit a polynomial to electricity usage data. But, there is an error indicating that the first two inputs to polyfit should be the same size.\n",
    "\n",
    "You can inspect the variables elapsedYears and usage to know they are not the same size. usage should be a vector, not a matrix. \n",
    "\n",
    "\n",
    "The variable usage keeps changing! So where did the mistake occur? \n",
    "\n",
    "You can see where the error seems to be introduced by removing semicolons (line 8). It would be helpful to pause the code right before this line so we can test modifications using the value at that point in the script. \n",
    "\n",
    "\n",
    "Bild 7 gibt eine Übersicht über das Skript, um das es geht.\n",
    "\n",
    "In this lesson, you will learn to step through your code and pause execution before certain lines. Not only does this allow you to see how variables change with each modification, but also you can troubleshoot and test possible solutions using the intermediate variable value.\n",
    "\n",
    "\n",
    "One way that you may already be familiar with is to leverage sections. You can add section breaks and run the script section-by-section with Run and Advance in the Live Editor tab in the toolstrip.\n",
    "\n",
    "Between code sections, you can try things out at the command prompt. If adding sections breaks up your code organization, you may need to remove unneeded section breaks later. \n",
    "\n",
    "\n",
    "\n",
    "Another way to step through code is to use built-in debugging tools. To pause code execution before a line, you can set breakpoints by clicking the line number. These are indicated with a red box. Here, we added breakpoints before each line that modifies usage.\n",
    "\n",
    "Now when you click run, MATLAB will pause before executing lines 3, 8, 9, and 11, allowing you to inspect variables and try things out before continuing. \n",
    "\n",
    "\n",
    "When you click, Run, the first two lines are executed. Line 3, highlighted in green, has not been run. So, usage has not been created yet. To continue to the next breakpoint, click Continue in the Live Editor tab in the toolstrip. This executes every line before the next breakpoint. \n",
    "\n",
    " When your code execution is paused, you can inspect variables in the workspace or by mousing over just like you did before. usage is the right size before it is modified in line 8. \n",
    "\n",
    "In addition to inspecting other variables, you can try things out at the command prompt. The command prompt is marked with a \"K\" to indicate you are in debug mode.\n",
    "\n",
    "It is a common strategy to test the line you are about to run and try other solutions. It looks like the current line changes the size of usage. The normalization should have been element-wise for usage to remain a vector. You can fix that by changing / to ./. \n",
    "\n",
    "If you want to step through your code one line at a time instead of continuing to the next breakpoint, you can use the Step button in the Live Editor tab in the toolstrip. For instance, clicking Step twice will get you to the start of line 10, even though there is no breakpoint there.\n",
    "\n",
    "The breakpoints have changed to gray to indicate there was a change in the code that may not be reflected as you step through. \n",
    "\n",
    "When you are finished making changes, save your work. This exits debug mode. Then right-click the side bar to clear the breakpooints.\n",
    "\n",
    "To exit debug mode without saving your work, click the Stop button in the Live Editor tab in the toolstrip. "
   ]
  },
  {
   "cell_type": "code",
   "execution_count": null,
   "metadata": {},
   "outputs": [],
   "source": [
    "datafile = \"elec_res.xlsx\";\n",
    "\n",
    "# falscher Code\n",
    "data = readtable(datafile);\n",
    "sector = data.Properties.VariableNames{2};\n",
    "usage = data{:,2};\n",
    "dates = data.Date;\n",
    "\n",
    "d = dates;\n",
    "d(end+1) = d(end) + calmonths(1);\n",
    "daysInMth = days(diff(d));\n",
    "usage = usage./daysInMth; % per-day usage\n",
    "\n",
    "n = length(usage);\n",
    "usageSm = usage;\n",
    "for k = 1:n-1\n",
    "    usageSm(k) = mean(usage(k-1:k+1));\n",
    "end\n",
    "\n",
    "plot(dates,usage,dates,usageSm)\n",
    "legend(\"Usage\", \"Smoothed Usage\")"
   ]
  },
  {
   "cell_type": "markdown",
   "metadata": {},
   "source": [
    ":::{admonition} Aufgabe 1.1\n",
    "The live script elec.mlx loads and smooths electricity usage data, but there is an error inside the for loop.\n",
    "\n",
    "Set a breakpoint at line 14 (the line where usageSm(k) is updated), and then step through the code, inspecting variables until you find what is wrong.\n",
    "\n",
    "At the command prompt, try\n",
    "\n",
    "K>> k\n",
    "K>> usage(k-1:k+1)\n",
    "\n",
    "\n",
    "before running that line. What are the values of k and usage(k-1:k+1) when the code errors?\n",
    "\n",
    "You can see a solution by opening elecSoln.mlx with edit elecSoln.mlx.\n",
    "\n",
    "Breakpoints are a helpful in understanding what happens to variables on each iteration of a for loop. Once you have fixed the bug, run the script with the breakpoint inside the for loop.  What happens to usageSm as you press Continue a few times?\n",
    "\n",
    "When you are finished, exit debug mode and clear the breakpoints.\n",
    "\n",
    "This activity is unassessed.\n",
    ":::"
   ]
  },
  {
   "cell_type": "code",
   "execution_count": null,
   "metadata": {},
   "outputs": [],
   "source": [
    "# Ihr Code "
   ]
  },
  {
   "cell_type": "markdown",
   "metadata": {},
   "source": [
    "\n",
    ":::{admonition} Hinweis\n",
    ":class: note dropdown\n",
    "\n",
    ":::\n",
    "\n",
    ":::{admonition} Lösung\n",
    ":class: tip dropdown\n",
    "\n",
    "``` python\n",
    "\n",
    "```\n",
    ":::"
   ]
  },
  {
   "cell_type": "markdown",
   "metadata": {},
   "source": [
    "## Funktionen nach Fehlern durchgehen"
   ]
  },
  {
   "cell_type": "markdown",
   "metadata": {},
   "source": [
    "Bild 8 gehört zur nachfolgenden Beschreibung\n",
    "\n",
    "\n",
    "Debugging Run-Time Errors\n",
    "Functions hide their workspaces from you, so how do you troubleshoot code in a function? \n",
    "\n",
    "\n",
    "Just like in scripts, the Code Analyzer identifies syntax errors in functions and is your first line of defense against bugs.\n",
    "\n",
    "Here, the Code Analyzer hasn't detected any syntax errors. Let’s call the function predictUsage at the command line. \n",
    "\n",
    "\n",
    "But as you have seen before, a clear Code Analyzer doesn't mean there isn't a bug. We've encountered a run-time error.\n",
    "\n",
    "The error message contains the line number of the command that generated the error. \n",
    "\n",
    "\n",
    "Click the line number, and the Editor opens the file to that line of code. \n",
    "\n",
    " Let's set breakpoints at the line where the error occurred and a few lines above.\n",
    "\n",
    "\n",
    "Let's set breakpoints at the line where the error occurred and a few lines above.\n",
    "Now when you call the function, the program pauses at the first breakpoint—just like in scripts. And since the program was paused while executing the function, you can see a snapshot of the intermediate variables.\n",
    "\n",
    "Line 7 has not run, so elapsedYears has not been created yet.  \n",
    "\n",
    "Pausing mid-function gives you a window into the function's workspace. Now you have access to all of the tools you had for debugging scripts: inspecting variables, stepping through code, and testing commands\n",
    "\n",
    "After stepping through line by line, it appears that endDuration is a duration variable, but the polyval function only accepts numeric inputs.\n",
    "\n",
    "\n",
    "Recall that the command prompt is marked with a K to indicate you are in debug mode. You can test your solution in the Command Window to see if it resolves the error.\n",
    "\n",
    "It doesn't produce the error, so you've identified the change you need to make. \n",
    "To fix this error, you can convert endDuration to a numeric value using the years function. \n",
    "\n",
    " Now you can modify your code and save the file. Click the Stop button to end your debugging session. \n",
    "\n",
    " Before calling your function, clear the breakpoints so the execution doesn't get halted again. "
   ]
  },
  {
   "cell_type": "code",
   "execution_count": null,
   "metadata": {},
   "outputs": [],
   "source": [
    "# falscher Code\n",
    "n = 8;\n",
    "fibN = fibSeq\n",
    "\n",
    "\n",
    "function fibN = fibSeq\n",
    "    fib = zeros(1,n);\n",
    "    fib([2,3]) = 1;\n",
    "\n",
    "    % Create the Fibonacci Sequence\n",
    "    for k = 3:n-1\n",
    "\n",
    "        fib(k+1) = fib(k-1) + fib(k);\n",
    "    end\n",
    "    fibN = fib(end)\n",
    "end"
   ]
  },
  {
   "cell_type": "markdown",
   "metadata": {},
   "source": [
    ":::{admonition} Aufgabe 2.1\n",
    "Notice that this local function has an error and a warning in the Code Analyzer. Set a breakpoint on the line indicated by the error message and inspect the variables in the Workspace by clicking the tab on the right.\n",
    "\n",
    "Try to fix the error and address the warning in the Code Analyzer.  When n is 8, fibN should be 13.  Don't forget to clear any breakpoints in the file.\n",
    "\n",
    "When you are ready, you can open the solution at the command prompt.\n",
    "\n",
    "edit fibSeqLocFunSoln.mlx\n",
    "\n",
    "\n",
    "\n",
    "This activity is unassessed.\n",
    ":::"
   ]
  },
  {
   "cell_type": "code",
   "execution_count": null,
   "metadata": {},
   "outputs": [],
   "source": [
    "# Ihr Code "
   ]
  },
  {
   "cell_type": "markdown",
   "metadata": {},
   "source": [
    "\n",
    ":::{admonition} Hinweis\n",
    ":class: note dropdown\n",
    "\n",
    ":::\n",
    "\n",
    "\n",
    ":::{admonition} Lösung\n",
    ":class: tip dropdown\n",
    "\n",
    "``` python\n",
    "\n",
    "```\n",
    ":::"
   ]
  },
  {
   "cell_type": "markdown",
   "metadata": {},
   "source": [
    "Bild 10 und 11 sind vielleicht für eine Zusammenfassung gut"
   ]
  }
 ],
 "metadata": {
  "language_info": {
   "name": "python"
  }
 },
 "nbformat": 4,
 "nbformat_minor": 2
}
