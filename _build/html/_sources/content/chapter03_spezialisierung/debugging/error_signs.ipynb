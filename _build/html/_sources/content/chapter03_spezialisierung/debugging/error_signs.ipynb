{
 "cells": [
  {
   "cell_type": "markdown",
   "metadata": {},
   "source": [
    "# Fehleranzeige\n",
    "\n",
    "\n",
    "## SyntaxError\n",
    "\n",
    "Wenn Sie eine neue Sprache lernen – sei es Englisch, Französisch oder eine Programmiersprache wie `Python` –, dann gibt es bestimmte Regeln, die Sie beachten müssen. Diese Regeln nennt man `Syntax`.\n",
    "\n",
    "```{admonition} Definition\n",
    ":class: note\n",
    "Die Syntax ist die Grammatik einer Programmiersprache. Sie legt fest, wie ein Programm geschrieben werden muss, damit der Computer es versteht.\n",
    "```\n",
    "\n",
    "\n",
    "Warum ist `Syntax` wichtig? Stellen Sie sich vor, Sie sagen zu jemandem: \"Haben wir morgen Kino gehen?\" Das klingt falsch, weil die Grammatik nicht stimmt. Ähnlich ist es in `Python`: Wenn du dich nicht an die Regeln hältst, bekommst du eine Fehlermeldung – einen `SyntaxError`.\n",
    "\n",
    "Ein Beispiel für einen `SyntaxError` wäre der Code: `print \"Hallo, Welt!\"`. Führt man diesen Code aus, gibt Python eine Fehlermeldung aus: \n",
    "\n",
    "`SyntaxError: Missing parentheses in call to 'print'. Did you mean print(...)?`\n",
    "\n",
    "Warum? Weil `print` Klammern braucht: `print(\"Hallo, Welt!\")`.\n",
    "\n",
    "In `Python` werden Fehler normalerweise direkt im Ausgabe- oder Fehlerbereich angezeigt. Dort werden Sie eine Fehlermeldung sehen, die den Fehlerort und eine Beschreibung des Problems enthält. Die Fehlermeldung besteht häufig aus zwei Teilen:\n",
    "\n",
    "1. **Fehlerbeschreibung**: Hier wird der genaue Fehlertyp genannt, z.B. `SyntaxError`, und eine kurze Erklärung, was das Problem ist (z.B. \"unexpected EOF while parsing\").\n",
    "2. **Fehlerort**: Der Codeabschnitt, in dem der Fehler auftritt, wird angezeigt, wobei oft der genaue Zeile des Fehlers (z.B. eine fehlende Klammer oder ein falsches Schlüsselwort) durch einen Indikator markiert wird."
   ]
  },
  {
   "cell_type": "code",
   "execution_count": null,
   "metadata": {},
   "outputs": [],
   "source": [
    "print \"Hallo, Welt!\"\n",
    "# print(\"Hallo, Welt!\")"
   ]
  },
  {
   "cell_type": "markdown",
   "metadata": {},
   "source": [
    "Dadurch wird die Diagnose erleichtert.\n",
    "\n",
    "Die nachfolgenden Abschnitte beschreiben Ihnen jeweils fehlerhafte Codeabschnitte. Versuchen Sie in den Aufgaben die `SyntaxError` zu identifizieren und zu korrigieren. Nutzen Sie dazu gerne die Rückmeldung von `Python`, wenn Sie versuchen den Code laufen zu lassen."
   ]
  },
  {
   "cell_type": "code",
   "execution_count": null,
   "metadata": {},
   "outputs": [],
   "source": [
    "# falscher Code\n",
    "import np \n",
    "x = np.array([1, 2, 3])"
   ]
  },
  {
   "cell_type": "markdown",
   "metadata": {},
   "source": [
    ":::{admonition} Aufgabe 1.1\n",
    "Passen Sie den Code an, sodass die Fehlermeldung behoben wird.\n",
    "\n",
    ":::"
   ]
  },
  {
   "cell_type": "code",
   "execution_count": null,
   "metadata": {},
   "outputs": [],
   "source": [
    "# Ihr Code "
   ]
  },
  {
   "cell_type": "markdown",
   "metadata": {},
   "source": [
    "\n",
    ":::{admonition} Hinweis\n",
    ":class: note dropdown\n",
    "\n",
    "`NameError: name 'np' is not defined` deutet darauf hin, dass `numpy` nicht richtig importiert worden ist.\n",
    ":::\n",
    "\n",
    ":::{admonition} Lösung\n",
    ":class: tip dropdown\n",
    "\n",
    "``` python\n",
    "import numpy as np  # numpy wurde korrekt importiert\n",
    "x = np.array([1, 2, 3])\n",
    "```\n",
    ":::"
   ]
  },
  {
   "cell_type": "code",
   "execution_count": null,
   "metadata": {},
   "outputs": [],
   "source": [
    "# falscher Code\n",
    "import numpy as np\n",
    "\n",
    "A = np.array([[1, 2, 3], [4, 5]])\n",
    "print(A.shape)"
   ]
  },
  {
   "cell_type": "markdown",
   "metadata": {},
   "source": [
    ":::{admonition} Aufgabe 1.2\n",
    "Passen Sie den Code an, sodass die Fehlermeldung behoben wird.\n",
    "\n",
    ":::"
   ]
  },
  {
   "cell_type": "code",
   "execution_count": null,
   "metadata": {},
   "outputs": [],
   "source": [
    "# Ihr Code "
   ]
  },
  {
   "cell_type": "markdown",
   "metadata": {},
   "source": [
    "\n",
    ":::{admonition} Hinweis\n",
    ":class: note dropdown\n",
    "\n",
    "`VisibleDeprecationWarning: Creating an ndarray from ragged nested sequences is deprecated.` deutet darauf hin, dass `A` nicht korrekt definiert wurde.\n",
    ":::\n",
    "\n",
    ":::{admonition} Lösung\n",
    ":class: tip dropdown\n",
    "\n",
    "``` python\n",
    "import numpy as np\n",
    "\n",
    "A = np.array([[1, 2, 3], [4, 5, 6]])  # alle Zeilen haben die gleiche Länge\n",
    "print(A.shape)  \n",
    "```\n",
    ":::"
   ]
  },
  {
   "cell_type": "code",
   "execution_count": null,
   "metadata": {},
   "outputs": [],
   "source": [
    "# falscher Code\n",
    "def greet():\n",
    "    return \"Hallo!\"\n",
    "\n",
    "print(greet)"
   ]
  },
  {
   "cell_type": "markdown",
   "metadata": {},
   "source": [
    ":::{admonition} Aufgabe 1.3\n",
    "Passen Sie den Code an, sodass die Fehlermeldung behoben wird.\n",
    "\n",
    ":::"
   ]
  },
  {
   "cell_type": "code",
   "execution_count": null,
   "metadata": {},
   "outputs": [],
   "source": [
    "# Ihr Code "
   ]
  },
  {
   "cell_type": "markdown",
   "metadata": {},
   "source": [
    "\n",
    ":::{admonition} Hinweis\n",
    ":class: note dropdown\n",
    "\n",
    "`<function greet at 0x...>` deutet darauf hin, dass die Funktion nicht richtig aufgerufen wird. \n",
    ":::\n",
    "\n",
    ":::{admonition} Lösung\n",
    ":class: tip dropdown\n",
    "\n",
    "``` python\n",
    "def greet():\n",
    "    return \"Hallo!\"\n",
    "\n",
    "print(greet())  # die Klammern haben gefehlt\n",
    "```\n",
    ":::"
   ]
  },
  {
   "cell_type": "markdown",
   "metadata": {},
   "source": [
    "Zum Abschluss möchten wir Ihnen noch eine Liste der häufigsten `SyntaxError` mit auf den Weg geben. \n",
    "\n",
    "| Fehler                                | Beispiel                                                                 | Erklärung                                              |\n",
    "|---------------------------------------|--------------------------------------------------------------------------|--------------------------------------------------------|\n",
    "| **Vergessene Klammern**               | <nobr>`print(\"Hello World\"`</nobr>                                      | Eine schließende Klammer fehlt.                        |\n",
    "| **Falsche Klammern verwendet**        | <nobr>`if [x > 10]:`</nobr>                                             | Statt runder Klammern `()` wurden eckige Klammern `[]` verwendet. |\n",
    "| **Falsche Einrückung**                | ``` if x > 10:   print(x) ```                                           | Einrückung muss konstant sein.                         |\n",
    "| **Ungültiger Variablenname**          | <nobr>`2x = 10`</nobr>                                                  | Variablennamen dürfen nicht mit einer Zahl beginnen.   |\n",
    "| **Falsche String-Begrenzung**         | <nobr>`'Hello World\"`</nobr>                                            | Ein String muss mit dem gleichen Zeichentyp abgeschlossen werden (z.B. beide `'` oder beide `\"`). |\n",
    "| **Fehlender Operator**                | <nobr>`x 10`</nobr>                                                     | Ein Operator zwischen Variablen fehlt (z.B. `x + 10`). |\n",
    "| **Verwendung von reservierten Wörtern**| <nobr>`def = 10`</nobr>                                                 | `def` ist ein reserviertes Schlüsselwort und kann nicht als Variablenname verwendet werden. |\n",
    "| **Zu viele Klammern**                 | <nobr>`if (x > 10)):`</nobr>                                          | Zu viele schließende Klammern.                         |\n",
    "| **Falsche Anzahl von Argumenten**     | <nobr>`print(\"Hello\", 10)`</nobr>                          | Eine Funktion erhält nicht die erforderliche Anzahl von Argumenten. |\n",
    "\n"
   ]
  },
  {
   "cell_type": "markdown",
   "metadata": {},
   "source": [
    "<br>\n",
    "\n",
    "\n",
    "## RuntimeError\n",
    "\n",
    "Ein `RuntimeError` (Laufzeitfehler) tritt auf, wenn ein Programm syntaktisch korrekt ist, aber während der Ausführung einen Fehler verursacht. Diese Art von Fehler verhindert, dass das Programm weiterläuft oder manchmal auch, dass das Programm durchläuft, aber nicht das tut, was Sie wollen.\n",
    "\n",
    "Ein häufiger Grund für `RuntimeError` ist die Verwendung einer nicht definierten bzw. falsch geschriebenen Variablen. Das passiert, wenn man versucht, auf eine Variable zuzugreifen, die vorher nicht deklariert wurde. Dieser Fall hat den Vorteil, dass `Python` eine Fehlermeldung hervorruft. "
   ]
  },
  {
   "cell_type": "code",
   "execution_count": null,
   "metadata": {},
   "outputs": [],
   "source": [
    "Masse = 10\n",
    "Geschwindigkeit = 5\n",
    "kinetische_Energie = 0.5 * masse * Geschwindigkeit\n",
    "# kinetische_Energie = 0.5 * Masse * Geschwindigkeit"
   ]
  },
  {
   "cell_type": "markdown",
   "metadata": {},
   "source": [
    "Hier wurde die Variable `Masse` genannt, allerdings in der Rechnug über `masse` versucht aufgerufen zu werden. Auch wenn intuitiv klar ist, dass damit die gleiche Größe gemeint ist, kann `Python` damit nicht umgehen und zeigt die Fehlermeldung `NameError: name 'masse' is not defined`.\n",
    "\n",
    "Kniffliger wird es, wenn sich im eigenen Code `RuntimeErrors` eingeschlichen haben, die keine Fehlermeldung verursachen, aber die Ausführung so beeinflussen, dass das Ergebnis nicht das Gewünschte ist. Im Folgenden wollen wir uns dieses Phänomen anhand der Fibonacci-Folge anschauen. Diese ist eine Zahlenreihe, in der jede Zahl die Summe der beiden vorherigen Zahlen entspricht. Sie wird mit den beiden Folgenglieder 1 und 1 initialisiert. Folglich sind 1, 1, 2, 3, 5, 8, 13, ....die ersten 7 Folgenglieder. Das folgende Python-Code soll die ersten 10 Fibonacci-Zahlen berechnen. Es enthält jedoch Fehler, die wir schrittweise beheben werden."
   ]
  },
  {
   "cell_type": "code",
   "execution_count": null,
   "metadata": {},
   "outputs": [],
   "source": [
    "import numpy as np\n",
    "\n",
    "n = 10\n",
    "fib = np.zeros(n)  # Erstellt ein Array mit 10 Einträgen\n",
    "fib[0:2] = 1  # Setzt fib[0] und fib[1] auf 1\n",
    "\n",
    "for k in range(1, n - 1): \n",
    "    fib[k + 1] = fib[k - 1] + fib[k - 2]  # Berechnet die Fibonacci-Zahlen iterativ\n",
    "\n",
    "fibN = fib[n]  # Zugriff auf die zuletzt berechnete Zahl\n",
    "print(f\"Die {n}. Fibonacci-Zahl ist: {fibN}\")\n"
   ]
  },
  {
   "cell_type": "markdown",
   "metadata": {},
   "source": [
    ":::{admonition} Aufgabe 2.1\n",
    "\n",
    "Wenn Sie versuchen den Code auszuführen erhalten Sie die Fehlermeldung `IndexError: index 10 is out of bounds for axis 0 with size 10`. Woran könnte das liegen? Passen Sie den Code so an, dass die Fehlermeldung nicht mehr erscheint.\n",
    "\n",
    "\n",
    ":::"
   ]
  },
  {
   "cell_type": "code",
   "execution_count": null,
   "metadata": {},
   "outputs": [],
   "source": [
    "# Ihr Code "
   ]
  },
  {
   "cell_type": "markdown",
   "metadata": {},
   "source": [
    "\n",
    ":::{admonition} Hinweis\n",
    ":class: note dropdown\n",
    "\n",
    "Der wie vielte Eintrag von `fib` wird über `fib[n]` abgefragt?\n",
    ":::\n",
    "\n",
    ":::{admonition} Lösung\n",
    ":class: tip dropdown\n",
    "\n",
    "``` python\n",
    "import numpy as np\n",
    "\n",
    "n = 10\n",
    "fib = np.zeros(n)  # Erstellt ein Array mit 10 Einträgen\n",
    "fib[0:2] = 1  # Setzt fib[0] und fib[1] auf 1\n",
    "\n",
    "for k in range(1, n - 1):  \n",
    "    fib[k + 1] = fib[k - 1] + fib[k - 2]  # Berechnet die Fibonacci-Zahlen iterativ\n",
    "\n",
    "fibN = fib[n - 1]  # Zugriff auf die zuletzt berechnete Zahl\n",
    "print(f\"Die {n}. Fibonacci-Zahl ist: {fibN}\")\n",
    "```\n",
    ":::"
   ]
  },
  {
   "cell_type": "markdown",
   "metadata": {},
   "source": [
    "Wenn Sie den Code aus der Lösung ausführen, merken Sie dass nun keine Fehlermeldung mehr erscheint. Allerdings ist nach dem Code die 10. Fibonacci-Zahl die $9$, was nicht korrekt ist. Wie muss man den Code verändern, damit die richtige Zahl berechnet wird? In solchen Fällen kann es nützlich sein auch andere Variablen wie `fib` zu betrachten, um herauszufinden, an welcher Stelle der Code einen Fehler macht. "
   ]
  },
  {
   "cell_type": "markdown",
   "metadata": {},
   "source": [
    ":::{admonition} Aufgabe 2.2\n",
    "\n",
    "Passen Sie den Code an, sodass die richtige 10. Fibonacci-Zahl berechnet wird, nämlich $55$.\n",
    ":::"
   ]
  },
  {
   "cell_type": "code",
   "execution_count": null,
   "metadata": {},
   "outputs": [],
   "source": [
    "# Ihr Code "
   ]
  },
  {
   "cell_type": "markdown",
   "metadata": {},
   "source": [
    "\n",
    ":::{admonition} Hinweis\n",
    ":class: note dropdown\n",
    "\n",
    "Läuft die Schleife über die richtigen Elemente? Wird die richtige Zahl überschrieben in der Schleife?\n",
    ":::\n",
    "\n",
    "\n",
    ":::{admonition} Lösung\n",
    ":class: tip dropdown\n",
    "\n",
    "``` python\n",
    "import numpy as np\n",
    "\n",
    "n = 10\n",
    "fib = np.zeros(n)  # Erstellt ein Array mit 10 Einträgen\n",
    "fib[0:2] = 1  # Setzt fib[0] und fib[1] auf 1\n",
    "\n",
    "for k in range(2, n):  \n",
    "    fib[k] = fib[k - 1] + fib[k - 2]  # Berechnet die Fibonacci-Zahlen iterativ\n",
    "\n",
    "fibN = fib[n - 1]  # Zugriff auf die zuletzt berechnete Zahl\n",
    "print(f\"Die {n}. Fibonacci-Zahl ist: {fibN}\")\n",
    "```\n",
    ":::"
   ]
  },
  {
   "cell_type": "markdown",
   "metadata": {},
   "source": [
    "**wichtig**: Bitte in der Übung auf Hinweise, die im Jupyter Notebook angezeigt werden eingehen."
   ]
  }
 ],
 "metadata": {
  "language_info": {
   "name": "python"
  }
 },
 "nbformat": 4,
 "nbformat_minor": 2
}
