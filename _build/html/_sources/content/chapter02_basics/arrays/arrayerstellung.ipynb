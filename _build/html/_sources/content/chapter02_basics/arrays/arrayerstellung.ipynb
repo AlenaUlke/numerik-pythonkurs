{
 "cells": [
  {
   "cell_type": "markdown",
   "metadata": {},
   "source": [
    "# Arrayerstellung\n",
    "\n",
    "Einen NumPy Array können Sie sich am einfachsten wie ein Vektor oder eine Matrix vorstellen. Es zeichnet sich durch drei Kernkenngrößen aus: die Dimension, die Größe sowie die Einträge des Arrays.\n",
    "\n",
    "Die **Dimension** eines Arrays entspricht der Anzahl der Indizes, die benötigt werden, um ein Element zu adressieren. Beispielsweise kann ein eindimensionales Array als ein Vektor und ein zweidimensionales als Matrix interpretiert werden.\n",
    "\n",
    "Die **Größe** eines Arrays (engl. *shape*) wird durch ein Tupel $(n_1, n_2, \\dots, n_{\\mathrm{dim}})$ charakterisiert, wobei $n_i$ die Anzahl der Einträge der $i$-ten Dimension (engl. *axis*) entspricht.\n",
    "Eindimensionale Arrays haben eine Länge von $n$. Zweidimensionale Arrays besitzen die Größe $(m,n)$, wobei $m$ die Anzahl der Zeilen und $n$ die Anzahl der Spalten angibt.\n",
    "\n",
    "```{figure} img/array_dimension_shape.png\n",
    "    :figclass: center \n",
    "    :width: 60%\n",
    "```\n",
    "\n",
    "## Manuelle Arrayerstellung\n",
    "\n",
    "Sie können ein eindimensionales NumPy Array erstellen, in dem Sie dessen Einträge in einer Liste (gekennzeichent durch eckige Klammern $\\texttt{[]}$) zusammenfassen und der Funktion $\\texttt{np.array}$ übergeben:\n"
   ]
  },
  {
   "cell_type": "code",
   "execution_count": null,
   "metadata": {
    "tags": [
     "thebe-init"
    ]
   },
   "outputs": [],
   "source": [
    "# Einbinden des Pakets numpy unter dem Alias 'np'\n",
    "import numpy as np "
   ]
  },
  {
   "cell_type": "code",
   "execution_count": null,
   "metadata": {},
   "outputs": [],
   "source": [
    "x = np.array([0, 4]) # erstellt ein Array mit Einträgen 0 und 4\n",
    "print(x)"
   ]
  },
  {
   "cell_type": "markdown",
   "metadata": {},
   "source": [
    ":::{admonition} Aufgabe 1.1\n",
    "Erstellen Sie einen Vektor mit dem Namen $\\texttt{y}$ und den drei Elementen $3$, $7$ und $9$.\n",
    ":::"
   ]
  },
  {
   "cell_type": "code",
   "execution_count": null,
   "metadata": {},
   "outputs": [],
   "source": [
    "# Ihr Code "
   ]
  },
  {
   "cell_type": "markdown",
   "metadata": {},
   "source": [
    "\n",
    ":::{admonition} Hinweis\n",
    ":class: note dropdown\n",
    "\n",
    "Fassen Sie die Werte $3$, $7$ und $9$ mittels eckiger Klammern $\\texttt{[]}$ zusammen und nutzen Sie die Funktion $\\texttt{np.array}$.  \n",
    ":::\n",
    "\n",
    ":::{admonition} Lösung\n",
    ":class: tip dropdown\n",
    "\n",
    "``` python\n",
    "y = np.array([3, 7, 9])\n",
    "```\n",
    ":::"
   ]
  },
  {
   "cell_type": "markdown",
   "metadata": {},
   "source": [
    "Auch wenn ein eindimensionales NumPy Array als Vektor interpretiert werden kann, ist es in Python weder ein Zeilen- noch ein Spaltenvektor. \n",
    "In dem Sinne sind eindimensionale Arrays Objekte, welche Zahlen in einer festen Reihenfolge speichern. \n",
    "Im folgenden werden wir sie dennoch *Vektoren* nennen.\n",
    "\n",
    "Sie können eckige Klammern verschachteln und durch Kommata trennen, um ein zweidimensionales NumPy Array bzw. eine Matrix zu erstellen. Dabei geben Sie die Elemente Zeile für Zeile ein. Jede Zeile wird durch eckige Klammern abgegrenzt. "
   ]
  },
  {
   "cell_type": "code",
   "execution_count": null,
   "metadata": {},
   "outputs": [],
   "source": [
    "# erste Zeile von A: [1, 2, 3]\n",
    "# zweite Zeile von A: [4, 5, 6]\n",
    "A = np.array([[1, 2, 3], [4, 5, 6]])\n",
    "print(A)"
   ]
  },
  {
   "cell_type": "markdown",
   "metadata": {},
   "source": [
    ":::{admonition} Aufgabe 1.2\n",
    "Erstellen Sie eine $(2 \\times 3)$ Matrix mit dem Namen $\\texttt{A_23}$ und den Werten\n",
    "\n",
    "$$\n",
    "    \\begin{pmatrix} \n",
    "        4 & 3 & 2 \\\\\n",
    "        6 & 7 & 8\n",
    "    \\end{pmatrix}.\n",
    "$$\n",
    ":::"
   ]
  },
  {
   "cell_type": "code",
   "execution_count": null,
   "metadata": {},
   "outputs": [],
   "source": [
    "# Ihr Code "
   ]
  },
  {
   "cell_type": "markdown",
   "metadata": {},
   "source": [
    "\n",
    ":::{admonition} Lösung\n",
    ":class: tip dropdown\n",
    "\n",
    "``` python\n",
    "A_23 = np.array([[4, 3, 2], [6, 7, 8]])\n",
    "```\n",
    ":::\n",
    "\n",
    ":::{admonition} Aufgabe 1.3\n",
    "Erstellen Sie eine $(4 \\times 2)$ Matrix mit dem Namen $\\texttt{A_42}$ und den Werten\n",
    "\n",
    "$$\n",
    "    \\begin{pmatrix} \n",
    "        -1 &0 \\\\\n",
    "        -7 & 10 \\\\\n",
    "        2 & 4.5 \\\\\n",
    "        3 & -5\n",
    "    \\end{pmatrix}.\n",
    "$$\n",
    ":::"
   ]
  },
  {
   "cell_type": "code",
   "execution_count": null,
   "metadata": {},
   "outputs": [],
   "source": [
    "# Ihr Code "
   ]
  },
  {
   "cell_type": "markdown",
   "metadata": {},
   "source": [
    "\n",
    ":::{admonition} Lösung\n",
    ":class: tip dropdown\n",
    "\n",
    "``` python\n",
    "A_42 = np.array([[-1, 0], [-7, 10], [2, 4.5], [3, -5]])\n",
    "```\n",
    ":::\n",
    "\n",
    ":::{admonition} Aufgabe 1.4\n",
    "Erstellen Sie eine $(1 \\times 2)$ Matrix mit dem Namen $\\texttt{A_zeile}$ und den Werten\n",
    "\n",
    "$$\n",
    "    \\begin{pmatrix} \n",
    "        5 & 10 \n",
    "    \\end{pmatrix}.\n",
    "$$\n",
    ":::"
   ]
  },
  {
   "cell_type": "code",
   "execution_count": null,
   "metadata": {},
   "outputs": [],
   "source": [
    "# Ihr Code \n",
    "\n",
    "print(A_zeile.shape) # sollte (1, 2) liefern"
   ]
  },
  {
   "cell_type": "markdown",
   "metadata": {},
   "source": [
    ":::{admonition} Lösung\n",
    ":class: tip dropdown\n",
    "\n",
    "``` python\n",
    "A_zeile = np.array([[5, 10]])\n",
    "```\n",
    ":::\n",
    "\n",
    ":::{admonition} Aufgabe 1.5\n",
    "Erstellen Sie eine $(3 \\times 1)$ Matrix mit dem Namen $\\texttt{A_spalte}$ und den Werten\n",
    "\n",
    "$$\n",
    "    \\begin{pmatrix} \n",
    "        3 \\\\ 6 \\\\ -2\n",
    "    \\end{pmatrix}.\n",
    "$$\n",
    ":::"
   ]
  },
  {
   "cell_type": "code",
   "execution_count": null,
   "metadata": {},
   "outputs": [],
   "source": [
    "# Ihr Code\n",
    "\n",
    "print(A_spalte.shape) # sollte (3, 1) liefern"
   ]
  },
  {
   "cell_type": "markdown",
   "metadata": {},
   "source": [
    ":::{admonition} Lösung\n",
    ":class: tip dropdown\n",
    "\n",
    "``` python\n",
    "A_spalte = np.array([[3], [6], [-2]])\n",
    "```\n",
    ":::\n",
    "\n",
    "\n",
    "Innerhalb der eckigen Klammern können Sie auch Berechnungen durchführen.\n"
   ]
  },
  {
   "cell_type": "code",
   "execution_count": null,
   "metadata": {},
   "outputs": [],
   "source": [
    "x = np.array([np.abs(-3), 5**2])\n",
    "print(x)"
   ]
  },
  {
   "cell_type": "markdown",
   "metadata": {},
   "source": [
    "\n",
    ":::{admonition} Aufgabe 1.6\n",
    "Erstellen Sie einen Vektor mit dem Namen $\\texttt{y}$, welcher $\\sqrt{49}$ als erstes Element, $\\pi^2$ als zweites Element und $\\sin(4)$ als drittes Element enthält.  \n",
    ":::"
   ]
  },
  {
   "cell_type": "code",
   "execution_count": null,
   "metadata": {},
   "outputs": [],
   "source": [
    "# Ihr Code "
   ]
  },
  {
   "cell_type": "markdown",
   "metadata": {},
   "source": [
    ":::{admonition} Lösung\n",
    ":class: tip dropdown\n",
    "\n",
    "``` python\n",
    "y = np.array([np.sqrt(49), np.pi**2, np.sin(4)])\n",
    "```\n",
    ":::\n",
    "\n",
    "\n",
    "## Vektoren mit Werten in gleichmäßigen Abständen\n",
    "\n",
    "In der Numerik – ebenso wie beim Programmieren – benötigen Sie häufig Vektoren, deren aufeinanderfolgende Einträge eine konstante Differenz aufweisen, wie beispielsweise beim Vektor $\\texttt{x}$.\n"
   ]
  },
  {
   "cell_type": "code",
   "execution_count": null,
   "metadata": {},
   "outputs": [],
   "source": [
    "x = np.array([3, 4, 5, 6, 7])\n",
    "print(x)"
   ]
  },
  {
   "cell_type": "markdown",
   "metadata": {},
   "source": [
    "\n",
    ":::{admonition} Aufgabe 2.1\n",
    "Definieren Sie einen Vektor mit dem Namen $\\texttt{y}$, der die Werte $10$, $11$ und $12$ in genau dieser Reihenfolge enthält.\n",
    ":::\n"
   ]
  },
  {
   "cell_type": "code",
   "execution_count": null,
   "metadata": {},
   "outputs": [],
   "source": [
    "# Ihr Code "
   ]
  },
  {
   "cell_type": "markdown",
   "metadata": {},
   "source": [
    ":::{admonition} Hinweis\n",
    ":class: note dropdown\n",
    "\n",
    "Nutzen Sie den Befehl $\\texttt{np.array}$ und fassen Sie die Elemente des Vektors in eckige Klammern zusammen.\n",
    ":::\n",
    "\n",
    ":::{admonition} Lösung\n",
    ":class: tip dropdown\n",
    "\n",
    "``` python\n",
    "y = np.array([10, 11, 12])\n",
    "```\n",
    ":::\n",
    "\n",
    "Bei langen Vektoren ist das manuelle Eingeben der einzelnen Werte äußerst unpraktisch. Eine schnellere Alternative zum Erstellen von Vektoren mit gleichmäßigem Abstand zwischen den Werten bietet die Funktion $\\texttt{np.array}$ bei der lediglich der Start- und Endwert angegeben werden müssen: $\\texttt{np.arange(startwert, endwert)}$. Der Endwert ist allerdings **nicht** enthalten, das heißt $\\texttt{np.arange}$ erzeugt einen Wertebereich im Sinne des halboffenen Intervalls $[\\texttt{startwert}, \\texttt{endwert})$.\n"
   ]
  },
  {
   "cell_type": "code",
   "execution_count": null,
   "metadata": {},
   "outputs": [],
   "source": [
    "x = np.arange(3, 8)\n",
    "print(x)"
   ]
  },
  {
   "cell_type": "markdown",
   "metadata": {},
   "source": [
    "\n",
    ":::{admonition} Aufgabe 2.2\n",
    "Erstellen Sie mit dem Befehl $\\texttt{np.arange}$ einen Vektor mit den ganzzahligen Werten von $10$ bis $20$. Speichern Sie das Ergebnis in der Variable $\\texttt{x_range}$.\n",
    ":::\n"
   ]
  },
  {
   "cell_type": "code",
   "execution_count": null,
   "metadata": {},
   "outputs": [],
   "source": [
    "# Ihr Code"
   ]
  },
  {
   "cell_type": "markdown",
   "metadata": {},
   "source": [
    ":::{admonition} Lösung\n",
    ":class: tip dropdown\n",
    "\n",
    "``` python\n",
    "x_range = np.arange(10, 21)\n",
    "```\n",
    ":::\n",
    "\n",
    "\n",
    "Standardmäßig verwendet die Funktion $\\texttt{np.arange}$ einen Abstand von $1$ zwischen zwei aufeinanderfolgenden Einträgen. \n",
    "Es ist aber auch möglich einen anderen Abstand festzulegen. \n",
    "Übergibt man der Funktion $\\texttt{np.arange}$ ein drittes Argument dann lassen sich auch Vektoren mit beliebigen Abständen erzeugen: $\\texttt{np.arange(startwert, endwert, abstand)}$. Zum Beispiel liefert der folgende Code ein Vektor mit Abstand $3$.\n"
   ]
  },
  {
   "cell_type": "code",
   "execution_count": null,
   "metadata": {},
   "outputs": [],
   "source": [
    "x = np.arange(1, 13, 3)\n",
    "print(x)"
   ]
  },
  {
   "cell_type": "markdown",
   "metadata": {},
   "source": [
    "\n",
    ":::{admonition} Aufgabe 2.3\n",
    "Erstellen Sie einen Vektor $\\texttt{y_range}$, dessen Elemente bei $-2$ beginnen, bei $3$ enden und jeweils durch einen Abstand von $0.5$ getrennt sind.\n",
    ":::\n"
   ]
  },
  {
   "cell_type": "code",
   "execution_count": null,
   "metadata": {},
   "outputs": [],
   "source": [
    "# Ihr Code"
   ]
  },
  {
   "cell_type": "markdown",
   "metadata": {},
   "source": [
    ":::{admonition} Lösung\n",
    ":class: tip dropdown\n",
    "\n",
    "``` python\n",
    "y_range = np.arange(-2, 3.5, 0.5)\n",
    "```\n",
    ":::\n",
    "\n",
    "\n",
    ":::{admonition} Aufgabe 2.4\n",
    "Erstellen Sie einen Vektor $\\text{z_range}$, dessen Elemente bei $0$ beginnen, bei $30$ enden und jeweils durch einen Abstand von $2$ getrennt sind.\n",
    ":::\n"
   ]
  },
  {
   "cell_type": "code",
   "execution_count": null,
   "metadata": {},
   "outputs": [],
   "source": [
    "# Ihr Code "
   ]
  },
  {
   "cell_type": "markdown",
   "metadata": {},
   "source": [
    "\n",
    ":::{admonition} Lösung\n",
    ":class: tip dropdown\n",
    "\n",
    "``` python\n",
    "z_range = np.arange(0, 31, 2)\n",
    "```\n",
    ":::\n",
    "\n",
    "\n",
    "Anstatt den Abstand zwischen den einzelnen Elementen eines Vektors vorzugeben, können Sie auch die gewünschte Anzahl an Elementen zwischen einem Start- und einem Endwert angeben. Dazu wird die Funktion $\\texttt{np.linspace}$ verwendet. Sie erwartet die Eingabe in der Form \n",
    "$\\texttt{linspace(startwert, endwert, anzahl_elemente)}$. Im Gegensatz zu der Funktion $\\texttt{np.arange}$ ist der Endwert bei $\\texttt{np.linspace}$ im Wertebereich des Vektors enthalten. Die Funktion erzeugt also einen Wertebereich im Sinne des abgeschlossenen Intervalls $[\\texttt{startwert}, \\texttt{endwert}]$.\n"
   ]
  },
  {
   "cell_type": "code",
   "execution_count": null,
   "metadata": {},
   "outputs": [],
   "source": [
    "x = np.linspace(0, 1, 5)\n",
    "print(x)"
   ]
  },
  {
   "cell_type": "markdown",
   "metadata": {},
   "source": [
    "\n",
    ":::{admonition} Aufgabe 2.5\n",
    "Erstellen Sie einen Zeilenvektor mit dem Namen $\\text{y_linspace}$, der bei $1$ beginnt, bei $12$ endet und der $4$ Elemente enthält.  \n",
    ":::\n"
   ]
  },
  {
   "cell_type": "code",
   "execution_count": null,
   "metadata": {},
   "outputs": [],
   "source": [
    "# Ihr Code "
   ]
  },
  {
   "cell_type": "markdown",
   "metadata": {},
   "source": [
    "\n",
    ":::{admonition} Lösung\n",
    ":class: tip dropdown\n",
    "\n",
    "``` python\n",
    "y_linspace = np.linspace(1, 12, 4) \n",
    "```\n",
    ":::\n",
    "\n",
    "\n",
    ":::{admonition} Zusatzaufgabe\n",
    "Wenn Sie einen Vektor mit Werten im gleichen Abstand von $1$ bis $2\\pi$\n",
    "mit $100$ Elementen erstellen wollten, würden Sie dann $\\texttt{np.arange}$ oder $\\texttt{np.linspace}$ verwenden? \n",
    ":::\n",
    "\n",
    "\n",
    "## Arrayerstellung mittels Funktionen\n",
    "\n",
    "Neben Funktionen zur Erzeugung gleichmäßig verteilter Vektoren bietet Python auch Möglichkeiten, Arrays mit zufälligen Einträgen zu erstellen. So erzeugt $\\texttt{np.random.rand(n)}$ einen Vektor mit $n$ zufällig gewählten Werten zwischen $0$ und $1$.\n"
   ]
  },
  {
   "cell_type": "code",
   "execution_count": null,
   "metadata": {},
   "outputs": [],
   "source": [
    "x = np.random.rand(2) # erstellt ein Vektor der Länge 2\n",
    "print(x)"
   ]
  },
  {
   "cell_type": "markdown",
   "metadata": {},
   "source": [
    ":::{admonition} Aufgabe 3.1\n",
    "Erstellen Sie einen Vektor der Länge $7$ mit zufälligen Werten zwischen $0$ und $1$ und speichern Sie den Vektor in der Variablen $\\text{y_rand}$ ab.\n",
    ":::\n"
   ]
  },
  {
   "cell_type": "code",
   "execution_count": null,
   "metadata": {},
   "outputs": [],
   "source": [
    "# Ihr Code "
   ]
  },
  {
   "cell_type": "markdown",
   "metadata": {},
   "source": [
    ":::{admonition} Hinweis\n",
    ":class: note dropdown\n",
    "\n",
    "Verwenden Sie die Funktion $\\texttt{np.random.rand(n)}$ und verwenden Sie $7$ als Argument.\n",
    ":::\n",
    "\n",
    ":::{admonition} Lösung\n",
    ":class: tip dropdown\n",
    "\n",
    "``` python\n",
    "y_rand = np.random.rand(7)\n",
    "```\n",
    ":::\n",
    "\n",
    "\n",
    "Die Funktion $\\texttt{np.random.rand}$ erlaubt auch mehrere Eingaben, um zum Beispiel Matrizen zu erzeugen. Die Eingabe $\\texttt{np.random.rand(m,n)}$ erstellt eine $(m \\times n)$ Matrix mit zufälligen Einträgen.\n"
   ]
  },
  {
   "cell_type": "code",
   "execution_count": null,
   "metadata": {},
   "outputs": [],
   "source": [
    "A = np.random.rand(3, 2) # erstellt eine 3 x 2 Matrix\n",
    "print(A)"
   ]
  },
  {
   "cell_type": "markdown",
   "metadata": {},
   "source": [
    ":::{admonition} Aufgabe 3.2\n",
    "Erstellen Sie eine $(4 \\times 4)$ Matrix mit zufälligen Einträgen zwischen $0$ und $1$ und speichern Sie die Matrix in der Variablen $\\text{A_rand}$ ab.\n",
    ":::\n"
   ]
  },
  {
   "cell_type": "code",
   "execution_count": null,
   "metadata": {},
   "outputs": [],
   "source": [
    "# Ihr Code "
   ]
  },
  {
   "cell_type": "markdown",
   "metadata": {},
   "source": [
    ":::{admonition} Lösung\n",
    ":class: tip dropdown\n",
    "\n",
    "``` python\n",
    "A_rand = np.random.rand(4, 4) \n",
    "```\n",
    ":::\n",
    "\n",
    "\n",
    "Es gibt noch weitere Funktionen, um Arrays einer bestimmten Dimension und Größe zu erzeugen. Beispielsweise erzeugen die Funktionen $\\texttt{np.zeros}$ und $\\texttt{np.ones}$ Arrays, die ausschließlich aus Nullen bzw. Einsen bestehen.\n",
    "Die Erstellung von Vektoren funktioniert hierbei analog wie bei der Funktion $\\texttt{np.random.rand}$.\n"
   ]
  },
  {
   "cell_type": "code",
   "execution_count": null,
   "metadata": {},
   "outputs": [],
   "source": [
    "x = np.ones(7)\n",
    "print(x)"
   ]
  },
  {
   "cell_type": "markdown",
   "metadata": {},
   "source": [
    ":::{admonition} Aufgabe 3.3\n",
    "Erzeugen Sie mit Hilfe der Funktion $\\texttt{np.zeros}$ einen Vektor $\\text{x_zero}$ der Länge $4$ und ausschließlich Null-Einträgen.\n",
    ":::\n"
   ]
  },
  {
   "cell_type": "code",
   "execution_count": null,
   "metadata": {},
   "outputs": [],
   "source": [
    "# Ihr Code"
   ]
  },
  {
   "cell_type": "markdown",
   "metadata": {},
   "source": [
    ":::{admonition} Lösung\n",
    ":class: tip dropdown\n",
    "\n",
    "``` python\n",
    "x_zero = np.zeros(4)\n",
    "```\n",
    ":::\n",
    "\n",
    "Das Erzeugen von $(m \\times n)$ Matrizen mittels $\\texttt{np.ones}$ oder $\\texttt{np.zeros}$ unterscheidet sich jedoch leicht zu der Funktion $\\texttt{np.random.rand}$. \n",
    "\n",
    "In diesem Fall muss man die Anzahl der Zeilen $m$ und die Anzahl der Spalten $n$ in einem Tupel $(m, n)$ oder einer Liste $[m, n]$ zusammenfassen und als Eingabe verwenden.\n",
    "Beides liefert jedoch dasselbe Ergebnis:\n"
   ]
  },
  {
   "cell_type": "code",
   "execution_count": null,
   "metadata": {},
   "outputs": [],
   "source": [
    "A_rund = np.ones((4, 2)) # runde Klammern um 4, 2\n",
    "print(\"A_rund =\", A_rund)\n",
    "\n",
    "A_eckig = np.ones([4, 2]) # eckige Klammern um 4, 2\n",
    "print(\"A_eckig =\", A_eckig)"
   ]
  },
  {
   "cell_type": "markdown",
   "metadata": {},
   "source": [
    ":::{admonition} Aufgabe 3.4\n",
    "Erzeugen Sie mit Hilfe der Funktion $\\texttt{np.zeros}$ eine $(4 \\times 7)$ Matrix aus Nullen und speichern Sie das Ergebnis in einer Varaiblen $\\text{A_zero}$. \n",
    ":::\n"
   ]
  },
  {
   "cell_type": "code",
   "execution_count": null,
   "metadata": {},
   "outputs": [],
   "source": [
    "# Ihr Code"
   ]
  },
  {
   "cell_type": "markdown",
   "metadata": {},
   "source": [
    "\n",
    ":::{admonition} Lösung\n",
    ":class: tip dropdown\n",
    "\n",
    "``` python\n",
    "A_zero = np.zeros((4, 7))\n",
    "\n",
    "# alternativ\n",
    "A_zero = np.zeros([4, 7])\n",
    "```\n",
    ":::\n",
    "\n",
    "Sie können die Größe, die Dimension und die Anzahl der Elemente eines bereits erstellten Array mit Hilfe der folgenden Funktionen auslesen:\n",
    "- $\\texttt{shape}$: Größe des Arrays\n",
    "- $\\texttt{ndim}$: Dimension des Arrays\n",
    "- $\\texttt{size}$: Anzahl der gesamten Elemente des Arrays \n"
   ]
  },
  {
   "cell_type": "code",
   "execution_count": null,
   "metadata": {},
   "outputs": [],
   "source": [
    "A = np.random.rand(3, 5)\n",
    "\n",
    "print(np.shape(A))\n",
    "print(np.ndim(A))\n",
    "print(np.size(A))"
   ]
  },
  {
   "cell_type": "markdown",
   "metadata": {},
   "source": [
    "Mit nur einer Codezeile können Sie so ein Array erstellen, das genauso groß ist wie die bereits vorhandene Matrix.\n"
   ]
  },
  {
   "cell_type": "code",
   "execution_count": null,
   "metadata": {},
   "outputs": [],
   "source": [
    "B_same_shape_as_A = np.ones(np.shape(A))\n",
    "\n",
    "print(B_same_shape_as_A)"
   ]
  }
 ],
 "metadata": {
  "language_info": {
   "name": "python"
  }
 },
 "nbformat": 4,
 "nbformat_minor": 2
}
