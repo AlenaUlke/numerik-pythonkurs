{
 "cells": [
  {
   "cell_type": "markdown",
   "metadata": {},
   "source": [
    "# Logische Indizierung\n",
    "\n",
    "In Python können Sie zwei Werte miteinander vergleichen. Dazu stehen Ihnen die folgenden relationalen Operatoren zur Verfügung: \n",
    "- $\\texttt{>}$ (echt größer), \n",
    "- $\\texttt{<}$ (echt kleiner), \n",
    "- $\\texttt{>=}$ (größer gleich),\n",
    "- $\\texttt{<=}$ (kleiner gleich),\n",
    "- $\\texttt{==}$ (gleich),\n",
    "- $\\texttt{!=}$ (ungleich). \n",
    "\n",
    "Das Ergebnis eines Vergleichs ist entweder $\\texttt{True}$ oder $\\texttt{False}$. $\\texttt{True}$ bedeutet dabei, dass die Vergleichsbedingung erfüllt ist, während $\\texttt{False}$ bedeutet, dass sie **nicht** erfüllt ist.\n"
   ]
  },
  {
   "cell_type": "markdown",
   "metadata": {},
   "source": [
    "\n",
    ":::{admonition} Aufgabe 1.1\n",
    "Testen Sie, ob $\\pi$ kleiner als $4$ ist, indem Sie den relationalen Operator $\\texttt{<}$ verwenden. Weisen Sie die Ausgabe einer Variablen mit dem Namen $\\texttt{x}$ zu. Die Konstante $\\pi$ ist in Python durch $\\texttt{np.pi}$ gegeben.\n",
    ":::\n"
   ]
  },
  {
   "cell_type": "code",
   "execution_count": null,
   "metadata": {},
   "outputs": [],
   "source": [
    "# Ihr Code"
   ]
  },
  {
   "cell_type": "markdown",
   "metadata": {},
   "source": [
    ":::{admonition} Hinweis\n",
    ":class: note dropdown\n",
    "\n",
    "Verwenden Sie den Operator $\\texttt{<}$ mit zwei Skalaren. Beispiel: $\\texttt{a} = 5 < 10$.   \n",
    ":::\n",
    "\n",
    ":::{admonition} Lösung\n",
    ":class: tip dropdown\n",
    "\n",
    "``` python\n",
    "x = np.pi < 4\n",
    "```\n",
    ":::\n",
    "\n",
    "Sie können ein Array mit einem einzelnen skalaren Wert vergleichen, indem Sie relationale Operatoren verwenden. Das Ergebnis ist ein logisches Array, das dieselbe Größe hat wie das ursprüngliche Array."
   ]
  },
  {
   "cell_type": "code",
   "execution_count": null,
   "metadata": {},
   "outputs": [],
   "source": [
    "x = np.array([3, 9, 12, 15, 7, 18, 20, 0])\n",
    "print(x > 12)"
   ]
  },
  {
   "cell_type": "markdown",
   "metadata": {},
   "source": [
    "Der folgende versteckte Code, der automatisch ausgeführt wird wenn Sie den Live-Code-Modus starten, erzeugt die Vektoren \n",
    "\n",
    "$\n",
    "\\ \\ \\ \\ \\ \\ \\ \\ \\ \\ \\ \\ \\ \\ \\ \\ \\ \\ \\ \\ \\ \\ \\ \\ \\ \\ \\ \\ \\ \\ \\ \\ \\  \\ \\ \\ \\ \\ \\ \n",
    "\\texttt{v} =\n",
    "\\begin{pmatrix}\n",
    "-4 \\\\\n",
    "9 \\\\\n",
    "4 \\\\\n",
    "0 \\\\\n",
    "-3 \\\\\n",
    "-4 \\\\\n",
    "8\n",
    "\\end{pmatrix}\n",
    "\\quad \\text{und} \\quad\n",
    "\\texttt{w} =\n",
    "\\begin{pmatrix}\n",
    "22 \\\\\n",
    "10 \\\\\n",
    "10 \\\\\n",
    "23 \\\\\n",
    "20 \\\\\n",
    "3 \\\\\n",
    "7\n",
    "\\end{pmatrix}.\n",
    "$\n",
    "\n",
    "Die kommenden Aufgaben basieren auf diesen Vektoren und trainieren den Umgang mit relationalen Operatoren. "
   ]
  },
  {
   "cell_type": "code",
   "execution_count": null,
   "metadata": {
    "tags": [
     "hide-cell",
     "thebe-init"
    ]
   },
   "outputs": [],
   "source": [
    "import numpy as np\n",
    "\n",
    "np.random.seed(42)\n",
    "v = np.random.randint(-10, 10, size=7)\n",
    "w = np.random.randint(0, 30, size=7)"
   ]
  },
  {
   "cell_type": "markdown",
   "metadata": {},
   "source": [
    ":::{admonition} Aufgabe 1.2\n",
    "Prüfen Sie, ob das Array $\\texttt{v} = \\begin{pmatrix}\n",
    "-4 & 9 & 4 & 0 & -3 & -4 & 8\n",
    "\\end{pmatrix}^T$ Elemente kleiner oder gleich als $5$ enthält. Weisen Sie die Ausgabe einer Variablen mit dem Namen $\\texttt{v_le_5}$ zu.\n",
    ":::"
   ]
  },
  {
   "cell_type": "code",
   "execution_count": null,
   "metadata": {},
   "outputs": [],
   "source": [
    "# Ihr Code"
   ]
  },
  {
   "cell_type": "markdown",
   "metadata": {},
   "source": [
    ":::{admonition} Lösung\n",
    ":class: tip dropdown\n",
    "\n",
    "``` python\n",
    "v_le_5 = (v <= 5)\n",
    "```\n",
    ":::\n",
    "\n",
    "Sie können ein logisches Array als Arrayindex verwenden, sodass Python die Arrayelemente extrahiert, für die der entsprechende Index $\\texttt{True}$ ist. In diesem Beispiel werden alle Elemente von $\\texttt{x}$ extrahiert, die größer als $6$ sind."
   ]
  },
  {
   "cell_type": "code",
   "execution_count": null,
   "metadata": {},
   "outputs": [],
   "source": [
    "y = x[x > 6]\n",
    "print(y)"
   ]
  },
  {
   "cell_type": "markdown",
   "metadata": {},
   "source": [
    ":::{admonition} Aufgabe 1.3\n",
    "Erstellen Sie eine Variable $\\texttt{v_kl_4}$, die alle Elemente von  $\\texttt{v} = \\begin{pmatrix}\n",
    "-4 & 9 & 4 & 0 & -3 & -4 & 8\n",
    "\\end{pmatrix}^T$ enthält, die kleiner als $4$ sind\n",
    ":::"
   ]
  },
  {
   "cell_type": "code",
   "execution_count": null,
   "metadata": {},
   "outputs": [],
   "source": [
    "# Ihr Code "
   ]
  },
  {
   "cell_type": "markdown",
   "metadata": {},
   "source": [
    ":::{admonition} Lösung\n",
    ":class: tip dropdown\n",
    "\n",
    "``` python\n",
    "v_kl_4 = v[v < 4]\n",
    "```\n",
    ":::\n",
    "\n",
    "Sie können die logische Indizierung auch mit zwei verschiedenen Arrays verwenden."
   ]
  },
  {
   "cell_type": "code",
   "execution_count": null,
   "metadata": {},
   "outputs": [],
   "source": [
    "sample = np.array([-2, 1, 2, -3, -5, -2, -4, 2])\n",
    "\n",
    "y = sample[x > 6]\n",
    "print(y)"
   ]
  },
  {
   "cell_type": "markdown",
   "metadata": {},
   "source": [
    ":::{admonition} Aufgabe 1.4\n",
    "  Erstellen Sie eine Variable $\\texttt{z}$, die die Elemente von  $\\texttt{w} = \\begin{pmatrix}\n",
    "22 & 10 & 10 & 23 & 20 & 3 & 7\n",
    "\\end{pmatrix}^T$ enthält, die den Positionen entsprechen, an denen  $\\texttt{v} = \\begin{pmatrix}\n",
    "-4 & 9 & 4 & 0 & -3 & -4 & 8\n",
    "\\end{pmatrix}^T$ kleiner als $4$ ist.\n",
    ":::"
   ]
  },
  {
   "cell_type": "code",
   "execution_count": null,
   "metadata": {},
   "outputs": [],
   "source": [
    "# Ihr Code "
   ]
  },
  {
   "cell_type": "markdown",
   "metadata": {},
   "source": [
    ":::{admonition} Lösung\n",
    ":class: tip dropdown\n",
    "\n",
    "``` python\n",
    "z = w[v < 4]\n",
    "```\n",
    ":::\n",
    "\n",
    "Sie können die logische Indizierung verwenden, um Werte in einem Array neu zuzuweisen. Um beispielsweise im Array $\\texttt{x}$ alle Werte gleich $999$ durch den Wert $1$ zu ersetzen, verwenden Sie diese Syntax: $\\texttt{x[x == 999] = 1}$.\n",
    "\n",
    ":::{admonition} Aufgabe 1.5\n",
    "Ändern Sie  $\\texttt{v} = \\begin{pmatrix}\n",
    "-4 & 9 & 4 & 0 & -3 & -4 & 8\n",
    "\\end{pmatrix}^T$ so, dass alle Werte kleiner als $4$ durch den Wert $0$ ersetzt werden.\n",
    ":::"
   ]
  },
  {
   "cell_type": "code",
   "execution_count": null,
   "metadata": {},
   "outputs": [],
   "source": [
    "# Ihr Code "
   ]
  },
  {
   "cell_type": "markdown",
   "metadata": {},
   "source": [
    ":::{admonition} Lösung\n",
    ":class: tip dropdown\n",
    "\n",
    "``` python\n",
    "v[v < 4] = 0\n",
    "```\n",
    ":::\n",
    "\n",
    "Wie in der Mathematik können Sie logische Vergleiche mit UND ($\\texttt{&}$) und ODER ($\\texttt{|}$) kombinieren. Zum Suchen nach Werten größer als $3$ und kleiner als $13$ verwenden Sie $\\texttt{&}$."
   ]
  },
  {
   "cell_type": "code",
   "execution_count": null,
   "metadata": {},
   "outputs": [],
   "source": [
    "y = x[(x > 3) & (x < 13)]\n",
    "print(y)"
   ]
  },
  {
   "cell_type": "markdown",
   "metadata": {},
   "source": [
    "Zum Suchen nach Werten größer als $3$ oder kleiner als $13$ verwenden Sie $\\texttt{|}$."
   ]
  },
  {
   "cell_type": "code",
   "execution_count": null,
   "metadata": {},
   "outputs": [],
   "source": [
    "y = x[(x > 3) | (x < 13)]\n",
    "print(y)"
   ]
  },
  {
   "cell_type": "markdown",
   "metadata": {},
   "source": [
    "\n",
    ":::{admonition} Zusatzaufgabe\n",
    "Extrahieren Sie, die Werte in $\\texttt{w} = \\begin{pmatrix}\n",
    "22 & 10 & 10 & 23 & 20 & 3 & 7\n",
    "\\end{pmatrix}^T$, die zwischen $10$ und $20$ liegen.\n",
    ":::"
   ]
  },
  {
   "cell_type": "code",
   "execution_count": null,
   "metadata": {},
   "outputs": [],
   "source": [
    "# Ihr Code "
   ]
  }
 ],
 "metadata": {
  "language_info": {
   "name": "python"
  }
 },
 "nbformat": 4,
 "nbformat_minor": 2
}
