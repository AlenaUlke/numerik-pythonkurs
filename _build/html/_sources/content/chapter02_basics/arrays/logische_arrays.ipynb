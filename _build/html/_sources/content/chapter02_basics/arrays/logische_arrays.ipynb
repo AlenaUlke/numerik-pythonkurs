{
 "cells": [
  {
   "cell_type": "markdown",
   "metadata": {},
   "source": [
    "# Logische Indizierung\n",
    "\n",
    "In Python können Sie zwei Werte miteinander vergleichen. Dazu stehen Ihnen die folgenden relationalen Operatoren zur Verfügung: \n",
    "- `>` (echt größer), \n",
    "- `<` (echt kleiner), \n",
    "- `>=` (größer gleich),\n",
    "- `<=` (kleiner gleich),\n",
    "- `==` (gleich),\n",
    "- `!=` (ungleich) \n",
    "\n",
    "Das Ergebnis eines Vergleichs ist entweder `True` oder `False`.\n",
    "\n",
    ":::{admonition} Aufgabe 1\n",
    "Testen Sie, ob $\\pi$ kleiner als $4$ ist, indem Sie den relationalen Operator `<` verwenden. Weisen Sie die Ausgabe einer Variablen mit dem Namen `x` zu. Die Konstante $\\pi$ ist in Python durch `np.pi` gegeben.\n",
    ":::\n"
   ]
  },
  {
   "cell_type": "code",
   "execution_count": null,
   "metadata": {},
   "outputs": [],
   "source": [
    "# Ihr Code"
   ]
  },
  {
   "cell_type": "markdown",
   "metadata": {},
   "source": [
    ":::{admonition} Hinweis\n",
    ":class: note dropdown\n",
    "\n",
    "Verwenden Sie den Operator `<` mit zwei Skalaren. Beispiel: `a = 5 < 10`.   \n",
    ":::\n",
    "\n",
    ":::{admonition} Lösung\n",
    ":class: tip dropdown\n",
    "\n",
    "``` python\n",
    "np.pi < 4\n",
    "```\n",
    ":::\n",
    "\n",
    "Sie können ein Array mit einem einzelnen skalaren Wert vergleichen, indem Sie relationale Operatoren verwenden. Das Ergebnis ist ein logisches Array, das dieselbe Größe hat wie das ursprüngliche Array."
   ]
  },
  {
   "cell_type": "code",
   "execution_count": null,
   "metadata": {},
   "outputs": [],
   "source": [
    "print(np.array([3, 9, 12, 15]) > 12)"
   ]
  },
  {
   "cell_type": "markdown",
   "metadata": {},
   "source": [
    ":::{admonition} Aufgabe 2\n",
    "Prüfen Sie, ob der Vektor `v_1` Elemente kleiner oder gleich als $5$ enthält. Weisen Sie die Ausgabe einer Variablen mit dem Namen `y` zu.\n",
    ":::"
   ]
  },
  {
   "cell_type": "code",
   "execution_count": null,
   "metadata": {},
   "outputs": [],
   "source": [
    "# Ihr Code"
   ]
  },
  {
   "cell_type": "markdown",
   "metadata": {},
   "source": [
    ":::{admonition} Lösung\n",
    ":class: tip dropdown\n",
    "\n",
    "``` python\n",
    "y = (v_1 <= 5)\n",
    "```\n",
    ":::\n",
    "\n",
    "Sie können ein logisches Array als Arrayindex verwenden, sodass Python die Arrayelemente extrahiert, für die der entsprechende Index `True` ist. In diesem Beispiel werden alle Elemente von `v_1` extrahiert, die größer als $6$ sind."
   ]
  },
  {
   "cell_type": "code",
   "execution_count": null,
   "metadata": {},
   "outputs": [],
   "source": [
    "v = v_1[v_1 > 6]\n",
    "print(v)"
   ]
  },
  {
   "cell_type": "markdown",
   "metadata": {},
   "source": [
    ":::{admonition} Aufgabe 3\n",
    "Erstellen Sie eine Variable `z`, die alle Elemente von `v_1` enthält, die kleiner als $4$ sind\n",
    ":::"
   ]
  },
  {
   "cell_type": "code",
   "execution_count": null,
   "metadata": {},
   "outputs": [],
   "source": [
    "# Ihr Code "
   ]
  },
  {
   "cell_type": "markdown",
   "metadata": {},
   "source": [
    ":::{admonition} Lösung\n",
    ":class: tip dropdown\n",
    "\n",
    "``` python\n",
    "z = v_1[v_1 < 4]\n",
    "```\n",
    ":::\n",
    "\n",
    "Sie können die logische Indizierung auch mit zwei verschiedenen Arrays verwenden."
   ]
  },
  {
   "cell_type": "code",
   "execution_count": null,
   "metadata": {},
   "outputs": [],
   "source": [
    "v = sample[v_1 > 6]\n",
    "print(v)"
   ]
  },
  {
   "cell_type": "markdown",
   "metadata": {},
   "source": [
    ":::{admonition} Aufgabe 4\n",
    "  Erstellen Sie eine Variable `a`, die die Elemente von `sample` enthält, die den Positionen entsprechen, an denen `v_1` kleiner als $4$ ist.\n",
    ":::"
   ]
  },
  {
   "cell_type": "code",
   "execution_count": null,
   "metadata": {},
   "outputs": [],
   "source": [
    "# Ihr Code "
   ]
  },
  {
   "cell_type": "markdown",
   "metadata": {},
   "source": [
    ":::{admonition} Lösung\n",
    ":class: tip dropdown\n",
    "\n",
    "``` python\n",
    "a = sample[v_1 < 4]\n",
    "```\n",
    ":::\n",
    "\n",
    "Sie können die logische Indizierung verwenden, um Werte in einem Array neu zuzuweisen. Um beispielsweise im Array `x` alle Werte gleich $999$ durch den Wert $1$ zu ersetzen, verwenden Sie diese Syntax: `x[x == 999] = 1`\n",
    "\n",
    ":::{admonition} Aufgabe 5\n",
    "Ändern Sie `v_1` so, dass alle Werte kleiner als $4$ durch den Wert $0$ ersetzt werden.\n",
    ":::"
   ]
  },
  {
   "cell_type": "code",
   "execution_count": null,
   "metadata": {},
   "outputs": [],
   "source": [
    "# Ihr Code "
   ]
  },
  {
   "cell_type": "markdown",
   "metadata": {},
   "source": [
    ":::{admonition} Lösung\n",
    ":class: tip dropdown\n",
    "\n",
    "``` python\n",
    "v_1[v_1 < 4] = 0\n",
    "```\n",
    ":::\n",
    "\n",
    "Wie in der Mathematik können Sie logische Vergleiche mit UND (`&`) und ODER (`|`) kombinieren.\n",
    "\n",
    "Zum Suchen nach Werten kleiner als $6$ und größer als $5$ verwenden Sie `&`. Beispiel: "
   ]
  },
  {
   "cell_type": "code",
   "execution_count": null,
   "metadata": {},
   "outputs": [],
   "source": [
    "x = v_1[(v_1 < 6) & (v_1 > 5)]\n",
    "print(x)"
   ]
  },
  {
   "cell_type": "markdown",
   "metadata": {},
   "source": [
    "Zum Suchen nach Werten größer als $6$ oder kleiner als $2$ verwenden Sie `|`. Beispiel:"
   ]
  },
  {
   "cell_type": "code",
   "execution_count": null,
   "metadata": {},
   "outputs": [],
   "source": [
    "x = v_1[(v_1 < 6) | (v_1 > 5)]\n",
    "print(x)"
   ]
  },
  {
   "cell_type": "markdown",
   "metadata": {},
   "source": [
    "\n",
    ":::{admonition} Zusatzaufgabe\n",
    "Extrahieren Sie, die Werte in `sample`, die zwischen $10$ und $20$ liegen.\n",
    ":::"
   ]
  },
  {
   "cell_type": "code",
   "execution_count": null,
   "metadata": {},
   "outputs": [],
   "source": [
    "# Ihr Code "
   ]
  }
 ],
 "metadata": {
  "language_info": {
   "name": "python"
  }
 },
 "nbformat": 4,
 "nbformat_minor": 2
}
