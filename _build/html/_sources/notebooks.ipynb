{
 "cells": [
  {
   "cell_type": "markdown",
   "metadata": {},
   "source": [
    "\n",
    "# Notebook\n",
    "\n",
    "Hier könnte ihre tolle Erklärung zu einem Thema stehe, wenn Sie `Code` erklären wollen oder $\\text{mathe}$.\n",
    "\n",
    "Eine Aufgabe, wenn wir es schaffen das *Exercise* verschwinden zu lassen.\n",
    "\n",
    ":::{exercise} Aufgabe 1\n",
    ":nonumber:\n",
    "Sie können Sie können Befehle ausführen, indem Sie in einer Codezeile die gewünschte Eingabe laufen lassen. Nutzen Sie dazu den Knopf `x = A[:, 0]`.\n",
    ":::\n",
    "\n",
    "Und hier Plan B:\n",
    "\n",
    ":::{seealso} Aufgabe 1\n",
    "Sie können Sie können Befehle ausführen, indem Sie in einer Codezeile die gewünschte Eingabe laufen lassen. Nutzen Sie dazu den Knopf `x = A[:, 0]`.\n",
    ":::\n"
   ]
  },
  {
   "cell_type": "code",
   "execution_count": null,
   "metadata": {},
   "outputs": [],
   "source": []
  },
  {
   "cell_type": "markdown",
   "metadata": {},
   "source": [
    "\n",
    ":::{admonition} Hinweis\n",
    ":class: note dropdown\n",
    "\n",
    "Hier kann auch `Code` stehen oder auch ein bisschen Latex \n",
    "\n",
    "$$\n",
    "\\begin{aligned}\n",
    "    \\begin{pmatrix} 1 & 2 & 3 \\end{pmatrix}\n",
    "\\end{aligned}\n",
    "$$\n",
    "\n",
    ":::\n",
    "\n",
    ":::{admonition} Lösung\n",
    ":class: tip dropdown\n",
    "\n",
    "``` python\n",
    "x = 0\n",
    "for i in range(3,300):\n",
    "    x + i\n",
    "\n",
    "print(x)\n",
    "```\n",
    ":::\n",
    "\n"
   ]
  }
 ],
 "metadata": {
  "kernelspec": {
   "display_name": "Python 3",
   "language": "python",
   "name": "python3"
  },
  "language_info": {
   "codemirror_mode": {
    "name": "ipython",
    "version": 3
   },
   "file_extension": ".py",
   "mimetype": "text/x-python",
   "name": "python",
   "nbconvert_exporter": "python",
   "pygments_lexer": "ipython3",
   "version": "3.8.0"
  },
  "widgets": {
   "application/vnd.jupyter.widget-state+json": {
    "state": {},
    "version_major": 2,
    "version_minor": 0
   }
  }
 },
 "nbformat": 4,
 "nbformat_minor": 4
}
