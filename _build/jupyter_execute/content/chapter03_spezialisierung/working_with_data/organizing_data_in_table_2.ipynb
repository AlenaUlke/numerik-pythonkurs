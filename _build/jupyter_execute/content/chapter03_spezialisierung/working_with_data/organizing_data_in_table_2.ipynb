{
 "cells": [
  {
   "cell_type": "markdown",
   "metadata": {},
   "source": [
    "# Tabellendaten auslesen\n",
    "\n",
    "Nachdem wir eigene Datenstrukturen erstellt haben, wenden wir uns nun der Arbeit mit existierenden Datensätzen zu. Dabei lernen wir, wie man Daten lädt, gezielt Informationen extrahiert und vorhandene Tabellen effizient bearbeitet, um aussagekräftige Analysen zu ermöglichen.\n",
    "\n",
    "Mit `pandas` lassen sich Daten direkt aus dem Internet laden. Dazu verwendet man die Funktion `pd.read_csv()`, die **CSV-Dateien** (Comma Separated Values) einlesen kann. Gibt man dieser Funktion eine **URL** als `string`, lädt `pandas` die Datei direkt von dort und erstellt ein `DataFrame`."
   ]
  },
  {
   "cell_type": "markdown",
   "metadata": {},
   "source": [
    ":::{admonition} Aufgabe 1.1\n",
    "Laden Sie den Trinkgeld-Datensatz (URL: 'https://raw.githubusercontent.com/mwaskom/seaborn-data/master/tips.csv') als `DataFrame` unter dem Namen `Trinkgeld`.\n",
    ":::"
   ]
  },
  {
   "cell_type": "code",
   "execution_count": null,
   "metadata": {},
   "outputs": [],
   "source": [
    "# Ihr Code "
   ]
  },
  {
   "cell_type": "markdown",
   "metadata": {},
   "source": [
    "\n",
    ":::{admonition} Hinweis\n",
    ":class: note dropdown\n",
    "\n",
    "Verwenden Sie `pd.read_csv()`, um die Daten von der angegebenen URL zu laden. Stellen Sie sicher, dass die URL als `string` übergeben wird.\n",
    ":::\n",
    "\n",
    ":::{admonition} Lösung\n",
    ":class: tip dropdown\n",
    "\n",
    "``` python\n",
    "import pandas as pd\n",
    "\n",
    "url = 'https://raw.githubusercontent.com/mwaskom/seaborn-data/master/tips.csv'\n",
    "Trinkgeld = pd.read_csv(url)\n",
    "\n",
    "print(Trinkgeld)\n",
    "```\n",
    ":::"
   ]
  },
  {
   "cell_type": "markdown",
   "metadata": {},
   "source": [
    "Der geladene Datensatz enthält Informationen über Restaurantbesuche. Jede Zeile steht für einen Besuch und enthält unter anderem:\n",
    "- die Rechnungssumme (total_bill)\n",
    "- das Trinkgeld (tip)\n",
    "- das Geschlecht der Bedienung (sex)\n",
    "- ob geraucht wurde (smoker)\n",
    "- den Wochentag und die Uhrzeit\n",
    "- die Anzahl der Gäste\n",
    "\n",
    "`DataFrame.head()` zeigt die ersten fünf Zeilen eines DataFrames an. Optional kann man in Klammern angeben, wie viele Zeilen man sehen möchte (z. B. `df.head(10)`). Vor dem Punkt muss der Name des `DataFrames` stehen."
   ]
  },
  {
   "cell_type": "markdown",
   "metadata": {},
   "source": [
    ":::{admonition} Aufgabe 1.2\n",
    "Versuchen Sie ein Gefühl für den Datensatz zu bekommen, indem Sie sich die ersten sieben Zeilen ausgeben lassen. \n",
    ":::"
   ]
  },
  {
   "cell_type": "code",
   "execution_count": null,
   "metadata": {},
   "outputs": [],
   "source": [
    "# Ihr Code "
   ]
  },
  {
   "cell_type": "markdown",
   "metadata": {},
   "source": [
    "\n",
    ":::{admonition} Hinweis\n",
    ":class: note dropdown\n",
    "Nutzen Sie `DataFrame.head()`.\n",
    ":::\n",
    "\n",
    ":::{admonition} Lösung\n",
    ":class: tip dropdown\n",
    "\n",
    "``` python\n",
    "Trinkgeld.head(7)\n",
    "```\n",
    ":::"
   ]
  },
  {
   "cell_type": "markdown",
   "metadata": {},
   "source": [
    "### Daten extrahieren \n",
    "\n",
    "In einem `DataFrame` können Sie gezielt einzelne Spalten oder mehrere **Spalten gleichzeitig extrahieren**. Spalten entsprechen dabei inhaltlich den Merkmalen, also den Variablen, die in einer Datentabelle erfasst wurden – zum Beispiel `'total_bill'`, `'tip'` oder `'sex'`.\n",
    "\n",
    "Eine einzelne Spalte wählen Sie über ihren Spaltennamen in eckigen Klammern aus, z.B. `Trinkgeld['tip']`. Mehrere Spalten gleichzeitig ruft man mit einer Liste von Spaltennamen auf, z.B. `Trinkgeld[['tip','size']]`"
   ]
  },
  {
   "cell_type": "markdown",
   "metadata": {},
   "source": [
    ":::{admonition} Aufgabe 1.3\n",
    "Extrahieren Sie die Spalten `'total_bill'` und `'tip'` und speichern diese als neuen DataFrame namens `rechnung_und_trinkgeld` ab.\n",
    ":::"
   ]
  },
  {
   "cell_type": "code",
   "execution_count": null,
   "metadata": {},
   "outputs": [],
   "source": [
    "# Ihr Code "
   ]
  },
  {
   "cell_type": "markdown",
   "metadata": {},
   "source": [
    "\n",
    ":::{admonition} Hinweis\n",
    ":class: note dropdown\n",
    "\n",
    "Mehrere Spalten wählt man mit einer Liste von Spaltennamen in doppelten eckigen Klammern aus: `Trinkgeld[[...]]`.\n",
    ":::\n",
    "\n",
    ":::{admonition} Lösung\n",
    ":class: tip dropdown\n",
    "\n",
    "``` python\n",
    "rechnung_und_trinkgeld = Trinkgeld[['total_bill', 'tip']]\n",
    "rechnung_und_trinkgeld.head()\n",
    "```\n",
    ":::"
   ]
  },
  {
   "cell_type": "markdown",
   "metadata": {},
   "source": [
    "Neben einzelnen Spalten können Sie auch gezielt einzelne Zeilen oder Gruppen von **Zeilen extrahieren**. Dazu nutzen Sie ihren Indexwert. Standardmäßig haben `DataFrames` einen numerischen Index, der bei 0 beginnt. Wenn Sie z. B. die erste Zeile von `Trinkgeld` anzeigen möchten, schreiben Sie `Trinkgeld.loc[0]`. Mehrere Zeilen lassen sich mit einer Liste von Indexwerten extrahieren, z. B. `Trinkgeld.loc[[0, 2, 4]]`. Auch ein ganzer Zeilenbereich kann mit einem Slice angegeben werden, z. B. `Trinkgeld.loc[0:4]`."
   ]
  },
  {
   "cell_type": "markdown",
   "metadata": {},
   "source": [
    ":::{admonition} Aufgabe 1.4\n",
    "Extrahieren Sie die fünfte und sechste Zeile.\n",
    ":::"
   ]
  },
  {
   "cell_type": "code",
   "execution_count": null,
   "metadata": {},
   "outputs": [],
   "source": [
    "# Ihr Code "
   ]
  },
  {
   "cell_type": "markdown",
   "metadata": {},
   "source": [
    "\n",
    ":::{admonition} Hinweis\n",
    ":class: note dropdown\n",
    "\n",
    "Nutzen Sie `Trinkgeld.loc[Index]`. Denken Sie daran, dass die Indixierung in `Python` bei 0 startet. \n",
    ":::\n",
    "\n",
    ":::{admonition} Lösung\n",
    ":class: tip dropdown\n",
    "\n",
    "``` python\n",
    "Trinkgeld.loc[4:5]\n",
    "\n",
    "print(Trinkgeld.loc[4:5])\n",
    "```\n",
    ":::"
   ]
  },
  {
   "cell_type": "markdown",
   "metadata": {},
   "source": [
    "Wenn Sie gleichzeitig **Zeilen und Spalten extrahieren** möchten, kombinieren Sie beide Auswahlkriterien in eckigen Klammern, z. B. `Trinkgeld.loc[0:2, [\"total_bill\", \"tip\"]]`."
   ]
  },
  {
   "cell_type": "markdown",
   "metadata": {},
   "source": [
    ":::{admonition} Aufgabe 1.5\n",
    "Extrahieren Sie die Zeilen 3 bis 11 und die Spalten `total_bill` und `size` aus.\n",
    ":::"
   ]
  },
  {
   "cell_type": "code",
   "execution_count": null,
   "metadata": {},
   "outputs": [],
   "source": [
    "# Ihr Code "
   ]
  },
  {
   "cell_type": "markdown",
   "metadata": {},
   "source": [
    "\n",
    ":::{admonition} Hinweis\n",
    ":class: note dropdown\n",
    "Nutzen Sie `.loc[start:end, [Spaltenliste]]`.\n",
    ":::\n",
    "\n",
    ":::{admonition} Lösung\n",
    ":class: tip dropdown\n",
    "\n",
    "``` python\n",
    "Trinkgeld.loc[2:10, ['total_bill', 'size']]\n",
    "\n",
    "print(Trinkgeld.loc[2:10, ['total_bill', 'size']])\n",
    "```\n",
    ":::"
   ]
  },
  {
   "cell_type": "markdown",
   "metadata": {},
   "source": [
    "Neben der Auswahl nach Position oder Name lassen sich auch gezielt **Zeilen mit bestimmten Eigenschaften extrahieren**. Dabei formulieren Sie Bedingungen innerhalb der eckigen Klammern `[]`. Wenn Sie z. B. alle Zeilen anzeigen möchten, bei denen eine Frau bedient hat, schreiben Sie:"
   ]
  },
  {
   "cell_type": "code",
   "execution_count": null,
   "metadata": {},
   "outputs": [],
   "source": [
    "bedient_von_frau = Trinkgeld[Trinkgeld['sex'] == 'Female']\n",
    "print(bedient_von_frau.head())"
   ]
  },
  {
   "cell_type": "markdown",
   "metadata": {},
   "source": [
    "Bei solchen **kategorischen Bedingungen** (z. B. `== 'Female'`) gibt `pandas` automatisch nur die passenden Zeilen zurück.\n",
    "\n",
    "Genauso können Sie numerische Bedingungen formulieren, z. B. um alle Rechnungen über 30 Dollar zu extrahieren:"
   ]
  },
  {
   "cell_type": "code",
   "execution_count": null,
   "metadata": {},
   "outputs": [],
   "source": [
    "hohe_rechnungen = Trinkgeld[Trinkgeld['total_bill'] > 30]\n",
    "print(hohe_rechnungen.head())"
   ]
  },
  {
   "cell_type": "markdown",
   "metadata": {},
   "source": [
    "Sie können auch mehrere Bedingungen kombinieren, z. B. mit & (und) oder | (oder). Dabei muss jede Teilbedingung in Klammern stehen."
   ]
  },
  {
   "cell_type": "code",
   "execution_count": null,
   "metadata": {},
   "outputs": [],
   "source": [
    "hohe_rechnungen_und_bedient_von_frau =  Trinkgeld[(Trinkgeld['total_bill'] > 30) & (Trinkgeld['sex'] == 'Female')]\n",
    "print(hohe_rechnungen_und_bedient_von_frau.head())"
   ]
  },
  {
   "cell_type": "markdown",
   "metadata": {},
   "source": [
    ":::{admonition} Aufgabe 1.6\n",
    "Filtern Sie alle Gäste, die in einem Raucherbereich saßen, und speichern die Daten als neuen DataFrame namens `raucher` ab.\n",
    ":::"
   ]
  },
  {
   "cell_type": "code",
   "execution_count": null,
   "metadata": {},
   "outputs": [],
   "source": [
    "# Ihr Code "
   ]
  },
  {
   "cell_type": "markdown",
   "metadata": {},
   "source": [
    "\n",
    ":::{admonition} Hinweis\n",
    ":class: note dropdown\n",
    "\n",
    "Auch hier verwenden Sie eine Bedingung – diesmal auf die Spalte `'smoker'`.\n",
    ":::\n",
    "\n",
    ":::{admonition} Lösung\n",
    ":class: tip dropdown\n",
    "\n",
    "``` python\n",
    "raucher = Trinkgeld[Trinkgeld['smoker'] == 'Yes']\n",
    "print(raucher.head())\n",
    "```\n",
    ":::"
   ]
  },
  {
   "cell_type": "markdown",
   "metadata": {},
   "source": [
    ":::{admonition} Aufgabe 1.7\n",
    "Extrahieren Sie alle Zeilen, in denen entweder geraucht wurde oder das Trinkgeld über 6 $ lag. Speichern Sie diese in einem neuen DataFrame namens `rauch_oder_viel_trinkgeld`.\n",
    ":::"
   ]
  },
  {
   "cell_type": "code",
   "execution_count": null,
   "metadata": {},
   "outputs": [],
   "source": [
    "# Ihr Code "
   ]
  },
  {
   "cell_type": "markdown",
   "metadata": {},
   "source": [
    "\n",
    ":::{admonition} Hinweis\n",
    ":class: note dropdown\n",
    "\n",
    "Verwenden Sie den Operator `|` und setzen Sie jede Bedingung in Klammern.\n",
    ":::\n",
    "\n",
    ":::{admonition} Lösung\n",
    ":class: tip dropdown\n",
    "\n",
    "``` python\n",
    "rauch_oder_viel_trinkgeld = Trinkgeld[(Trinkgeld['smoker'] == 'Yes') | (Trinkgeld['tip'] > 6)]\n",
    "print(rauch_oder_viel_trinkgeld.head())\n",
    "```\n",
    ":::"
   ]
  },
  {
   "cell_type": "markdown",
   "metadata": {},
   "source": [
    "### Daten bearbeiten\n",
    "\n",
    "In einem `DataFrame` können Sie ganz einfach Rechenoperationen mit den Werten einzelner Spalten durchführen, z. B. `DataFrame['Differenz'] = DataFrame['Spalte1'] - DataFrame['Spalte2']`. Dabei funktioniert jede Rechenoperation elementweise – das heißt, sie wird automatisch auf jeden Wert der Spalte angewendet."
   ]
  },
  {
   "cell_type": "markdown",
   "metadata": {},
   "source": [
    ":::{admonition} Aufgabe 2.1\n",
    "Der Euro-Wechselkurs beträgt aktuell 0.92. Rechnen Sie den Rechnungsbetrag (`total_bill`) und das Trinkgeld (`tip`) in Euro um und speichern Sie das Ergebnis jeweils in einer neuen Spalte.\n",
    ":::"
   ]
  },
  {
   "cell_type": "code",
   "execution_count": null,
   "metadata": {},
   "outputs": [],
   "source": [
    "# Ihr Code "
   ]
  },
  {
   "cell_type": "markdown",
   "metadata": {},
   "source": [
    "You can also use . notation to create a new column in a table using the syntax:\n",
    "\n",
    "tbl.newVar = newColumn"
   ]
  },
  {
   "cell_type": "markdown",
   "metadata": {},
   "source": [
    ":::{admonition} Aufgabe 2.2\n",
    "Berechnen Sie für jede Zeile das Verhältnis von `tip` zur `total_bill` und speichern Sie das Ergebnis in einer neuen Spalte namens `tip_ratio`.\n",
    ":::"
   ]
  },
  {
   "cell_type": "code",
   "execution_count": null,
   "metadata": {},
   "outputs": [],
   "source": [
    "# Ihr Code "
   ]
  },
  {
   "cell_type": "markdown",
   "metadata": {},
   "source": [
    "\n",
    ":::{admonition} Hinweis\n",
    ":class: note dropdown\n",
    "\n",
    "Sie können zwei Spalten direkt miteinander verrechnen, zum Beispiel durch Division: `DataFrame['neue_spalte'] = DataFrame['Spalte1'] / DataFrame['Spalte2']`\n",
    ":::\n",
    "\n",
    ":::{admonition} Lösung\n",
    ":class: tip dropdown\n",
    "\n",
    "``` python\n",
    "Trinkgeld['tip_ratio'] = Trinkgeld['tip'] / Trinkgeld['total_bill']\n",
    "print(Trinkgeld[['total_bill', 'tip', 'tip_ratio']].head())\n",
    "```\n",
    ":::"
   ]
  },
  {
   "cell_type": "markdown",
   "metadata": {},
   "source": [
    ":::{admonition} Aufgabe 2.3\n",
    "Erstellen Sie eine neue Spalte namens `grosszuegig`, die angibt, ob das Trinkgeld mehr als 15 % der Gesamtrechnung beträgt. In dieser Spalte soll für jede Zeile entweder True oder False stehen – je nachdem, ob die Bedingung erfüllt ist.\n",
    ":::"
   ]
  },
  {
   "cell_type": "code",
   "execution_count": null,
   "metadata": {},
   "outputs": [],
   "source": [
    "# Ihr Code "
   ]
  },
  {
   "cell_type": "markdown",
   "metadata": {},
   "source": [
    "\n",
    ":::{admonition} Hinweis\n",
    ":class: note dropdown\n",
    "\n",
    "Logische Bedingungen zwischen Spalten können direkt formuliert werden: `DataFrame['neue_spalte'] = DataFrame['spalte'] > 10`\n",
    ":::\n",
    "\n",
    ":::{admonition} Lösung\n",
    ":class: tip dropdown\n",
    "\n",
    "``` python\n",
    "Trinkgeld['grosszuegig'] = Trinkgeld['tip_ratio'] > 0.15\n",
    "print(Trinkgeld[['total_bill', 'tip', 'tip_ratio', 'grosszuegig']].head())\n",
    "```\n",
    ":::"
   ]
  },
  {
   "cell_type": "markdown",
   "metadata": {},
   "source": [
    "In `pandas` lassen sich numerische Spalten sehr einfach auswerten, ohne dass man selbst durch die Werte iterieren muss. Stattdessen stellt `pandas` dafür eingebaute Funktionen zur Verfügung, wie etwa `.mean()` für den Mittelwert oder `.sum()` für die Summe.\n",
    "\n",
    "Solche Funktionen können direkt auf numerische Spalten angewendet werden. Dadurch erhält man auf einfache Weise Kennzahlen wie Minimum, Maximum, Mittelwert oder Standardabweichung."
   ]
  },
  {
   "cell_type": "code",
   "execution_count": null,
   "metadata": {},
   "outputs": [],
   "source": [
    "# Durchschnittliches Trinkgeld aller Gäste\n",
    "durchschnitt = Trinkgeld['tip'].mean()\n",
    "print(f\"Durchschnittliches Trinkgeld: {durchschnitt:.2f} $\")"
   ]
  },
  {
   "cell_type": "markdown",
   "metadata": {},
   "source": [
    "Die folgende Tabelle zeigt Ihnen einige der wichtigsten Funktionen, mit denen Sie numerische Spalten schnell auswerten können.\n",
    "\n",
    "| Funktion     | Beschreibung                       | Beispiel                  |\n",
    "| ------------ | ---------------------------------- | ------------------------- |\n",
    "| `mean()`     | Mittelwert                         | `DataFrame['Spalte'].mean()`     |\n",
    "| `median()`   | Median (Zentralwert)               | `DataFrame['Spalte'].median()`   |\n",
    "| `sum()`      | Summe aller Werte                  | `DataFrame['Spalte'].sum()`      |\n",
    "| `min()`      | Kleinster Wert                     | `DataFrame['Spalte'].min()`      |\n",
    "| `max()`      | Größter Wert                       | `DataFrame['Spalte'].max()`      |\n",
    "| `std()`      | Standardabweichung                 | `DataFrame['Spalte'].std()`      |\n",
    "| `var()`      | Varianz                            | `DataFrame['Spalte'].var()`      |\n",
    "| `count()`    | Anzahl gültiger Werte (ohne `NaN`) | `DataFrame['Spalte'].count()`    |\n"
   ]
  },
  {
   "cell_type": "markdown",
   "metadata": {},
   "source": [
    ":::{admonition} Aufgabe 2.4\n",
    "Vergleichen Sie das durchschnittliche Trinkgeld von Gästen, die von einer Frau bedient wurden, mit dem von Gästen, die von einem Mann bedient wurden. Wer gibt im Schnitt mehr?\n",
    ":::"
   ]
  },
  {
   "cell_type": "code",
   "execution_count": null,
   "metadata": {},
   "outputs": [],
   "source": [
    "# Ihr Code "
   ]
  },
  {
   "cell_type": "markdown",
   "metadata": {},
   "source": [
    "\n",
    ":::{admonition} Hinweis\n",
    ":class: note dropdown\n",
    "\n",
    "Filtern Sie mit einer Bedingung auf die Spalte `'sex'`, z. B. `Trinkgeld[Trinkgeld['sex'] == 'Female']`, und wenden Sie `.mean()` auf die Spalte `tip` an.\n",
    ":::\n",
    "\n",
    ":::{admonition} Lösung\n",
    ":class: tip dropdown\n",
    "\n",
    "``` python\n",
    "frau = Trinkgeld[Trinkgeld['sex'] == 'Female']['tip'].mean()\n",
    "mann = Trinkgeld[Trinkgeld['sex'] == 'Male']['tip'].mean()\n",
    "\n",
    "print(\"Durchschnitt Trinkgeld – Frau bedient:\", frau)\n",
    "print(\"Durchschnitt Trinkgeld – Mann bedient:\", mann)\n",
    "```\n",
    ":::"
   ]
  },
  {
   "cell_type": "markdown",
   "metadata": {},
   "source": [
    ":::{admonition} Aufgabe 2.5\n",
    "Finden Sie heraus, wie hoch das größte gegebene Trinkgeld war. Ermitteln Sie außerdem, zu welchem Rechnungsbetrag und an welchem Wochentag es gegeben wurde.\n",
    ":::"
   ]
  },
  {
   "cell_type": "code",
   "execution_count": null,
   "metadata": {},
   "outputs": [],
   "source": [
    "# Ihr Code "
   ]
  },
  {
   "cell_type": "markdown",
   "metadata": {},
   "source": [
    "\n",
    ":::{admonition} Hinweis\n",
    ":class: note dropdown\n",
    "Nutzen Sie `.max()` auf die Spalte `tip`, um den höchsten Wert zu finden. Verwenden Sie anschließend eine Filterbedingung, um die entsprechende Zeile anzuzeigen.\n",
    ":::\n",
    "\n",
    ":::{admonition} Lösung\n",
    ":class: tip dropdown\n",
    "\n",
    "``` python\n",
    "max_tip = Trinkgeld['tip'].max()\n",
    "spender = Trinkgeld[Trinkgeld['tip'] == max_tip]\n",
    "\n",
    "print(\"Größtes Trinkgeld:\", max_tip)\n",
    "print(spender[['total_bill', 'day']])\n",
    "```\n",
    ":::"
   ]
  }
 ],
 "metadata": {
  "language_info": {
   "name": "python"
  }
 },
 "nbformat": 4,
 "nbformat_minor": 2
}