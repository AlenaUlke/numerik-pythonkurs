{
 "cells": [
  {
   "cell_type": "markdown",
   "metadata": {},
   "source": [
    "# Tabellen aufbauen\n",
    "\n",
    "Bei Datensätzen mit unterschiedlichen Datentypen (z. B. Text, Zahlen, Kategorien) stößt `numpy` schnell an seine Grenzen. Das Paket `pandas` bietet hier eine flexible und leistungsstarke Möglichkeit, strukturierte Daten in Tabellenform zu speichern und zu analysieren. Es ermöglicht:\n",
    "- Eine klare tabellarische Darstellung\n",
    "- Unterschiedliche Datentypen in den Spalten\n",
    "- Sinnvollte Benennung einzelner Spalten \n",
    "- Einfache Filterung, Gruppierung und Transformation von Daten\n",
    "\n",
    "## Tabellen erstellen und erweitern\n",
    "\n",
    "Ein `DataFrame` ist die zentrale Datenstruktur in `pandas` – vergleichbar mit einer Tabelle in Excel. Jede Spalte kann dabei unterschiedliche Datentypen enthalten (z. B. Zahlen, Texte, Datumswerte), solange jede Spalte die gleiche Anzahl an Einträgen hat."
   ]
  },
  {
   "cell_type": "code",
   "execution_count": null,
   "metadata": {},
   "outputs": [],
   "source": [
    "import pandas as pd  # pandas ist eine Bibliothek zur Arbeit mit Tabellen (DataFrames)\n",
    "\n",
    "veranstaltungen = pd.DataFrame({\n",
    "    # Spaltenname    Liste mit Werten für jede Veranstaltung\n",
    "    'Veranstaltung': ['Stochastik I', 'Lineare Algebra I', 'Produktion', 'Ökonometrie'],\n",
    "    'Typ':           ['Vorlesung', 'Vorlesung', 'Vorlesung', 'Übung'],\n",
    "    'Raumgröße':     [150, 150, 300, 40]\n",
    "    # Wichtig: Alle Listen müssen gleich lang sein – jede Zeile ist eine vollständige Beobachtung.\n",
    "})\n",
    "print(veranstaltungen)"
   ]
  },
  {
   "cell_type": "markdown",
   "metadata": {},
   "source": [
    "Um eine Tabelle zu erstellen, übergibt man eine Sammlung von Spaltennamen und dazugehörigen Daten an `pd.DataFrame()`. Dabei:\n",
    "- Gibt man zuerst für jede Spalte einen Namen an, z. B. \"Veranstaltung\" oder \"Raumgröße\",\n",
    "- und ordnet diesem Namen eine Liste mit Werten zu – also z. B. alle Veranstaltungsnamen oder die jeweiligen Raumgrößen.\n",
    "\n",
    "So entsteht eine strukturierte Tabelle, bei der jede Zeile für eine Beobachtung (hier: eine Veranstaltung) steht und jede Spalte eine bestimmte Information über diese Beobachtungen enthält.\n",
    "In unserem Beispiel bauen wir eine Tabelle mit Lehrveranstaltungen auf. Jede Zeile steht für eine Veranstaltung. Die Spalten geben den Titel, den Veranstaltungstyp und die Größe des Raums an."
   ]
  },
  {
   "cell_type": "markdown",
   "metadata": {},
   "source": [
    ":::{admonition} Aufgabe 1.1\n",
    "Reproduzieren Sie die folgende Tabelle\n",
    "| Name   | Fachsemester | Studiengang           |\n",
    "| ------ | ------------ | --------------------- |\n",
    "| Anna   | 2            | Wima |\n",
    "| Berkan | 4            | VWL                   |\n",
    "| Clara  | 1            | Wima |\n",
    "| Daniel | 3            | BWL                   |\n",
    "\n",
    "und nennen Sie sie `studierende`.\n",
    "\n",
    ":::"
   ]
  },
  {
   "cell_type": "code",
   "execution_count": null,
   "metadata": {},
   "outputs": [],
   "source": [
    "# Ihr Code "
   ]
  },
  {
   "cell_type": "markdown",
   "metadata": {},
   "source": [
    "\n",
    ":::{admonition} Hinweis\n",
    ":class: note dropdown\n",
    "\n",
    "Nutzen Sie `pd.DataFrame()` und übergeben Sie die Spaltennamen als `string` und den Spalteninhalt als `list`.\n",
    ":::\n",
    "\n",
    ":::{admonition} Lösung\n",
    ":class: tip dropdown\n",
    "\n",
    "``` python\n",
    "# Tabelle erzeugen\n",
    "studierende = pd.DataFrame({\n",
    "    'Name': ['Anna', 'Berkan', 'Clara', 'Daniel'],\n",
    "    'Fachsemester': [2, 4, 1, 3],\n",
    "    'Studiengang': ['Wima', 'VWL', 'Wima', 'BWL']\n",
    "})\n",
    "\n",
    "# Tabelle anzeigen\n",
    "print(studierende)\n",
    "```\n",
    ":::"
   ]
  },
  {
   "cell_type": "markdown",
   "metadata": {},
   "source": [
    "Wenn Sie eine neue Zeile zu einem bestehenden `DataFrame` hinzufügen möchten, können Sie dafür die `loc[]`-Methode verwenden. Dabei geben Sie einen neuen Index an, unter dem die neue Zeile eingefügt werden soll. Die Werte der neuen Zeile müssen in der gleichen Reihenfolge angegeben werden wie die Spalten im DataFrame: `veranstaltungen.loc[neue_indexnummer] = [wert_spalte1, wert_spalte2, ..., wert_spalteN]`."
   ]
  },
  {
   "cell_type": "code",
   "execution_count": null,
   "metadata": {},
   "outputs": [],
   "source": [
    "# Neue Zeile ganz unten hinzufügen\n",
    "veranstaltungen.loc[len(veranstaltungen)] = ['Marketing', 'Vorlesung', 300]\n",
    "\n",
    "print(veranstaltungen)"
   ]
  },
  {
   "cell_type": "markdown",
   "metadata": {},
   "source": [
    ":::{admonition} Aufgabe 1.2\n",
    "Fügen Sie Elif zum Datensatz `studierende` hinzu. Sie ist im 2. Fachsemster ihres VWL Studiums. \n",
    ":::"
   ]
  },
  {
   "cell_type": "code",
   "execution_count": null,
   "metadata": {},
   "outputs": [],
   "source": [
    "# Ihr Code "
   ]
  },
  {
   "cell_type": "markdown",
   "metadata": {},
   "source": [
    "\n",
    ":::{admonition} Hinweis\n",
    ":class: note dropdown\n",
    "\n",
    "Nutzen Sie `.loc[neue_indexnummer]` und übergeben Sie die relevanten Informationen in der richtigen Reihenfolge in einem `string`.\n",
    "\n",
    ":::\n",
    "\n",
    ":::{admonition} Lösung\n",
    ":class: tip dropdown\n",
    "\n",
    "``` python\n",
    "# Neue Zeile einfügen\n",
    "studierende.loc[len(studierende)] = ['Elif', 2, 'VWL']\n",
    "\n",
    "print(studierende)\n",
    "```\n",
    ":::"
   ]
  },
  {
   "cell_type": "markdown",
   "metadata": {},
   "source": [
    "Wenn Sie eine neue Spalte zu einem bestehenden pandas-DataFrame hinzufügen möchten, können Sie einfach einen neuen Spaltennamen in eckigen Klammern angeben und ihm eine Liste von Werten zuweisen: `veranstaltung[\"neue_spalte\"] = [wert1, wert2, ..., wertN]`"
   ]
  },
  {
   "cell_type": "code",
   "execution_count": null,
   "metadata": {},
   "outputs": [],
   "source": [
    "# Neue Spalte 'Gebäude' hinzufügen\n",
    "veranstaltungen['Gebäude'] = ['B6', 'B6', 'A3', 'SO', 'A3']\n",
    "\n",
    "print(veranstaltungen)"
   ]
  },
  {
   "cell_type": "markdown",
   "metadata": {},
   "source": [
    ":::{admonition} Aufgabe 1.3\n",
    "Erweitern Sie `studierende` um eine neue Spalte namens `'Alter'`. Verwenden Sie dafür die folgenden Altersangaben:\n",
    "| Name    | Fachsemester | Studiengang           | Alter |\n",
    "|---------|--------------|------------------------|-------|\n",
    "| Anna    | 2            | Wima  | 20    |\n",
    "| Berkan  | 4            | VWL                    | 23    |\n",
    "| Clara   | 1            | Wima  | 19    |\n",
    "| Daniel  | 3            | BWL                    | 22    |\n",
    "| Elif     | 2            | VWL                    | 21    |\n",
    "\n",
    ":::"
   ]
  },
  {
   "cell_type": "code",
   "execution_count": null,
   "metadata": {},
   "outputs": [],
   "source": [
    "# Ihr Code "
   ]
  },
  {
   "cell_type": "markdown",
   "metadata": {},
   "source": [
    "\n",
    ":::{admonition} Hinweis\n",
    ":class: note dropdown\n",
    "Nutzen Sie `DataFrame_Name[\"neue_spalte\"] = [wert1, wert2, ..., wertN]`.\n",
    ":::\n",
    "\n",
    ":::{admonition} Lösung\n",
    ":class: tip dropdown\n",
    "\n",
    "``` python\n",
    "# Neue Spalte 'Alter' hinzufügen\n",
    "studierende['Alter'] = [20, 23, 19, 22, 21]\n",
    "\n",
    "print(studierende)\n",
    "```\n",
    ":::"
   ]
  },
  {
   "cell_type": "markdown",
   "metadata": {},
   "source": [
    "<br>\n",
    "\n",
    "## Existierende Tabellen zusammenfügen\n",
    "\n",
    "Manchmal sind Informationen auf mehrere Tabellen verteilt. Das Kombinieren von Tabellen funktioniert ähnlich wie bei Matrizen, solange die Dimensionen und Inhalte kompatibel sind. \n",
    "\n",
    "Bei der **vertikalen Verkettung** werden Tabellen untereinandergehängt. Dafür müssen:\n",
    "- Die Spalten denselben Namen haben.\n",
    "- Die Datentypen der Spalten kompatibel sein (z. B. dürfen keine Zahlen mit Text kombiniert werden).\n",
    "\n",
    "In Pandas funktioniert das mit `pd.concat()`:"
   ]
  },
  {
   "cell_type": "code",
   "execution_count": null,
   "metadata": {},
   "outputs": [],
   "source": [
    "# Neue Zeilen in einem zweiten DataFrame\n",
    "neue_veranstaltungen = pd.DataFrame({\n",
    "    'Veranstaltung': ['Mikroökonomie', 'Numerik'],\n",
    "    'Typ': ['Vorlesung', 'Große Übung'],\n",
    "    'Raumgröße': [210, 150],\n",
    "    'Gebäude': ['SO','A5']\n",
    "})\n",
    "\n",
    "# Kombination durch vertikale Verkettung\n",
    "alle_veranstaltungen = pd.concat([veranstaltungen, neue_veranstaltungen])\n",
    "print(alle_veranstaltungen)"
   ]
  },
  {
   "cell_type": "markdown",
   "metadata": {},
   "source": [
    "Standardmäßig behält `pandas` die ursprünglichen Indizes bei, was zu doppelten oder nicht fortlaufenden Indizes im Ergebnis führen kann. Um eine saubere, **fortlaufende Nummerierung** zu erhalten, sollte man `ignore_index=True` setzen:"
   ]
  },
  {
   "cell_type": "code",
   "execution_count": null,
   "metadata": {},
   "outputs": [],
   "source": [
    "# Neue Zeilen in einem zweiten DataFrame\n",
    "neue_veranstaltungen = pd.DataFrame({\n",
    "    'Veranstaltung': ['Mikroökonomie', 'Numerik'],\n",
    "    'Typ': ['Vorlesung', 'Große Übung'],\n",
    "    'Raumgröße': [210, 150],\n",
    "    'Gebäude': ['SO','A5']\n",
    "})\n",
    "\n",
    "# Kombination durch vertikale Verkettung\n",
    "alle_veranstaltungen = pd.concat([veranstaltungen, neue_veranstaltungen], ignore_index=True)\n",
    "print(alle_veranstaltungen)"
   ]
  },
  {
   "cell_type": "markdown",
   "metadata": {},
   "source": [
    ":::{admonition} Aufgabe 2.1\n",
    "Erzeugen Sie einen Datensatz namens `alle_studierenden`, der die Informationen aus `studierende` mit\n",
    "| Name   | Fachsemester | Studiengang | Alter |\n",
    "| ------ | ------------ | ----------- | ----- |\n",
    "| Fatma  | 1            | Wima        | 18    |\n",
    "| Gustav | 5            | VWL         | 25    |\n",
    "\n",
    "kombiniert.\n",
    ":::"
   ]
  },
  {
   "cell_type": "code",
   "execution_count": null,
   "metadata": {},
   "outputs": [],
   "source": [
    "# Ihr Code "
   ]
  },
  {
   "cell_type": "markdown",
   "metadata": {},
   "source": [
    "\n",
    ":::{admonition} Hinweis\n",
    ":class: note dropdown\n",
    "\n",
    "Nutzen Sie `pd.concat()` und achten Sie darauf, dass die Spalten denselben Namen haben und die Datentypen kompatibel sind. \n",
    ":::\n",
    "\n",
    ":::{admonition} Lösung\n",
    ":class: tip dropdown\n",
    "\n",
    "``` python\n",
    "neue_studierende = pd.DataFrame({\n",
    "    'Name': ['Fatma', 'Gustav'],\n",
    "    'Fachsemester': [1, 5],\n",
    "    'Studiengang': ['Wima', 'VWL'],\n",
    "    'Alter': [18, 25]\n",
    "})\n",
    "\n",
    "# Vertikal zusammenfügen (neue Zeilen)\n",
    "alle_studierenden = pd.concat([studierende, neue_studierende], ignore_index=True)\n",
    "\n",
    "print(alle_studierenden)\n",
    "```\n",
    ":::"
   ]
  },
  {
   "cell_type": "markdown",
   "metadata": {},
   "source": [
    "Bei der **horizontalen Verkettung** werden Tabellen nebeneinandergehängt. Dafür gilt:\n",
    "- Die Tabellen müssen gleich viele Zeilen haben.\n",
    "- Jede Zeile muss zur gleichen Beobachtung gehören.\n",
    "\n",
    "Auch das funktioniert mit `pd.concat()` und der zusätzlichen Eingabe `axis=1`:"
   ]
  },
  {
   "cell_type": "code",
   "execution_count": null,
   "metadata": {},
   "outputs": [],
   "source": [
    "# Zusätzliche Informationen zu bestehenden Zeilen\n",
    "ausstattung = pd.DataFrame({\n",
    "    'Technik': ['Beamer', 'Tafel', 'Tafel', 'Beamer', 'Beamer'],\n",
    "    'Fenster': [True, True, True, True, True]\n",
    "})\n",
    "\n",
    "# Kombination durch horizontale Verkettung\n",
    "veranstaltungen_mit_technik = pd.concat([veranstaltungen, ausstattung], axis=1)\n",
    "print(veranstaltungen_mit_technik)"
   ]
  },
  {
   "cell_type": "markdown",
   "metadata": {},
   "source": [
    ":::{admonition} Achtung\n",
    ":class: warning\n",
    "\n",
    "Die Zeilen müssen in **gleicher Reihenfolge** stehen wie im Original. Sonst können falsche Informationen kombiniert werden. \n",
    ":::"
   ]
  },
  {
   "cell_type": "markdown",
   "metadata": {},
   "source": [
    ":::{admonition} Aufgabe 2.2\n",
    "Erzeugen Sie einen Datensatz namens `studierende_mit_anfahrt`, der die Informationen aus `studierende` mit\n",
    "| Name   | Wohnort   | Weg zur Uni |\n",
    "| ------ | --------- | ----------- |\n",
    "| Anna   | Frankfurt | Zug         |\n",
    "| Berkan | Mannheim  | zu Fuß      |\n",
    "| Daniel | Stuttgart | Auto        |\n",
    "| Elif   | Mannheim  | Tram        |\n",
    "| Clara  | Mannheim  | Bus         |\n",
    "\n",
    "kombiniert.\n",
    "\n",
    ":::"
   ]
  },
  {
   "cell_type": "code",
   "execution_count": null,
   "metadata": {},
   "outputs": [],
   "source": [
    "# Ihr Code "
   ]
  },
  {
   "cell_type": "markdown",
   "metadata": {},
   "source": [
    "\n",
    ":::{admonition} Hinweis\n",
    ":class: note dropdown\n",
    "\n",
    "Nutzen Sie `pd.concat()` und achten Sie darauf, dass gleich viele Zeilen vorhanden sind und die Zeilen der gleichen Beobachtung zugeordnet werden. \n",
    ":::\n",
    "\n",
    ":::{admonition} Lösung\n",
    ":class: tip dropdown\n",
    "\n",
    "``` python\n",
    "# Neuer DataFrame mit Zusatzinfos\n",
    "zusatzinfos = pd.DataFrame({\n",
    "    'Name': ['Anna', 'Berkan', 'Clara', 'Daniel', 'Elif'],\n",
    "    'Wohnort': ['Frankfurt', 'Mannheim', 'Mannheim', 'Stuttgart', 'Mannheim'],\n",
    "    'Weg zur Uni': ['Zug', 'zu Fuß', 'Bus', 'Auto', 'Tram']\n",
    "})\n",
    "\n",
    "# Horizontales Zusammenfügen (Spalten werden ergänzt)\n",
    "studierende_mit_anfahrt = pd.concat([studierende, zusatzinfos], axis=1)\n",
    "\n",
    "print(studierende_mit_anfahrt)\n",
    "```\n",
    ":::"
   ]
  }
 ],
 "metadata": {
  "language_info": {
   "name": "python"
  }
 },
 "nbformat": 4,
 "nbformat_minor": 2
}