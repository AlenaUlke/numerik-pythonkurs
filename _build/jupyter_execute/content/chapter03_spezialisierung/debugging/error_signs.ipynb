{
 "cells": [
  {
   "cell_type": "markdown",
   "metadata": {},
   "source": [
    "# Fehleranzeige\n",
    "\n",
    "\n",
    "## Syntax Fehler\n",
    "\n",
    "\n",
    "Eklären, was syntax ist und vor allem motivieren, wie man syntax mit der Sprache in Verbindung bringen kann Bild 1. \n",
    "\n",
    "common syntax errors are spelling mistakes, using wrong brackets, mismatched brackets, mismatched quotation marks ' and \". Some mistakes are highlighted by the editor (maybe include here a python picture). you should clear all warnings before triying to run the script. Maybe there is an indicator in python for this. Hier viele Bilder, wie die Fehler angezeigt werden. Vielleicht kann man auch klicken und wird direkt zum Fehler geführt.\n"
   ]
  },
  {
   "cell_type": "code",
   "execution_count": null,
   "metadata": {},
   "outputs": [],
   "source": [
    "# falscher Code\n",
    "M = [3 7; 7 5 1]\n",
    "numElementsX = prod(size(M))"
   ]
  },
  {
   "cell_type": "markdown",
   "metadata": {},
   "source": [
    ":::{admonition} Aufgabe 1.1\n",
    "Fix the syntax error so that the script runs.\n",
    "\n",
    "M should be a matrix after running the script, but otherwise, there are no restrictions on how you fix the error.\n",
    ":::"
   ]
  },
  {
   "cell_type": "code",
   "execution_count": null,
   "metadata": {},
   "outputs": [],
   "source": [
    "# Ihr Code "
   ]
  },
  {
   "cell_type": "markdown",
   "metadata": {},
   "source": [
    "\n",
    ":::{admonition} Hinweis\n",
    ":class: note dropdown\n",
    "\n",
    "Mousing over the indicator line alerts us that the rows of the matrix M must be the same length. You can fix this either by adding an element to the first row or by deleting one from the second row.\n",
    ":::\n",
    "\n",
    ":::{admonition} Lösung\n",
    ":class: tip dropdown\n",
    "\n",
    "``` python\n",
    "M = [3 7 pi; 7 5 1]\n",
    "numElementsX = prod(size(M))\n",
    "```\n",
    ":::"
   ]
  },
  {
   "cell_type": "markdown",
   "metadata": {},
   "source": [
    "Occasionally you will see orange indicators in the Code Analyzer.  These notify you of opportunities to improve code performance and possible mistakes. \n",
    "\n",
    "For instance, mouse over the orange indicator line to read the warning.\n",
    "\n",
    "script with warning indicator lines\n",
    "\n",
    "This code calculates the number of elements in a matrix by multiplying rows and columns. Clever! But there is a built in function that will make the code easier to read and maybe a bit faster: numel. You can incorporate the suggestion by clicking Fix to automatically update your code. Try it.\n",
    "\n",
    "Remember that you can execute your script by clicking the Run or Run Section button in the MATLAB Toolstrip.\n",
    "\n",
    "When you're finished practicing, you may move on to the next section."
   ]
  },
  {
   "cell_type": "markdown",
   "metadata": {},
   "source": [
    ":::{admonition} Aufgabe 1.2\n",
    "\n",
    ":::"
   ]
  },
  {
   "cell_type": "code",
   "execution_count": null,
   "metadata": {},
   "outputs": [],
   "source": [
    "# Ihr Code "
   ]
  },
  {
   "cell_type": "markdown",
   "metadata": {},
   "source": [
    ":::{admonition} Hinweis\n",
    ":class: note dropdown\n",
    "\n",
    "\n",
    ":::\n",
    "\n",
    ":::{admonition} Lösung\n",
    ":class: tip dropdown\n",
    "\n",
    "``` python\n",
    "\n",
    "```\n",
    ":::"
   ]
  },
  {
   "cell_type": "markdown",
   "metadata": {},
   "source": [
    "<br>\n",
    "\n",
    "\n",
    "## Laufzeit Fehler\n",
    "\n",
    "\n",
    "Just because you don't have any syntax errors, doesn't mean there isn't a mistake in your code. Some errors occur because the code does something different than you think it should. Non-syntax errors are called runtime errors. An example is using the wrong variable name. \n",
    "\n",
    "Your first line of defense against bugs is the Code Analyzer. It is good practice to fix errors before running your code. Here, the Code Analyzer is clear, indicating no syntax errors. \n",
    "\n",
    "Bild 2\n",
    "\n",
    "But when you run the code, you see that avgYrPrice is undefined. For some typos, MATLAB offers a suggested fix. Clicking Fix updates the code and highlights the line that changed\n",
    "\n",
    "Bild 3\n",
    "\n",
    "\n",
    "Click on a variable to highlight all instances where it is used in the script. Now that you fixed line 3, you can see that the input to mean references a variable defined in the script. \n",
    "\n",
    "Bild 4\n",
    "\n",
    "Now the script runs without errors. But does it do what you need it to? \n",
    "\n",
    "Bild 5\n",
    "\n",
    "Runtime errors don't always cause MATLAB to throw an error and stop execution. Sometimes they show up as unexpected results. \n",
    "\n",
    "Bild 6\n",
    "\n",
    "\n",
    "\n",
    "\n",
    "Since runtime errors are not identified by the Code Analyzer, it may take some investigation to identify mistakes and figure out what went wrong. Inspecting variables is a powerful way to make sure your code does what you think it does. \n",
    "\n",
    "\n",
    "\n",
    "Hier kann man ein Beispiel bringen. zum Beispiel, wenn man den Durchschnitt berechnen möchte bei einer Multiplikation zweier Vektoren. Dabei kann es passieren, dass man falche dimensioen nutzt und am Ende statt einer einzigen Zahl eine ganze Matrix herausbekommt. Wenn ich dann versuche die Matrix zu plotten, die eigentlich ein Durchschnitt ist, bekomme ich ganz wilde Grafiken. Wie findet man nun so einen Fehler. Immer zwischendurch Variablen anzeigen lassen (geht das vielleicht auch nur mit einem Click?)"
   ]
  },
  {
   "cell_type": "markdown",
   "metadata": {},
   "source": [
    "The Fibonacci sequence is a list of numbers where each number is calculated by adding the two previous numbers. The script fibSeq.mlx is meant to calculate the first 102 Fibonacci numbers and saves them in fib.  fibN should be the 102nd Fibonacci number. There are a couple of errors in the script, which you will fix in the next activity.\n",
    "\n",
    "Try inspecting k, fib, and fibN using the tools you just learned:\n",
    "\n",
    "    remove semicolons\n",
    "    mouse over variables\n",
    "    look at them in the Workspace and Variable Editor. To view the Workspace, you may need to click the tab to the right of the editor.\n",
    "\n",
    "\n",
    "Is fib the correct length?  It should be 102.  You will dig into this example in the next interaction.\n",
    "\n",
    "This activity is unassessed."
   ]
  },
  {
   "cell_type": "code",
   "execution_count": null,
   "metadata": {},
   "outputs": [],
   "source": [
    "# initialcode\n",
    "n = 102;\n",
    "fib = zeros(1,n);\n",
    "fib([2,3]) = 1;\n",
    "\n",
    "#falscher Code, hier bitte anpassen in der Aufgabe\n",
    "for k = 3:n-1\n",
    "    k = k+1;\n",
    "    fib(k+1) = fib(k-1) + fib(k-2);\n",
    "end\n",
    "fibN = fib(end);"
   ]
  },
  {
   "cell_type": "markdown",
   "metadata": {},
   "source": [
    ":::{admonition} Aufgabe 2.1\n",
    "Fix the Laufzeit error so that the script runs.\n",
    "\n",
    "\n",
    ":::"
   ]
  },
  {
   "cell_type": "code",
   "execution_count": null,
   "metadata": {},
   "outputs": [],
   "source": [
    "# Ihr Code "
   ]
  },
  {
   "cell_type": "markdown",
   "metadata": {},
   "source": [
    "\n",
    ":::{admonition} Hinweis\n",
    ":class: note dropdown\n",
    "\n",
    "\n",
    ":::\n",
    "\n",
    ":::{admonition} Lösung\n",
    ":class: tip dropdown\n",
    "\n",
    "``` python\n",
    "\n",
    "```\n",
    ":::"
   ]
  },
  {
   "cell_type": "markdown",
   "metadata": {},
   "source": [
    "When inspecting the variables, you may have noticed that the length of fib is 103, but it is only supposed to hold 102 Fibonacci numbers. \n",
    "\n",
    "The for loop goes until n=102, but the final value of k is 103, which creates a 103rd element of fib.  You don't need to change the index variable inside a for loop.  This was also flagged with a Code Analyzer warning as a possible mistake. "
   ]
  },
  {
   "cell_type": "code",
   "execution_count": null,
   "metadata": {},
   "outputs": [],
   "source": [
    "# falscher Code\n",
    "for k = 3:n-1\n",
    "    k = k+1;\n",
    "    fib(k+1) = fib(k-1) + fib(k-2);\n",
    "end\n",
    "fibN = fib(end);"
   ]
  },
  {
   "cell_type": "markdown",
   "metadata": {},
   "source": [
    ":::{admonition} Aufgabe 2.2\n",
    "Remove the code that increments k inside the for loop.\n",
    ":::"
   ]
  },
  {
   "cell_type": "code",
   "execution_count": null,
   "metadata": {},
   "outputs": [],
   "source": [
    "# Ihr Code "
   ]
  },
  {
   "cell_type": "markdown",
   "metadata": {},
   "source": [
    "\n",
    ":::{admonition} Hinweis\n",
    ":class: note dropdown\n",
    "\n",
    "Delete line 5  (k = k+1;).\n",
    ":::\n",
    "\n",
    "\n",
    ":::{admonition} Lösung\n",
    ":class: tip dropdown\n",
    "\n",
    "``` python\n",
    "for k = 3:n-1\n",
    "    \n",
    "    fib(k+1) = fib(k-1) + fib(k-2);\n",
    "end\n",
    "fibN = fib(end);\n",
    "```\n",
    ":::"
   ]
  },
  {
   "cell_type": "markdown",
   "metadata": {},
   "source": [
    "The code runs, but is it correct?  If you mouse over fibN, you can see the value.  But the 102nd Fibonacci number is too large to tell if it is correct.\n",
    "\n",
    "One strategy for testing algorithms is to check the results on a smaller example.  The first eight Fibonacci numbers are 0, 1, 1, 2, 3, 5, 8, and 13."
   ]
  },
  {
   "cell_type": "code",
   "execution_count": null,
   "metadata": {},
   "outputs": [],
   "source": [
    "# falscher Code\n",
    "for k = 3:n-1\n",
    "    k = k+1;\n",
    "    fib(k+1) = fib(k-1) + fib(k-2);\n",
    "end\n",
    "fibN = fib(end);"
   ]
  },
  {
   "cell_type": "markdown",
   "metadata": {},
   "source": [
    ":::{admonition} Aufgabe 2.3\n",
    "Change n to 8.  Remove the semicolon from the line that creates fibN so you can see the result.\n",
    "\n",
    "Note that the value of fibN is incorrect.  You will fix this in subsequent tasks.\n",
    ":::"
   ]
  },
  {
   "cell_type": "code",
   "execution_count": null,
   "metadata": {},
   "outputs": [],
   "source": [
    "# Ihr Code "
   ]
  },
  {
   "cell_type": "markdown",
   "metadata": {},
   "source": [
    "\n",
    ":::{admonition} Hinweis\n",
    ":class: note dropdown\n",
    "\n",
    "In the first line of code, change 102 to 8.  \n",
    ":::\n",
    "\n",
    "\n",
    ":::{admonition} Lösung\n",
    ":class: tip dropdown\n",
    "\n",
    "``` python\n",
    "for k = 3:n-1\n",
    "    \n",
    "    fib(k+1) = fib(k-1) + fib(k-2);\n",
    "end\n",
    "fibN = fib(end);\n",
    "```\n",
    ":::"
   ]
  },
  {
   "cell_type": "markdown",
   "metadata": {},
   "source": [
    "Recall that the Fibonacci numbers should be equal to the sum of the two previous values.\n",
    "\n",
    "Fk+1=F(k−1)+F(k)"
   ]
  },
  {
   "cell_type": "markdown",
   "metadata": {},
   "source": [
    ":::{admonition} Aufgabe 2.4\n",
    "Change the body of the for loop to calculate fib(k+1) correctly.  You can run the script to check that fibN is now 13.\n",
    ":::"
   ]
  },
  {
   "cell_type": "code",
   "execution_count": null,
   "metadata": {},
   "outputs": [],
   "source": [
    "# Ihr Code "
   ]
  },
  {
   "cell_type": "markdown",
   "metadata": {},
   "source": [
    "\n",
    ":::{admonition} Hinweis\n",
    ":class: note dropdown\n",
    "\n",
    ":::\n",
    "\n",
    "\n",
    ":::{admonition} Lösung\n",
    ":class: tip dropdown\n",
    "\n",
    "``` python\n",
    "\n",
    "```\n",
    ":::"
   ]
  },
  {
   "cell_type": "markdown",
   "metadata": {},
   "source": [
    "Now that the algorithm is working correctly, you can change it back to the larger example."
   ]
  },
  {
   "cell_type": "markdown",
   "metadata": {},
   "source": [
    ":::{admonition} Aufgabe 2.5\n",
    "Change n back to 102.\n",
    ":::"
   ]
  },
  {
   "cell_type": "code",
   "execution_count": null,
   "metadata": {},
   "outputs": [],
   "source": [
    "# Ihr Code "
   ]
  },
  {
   "cell_type": "markdown",
   "metadata": {},
   "source": [
    "\n",
    ":::{admonition} Hinweis\n",
    ":class: note dropdown\n",
    "\n",
    ":::\n",
    "\n",
    "\n",
    ":::{admonition} Lösung\n",
    ":class: tip dropdown\n",
    "\n",
    "``` python\n",
    "\n",
    "```\n",
    ":::"
   ]
  },
  {
   "cell_type": "code",
   "execution_count": null,
   "metadata": {},
   "outputs": [],
   "source": []
  }
 ],
 "metadata": {
  "language_info": {
   "name": "python"
  }
 },
 "nbformat": 4,
 "nbformat_minor": 2
}