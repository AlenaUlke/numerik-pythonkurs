{
 "cells": [
  {
   "cell_type": "markdown",
   "metadata": {},
   "source": [
    "# Debuggen mit KI\n",
    "\n",
    "In der Programmierung gibt es viele Wege, um Fehler zu finden und zu beheben. Während klassische Debugging-Techniken wie $\\texttt{print}$-Anweisungen oder gezieltes Testen weiterhin essenziell sind, eröffnen KI-gestützte Tools neue Möglichkeiten. Sie können nicht nur Fehler identifizieren, sondern auch Lösungsvorschläge liefern und alternative Ansätze aufzeigen.\n",
    "\n",
    "In diesem Kapitel untersuchen wir, wie Sie vorhandenen Code – sei es Ihr eigener, der eines Kommilitonen oder von einer KI generierter – mithilfe von KI-Tools verbessern und debuggen können. Dabei sollten Sie stets folgende Aspekte beachten:    \n",
    "\n",
    "- Bevor Sie eine KI um Hilfe bitten, sollten Sie genau wissen, was nicht funktioniert. Welche Art von Fehler tritt auf? Ist es ein $\\texttt{SyntaxError}$ oder ein $\\texttt{RuntimeError}$?\n",
    "- Formulieren Sie Ihr Problem präzise. Geben Sie der KI beispielsweise den Fehlercode oder eine Beschreibung der unerwarteten Ausgabe.\n",
    "- Achten Sie darauf, ob die Vorschläge der KI logisch nachvollziehbar sind und in Ihren spezifischen Kontext passen.\n",
    "- Nachdem Sie eine Änderung implementiert haben, testen Sie den Code erneut.\n",
    "- Lassen Sie sich Erklärungen zu vorgeschlagenen Änderungen der KI geben und überlegen Sie, was Sie daraus für zukünftige Programmieraufgaben mitnehmen können.\n",
    "\n",
    "Im Folgenden wenden Sie diese Prinzipien direkt an: Sie erhalten ein fehlerhaftes Programm und haben die Aufgabe, es mithilfe einer KI zu analysieren und zu korrigieren.\n",
    "Das Programm soll ein kleines Spiel umsetzen, bei dem die Nutzerin oder der Nutzer eine zufällig gewählte Zahl erraten muss."
   ]
  },
  {
   "cell_type": "markdown",
   "metadata": {},
   "source": [
    ":::{admonition} Aufgabe 1.1\n",
    "Nutzen Sie die Unterstützung einer KI, um den folgenden fehlerhaften Python-Code zu analysieren und zu korrigieren.  \n",
    ":::"
   ]
  },
  {
   "cell_type": "code",
   "execution_count": null,
   "metadata": {},
   "outputs": [],
   "source": [
    "import random\n",
    "\n",
    "def guess_number():\n",
    "    number_to_guess = random.randint(1, 10)\n",
    "    attempts = 3\n",
    "\n",
    "    print(\"Willkommen zum Zahlenratenspiel! Erraten Sie eine Zahl zwischen 1 und 10.\")\n",
    "\n",
    "    while attempts > 0\n",
    "        guess = input(\"Ihre Vermutung: \")  \n",
    "        guess = int(guess)  \n",
    "\n",
    "        if guess = number_to_guess:  \n",
    "            print(\"Glückwunsch! Sie haben die richtige Zahl erraten.\")  \n",
    "            break  \n",
    "        elif guess > number_to_guess:  \n",
    "            print(\"Die gesuchte Zahl ist kleiner.\")  \n",
    "        else  \n",
    "            print(\"Die gesuchte Zahl ist größer.\")  \n",
    "\n",
    "        attempts -= 1  \n",
    "        print(\"Versuche übrig: \" + attempts)  \n",
    "\n",
    "    if attempts = 0:  \n",
    "        print(\"Leider verloren! Die richtige Zahl war: \", number_to_guess)  \n",
    "\n",
    "guess_number()"
   ]
  },
  {
   "cell_type": "markdown",
   "metadata": {},
   "source": [
    ":::{admonition} Lösung\n",
    ":class: tip dropdown\n",
    "\n",
    "##### Syntaxfehler:\n",
    "- $\\texttt{while attempts > 0}$ → Doppelpunkt fehlt ($\\texttt{:}$ am Ende)\n",
    "- $\\texttt{if guess = number_to_guess:}$ → Zuweisung statt Vergleich ($\\texttt{=}$ statt $\\texttt{==}$)\n",
    "- else-Block → Doppelpunkt fehlt ($\\texttt{:}$ am Ende)\n",
    "- $\\texttt{if attempts = 0:}$ → Zuweisung statt Vergleich ($\\texttt{=}$ statt $\\texttt{==}$)\n",
    "\n",
    "##### Laufzeitfehler:\n",
    "- $\\texttt{print(\"Versuche übrig: \" + attempts)}$ → $\\texttt{TypeError}$, da $\\texttt{attempts}$ eine Zahl ist und nicht direkt mit einem String verbunden werden kann.  \n",
    "Lösung: $\\texttt{print(\"Versuche übrig: \" + str(attempts))}$ oder $\\texttt{print(f\"Versuche übrig: {attempts}\")}$\n",
    "\n",
    ":::"
   ]
  }
 ],
 "metadata": {
  "language_info": {
   "name": "python"
  }
 },
 "nbformat": 4,
 "nbformat_minor": 2
}