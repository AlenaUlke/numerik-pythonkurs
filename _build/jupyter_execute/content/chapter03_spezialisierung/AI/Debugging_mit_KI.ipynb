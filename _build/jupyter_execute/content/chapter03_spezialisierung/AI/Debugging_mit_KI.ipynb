{
 "cells": [
  {
   "cell_type": "markdown",
   "metadata": {},
   "source": [
    "# Debuggen mit KI\n",
    "\n",
    "In der Programmierung gibt es viele Wege, um Fehler zu finden und zu beheben. Während klassische Debugging-Techniken wie Print-Anweisungen oder gezieltes Testen weiterhin essenziell sind, eröffnen KI-gestützte Tools neue Möglichkeiten. Sie können nicht nur Fehler identifizieren, sondern auch Lösungsvorschläge liefern und alternative Ansätze aufzeigen.\n",
    "\n",
    "In diesem Kapitel untersuchen wir, wie Sie vorhandenen Code – sei es Ihr eigener, der eines Kommilitonen oder von einer KI generierter – mithilfe von KI-Tools verbessern und debuggen können. Dabei sollten Sie stets folgende Aspekte beachten:    \n",
    "\n",
    "    - Bevor Sie eine KI um Hilfe bitten, sollten Sie genau wissen, was nicht funktioniert. Welche Art von Fehler tritt auf? Ist es ein `SyntaxError` oder ein `RuntimeError`?\n",
    "    - Formulieren Sie Ihr Problem präzise. Geben Sie der KI beispielsweise den Fehlercode oder eine Beschreibung der unerwarteten Ausgabe.\n",
    "    - Achten Sie darauf, ob die Vorschläge der KI logisch nachvollziehbar sind und in Ihren spezifischen Kontext passen.\n",
    "    - Nachdem Sie eine Änderung implementiert haben, testen Sie den Code erneut.\n",
    "    - Lassen Sie sich Erklärungen zu vorgeschlagenen Änderungen der KI geben und überlegen Sie, was Sie daraus für zukünftige Programmieraufgaben mitnehmen können.\n",
    "\n"
   ]
  },
  {
   "cell_type": "markdown",
   "metadata": {},
   "source": [
    ":::{admonition} Aufgabe 1.1\n",
    "Probieren Sie aus, wie sich die Ausgabe ändert, wenn Sie Leerzeichen und Großbuchstaben verwenden. \n",
    ":::"
   ]
  },
  {
   "cell_type": "code",
   "execution_count": null,
   "metadata": {},
   "outputs": [],
   "source": [
    "# Ihr Code"
   ]
  },
  {
   "cell_type": "markdown",
   "metadata": {},
   "source": [
    "Möchte man die Auswahl der Eingaben eingrenzen, kann es sinnvoll sein die möglichen Eingaben in der Frage zu erwähnen."
   ]
  },
  {
   "cell_type": "code",
   "execution_count": null,
   "metadata": {},
   "outputs": [],
   "source": [
    "Wort = input(\"Welches Wort mögen Sie mehr: Freizeit oder Urlaub? \").strip().lower()"
   ]
  },
  {
   "cell_type": "markdown",
   "metadata": {},
   "source": [
    ":::{admonition} Aufgabe 1.2\n",
    "Schreiben Sie einen interaktiven Code, der das oben genannte Spiel simuliert.\n",
    ":::"
   ]
  },
  {
   "cell_type": "code",
   "execution_count": null,
   "metadata": {},
   "outputs": [],
   "source": [
    "# Ihr Code\n"
   ]
  },
  {
   "cell_type": "markdown",
   "metadata": {},
   "source": [
    "\n",
    ":::{admonition} Hinweis\n",
    ":class: note dropdown\n",
    "\n",
    "Nutzen Sie `input()` und beschreiben Sie mit `print()` alle Geschehnisse des Spiels in der Ausgabe. \n",
    ":::\n",
    "\n",
    ":::{admonition} Lösung\n",
    ":class: tip dropdown\n",
    "\n",
    "``` python\n",
    "import numpy as np\n",
    "\n",
    "spieler_lp = 100  # Lebenspunkte des Spielers\n",
    "gegner_lp = 100  # Lebenspunkte des Gegners\n",
    "runden = 0  # Anzahl der Runden\n",
    "    \n",
    "while spieler_lp > 0 and gegner_lp > 0:\n",
    "    runden += 1\n",
    "    print(f\"Runde {runden}:\")\n",
    "    print(f\"Deine Lebenspunkte: {spieler_lp}\")\n",
    "    print(f\"Gegnerische Lebenspunkte: {gegner_lp}\")\n",
    "        \n",
    "    aktion = input(\"Wähle eine Aktion (angreifen/heilen): \").strip().lower()\n",
    "        \n",
    "    if aktion == \"angreifen\":\n",
    "        schaden = np.random.randint(5, 25)\n",
    "        gegner_lp = gegner_lp - schaden\n",
    "        print(f\"Du greifst an und verursachst {schaden} Schaden!\")\n",
    "        \n",
    "    elif aktion == \"heilen\":\n",
    "        heilung = np.random.randint(0, 30)\n",
    "        spieler_lp = min(100, spieler_lp + heilung) \n",
    "        print(f\"Du heilst dich um {heilung} Punkte!\")\n",
    "        \n",
    "    else:\n",
    "        print(\"Ungültige Eingabe! Du verlierst deinen Zug.\")\n",
    "        \n",
    "    if gegner_lp <= 0:\n",
    "        print(\"\\nHerzlichen Glückwunsch! Du hast gewonnen!\")\n",
    "        break\n",
    "        \n",
    "    # Gegner greift an\n",
    "    gegner_schaden = random.randint(5, 25)\n",
    "    spieler_lp = spieler_lp - gegner_schaden\n",
    "    print(f\"Der Gegner greift an und verursacht {gegner_schaden} Schaden!\\n\")\n",
    "        \n",
    "    if spieler_lp <= 0:\n",
    "        print(\"Du wurdest besiegt! Spiel vorbei.\")\n",
    "        break\n",
    "    \n",
    "print(f\"Der Kampf dauerte {runden} Runden.\")\n",
    "```\n",
    ":::"
   ]
  },
  {
   "cell_type": "markdown",
   "metadata": {},
   "source": [
    ":::{admonition} Aufgabe 1.3\n",
    "Eine Eingabe der Spielregeln in `Chatgpt` hat einen Code produziert. Schauen Sie, ob der Code fehlerfrei durchläuft. Falls nicht, passen Sie gegebenenfalls die Stellen an. \n",
    ":::"
   ]
  },
  {
   "cell_type": "code",
   "execution_count": null,
   "metadata": {},
   "outputs": [],
   "source": [
    "# Code von Chatgpt\n",
    "import numpy as np\n",
    "\n",
    "spieler_lp = 100  # Lebenspunkte Spieler\n",
    "gegner_lp = 100  # Lebenspunkte Gegner\n",
    "runden = 0  # Zählt die Anzahl der Runden\n",
    "\n",
    "print(\"Willkommen zum Kampf!\")\n",
    "    \n",
    "while spieler_lp > 0 and gegner_lp > 0:\n",
    "    runden += 1\n",
    "    print(f\"\\n--- Runde {runden} ---\")\n",
    "    print(f\"Deine LP: {spieler_lp} | Gegner LP: {gegner_lp}\")\n",
    "    \n",
    "    # Spieleraktion\n",
    "    aktion = input(\"Möchtest du (a)ngreifen oder (h)eilen? \").strip().lower()\n",
    "    if aktion == \"a\":\n",
    "        schaden = np.random.randint(5, 25)\n",
    "        gegner_lp -= schaden\n",
    "        print(f\"Du greifst an und verursachst {schaden} Schaden!\")\n",
    "    elif aktion == \"h\":\n",
    "        heilung = np.random.randint(0, 30)\n",
    "        spieler_lp += heilung\n",
    "        print(f\"Du heilst dich um {heilung} Lebenspunkte!\")\n",
    "    else:\n",
    "        print(\"Ungültige Eingabe. Du verlierst deinen Zug!\")\n",
    "\n",
    "    # Gegneraktion\n",
    "    gegner_schaden = np.random.randint(5, 25)\n",
    "    spieler_lp -= gegner_schaden\n",
    "    print(f\"Der Gegner greift dich an und verursacht {gegner_schaden} Schaden!\")\n",
    "\n",
    "    if spieler_lp <= 0:\n",
    "        print(\"Du wurdest besiegt! Spiel vorbei.\")\n",
    "        break\n",
    "    \n",
    "print(f\"Der Kampf dauerte {runden} Runden.\")"
   ]
  },
  {
   "cell_type": "markdown",
   "metadata": {},
   "source": [
    "\n",
    ":::{admonition} Hinweis\n",
    ":class: note dropdown\n",
    "\n",
    "Was passiert, wenn die Lebenspunkte des Gegners auf 0 fallen?\n",
    ":::\n",
    "\n",
    ":::{admonition} Lösung\n",
    ":class: tip dropdown\n",
    "\n",
    "``` python\n",
    "import numpy as np\n",
    "\n",
    "spieler_lp = 100  # Lebenspunkte Spieler\n",
    "gegner_lp = 100  # Lebenspunkte Gegner\n",
    "runden = 0  # Zählt die Anzahl der Runden\n",
    "\n",
    "print(\"Willkommen zum Kampf!\")\n",
    "    \n",
    "while spieler_lp > 0 and gegner_lp > 0:\n",
    "    runden += 1\n",
    "    print(f\"\\n--- Runde {runden} ---\")\n",
    "    print(f\"Deine LP: {spieler_lp} | Gegner LP: {gegner_lp}\")\n",
    "    \n",
    "    # Spieleraktion\n",
    "    aktion = input(\"Möchtest du (a)ngreifen oder (h)eilen? \").strip().lower()\n",
    "    if aktion == \"a\":\n",
    "        schaden = np.random.randint(5, 25)\n",
    "        gegner_lp -= schaden\n",
    "        print(f\"Du greifst an und verursachst {schaden} Schaden!\")\n",
    "    elif aktion == \"h\":\n",
    "        heilung = np.random.randint(0, 30)\n",
    "        spieler_lp += heilung\n",
    "        print(f\"Du heilst dich um {heilung} Lebenspunkte!\")\n",
    "    else:\n",
    "        print(\"Ungültige Eingabe. Du verlierst deinen Zug!\") \n",
    "        \n",
    "    # HIER HAT DIE ABFRAGE GEFEHLT, OB DER GEGNER NOCH LEBENSPUNKTE HAT \n",
    "    if gegner_lp <= 0:\n",
    "        print(\"\\nHerzlichen Glückwunsch! Du hast gewonnen!\")\n",
    "        break\n",
    "\n",
    "    # Gegneraktion\n",
    "    gegner_schaden = np.random.randint(5, 25)\n",
    "    spieler_lp -= gegner_schaden\n",
    "    print(f\"Der Gegner greift dich an und verursacht {gegner_schaden} Schaden!\")\n",
    "\n",
    "    if spieler_lp <= 0:\n",
    "        print(\"Du wurdest besiegt! Spiel vorbei.\")\n",
    "        break\n",
    "    \n",
    "print(f\"Der Kampf dauerte {runden} Runden.\")\n",
    "```\n",
    ":::"
   ]
  },
  {
   "cell_type": "markdown",
   "metadata": {},
   "source": [
    ":::{admonition} Aufgabe 1.4\n",
    "Fragen Sie eine beliebige KI nach einem Code zum simulieren des Spiels. Wird ein fehler- oder lückenhafter Code produziert? Kopieren Sie den Code in die unter Zeile und probieren Sie ihn aus.\n",
    ":::"
   ]
  },
  {
   "cell_type": "code",
   "execution_count": null,
   "metadata": {},
   "outputs": [],
   "source": [
    "# Ihr Code "
   ]
  },
  {
   "cell_type": "markdown",
   "metadata": {},
   "source": [
    ":::{admonition} Achtung\n",
    ":class: warning\n",
    "\n",
    "Künstliche Intelligenzen sind im stetigen Wandel und werden im besser. Fehler die zum Beispiel `Chatgpt` während des Zeitpunkts der Erstellung der Website gemacht hat, müssen nicht notwenidigerweise auftauchen, wenn Sie ihn zum aktuellen Zeitpunkt nach dem Gleichen fragen. Zudem beeinflusst die Art und Weise, wie man die Aufgabe in den `prompt` der KI eingibt maßgeblich das Ergebnis. Daher ist es - egal was Sie mit der KI machen - wichtig die Ausgabe zu hinterfragen und mit Hilfe von Tests auf Fehler zu untersuchen. Je komplexer das Problem, desto fehleranfälliger ist die KI.\n",
    ":::"
   ]
  },
  {
   "cell_type": "markdown",
   "metadata": {},
   "source": []
  }
 ],
 "metadata": {
  "language_info": {
   "name": "python"
  }
 },
 "nbformat": 4,
 "nbformat_minor": 2
}