{
 "cells": [
  {
   "cell_type": "markdown",
   "metadata": {},
   "source": [
    "# Programmieren mit KI\n",
    "\n",
    "Das Schreiben von Algorithmen ist oft eine herausfordernde Aufgabe. Während Programmieren traditionell bedeutet, dass wir alle Details selbst festlegen müssen, eröffnet uns KI neue Möglichkeiten, diese Prozesse zu beschleunigen und zu vereinfachen. Auch wenn KI sehr leistungsfähig ist, ist es wichtig zu verstehen, dass ihre Lösungen nicht immer fehlerfrei sind. Die Vorschläge müssen hinterfragt und überprüft werden, um sicherzustellen, dass sie nicht nur syntaktisch korrekt, sondern auch logisch und inhaltlich sinnvoll sind.\n",
    "\n",
    "In diesem Abschnitt werden wir uns damit beschäftigen, wie man Künstliche Intelligenz als Unterstützung beim Programmieren nutzen kann. Sie werden lernen, wie Sie kleine Aufgaben selbstständig programmieren, diese dann der KI übergeben und anschließend die Ergebnisse kritisch prüfen. Durch dieses Vorgehen erfahren Sie nicht nur, wie Sie von der Effizienz der KI profitieren können, sondern auch, wie Sie ihre Ausgaben verbessern und optimieren.\n",
    "\n",
    "Dazu betrachten wir ein Text-RPG-Spiel, welches Sie simulieren sollen. Die Spielregeln sind folgende:\n",
    "\n",
    "- Es gibt zwei Spieler: Der „Spieler“ und der „Gegner“.\n",
    "- Jeder Spieler hat 100 Lebenspunkte, die nicht überschritten werden können.\n",
    "- Der Gegner greift in jedem Zug an, was zufälligen Schaden zwischen 5 und 25 Punkten anrichtet.\n",
    "- Der Spieler entscheidet, ob er angreifen oder sich heilen möchte.\n",
    "    - Heilen: Der Spieler heilt sich um 0 bis 30 Punkte.\n",
    "    - Angriff: Der Spieler fügt dem Gegner zwischen 5 und 25 Punkten Schaden zu.\n",
    "- Der Spieler macht zuerst seinen Zug\n",
    "- Der Kampf geht weiter, bis einer der beiden Spieler 0 Lebenspunkte erreicht.\n",
    "- Am Ende des Kampfes soll angezeigt werden, wer gewonnen hat und wie lange der Kampf gedauert hat."
   ]
  },
  {
   "cell_type": "markdown",
   "metadata": {},
   "source": [
    "Da dieses Spiel interaktiv programmiert wird, sollten einige Dinge beachtet werden. Es sollte möglichst alles, was im Spiel passiert, über einen `print` an den Spieler übergeben werden, damit er basierend darauf seine nächste Entscheidung treffen kann. Das heißt die aktuellen Lebenspunkte sollten in jeder Runde angezeigt werden. Zudem ist der Befehl `input()` von großer Bedeutung. Mit diesem ist es möglich, dass die Person, die das Spiel spielt eigene Entscheidungen treffen kann. "
   ]
  },
  {
   "cell_type": "code",
   "execution_count": null,
   "metadata": {},
   "outputs": [],
   "source": [
    "Zahl = input(\"Wähle eine Zahl zwischen 1 und 6 \")\n",
    "print(f\"Deine Zahl ist {Zahl}.\")"
   ]
  },
  {
   "cell_type": "markdown",
   "metadata": {},
   "source": [
    "Mit diesem Code wird zunächst ein `string` erzeugt, der beschreibt, was getan werden soll. Außerdem öffnet sich ein Eingabefeld, in dem nun etwas geschrieben werden Kann. Nachdem die Eingabe mit der Eingabetaste bestätigt wurde, wird ein Text ausgegeben, der die ausgewählte Zahl beschreibt. Als Eingabe kann auch ein Wort geschriegen werden."
   ]
  },
  {
   "cell_type": "code",
   "execution_count": null,
   "metadata": {},
   "outputs": [],
   "source": [
    "Wort = input(\"Was ist Ihr Lieblingswort? \").strip().lower()\n",
    "print(f\"Ihr Lieblingswort ist {Wort}.\")"
   ]
  },
  {
   "cell_type": "markdown",
   "metadata": {},
   "source": [
    "Der Anhang `.strip()` bewirkt, dass alle Leerzeichen vor und nach der Eingabe eliminiert werden, während `.lower()` alle Buchstaben in Kleinbuchstaben verwandelt. Diese Zusätze machen es leichter später einheitlich mit der Eingabe zu arbeiten. "
   ]
  },
  {
   "cell_type": "markdown",
   "metadata": {},
   "source": [
    ":::{admonition} Aufgabe 1.1\n",
    "Probieren Sie aus, wie sich die Ausgabe ändert, wenn Sie Leerzeichen und Großbuchstaben verwenden. \n",
    ":::"
   ]
  },
  {
   "cell_type": "code",
   "execution_count": null,
   "metadata": {},
   "outputs": [],
   "source": [
    "# Ihr Code"
   ]
  },
  {
   "cell_type": "markdown",
   "metadata": {},
   "source": [
    "Möchte man die Auswahl der Eingaben eingrenzen, kann es sinnvoll sein die möglichen Eingaben in der Frage zu erwähnen."
   ]
  },
  {
   "cell_type": "code",
   "execution_count": null,
   "metadata": {},
   "outputs": [],
   "source": [
    "Wort = input(\"Welches Wort mögen Sie mehr: Freizeit oder Urlaub? \").strip().lower()"
   ]
  },
  {
   "cell_type": "markdown",
   "metadata": {},
   "source": [
    ":::{admonition} Aufgabe 1.2\n",
    "Schreiben Sie einen interaktiven Code, der das oben genannte Spiel simuliert.\n",
    ":::"
   ]
  },
  {
   "cell_type": "code",
   "execution_count": null,
   "metadata": {},
   "outputs": [],
   "source": [
    "# Ihr Code\n"
   ]
  },
  {
   "cell_type": "markdown",
   "metadata": {},
   "source": [
    "\n",
    ":::{admonition} Hinweis\n",
    ":class: note dropdown\n",
    "\n",
    "Nutzen Sie `input()` und beschreiben Sie mit `print()` alle Geschehnisse des Spiels in der Ausgabe. \n",
    ":::\n",
    "\n",
    ":::{admonition} Lösung\n",
    ":class: tip dropdown\n",
    "\n",
    "``` python\n",
    "import numpy as np\n",
    "\n",
    "spieler_lp = 100  # Lebenspunkte des Spielers\n",
    "gegner_lp = 100  # Lebenspunkte des Gegners\n",
    "runden = 0  # Anzahl der Runden\n",
    "    \n",
    "while spieler_lp > 0 and gegner_lp > 0:\n",
    "    runden += 1\n",
    "    print(f\"Runde {runden}:\")\n",
    "    print(f\"Deine Lebenspunkte: {spieler_lp}\")\n",
    "    print(f\"Gegnerische Lebenspunkte: {gegner_lp}\")\n",
    "        \n",
    "    aktion = input(\"Wähle eine Aktion (angreifen/heilen): \").strip().lower()\n",
    "        \n",
    "    if aktion == \"angreifen\":\n",
    "        schaden = np.random.randint(5, 25)\n",
    "        gegner_lp = gegner_lp - schaden\n",
    "        print(f\"Du greifst an und verursachst {schaden} Schaden!\")\n",
    "        \n",
    "    elif aktion == \"heilen\":\n",
    "        heilung = np.random.randint(0, 30)\n",
    "        spieler_lp = min(100, spieler_lp + heilung) \n",
    "        print(f\"Du heilst dich um {heilung} Punkte!\")\n",
    "        \n",
    "    else:\n",
    "        print(\"Ungültige Eingabe! Du verlierst deinen Zug.\")\n",
    "        \n",
    "    if gegner_lp <= 0:\n",
    "        print(\"\\nHerzlichen Glückwunsch! Du hast gewonnen!\")\n",
    "        break\n",
    "        \n",
    "    # Gegner greift an\n",
    "    gegner_schaden = random.randint(5, 25)\n",
    "    spieler_lp = spieler_lp - gegner_schaden\n",
    "    print(f\"Der Gegner greift an und verursacht {gegner_schaden} Schaden!\\n\")\n",
    "        \n",
    "    if spieler_lp <= 0:\n",
    "        print(\"Du wurdest besiegt! Spiel vorbei.\")\n",
    "        break\n",
    "    \n",
    "print(f\"Der Kampf dauerte {runden} Runden.\")\n",
    "```\n",
    ":::"
   ]
  },
  {
   "cell_type": "markdown",
   "metadata": {},
   "source": [
    ":::{admonition} Aufgabe 1.3\n",
    "Eine Eingabe der Spielregeln in `Chatgpt` hat einen Code produziert. Schauen Sie, ob der Code fehlerfrei durchläuft. Falls nicht, passen Sie gegebenenfalls die Stellen an. \n",
    ":::"
   ]
  },
  {
   "cell_type": "code",
   "execution_count": null,
   "metadata": {},
   "outputs": [],
   "source": [
    "# Code von Chatgpt\n",
    "import numpy as np\n",
    "\n",
    "spieler_lp = 100  # Lebenspunkte Spieler\n",
    "gegner_lp = 100  # Lebenspunkte Gegner\n",
    "runden = 0  # Zählt die Anzahl der Runden\n",
    "\n",
    "print(\"Willkommen zum Kampf!\")\n",
    "    \n",
    "while spieler_lp > 0 and gegner_lp > 0:\n",
    "    runden += 1\n",
    "    print(f\"\\n--- Runde {runden} ---\")\n",
    "    print(f\"Deine LP: {spieler_lp} | Gegner LP: {gegner_lp}\")\n",
    "    \n",
    "    # Spieleraktion\n",
    "    aktion = input(\"Möchtest du (a)ngreifen oder (h)eilen? \").strip().lower()\n",
    "    if aktion == \"a\":\n",
    "        schaden = np.random.randint(5, 25)\n",
    "        gegner_lp -= schaden\n",
    "        print(f\"Du greifst an und verursachst {schaden} Schaden!\")\n",
    "    elif aktion == \"h\":\n",
    "        heilung = np.random.randint(0, 30)\n",
    "        spieler_lp += heilung\n",
    "        print(f\"Du heilst dich um {heilung} Lebenspunkte!\")\n",
    "    else:\n",
    "        print(\"Ungültige Eingabe. Du verlierst deinen Zug!\")\n",
    "\n",
    "    # Gegneraktion\n",
    "    gegner_schaden = np.random.randint(5, 25)\n",
    "    spieler_lp -= gegner_schaden\n",
    "    print(f\"Der Gegner greift dich an und verursacht {gegner_schaden} Schaden!\")\n",
    "\n",
    "    if spieler_lp <= 0:\n",
    "        print(\"Du wurdest besiegt! Spiel vorbei.\")\n",
    "        break\n",
    "    \n",
    "print(f\"Der Kampf dauerte {runden} Runden.\")"
   ]
  },
  {
   "cell_type": "markdown",
   "metadata": {},
   "source": [
    "\n",
    ":::{admonition} Hinweis\n",
    ":class: note dropdown\n",
    "\n",
    "Was passiert, wenn die Lebenspunkte des Gegners auf 0 fallen?\n",
    ":::\n",
    "\n",
    ":::{admonition} Lösung\n",
    ":class: tip dropdown\n",
    "\n",
    "``` python\n",
    "import numpy as np\n",
    "\n",
    "spieler_lp = 100  # Lebenspunkte Spieler\n",
    "gegner_lp = 100  # Lebenspunkte Gegner\n",
    "runden = 0  # Zählt die Anzahl der Runden\n",
    "\n",
    "print(\"Willkommen zum Kampf!\")\n",
    "    \n",
    "while spieler_lp > 0 and gegner_lp > 0:\n",
    "    runden += 1\n",
    "    print(f\"\\n--- Runde {runden} ---\")\n",
    "    print(f\"Deine LP: {spieler_lp} | Gegner LP: {gegner_lp}\")\n",
    "    \n",
    "    # Spieleraktion\n",
    "    aktion = input(\"Möchtest du (a)ngreifen oder (h)eilen? \").strip().lower()\n",
    "    if aktion == \"a\":\n",
    "        schaden = np.random.randint(5, 25)\n",
    "        gegner_lp -= schaden\n",
    "        print(f\"Du greifst an und verursachst {schaden} Schaden!\")\n",
    "    elif aktion == \"h\":\n",
    "        heilung = np.random.randint(0, 30)\n",
    "        spieler_lp += heilung\n",
    "        print(f\"Du heilst dich um {heilung} Lebenspunkte!\")\n",
    "    else:\n",
    "        print(\"Ungültige Eingabe. Du verlierst deinen Zug!\") \n",
    "        \n",
    "    # HIER HAT DIE ABFRAGE GEFEHLT, OB DER GEGNER NOCH LEBENSPUNKTE HAT \n",
    "    if gegner_lp <= 0:\n",
    "        print(\"\\nHerzlichen Glückwunsch! Du hast gewonnen!\")\n",
    "        break\n",
    "\n",
    "    # Gegneraktion\n",
    "    gegner_schaden = np.random.randint(5, 25)\n",
    "    spieler_lp -= gegner_schaden\n",
    "    print(f\"Der Gegner greift dich an und verursacht {gegner_schaden} Schaden!\")\n",
    "\n",
    "    if spieler_lp <= 0:\n",
    "        print(\"Du wurdest besiegt! Spiel vorbei.\")\n",
    "        break\n",
    "    \n",
    "print(f\"Der Kampf dauerte {runden} Runden.\")\n",
    "```\n",
    ":::"
   ]
  },
  {
   "cell_type": "markdown",
   "metadata": {},
   "source": [
    ":::{admonition} Aufgabe 1.4\n",
    "Fragen Sie eine beliebige KI nach einem Code zum simulieren des Spiels. Wird ein fehler- oder lückenhafter Code produziert? Kopieren Sie den Code in die unter Zeile und probieren Sie ihn aus.\n",
    ":::"
   ]
  },
  {
   "cell_type": "code",
   "execution_count": null,
   "metadata": {},
   "outputs": [],
   "source": [
    "# Ihr Code "
   ]
  },
  {
   "cell_type": "markdown",
   "metadata": {},
   "source": [
    ":::{admonition} Achtung\n",
    ":class: warning\n",
    "\n",
    "Künstliche Intelligenzen sind im stetigen Wandel und werden im besser. Fehler die zum Beispiel `Chatgpt` während des Zeitpunkts der Erstellung der Website gemacht hat, müssen nicht notwenidigerweise auftauchen, wenn Sie ihn zum aktuellen Zeitpunkt nach dem Gleichen fragen. Zudem beeinflusst die Art und Weise, wie man die Aufgabe in den `prompt` der KI eingibt maßgeblich das Ergebnis. Daher ist es - egal was Sie mit der KI machen - wichtig die Ausgabe zu hinterfragen und mit Hilfe von Tests auf Fehler zu untersuchen. Je komplexer das Problem, desto fehleranfälliger ist die KI.\n",
    ":::"
   ]
  },
  {
   "cell_type": "markdown",
   "metadata": {},
   "source": []
  }
 ],
 "metadata": {
  "language_info": {
   "name": "python"
  }
 },
 "nbformat": 4,
 "nbformat_minor": 2
}