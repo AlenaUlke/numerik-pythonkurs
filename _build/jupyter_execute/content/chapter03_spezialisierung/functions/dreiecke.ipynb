{
 "cells": [
  {
   "cell_type": "markdown",
   "metadata": {},
   "source": [
    "# Funktionen\n",
    "\n",
    "Wenn Sie in `Python` wiederholt dieselbe Berechnung durchführen möchten, dann lohnt es sich, **Funktionen** zu verwenden. Funktionen sind ein zentrales Werkzeug der Programmierung: Sie helfen, Code zu strukturieren, zu wiederverwenden und verständlich zu dokumentieren.\n",
    "\n",
    "Stellen Sie sich vor, Sie möchten den Flächeninhalt mehrerer Dreiecke berechnen. Die bekannte mathematische Formel dafür lautet:\n",
    "\n",
    "$$\n",
    "A= \\frac{1}{2} \\cdot \\text{Grundseite} \\cdot \\text{Höhe}\n",
    "$$\n",
    "\n",
    "In `Python` könnten Sie eine solche Berechnung für ein konkretes Dreieck einfach so ausführen:"
   ]
  },
  {
   "cell_type": "code",
   "execution_count": null,
   "metadata": {
    "tags": [
     "thebe-init"
    ]
   },
   "outputs": [],
   "source": [
    "grundseite = 4\n",
    "höhe = 3\n",
    "fläche = 0.5 * grundseite * höhe\n",
    "\n",
    "print(fläche)"
   ]
  },
  {
   "cell_type": "markdown",
   "metadata": {},
   "source": [
    "Doch was, wenn Sie diese Berechnung mehrfach brauchen – mit verschiedenen Werten? Dann wäre es unübersichtlich und fehleranfällig, die Formel jedes Mal neu zu schreiben. Stattdessen können Sie eine Funktion definieren:"
   ]
  },
  {
   "cell_type": "code",
   "execution_count": null,
   "metadata": {},
   "outputs": [],
   "source": [
    "def dreiecksfläche(grundseite, höhe):\n",
    "    \"\"\"Berechnet den Flächeninhalt eines Dreiecks.\n",
    "    \n",
    "    Input:\n",
    "    grundseite (float): Die Länge der Grundseite des Dreiecks\n",
    "    höhe (float): Die Höhe des Dreiecks\n",
    "\n",
    "    Output:\n",
    "    flächeninhalt (float): Der berechnete Flächeninhalt des Dreiecks\n",
    "    \"\"\"\n",
    "\n",
    "    flächeninhalt = 0.5 * grundseite * höhe\n",
    "\n",
    "    return flächeninhalt\n"
   ]
  },
  {
   "cell_type": "markdown",
   "metadata": {},
   "source": [
    "In `Python` beginnt jede Funktion mit dem Schlüsselwort `def`. Es zeigt an, dass hier eine neue Funktion erstellt wird. Der Funktionsname ist frei wählbar (solange er nicht mit einem reservierten Wort kollidiert). Wichtig ist, dass er verständlich und beschreibend ist. Namen wie `dreiecksfläche` sind deutlich hilfreicher als `doStuff`.\n",
    "\n",
    ":::{admonition} Achtung\n",
    ":class: warning\n",
    "\n",
    "Verwenden Sie für sich selbst sprechende Namen, die den Zweck der Funktion klar machen.\n",
    ":::\n",
    "\n",
    "In den runden Klammern steht eine Liste von Eingabewerten, auch Parameter genannt. Das sind Platzhalter für Werte, die beim Aufruf der Funktion übergeben werden. Alle Anweisungen, die zur Funktion gehören, müssen **eingerückt** sein (4 Leerzeichen). Python erkennt anhand der Einrückung, wo der Funktionskörper beginnt und endet."
   ]
  },
  {
   "cell_type": "code",
   "execution_count": null,
   "metadata": {},
   "outputs": [],
   "source": [
    "def dreiecksfläche(grundseite, höhe):\n",
    "    grundseite_mal_höhe = grundseite * höhe  # gehört zur Funktion\n",
    "flächeninhalt = 0.5 * grundseite_mal_höhe  # gehört nicht mehr zur Funktion        "
   ]
  },
  {
   "cell_type": "markdown",
   "metadata": {},
   "source": [
    "Mit dem Befehl `return` gibt eine Funktion ein **Ergebnis zurück**. Dieses Ergebnis steht dann genau an der Stelle zur Verfügung, an der die Funktion aufgerufen wurde.\n",
    "\n",
    "Sobald Sie eine Funktion definiert haben, können Sie sie beliebig oft im Programm verwenden – mit verschiedenen Eingabewerten:"
   ]
  },
  {
   "cell_type": "code",
   "execution_count": null,
   "metadata": {},
   "outputs": [],
   "source": [
    "A1 = dreiecksfläche(4, 3)\n",
    "A2 = dreiecksfläche(7.5, 2.1)\n",
    "\n",
    "print(A1)\n",
    "print(A2)"
   ]
  },
  {
   "cell_type": "markdown",
   "metadata": {},
   "source": [
    "Allgemein ist eine Funktion also wie folgt aufgebaut:"
   ]
  },
  {
   "cell_type": "code",
   "execution_count": null,
   "metadata": {},
   "outputs": [],
   "source": [
    "def funktionsname(eingabe1, eingabe2, ...):\n",
    "    \"\"\"Kurze Beschreibung, was die Funktion macht\"\"\"\n",
    "    # Anweisungen, die ausgeführt werden, wenn die Funktion aufgerufen wird\n",
    "    ...\n",
    "    return ergebnis"
   ]
  },
  {
   "cell_type": "markdown",
   "metadata": {},
   "source": [
    ":::{admonition} Achtung\n",
    ":class: warning\n",
    "\n",
    "Schreiben Sie immer eine kurze, aber aussagekräftige Beschreibung direkt zu Beginn Ihrer Funktion in den sogenannten `Docstring` – das ist ein mehrzeiliger Kommentar in drei Anführungszeichen (`\"\"\" ... \"\"\"`), der erklärt, was die Funktion macht, welche Datentypen sie erwartet und was genau zurückgegeben wird.\n",
    ":::"
   ]
  },
  {
   "cell_type": "markdown",
   "metadata": {},
   "source": [
    ":::{admonition} Aufgabe 1.1\n",
    "Schreiben Sie eine Funktion `rechteckfläche`, die die Fläche eines Rechtecks berechnet. Die Eingaben sind `breite` und `höhe`.\n",
    ":::"
   ]
  },
  {
   "cell_type": "code",
   "execution_count": null,
   "metadata": {},
   "outputs": [],
   "source": [
    "# Ihr Code "
   ]
  },
  {
   "cell_type": "markdown",
   "metadata": {},
   "source": [
    ":::{admonition} Hinweis\n",
    ":class: note dropdown\n",
    "\n",
    "Die Fläche eines Rechtecks berechnet sich durch Multiplikation von Breite und Höhe. Nutzen Sie das Schlüsselwort `def`, um die Funktion zu definieren, und `return`, um den Rückgabewert anzugeben. Vergessen Sie nicht Ihre Funktion angemessen zu beschreiben. \n",
    ":::\n",
    "\n",
    ":::{admonition} Lösung\n",
    ":class: tip dropdown\n",
    "\n",
    "``` python\n",
    "def rechteckfläche(breite, höhe):\n",
    "    \"\"\"Berechnet den Flächeninhalt eines Rechteckts.\n",
    "    \n",
    "    Input:\n",
    "    breite (float): Die Breite des Rechtecks\n",
    "    höhe (float): Die Höhe des Rechtecks\n",
    "\n",
    "    Output:\n",
    "    flächeninhalt (float): Der berechnete Flächeninhalt des Rechtecks\n",
    "    \"\"\"\n",
    "\n",
    "    flächeninhalt = breite * höhe\n",
    "\n",
    "    return flächeninhalt\n",
    "```\n",
    ":::"
   ]
  },
  {
   "cell_type": "markdown",
   "metadata": {},
   "source": [
    ":::{admonition} Aufgabe 1.2\n",
    "Schreiben Sie eine Funktion `norm(vec)`, die die $\\|\\cdot\\|_2$-Norm \n",
    "\n",
    "$$\n",
    "\\| x \\|_2 = \\sqrt{x_1^2 + \\ldots x_n^2}\n",
    "$$\n",
    "\n",
    "eines $n$-dimensionalen Vektors `vec` berechnet. Verwenden Sie als Eingabe einen `numpy-Array`.\n",
    ":::"
   ]
  },
  {
   "cell_type": "code",
   "execution_count": null,
   "metadata": {},
   "outputs": [],
   "source": [
    "# Ihr Code "
   ]
  },
  {
   "cell_type": "markdown",
   "metadata": {},
   "source": [
    ":::{admonition} Hinweis\n",
    ":class: note dropdown\n",
    "\n",
    "Sie können `np.sum(vec**2)` verwenden. Vergessen Sie nicht Ihre Funktion angemessen zu beschreiben. \n",
    ":::\n",
    "\n",
    ":::{admonition} Lösung\n",
    ":class: tip dropdown\n",
    "\n",
    "``` python\n",
    "import numpy as np\n",
    "\n",
    "def norm(vec):\n",
    "    \"\"\"Berechnet die 2-Norm eines n-dimensionalen Vektors.\n",
    "    \n",
    "    Input:\n",
    "    vec (np.array): Vektor\n",
    "\n",
    "    Output:\n",
    "    zwei_norm (float): 2-Norm des Vektors\n",
    "    \"\"\"\n",
    "\n",
    "    zwei_norm = np.sqrt(np.sum(vec**2))\n",
    "\n",
    "    return zwei_norm\n",
    "```\n",
    ":::"
   ]
  },
  {
   "cell_type": "markdown",
   "metadata": {},
   "source": [
    ":::{admonition} Aufgabe 1.3\n",
    "Schreiben Sie eine Funktion `abstand(p1, p2, norm_funktion)`, die den Abstand zweier $n$-dimensionaler Punkten $p_1$​ und $p_2$ berechnet. Der Eingabeparameter `norm_funktion` soll dabei eine Funktion selbst sein, die die $\\|\\cdot\\|_2$-Norm berechnet. \n",
    ":::"
   ]
  },
  {
   "cell_type": "code",
   "execution_count": null,
   "metadata": {},
   "outputs": [],
   "source": [
    "# Ihr Code "
   ]
  },
  {
   "cell_type": "markdown",
   "metadata": {},
   "source": [
    ":::{admonition} Hinweis\n",
    ":class: note dropdown\n",
    "\n",
    "Der Abstand zweier $n$-dimensionaler Punkte kann über $\\|p_1 - p_2\\|_2$ berechnet werden. Eine bereits definierte Funktion, kann über ihren Funktionsnamen als Input in eine andere Funktion übergeben werden.\n",
    ":::\n",
    "\n",
    ":::{admonition} Lösung\n",
    ":class: tip dropdown\n",
    "\n",
    "``` python\n",
    "def abstand(p1, p2, norm_funktion):\n",
    "    \"\"\"Berechnet den Abstand zweier Punkte im R^n mithilfe einer übergebenen Normfunktion.\n",
    "    \n",
    "    Input:\n",
    "    p1 (np.array): Erster Punkt\n",
    "    p2 (np.array): Zweiter Punkt\n",
    "    norm_funktion (function): Funktion, die die 2-Norm eines Vektors berechnet\n",
    "\n",
    "    Output:\n",
    "    abstand_der_punkte (float): Abstand zwischen den Punkten\n",
    "    \"\"\"\n",
    "\n",
    "    if len(p1) != len(p2):\n",
    "        raise ValueError(\"Die Punkte müssen die gleiche Dimension haben.\")\n",
    "    \n",
    "    differenz = p2 - p1\n",
    "\n",
    "    abstand_der_punkte = norm_funktion(differenz)\n",
    "\n",
    "    return abstand_der_punkte\n",
    "```\n",
    ":::"
   ]
  },
  {
   "cell_type": "markdown",
   "metadata": {},
   "source": [
    "Es ist immer sinnvoll, selbst geschriebene Funktionen mit **Minimalbeispielen** zu testen, bevor man sie in größeren Programmen verwendet. Dabei wählt man einfache Eingaben, deren Ergebnis man von Hand berechnen kann, und überprüft, ob die Funktion das erwartete Ergebnis liefert.\n",
    "\n",
    "Solche Tests helfen, Fehler früh zu erkennen, und geben Sicherheit, dass die Funktion korrekt arbeitet – besonders bei komplexeren Aufgaben oder wenn mehrere Funktionen zusammenwirken."
   ]
  },
  {
   "cell_type": "markdown",
   "metadata": {},
   "source": [
    ":::{admonition} Aufgabe 1.4\n",
    "Berechnen Sie den Abstand der beiden Punkte $p1=(3,4)$ und $p2=(0,0)$ mithilfe Ihrer `abstand`-Funktion.\n",
    "\n",
    "Was erwarten Sie als Ergebnis?\n",
    ":::"
   ]
  },
  {
   "cell_type": "code",
   "execution_count": null,
   "metadata": {},
   "outputs": [],
   "source": [
    "# Ihr Code "
   ]
  },
  {
   "cell_type": "markdown",
   "metadata": {},
   "source": [
    ":::{admonition} Hinweis\n",
    ":class: note dropdown\n",
    "\n",
    "Erstellen Sie zwei `np.arrays` und übergeben Sie diese an `abstand`. Das Ergebnis sollte $\\sqrt{3^2+4^2} = 5$ entsprechen.\n",
    ":::\n",
    "\n",
    ":::{admonition} Lösung\n",
    ":class: tip dropdown\n",
    "\n",
    "``` python\n",
    "p1 = np.array([3, 4])\n",
    "p2 = np.array([0, 0])\n",
    "\n",
    "print(abstand(p1, p2, norm))\n",
    "```\n",
    ":::"
   ]
  },
  {
   "cell_type": "markdown",
   "metadata": {},
   "source": [
    "Wenn Sie eine Funktion definieren, geben Sie die Namen der Eingabevariablen in runden Klammern an – sogenannte **Argumente**. Beim Aufruf der Funktion müssen Sie diese Argumente normalerweise in der **richtigen Reihenfolge** angeben. Das nennt man **Positionsargumente**. Ein Aufruf muss dann so aussehen:"
   ]
  },
  {
   "cell_type": "code",
   "execution_count": null,
   "metadata": {},
   "outputs": [],
   "source": [
    "A1 = dreiecksfläche(4, 3)\n",
    "\n",
    "print(A1)"
   ]
  },
  {
   "cell_type": "markdown",
   "metadata": {},
   "source": [
    "Sie können aber auch **Schlüsselwortargumente** verwenden. Dabei wird dem Namen eines Arguments beim Aufruf direkt ein Wert zugewiesen:"
   ]
  },
  {
   "cell_type": "code",
   "execution_count": null,
   "metadata": {},
   "outputs": [],
   "source": [
    "A1 = dreiecksfläche(höhe = 3, grundseite = 4)\n",
    "\n",
    "print(A1)"
   ]
  },
  {
   "cell_type": "markdown",
   "metadata": {},
   "source": [
    "Das erhöht die Lesbarkeit und verhindert Fehler bei der Reihenfolge."
   ]
  },
  {
   "cell_type": "markdown",
   "metadata": {},
   "source": [
    ":::{admonition} Aufgabe 1.5\n",
    "Berechnen Sie den Abstand der beiden Punkte $p1=(3,4)$ und $p2=(0,0)$ mithilfe Ihrer `abstand`-Funktion, welche als erster Eingabeparameter übergeben werden soll. \n",
    ":::\n",
    ":::"
   ]
  },
  {
   "cell_type": "code",
   "execution_count": null,
   "metadata": {},
   "outputs": [],
   "source": [
    "# Ihr Code "
   ]
  },
  {
   "cell_type": "markdown",
   "metadata": {},
   "source": [
    ":::{admonition} Hinweis\n",
    ":class: note dropdown\n",
    "\n",
    "Nutzen Sie Schlüsselwortargumente.\n",
    ":::\n",
    "\n",
    ":::{admonition} Lösung\n",
    ":class: tip dropdown\n",
    "\n",
    "``` python\n",
    "p1 = np.array([3, 4])\n",
    "p2 = np.array([0, 0])\n",
    "\n",
    "print(abstand(norm_funktion = norm, p1 = p1, p2 = p2))\n",
    "```\n",
    ":::"
   ]
  },
  {
   "cell_type": "markdown",
   "metadata": {},
   "source": [
    "Beim Schreiben eigener Funktionen lohnt es sich, ein paar bewährte Grundsätze zu beachten:\n",
    "\n",
    "- **Lokale Variablen:** Variablen, die innerhalb einer Funktion definiert sind, gelten nur dort. Sie überschreiben keine gleichnamigen Variablen außerhalb der Funktion.\n",
    "\n",
    "- **Gute Namen wählen:** Verwenden Sie für sich selbst sprechende Funktions- und Variablennamen, z. B. `berechne_mittelwert` statt `f1`.\n",
    "\n",
    "- **Keine doppelten Berechnungen:** Wenn Sie eine Berechnung mehrfach benötigen, lagern Sie sie in eine Funktion aus – das spart Zeit und vermeidet Fehler.\n",
    "\n",
    "- **Dokumentation hilft auch Ihnen selbst:** Ein klarer `docstring` spart Nachdenken, wenn Sie später Ihren eigenen Code wieder verwenden oder erweitern wollen.\n",
    "\n",
    "- **Funktionen sind Bausteine:** Denken Sie Funktionen als kleine Werkzeuge, die sich kombinieren lassen – das macht auch komplexe numerische Probleme leichter handhabbar.\n"
   ]
  }
 ],
 "metadata": {
  "language_info": {
   "name": "python"
  }
 },
 "nbformat": 4,
 "nbformat_minor": 2
}