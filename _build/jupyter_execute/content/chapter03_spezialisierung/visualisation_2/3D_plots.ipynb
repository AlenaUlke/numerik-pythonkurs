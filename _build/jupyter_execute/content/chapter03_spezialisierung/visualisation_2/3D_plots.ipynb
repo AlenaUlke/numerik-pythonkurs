{
 "cells": [
  {
   "cell_type": "markdown",
   "metadata": {},
   "source": [
    "# 3D Plots\n",
    "\n",
    "In den bisherigen Kapiteln haben Sie gelernt, wie man zweidimensionale Plots mit `plt.plot` erzeugt – also Kurven, bei denen zwei Vektoren die $x$- und $y$-Werte der Datenpunkte angeben. Solche Darstellungen sind hervorragend geeignet, um Zusammenhänge zwischen zwei Größen zu visualisieren. Doch in vielen numerischen Anwendungen interessiert man sich für Funktionen, die nicht nur von einer, sondern von zwei Variablen abhängen – etwa Temperaturverteilungen auf einer Fläche, Höhenprofile eines Geländes oder Fehlerfunktionen in mehreren Dimensionen.\n",
    "\n",
    "Für solche Szenarien benötigen wir eine Möglichkeit, Funktionen in drei Dimensionen zu visualisieren. Dabei wird üblicherweise ein Gitter von $(x,y)$-Koordinaten erzeugt, auf dem eine dritte Größe $z=f(x,y)$ als Höhe dargestellt wird. Diese Art der Darstellung nennt man eine Oberfläche.\n",
    "\n",
    "## Oberflächen erzeugen\n",
    "\n",
    "Eine besonders einfache und intuitive Möglichkeit, eine Oberfläche zu erzeugen, bietet die Funktion `plot_surface(X,Y,Z)`. Dabei sind $X$ und $Y$ Vektoren, die die Koordinatenpunkte im $x$-$y$-Raum definieren, und $Z$ ist eine Matrix, die die zugehörigen Höhenwerte (also die $z$-Koordinaten) an diesen Punkten angibt. Die Werte $Z_{i,j}$ in $Z$ entsprechen dabei den Höhen an den jeweiligen Positionen $(X_i,Y_j)$. "
   ]
  },
  {
   "cell_type": "markdown",
   "metadata": {},
   "source": [
    "Ein Beispiel ist die Funktion $f(x,y)=sin⁡(x)⋅cos⁡(y)$, die eine wellenartige Oberfläche erzeugt. Sie können diese Funktion auf einem Gitter auswerten und die resultierende Matrix mit `plot_surface` darstellen:"
   ]
  },
  {
   "cell_type": "code",
   "execution_count": null,
   "metadata": {},
   "outputs": [],
   "source": [
    "import numpy as np\n",
    "import matplotlib.pyplot as plt\n",
    "\n",
    "# Wertebereiche für x und y festlegen\n",
    "x = np.linspace(- np.pi, 2 * np.pi, 100)\n",
    "y = np.linspace(- np.pi, 2 * np.pi, 100)\n",
    "\n",
    "# Ein Gitter aus x- und y-Werten erzeugen\n",
    "X, Y = np.meshgrid(x, y)\n",
    "\n",
    "# Z-Werte berechnen: Z = sin(x) * cos(y)\n",
    "Z = np.sin(X) * np.cos(Y)\n",
    "\n",
    "# Neue Abbildung und 3D-Achsen erzeugen\n",
    "fig = plt.figure()\n",
    "ax = fig.add_subplot(111, projection='3d')\n",
    "# - 111 bedeutet: 1 Zeile, 1 Spalte, 1. (und einzige) Position\n",
    "# - projection='3d' aktiviert die 3D-Darstellung\n",
    "\n",
    "# Oberfläche plotten\n",
    "ax.plot_surface(X, Y, Z) \n",
    "\n",
    "# Achsen beschriften\n",
    "ax.set_xlabel(\"x\")\n",
    "ax.set_ylabel(\"y\")\n",
    "ax.set_zlabel(\"z = sin(x) * cos(y)\")\n",
    "\n",
    "# Plot anzeigen\n",
    "plt.show()"
   ]
  },
  {
   "cell_type": "markdown",
   "metadata": {},
   "source": [
    "Wichtige **Eigenschaften** von Oberflächen:\n",
    "- $x$ und $y$ müssen mit `np.meshgrid` zu einem Gitter kombiniert werden.\n",
    "- $Z$ ist eine Matrix der gleichen Form wie $X$ und $Y$ – sie enthält die Höhenwerte.\n",
    "- `plot_surface(X, Y, Z)` wird für die Darstellung verwendet.\n",
    "- Vor dem Plotten muss eine neue Figur mit 3D-Achsen erstellt werden: `fig = plt.figure()` erzeugt eine neue leere Grafik und `fig.add_subplot(111, projection='3d')` fügt ein 3D-Achsensystem hinzu."
   ]
  },
  {
   "cell_type": "markdown",
   "metadata": {},
   "source": [
    "Um 3D-Oberflächenplots besser zu verstehen, verwenden wir in diesem Abschnitt ein Beispiel mit (leider fiktiven) Messdaten: Die wöchentlichen **Umsätze des Café Soleil**, aufgeteilt nach Wochentagen (Zeilen) und Tageszeiten (Spalten).\n",
    "Alle Werte sind in **Euro (€)** angegeben.\n",
    "\n",
    "Das Café Soleil hat an jedem Tag fünf feste Zeitfenster:\n",
    "- 8:00 – 10:00 Uhr\n",
    "- 10:00 – 12:00 Uhr\n",
    "- 12:00 – 14:00 Uhr\n",
    "- 14:00 – 15:30 Uhr\n",
    "- 15:30 – 17:30 Uhr\n",
    "\n",
    "Am Samstag und Sonntag bleibt das Café geschlossen – es gibt daher nur fünf Zeilen (Montag bis Freitag).\n",
    "\n",
    "Die Umsatzdaten des Café Soleil für die einzelnen Tage und Zeitfenster lassen sich in folgender Matrix zusammenfassen:\n",
    "\n",
    "$$\n",
    "\\texttt{revenue} =\n",
    "\\begin{pmatrix}\n",
    "120 & 180 & 250 & 200 & 160 \\\\  % Montag\n",
    "100 & 150 & 300 & 230 & 180 \\\\  % Dienstag\n",
    " 90 & 170 & 280 & 220 & 190 \\\\  % Mittwoch\n",
    "130 & 160 & 270 & 210 & 170 \\\\  % Donnerstag\n",
    "140 & 190 & 310 & 260 & 0\n",
    "\\end{pmatrix}\n",
    "$$\n",
    "\n",
    "Um diese Daten in Python zu analysieren und zu visualisieren, speichern wir sie in einem `numpy`-Array namens `revenue`. Der zugehörige Code lautet:"
   ]
  },
  {
   "cell_type": "code",
   "execution_count": null,
   "metadata": {},
   "outputs": [],
   "source": [
    "revenue = np.array([\n",
    "    # 8-10  10-12  12-14  14-15:30  15:30-17:30\n",
    "    [120,   180,   250,   200,      160],  # Montag\n",
    "    [100,   150,   300,   230,      180],  # Dienstag\n",
    "    [ 90,   170,   280,   220,      190],  # Mittwoch\n",
    "    [130,   160,   270,   210,      170],  # Donnerstag\n",
    "    [140,   190,   310,   260,      0],  # Freitag\n",
    "])"
   ]
  },
  {
   "cell_type": "markdown",
   "metadata": {},
   "source": [
    ":::{admonition} Aufgabe 1.1\n",
    "Erstellen Sie ein 3D-Surface-Plot, der die Umsätze des Café Soleil in Abhängigkeit der Wochentage (Zeilen) und der verschiedenen Zeitfenster (Spalten) visualisiert.\n",
    ":::"
   ]
  },
  {
   "cell_type": "code",
   "execution_count": null,
   "metadata": {},
   "outputs": [],
   "source": [
    "# Ihr Code "
   ]
  },
  {
   "cell_type": "markdown",
   "metadata": {},
   "source": [
    "\n",
    ":::{admonition} Hinweis\n",
    ":class: note dropdown\n",
    "\n",
    "Um eine 3D-Oberfläche in `matplotlib` zu erzeugen, benötigen Sie zunächst ein Gitter aus Koordinatenpunkten. Verwenden Sie `np.meshgrid`, um aus einem Tages- und Zeitvektor ein zweidimensionales Gitter zu erstellen. Die Umsatzmatrix `revenue` wird dabei als Höhenmatri $Z$ interpretiert. Erzeugen Sie anschließend mit `plot_surface` die 3D Oberfläche.\n",
    ":::\n",
    "\n",
    ":::{admonition} Lösung\n",
    ":class: tip dropdown\n",
    "\n",
    "``` python\n",
    "# Achsen vorbereiten\n",
    "days = np.arange(revenue.shape[0])\n",
    "times = np.arange(revenue.shape[1])\n",
    "Days, Times = np.meshgrid(times, days)\n",
    "\n",
    "# Surface Plot\n",
    "fig = plt.figure()\n",
    "ax = fig.add_subplot(111, projection='3d')\n",
    "ax.plot_surface(Days, Times, revenue)\n",
    "ax.set_xlabel(\"Tageszeit\")\n",
    "ax.set_ylabel(\"Wochentag\")\n",
    "ax.set_zlabel(\"Einnahmen\")\n",
    "plt.show()\n",
    "```\n",
    ":::"
   ]
  },
  {
   "cell_type": "markdown",
   "metadata": {},
   "source": [
    "Wenn Sie bei einem `matplotlib`-Plot statt numerischer Werte aussagekräftige Beschriftungen wie z. B. Wochentage oder Uhrzeiten anzeigen möchten, können Sie die Achsenticks und die zugehörigen Labels manuell setzen.\n",
    "\n",
    "Dazu stehen die Methoden `set_xticks()` und `set_xticklabels()` (bzw. analog `set_yticks()` und `set_yticklabels()`) zur Verfügung: "
   ]
  },
  {
   "cell_type": "code",
   "execution_count": null,
   "metadata": {},
   "outputs": [],
   "source": [
    "ax.set_xticks([0, 1, 2, 3])   # Positionen auf der x-Achse\n",
    "ax.set_xticklabels([\"Beschriftung 1\", \"Beschriftung 2\", \n",
    "                    \"Beschriftung 3\", \"Beschriftung 4\"])  # Beschriftung dieser Positionen"
   ]
  },
  {
   "cell_type": "markdown",
   "metadata": {},
   "source": [
    "Diese Befehle geben an:\n",
    "- wo sich die Ticks befinden sollen,\n",
    "- wie diese beschriftet werden.\n",
    "\n",
    "Das ist besonders hilfreich bei 3D-Oberflächenplots, wenn Sie z. B. die Achsen nicht nur mit Zahlen, sondern mit realitätsnahen Kategorien beschriften möchten."
   ]
  },
  {
   "cell_type": "markdown",
   "metadata": {},
   "source": [
    ":::{admonition} Aufgabe 1.2\n",
    "Passen Sie den bestehenden 3D-Surface-Plot so an, dass an den Achsen nicht nur Zahlen, sondern die tatsächlichen Bezeichnungen für Wochentage und Tageszeiten erscheinen.\n",
    ":::"
   ]
  },
  {
   "cell_type": "code",
   "execution_count": null,
   "metadata": {},
   "outputs": [],
   "source": [
    "# Ihr Code "
   ]
  },
  {
   "cell_type": "markdown",
   "metadata": {},
   "source": [
    "\n",
    ":::{admonition} Hinweis\n",
    ":class: note dropdown\n",
    "Verwenden Sie `set_xticklabels()` und `set_yticklabels()`, um die Ticks passend zu beschriften\n",
    "\n",
    ":::\n",
    "\n",
    ":::{admonition} Lösung\n",
    ":class: tip dropdown\n",
    "\n",
    "``` python\n",
    "# Wochentage und Zeitfenster\n",
    "wochentage = [\"Mo\", \"Di\", \"Mi\", \"Do\", \"Fr\"]\n",
    "zeitfenster = [\"8–10\", \"10–12\", \"12–14\", \"14–15:30\", \"15:30–17:30\"]\n",
    "\n",
    "# Gitter erzeugen\n",
    "x = np.arange(revenue.shape[1])  # Zeitfenster\n",
    "y = np.arange(revenue.shape[0])  # Wochentage\n",
    "X, Y = np.meshgrid(x, y)\n",
    "\n",
    "# Surface Plot\n",
    "fig = plt.figure()\n",
    "ax = fig.add_subplot(111, projection='3d')\n",
    "ax.plot_surface(X, Y, revenue)\n",
    "\n",
    "# Achsenbeschriftung anpassen\n",
    "ax.set_xticks(x)\n",
    "ax.set_xticklabels(zeitfenster)\n",
    "ax.set_yticks(y)\n",
    "ax.set_yticklabels(wochentage)\n",
    "ax.set_xlabel(\"Tageszeit\")\n",
    "ax.set_ylabel(\"Wochentag\")\n",
    "ax.set_zlabel(\"Einnahmen (EUR)\")\n",
    "\n",
    "plt.show()\n",
    "```\n",
    ":::"
   ]
  },
  {
   "cell_type": "markdown",
   "metadata": {},
   "source": [
    "Auch bei 3D-Oberflächenplots lassen sich zahlreiche individuelle Anpassungen vornehmen, um die Darstellung visuell ansprechend und informativ zu gestalten. Dazu gehören unter anderem die Farbgebung, Transparenz oder die Dichte des Gitters. Die folgende Tabelle fasst die wichtigsten Parameter zusammen, mit denen sich das Aussehen von Oberflächenplots über `plot_surface()` gezielt steuern lässt:\n",
    "\n",
    " Eigenschaft                                        | Beschreibung                                                        | Beispiel                            |\n",
    "| -------------------------------------------------- | ------------------------------------------------------------------- | ----------------------------------- |\n",
    "| <span class=\"no-wrap\">`cmap`</span>                | Farbschema der Oberfläche                                           | `cmap='viridis'`                    |\n",
    "| <span class=\"no-wrap\">`rstride` / `cstride`</span> | Schrittweite in Zeilen- bzw. Spaltenrichtung (Rasterdichte)         | `rstride=2, cstride=2`              |\n",
    "| <span class=\"no-wrap\">`linewidth`</span>           | Dicke der Gitterlinien                                              | `linewidth=0.5`                     |\n",
    "| <span class=\"no-wrap\">`antialiased`</span>         | Kantenglättung für weichere Übergänge                               | `antialiased=True`                  |\n",
    "| <span class=\"no-wrap\">`alpha`</span>               | Transparenz der Oberfläche (zwischen 0 und 1)                       | `alpha=0.8`                         |\n",
    "\n"
   ]
  },
  {
   "cell_type": "code",
   "execution_count": null,
   "metadata": {},
   "outputs": [],
   "source": [
    "# Wertebereiche für x und y festlegen\n",
    "x = np.linspace(- np.pi, 2 * np.pi, 100)\n",
    "y = np.linspace(- np.pi, 2 * np.pi, 100)\n",
    "\n",
    "# Ein Gitter aus x- und y-Werten erzeugen\n",
    "X, Y = np.meshgrid(x, y)\n",
    "\n",
    "# Z-Werte berechnen: Z = sin(x) * cos(y)\n",
    "Z = np.sin(X) * np.cos(Y)\n",
    "\n",
    "# Neue Abbildung und 3D-Achsen erzeugen\n",
    "fig = plt.figure()\n",
    "ax = fig.add_subplot(111, projection='3d')\n",
    "# - 111 bedeutet: 1 Zeile, 1 Spalte, 1. (und einzige) Position\n",
    "# - projection='3d' aktiviert die 3D-Darstellung\n",
    "\n",
    "# Oberfläche plotten\n",
    "ax.plot_surface(X, Y, Z, cmap=\"coolwarm\", alpha=0.9, linewidth=0, antialiased=True)\n",
    "\n",
    "# Achsen beschriften\n",
    "ax.set_xlabel(\"x\")\n",
    "ax.set_ylabel(\"y\")\n",
    "ax.set_zlabel(\"z = sin(x) * cos(y)\")\n",
    "\n",
    "# Plot anzeigen\n",
    "plt.show()"
   ]
  },
  {
   "cell_type": "markdown",
   "metadata": {},
   "source": [
    ":::{admonition} Aufgabe 1.3\n",
    "Nehmen Sie folgende Anpassungen für den bestehenden 3D-Surface-Plot vor:\n",
    "- Farbverlauf: `\"plasma\"`\n",
    "- Transparenz: `0.8`\n",
    "- Gitterliniendicke: `0.5`\n",
    "- Kantenglättung: `True`\n",
    ":::"
   ]
  },
  {
   "cell_type": "code",
   "execution_count": null,
   "metadata": {},
   "outputs": [],
   "source": [
    "# Ihr Code "
   ]
  },
  {
   "cell_type": "markdown",
   "metadata": {},
   "source": [
    "\n",
    ":::{admonition} Hinweis\n",
    ":class: note dropdown\n",
    "\n",
    "Nutzen Sie Parameter `cmap`, `alpha`, `linewidth` und `antialiased` innerhalb von `plot_surface()`, um die Oberfläche grafisch anzupassen.\n",
    ":::\n",
    "\n",
    ":::{admonition} Lösung\n",
    ":class: tip dropdown\n",
    "\n",
    "``` python\n",
    "# Gitter erzeugen\n",
    "x = np.arange(revenue.shape[1])  # Zeitfenster\n",
    "y = np.arange(revenue.shape[0])  # Wochentage\n",
    "X, Y = np.meshgrid(x, y)\n",
    "\n",
    "# Surface Plot\n",
    "fig = plt.figure()\n",
    "ax = fig.add_subplot(111, projection='3d')\n",
    "ax.plot_surface(X, Y, revenue,\n",
    "                cmap=\"plasma\",        # Farbverlauf anpassen\n",
    "                alpha=0.8,            # Transparenz einstellen\n",
    "                linewidth=0.5,        # Gitterlinien dünner zeichnen\n",
    "                antialiased=True)     # Kantenglättung aktivieren\n",
    "\n",
    "# Achsenbeschriftungen setzen\n",
    "ax.set_xticks(x)\n",
    "ax.set_xticklabels(zeitfenster)\n",
    "ax.set_yticks(y)\n",
    "ax.set_yticklabels(wochentage)\n",
    "ax.set_xlabel(\"Tageszeit\")\n",
    "ax.set_ylabel(\"Wochentag\")\n",
    "ax.set_zlabel(\"Einnahmen (EUR)\")\n",
    "\n",
    "plt.show()\n",
    "```\n",
    ":::"
   ]
  },
  {
   "cell_type": "markdown",
   "metadata": {},
   "source": [
    "Neben `plot_surface` bietet `matplotlib` noch weitere Möglichkeiten, 3D-Oberflächen visuell darzustellen. Eine davon ist `plot_wireframe`, welche nur die Gitterlinien (ohne Flächenfüllung) zeichnet. Die Darstellung ist nützlich, wenn man die Struktur betonen möchte. Die Funktionen lässt sich analog zu `plot_surface` verwenden."
   ]
  },
  {
   "cell_type": "markdown",
   "metadata": {},
   "source": [
    ":::{admonition} Aufgabe 1.4\n",
    "Erstellen Sie ein 3D-Wireframe-Plot, der die Umsätze des Café Soleil visualisiert.\n",
    ":::"
   ]
  },
  {
   "cell_type": "code",
   "execution_count": null,
   "metadata": {},
   "outputs": [],
   "source": [
    "# Ihr Code "
   ]
  },
  {
   "cell_type": "markdown",
   "metadata": {},
   "source": [
    "\n",
    ":::{admonition} Hinweis\n",
    ":class: note dropdown\n",
    "\n",
    "Nutzen Sie `plot_wireframe` statt `plot_surface`.\n",
    ":::\n",
    "\n",
    ":::{admonition} Lösung\n",
    ":class: tip dropdown\n",
    "\n",
    "``` python\n",
    "# Gitter erzeugen\n",
    "x = np.arange(revenue.shape[1])  # Zeitfenster\n",
    "y = np.arange(revenue.shape[0])  # Wochentage\n",
    "X, Y = np.meshgrid(x, y)\n",
    "\n",
    "# Surface Plot\n",
    "fig = plt.figure()\n",
    "ax = fig.add_subplot(111, projection='3d')\n",
    "ax.plot_wireframe(X, Y, revenue)\n",
    "\n",
    "# Achsenbeschriftungen setzen\n",
    "ax.set_xticks(x)\n",
    "ax.set_xticklabels(zeitfenster)\n",
    "ax.set_yticks(y)\n",
    "ax.set_yticklabels(wochentage)\n",
    "ax.set_xlabel(\"Tageszeit\")\n",
    "ax.set_ylabel(\"Wochentag\")\n",
    "ax.set_zlabel(\"Einnahmen (EUR)\")\n",
    "\n",
    "plt.show()\n",
    "```\n",
    ":::"
   ]
  },
  {
   "cell_type": "markdown",
   "metadata": {},
   "source": [
    "In 3D-Plots kann man die Perspektive ändern, um die räumliche Struktur der dargestellten Oberfläche gut zu erkennen. Mit der Methode `ax.view_init(elev, azim)` wird der Blickwinkel auf die Grafik gezielt eingestellt:\n",
    "- `elev` (Elevation) bestimmt die Höhe des Blicks über der $x$-$y$-Ebene (vertikaler Winkel).\n",
    "- `azim` (Azimut) bestimmt die Drehung um die $z$-Achse (horizontaler Winkel).\n"
   ]
  },
  {
   "cell_type": "code",
   "execution_count": null,
   "metadata": {},
   "outputs": [],
   "source": [
    "# Wertebereiche für x und y festlegen\n",
    "x = np.linspace(- np.pi, 2 * np.pi, 100)\n",
    "y = np.linspace(- np.pi, 2 * np.pi, 100)\n",
    "\n",
    "# Ein Gitter aus x- und y-Werten erzeugen\n",
    "X, Y = np.meshgrid(x, y)\n",
    "\n",
    "# Z-Werte berechnen: Z = sin(x) * cos(y)\n",
    "Z = np.sin(X) * np.cos(Y)\n",
    "\n",
    "# Neue Abbildung und 3D-Achsen erzeugen\n",
    "fig = plt.figure()\n",
    "ax = fig.add_subplot(111, projection='3d')\n",
    "# - 111 bedeutet: 1 Zeile, 1 Spalte, 1. (und einzige) Position\n",
    "# - projection='3d' aktiviert die 3D-Darstellung\n",
    "\n",
    "# Oberfläche plotten\n",
    "ax.plot_surface(X, Y, Z) \n",
    "\n",
    "# Achsen beschriften\n",
    "ax.set_xlabel(\"x\")\n",
    "ax.set_ylabel(\"y\")\n",
    "ax.set_zlabel(\"z = sin(x) * cos(y)\")\n",
    "\n",
    "# Perspektive anpassen\n",
    "ax.view_init(elev=90, azim=50)\n",
    "\n",
    "# Plot anzeigen\n",
    "plt.show()"
   ]
  },
  {
   "cell_type": "markdown",
   "metadata": {},
   "source": [
    ":::{admonition} Aufgabe 1.5\n",
    "\n",
    "Erweitern Sie den bestehenden 3D-Surface-Plot so, dass die Perspektive mit einer Elevation von 30° und einem Azimut von 45° eingestellt wird.\n",
    ":::"
   ]
  },
  {
   "cell_type": "code",
   "execution_count": null,
   "metadata": {},
   "outputs": [],
   "source": [
    "# Ihr Code "
   ]
  },
  {
   "cell_type": "markdown",
   "metadata": {},
   "source": [
    "\n",
    ":::{admonition} Hinweis\n",
    ":class: note dropdown\n",
    "\n",
    "Nutzen Sie `ax.view_init(elev, azim)`.\n",
    "\n",
    ":::\n",
    "\n",
    ":::{admonition} Lösung\n",
    ":class: tip dropdown\n",
    "\n",
    "``` python\n",
    "# Gitter erzeugen\n",
    "x = np.arange(revenue.shape[1])  # Zeitfenster\n",
    "y = np.arange(revenue.shape[0])  # Wochentage\n",
    "X, Y = np.meshgrid(x, y)\n",
    "\n",
    "# Surface Plot\n",
    "fig = plt.figure()\n",
    "ax = fig.add_subplot(111, projection='3d')\n",
    "ax.plot_surface(X, Y, revenue)\n",
    "\n",
    "# Achsenbeschriftungen setzen\n",
    "ax.set_xticks(x)\n",
    "ax.set_xticklabels(zeitfenster)\n",
    "ax.set_yticks(y)\n",
    "ax.set_yticklabels(wochentage)\n",
    "ax.set_xlabel(\"Tageszeit\")\n",
    "ax.set_ylabel(\"Wochentag\")\n",
    "ax.set_zlabel(\"Einnahmen (EUR)\")\n",
    "\n",
    "# Perspektive anpassen\n",
    "ax.view_init(elev=30, azim=45)\n",
    "\n",
    "plt.show()\n",
    "```\n",
    ":::"
   ]
  },
  {
   "cell_type": "markdown",
   "metadata": {},
   "source": [
    "Bild 10 ist Idee für Quiz"
   ]
  }
 ],
 "metadata": {
  "language_info": {
   "name": "python"
  }
 },
 "nbformat": 4,
 "nbformat_minor": 2
}