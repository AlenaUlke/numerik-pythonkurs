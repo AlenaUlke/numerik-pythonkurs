{
 "cells": [
  {
   "cell_type": "markdown",
   "metadata": {},
   "source": [
    "# Vektorisierung\n",
    "\n",
    " Think of the best way of completing each of the following tasks in MATLAB:\n",
    "\n",
    "    Add two vectors x and y.\n",
    "    Find the square root of each of the elements of the vector n.\n",
    "    Calculate the difference between the adjacent elements of the vector x.\n",
    "\n",
    "You could do these with a for loop. However, MATLAB is an array-based language, and you can often get improved performance by using MATLAB functions that are specifically designed to work with arrays. The process of revising loop–based code to use array operations is called vectorization . \n",
    "\n",
    "Bild 1\n",
    "\n",
    "Code often runs faster, is more concise, and looks more like math equations. \n",
    "\n",
    "\n",
    "Consider the problem of finding the difference between the adjacent elements of a vector. Let's compare two solutions to this problem: one uses a vectorized function and the other uses a for loop. \n",
    "\n",
    "Bild 2\n",
    "\n",
    "You can see that the solution using the vectorized function diff is more concise. Also, the vectorized solution is faster than the non-vectorized solution.\n",
    "A subset of vectorized functions and operations is provided below. You should look for opportunities to vectorize your code and consult MATLAB documentation for possible solutions. \n",
    "\n",
    "Bild 3"
   ]
  },
  {
   "cell_type": "code",
   "execution_count": null,
   "metadata": {
    "tags": [
     "thebe-init"
    ]
   },
   "outputs": [],
   "source": [
    "# Einbinden des Pakets numpy unter dem Alias 'np'\n",
    "load sensorData\n",
    "\n",
    "n = size(sensorData,1);\n",
    "for k = 1:n\n",
    "    s = trimCell(sensorData(k,:));\n",
    "    \n",
    "    Fx = s{1}(:,2);\n",
    "    Fy = s{2}(:,2);\n",
    "    Fz = s{3}(:,2);\n",
    "    \n",
    "    clear F\n",
    "    m = length(Fx);\n",
    "    #this for loop shall be replaced\n",
    "    for kk = 1:m\n",
    "        F(kk) = sqrt(Fx(kk)^2 + Fy(kk)^2 + Fz(kk)^2);\n",
    "    end\n",
    "    # get the max force and the mean.\n",
    "    [Fmax(k), maxIdx(k)] = max(F);\n",
    "    Fmean(k) = mean(F);\n",
    "end\n",
    "\n",
    "# view result\n",
    "Fmax\n",
    "Fmean\n",
    "\n",
    "# A helper function to trim a cell array of column vectors so that all the column vectors have the same number of rows. It will also work for matrices provided they have more rows than columns. It will return the result as a cell array\n",
    "function F = trimCell(F)\n",
    "l = cellfun(@length, F);\n",
    "minL = min(l);\n",
    "f = @(x) x(1:minL,:);\n",
    "F = cellfun(f, F, \"UniformOutput\", false);\n",
    "end"
   ]
  },
  {
   "cell_type": "markdown",
   "metadata": {},
   "source": [
    "The code in calcFvec.mlx calculates the maximum and average force on the head given sensor data measuring force in the x, y, and z directions. \n",
    "\n",
    "The force at each instant is measured within the inner for loop, and then the maximum and mean are calculated.  Vectorizing that calculation would speed up the code.\n",
    "\n",
    "Wir haben hier wieder unsere tollen sensor data, die wir nutzen zum vektorisieren. Mir ist grundsätzlich egal, welche Daten wir nutzen. es ist nur wichtig, dass man eine ordentliche for-Schleife hat. Hier wirklich ein übersichtlicheres Beispiel wählen, ich bin kein Fan."
   ]
  },
  {
   "cell_type": "markdown",
   "metadata": {},
   "source": [
    ":::{admonition} Aufgabe 1.1\n",
    "Replace the inner for loop with a vectorized calculation of the force.  There should be only one for loop in the script.\n",
    ":::"
   ]
  },
  {
   "cell_type": "code",
   "execution_count": null,
   "metadata": {},
   "outputs": [],
   "source": [
    "# Ihr Code "
   ]
  },
  {
   "cell_type": "markdown",
   "metadata": {},
   "source": [
    "\n",
    ":::{admonition} Hinweis\n",
    ":class: note dropdown\n",
    "\n",
    "The .^ operator raises each element of a vector or matrix to the specified power.  Remember to delete the inner for loop before submitting.\n",
    ":::\n",
    "\n",
    ":::{admonition} Lösung\n",
    ":class: tip dropdown\n",
    "\n",
    "``` python\n",
    "F = sqrt(Fx.^2 + Fy.^2 + Fz.^2)';\n",
    "```\n",
    ":::"
   ]
  },
  {
   "cell_type": "markdown",
   "metadata": {},
   "source": [
    "Nun kommt ein Video über die Addition von Matrixen und Skalaren (das Skalar wird auf jeden Eintrag gerechnet) und einem Vektor (passen die Dimensionen, so wird auf jede Spalte der Matrix der Spaltenvekor addiert. Analog für Zeilenvektoren). Achtung bei Spaltenvektor und Zeilenvektor multiplikation, dass da keine Matrix herauskommt, sondern ein Skalar. Dimensionen sehr wichtig!!\n",
    "\n",
    "Dies kann man natürlich grafisch dargestellt zeigen.\n",
    "\n",
    "Bild 4 ist Quiz-Idee dazu."
   ]
  },
  {
   "cell_type": "markdown",
   "metadata": {},
   "source": [
    "This code loads the weight, length, and width of cars, then converts the data to metric units.\n",
    "The starter code loads a matrix, weightLengthWidth, whose columns contain the weight, length, and width of 1000 cars in kilograms and milimeters.  Then for loops are used to convert the measurements into pounds and inches, but a vectorized calculation would run faster.  \n",
    "\n",
    "You can use tic and toc to time code and save the elapsed time.\n",
    "\n",
    "tic\n",
    "% code to time\n",
    "t = toc\n",
    "\n",
    "Run the starter code a few times to see approximately how long it takes to do these conversions with for loops."
   ]
  },
  {
   "cell_type": "code",
   "execution_count": null,
   "metadata": {},
   "outputs": [],
   "source": [
    "# erste Zeile von A: [1, 2, 3]\n",
    "# zweite Zeile von A: [4, 5, 6]\n",
    "load carStats.mat\n",
    "weightLengthWidth # 1000x3 Matrix\n",
    "\n",
    "tic\n",
    "uscust = zeros(size(weightLengthWidth));\n",
    "for k = 1:size(uscust,1)\n",
    "    uscust(k,1) = weightLengthWidth(k,1)*2.2;\n",
    "    for ii = 2:3\n",
    "        uscust(k,ii) = weightLengthWidth(k,ii)*0.04;\n",
    "    end\n",
    "end\n",
    "toc\n",
    "\n",
    "uscust"
   ]
  },
  {
   "cell_type": "markdown",
   "metadata": {},
   "source": [
    ":::{admonition} Aufgabe 1.2\n",
    "Vectorize the conversion to U.S. customary and save the result in uscustVec.\n",
    "\n",
    "Delete lines 4-14 (von tic bis uscust) before submitting. To pass the assessments, your code should not contain the word for or while anywhere in the script. \n",
    ":::"
   ]
  },
  {
   "cell_type": "code",
   "execution_count": null,
   "metadata": {},
   "outputs": [],
   "source": [
    "# Ihr Code "
   ]
  },
  {
   "cell_type": "markdown",
   "metadata": {},
   "source": [
    ":::{admonition} Hinweis\n",
    ":class: note dropdown\n",
    "\n",
    "weightLengthWidth is a 1000-by-3 numeric array.  Element-wise multiplication by a 1-by-3 vector will result in each row of the array being multiplied (element-wise) by that vector.\n",
    ":::\n",
    "\n",
    ":::{admonition} Lösung\n",
    ":class: tip dropdown\n",
    "\n",
    "``` python\n",
    "tic\n",
    "uscustVec = weightLengthWidth.*[2.2 .04 .04]\n",
    "toc\n",
    "```\n",
    ":::"
   ]
  },
  {
   "cell_type": "markdown",
   "metadata": {},
   "source": [
    "In the script, the weights are extracted and saved in the variable wt."
   ]
  },
  {
   "cell_type": "code",
   "execution_count": null,
   "metadata": {},
   "outputs": [],
   "source": [
    "# This code creates a variable of car weights for the next task.\n",
    "wt = weightLengthWidth(:,1);"
   ]
  },
  {
   "cell_type": "markdown",
   "metadata": {},
   "source": [
    ":::{admonition} Aufgabe 1.3\n",
    "Create a 1000-by-3 matrix named convertedWts whose columns are the original weight in kilograms, the weight in pounds, and the weight in tons (in that order). To do this, you will need to multiply every element of wt by 1, 2.2, and .001.\n",
    "\n",
    "This can be done in one line. To pass the assessments, your code should not contain the word for or while anywhere in the script\n",
    ":::"
   ]
  },
  {
   "cell_type": "code",
   "execution_count": null,
   "metadata": {},
   "outputs": [],
   "source": [
    "# Ihr Code "
   ]
  },
  {
   "cell_type": "markdown",
   "metadata": {},
   "source": [
    ":::{admonition} Hinweis\n",
    ":class: note dropdown\n",
    "\n",
    "This can be solved in one line with either implicit expansion or matrix multiplication.\n",
    ":::\n",
    "\n",
    ":::{admonition} Lösung\n",
    ":class: tip dropdown\n",
    "\n",
    "``` python\n",
    "tic\n",
    "convertedWts = wt*[1 2.2 .001]\n",
    "toc\n",
    "```\n",
    ":::"
   ]
  },
  {
   "cell_type": "code",
   "execution_count": null,
   "metadata": {},
   "outputs": [],
   "source": [
    "# erste Zeile von A: [1, 2, 3]\n",
    "# zweite Zeile von A: [4, 5, 6]\n",
    "tic\n",
    "uscust = zeros(size(weightLengthWidth));\n",
    "for k = 1:size(uscust,1)\n",
    "    uscust(k,1) = weightLengthWidth(k,1)*2.2;\n",
    "    for ii = 2:3\n",
    "        uscust(k,ii) = weightLengthWidth(k,ii)*0.04;\n",
    "    end\n",
    "end\n",
    "toc"
   ]
  },
  {
   "cell_type": "markdown",
   "metadata": {},
   "source": [
    ":::{admonition} Aufgabe 1.4\n",
    "Try wrapping your solution for Task 1 in tic and toc and compare its performance to the for loop implementation.\n",
    ":::"
   ]
  },
  {
   "cell_type": "code",
   "execution_count": null,
   "metadata": {},
   "outputs": [],
   "source": [
    "# Ihr Code "
   ]
  },
  {
   "cell_type": "markdown",
   "metadata": {},
   "source": [
    ":::{admonition} Hinweis\n",
    ":class: note dropdown\n",
    "\n",
    ":::\n",
    "\n",
    ":::{admonition} Lösung\n",
    ":class: tip dropdown\n",
    "\n",
    "``` python\n",
    "\n",
    "```\n",
    ":::"
   ]
  },
  {
   "cell_type": "markdown",
   "metadata": {},
   "source": []
  }
 ],
 "metadata": {
  "language_info": {
   "name": "python"
  }
 },
 "nbformat": 4,
 "nbformat_minor": 2
}