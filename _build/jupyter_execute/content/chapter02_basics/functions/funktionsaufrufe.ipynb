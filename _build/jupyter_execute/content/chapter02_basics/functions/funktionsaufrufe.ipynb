{
 "cells": [
  {
   "cell_type": "markdown",
   "id": "8bfcfe7c-2978-4ab4-855d-f5805a66ea4c",
   "metadata": {
    "id": "Dh1YRA5AHxif"
   },
   "source": [
    "# Funktionsaufrufe und -rückgaben\n",
    "\n",
    "Im Kapitel zur [Arrayerstellung](../arrays/arrayerstellung.ipynb) haben Sie bereits kurz die Funktionen $\\texttt{shape}$, $\\texttt{ndim}$ und $\\texttt{size}$ kennengelernt, um Größe, Dimension und Anzahl der Elemente eines Arrays auszulesen.\n",
    "\n",
    "- $\\texttt{np.shape(A)}$: Größe des Arrays $\\texttt{A}$\n",
    "- $\\texttt{np.ndim(A)}$: Dimension des Arrays $\\texttt{A}$\n",
    "- $\\texttt{np.size(A)}$: Anzahl der gesamten Elemente des Arrays $\\texttt{A}$\n",
    "\n",
    "Anhand dieser Funktionen zeigen wir Ihnen wie Sie Funktionsrückgaben speichern und wie Sie mehrteilige Funktionsrückgaben in einzeln Varaiblen aufteilen können.\n"
   ]
  },
  {
   "cell_type": "code",
   "execution_count": null,
   "id": "6db4fc6e",
   "metadata": {
    "tags": [
     "thebe-init",
     "hide-cell"
    ]
   },
   "outputs": [],
   "source": [
    "import numpy as np\n",
    "\n",
    "np.random.seed(42)\n",
    "size = [np.random.randint(2, 10) for _ in range(3)]\n",
    "A_mystery = np.random.randint(-20, 20, size=size)\n",
    "B = np.random.randint(-20, 20, size=[3, 9])"
   ]
  },
  {
   "cell_type": "markdown",
   "id": "7aed2bfe",
   "metadata": {},
   "source": [
    "\n",
    "Sie können die Funktion $\\texttt{shape}$ auf ein $n$-dimensionales Array anwenden, um eine einzige Ausgabevariable zu erhalten, die die Arraygröße in einem $n$-Tupel enthält.\n",
    "\n",
    "Bei einem eindimensionalen Array entspricht der erste Eintrag der Anzahl der Elemente. Bei einem zweidimensionalem Array handelt es sich beim ersten Element um die Anzahl der Zeilen, während das zweite Element der Anzahl der Spalten entspricht.\n",
    "\n",
    "\n",
    ":::{admonition} Aufgabe 1.1\n",
    "Erstellen Sie eine Variable mit dem Namen $\\texttt{shape_B}$, die die Größe des Arrays $\\texttt{B}$ enthält. \n",
    ":::"
   ]
  },
  {
   "cell_type": "code",
   "execution_count": null,
   "id": "f788b2a3",
   "metadata": {},
   "outputs": [],
   "source": [
    "print(B)\n",
    "# Ihr Code"
   ]
  },
  {
   "cell_type": "markdown",
   "id": "7e888d65",
   "metadata": {},
   "source": [
    ":::{admonition} Hinweis\n",
    ":class: note dropdown\n",
    "\n",
    "Verwenden Sie die Funktion $\\texttt{shape}$ mit der Variablen $\\texttt{B}$.\n",
    ":::\n",
    "\n",
    ":::{admonition} Lösung\n",
    ":class: tip dropdown\n",
    "\n",
    "``` python\n",
    "shape_B = np.shape(B)\n",
    "```\n",
    ":::\n",
    "\n",
    "\n",
    ":::{admonition} Aufgabe 1.2\n",
    "Bestimmen Sie die Dimension, die Größe und die Anzahl der Elemente des Arrays $\\texttt{A_mystery}$. Was fällt bezüglich der Beziehung zwischen der Größe und der Anzahl der Elemente des Arrays auf? \n",
    ":::\n"
   ]
  },
  {
   "cell_type": "code",
   "execution_count": null,
   "id": "18f7c4c7",
   "metadata": {},
   "outputs": [],
   "source": [
    "# Ihr Code"
   ]
  },
  {
   "cell_type": "markdown",
   "id": "3105423e",
   "metadata": {},
   "source": [
    "\n",
    ":::{admonition} Lösung\n",
    ":class: tip dropdown\n",
    "\n",
    "``` python\n",
    "print(np.ndim(A_mystery))\n",
    "print(np.shape(A_mystery))\n",
    "print(np.size(A_mystery))\n",
    "\n",
    "\n",
    "```\n",
    ":::\n",
    "\n",
    "\n",
    "# Mehrteilige Funktionsrückgaben\n",
    "\n",
    "Sie können von der Funktion $\\texttt{shape}$ auch mehrere Ausgabevariablen anfordern. In diesem Fall enthält jede Variable die Größe einer Dimension des Eingabearrays. \n",
    "\n",
    "$\\texttt{xrow, xcol = np.shape(A)}$\n",
    "\n",
    "Trennen Sie die einzelnen Variablen durch Kommata, um mehrere Ausgaben anzufordern.\n",
    "\n",
    "\n",
    ":::{admonition} Aufgabe 2.1\n",
    "Erstellen Sie die Variablen $\\texttt{num_rows}$ und $\\texttt{num_cols}$, die die Anzahl der Zeilen bzw. der Spalten der Variablen $\\texttt{B}$ enthalten. \n",
    ":::\n"
   ]
  },
  {
   "cell_type": "code",
   "execution_count": null,
   "id": "37ddb09d",
   "metadata": {},
   "outputs": [],
   "source": [
    "# Ihr Code "
   ]
  },
  {
   "cell_type": "markdown",
   "id": "a2f651f3",
   "metadata": {},
   "source": [
    ":::{admonition} Lösung\n",
    ":class: tip dropdown\n",
    "\n",
    "``` python\n",
    "num_rows, num_cols = np.shape(B)\n",
    "```\n",
    ":::\n",
    "\n",
    "\n",
    "Sie können die Eigenwerte und Eigenvektoren einer quadratischen Matrix $\\texttt{A}$ mit Hilfe der Funktion $\\texttt{np.linalg.eig(A)}$ bestimmen.\n",
    "\n",
    "Die erste Ausgabe der Funktion liefert die Eigenwerte in Form eines Arrays und die zweite Ausgabe die zugehörigen Eigenvektoren in Form eines zweidimensionalen Arrays. Eine Spalte entspricht einem Eigenvektor.\n",
    "\n",
    "\n",
    ":::{admonition} Aufgabe 1.3\n",
    "Erstellen Sie die Variablen $\\texttt{ew_C}$ und $\\texttt{ev_C}$, die die Eignwerte und die entsprechenden Eigenvektoren von $B$ enthalten.\n",
    ":::"
   ]
  },
  {
   "cell_type": "code",
   "execution_count": null,
   "id": "7eb8028f",
   "metadata": {},
   "outputs": [],
   "source": [
    "C = np.array([[2, 0], [0, -4]])\n",
    "# Ihr Code "
   ]
  },
  {
   "cell_type": "markdown",
   "id": "dc7ca4f8",
   "metadata": {},
   "source": [
    ":::{admonition} Lösung\n",
    ":class: tip dropdown\n",
    "\n",
    "``` python\n",
    "ew_C, ev_C = np.linalg.eig(C)\n",
    "```\n",
    ":::\n",
    "\n",
    "\n",
    "Wenn Sie eine Ausgabe einer Funktion nicht benötigen, können Sie diese Ausgabe ignorieren, indem Sie an ihrer Stelle einen Unterstrich ($\\texttt{_}$) verwenden.\n",
    "\n",
    "Beispielsweise können Sie in einer Matrix nur die Anzahl der Spalten bestimmen:\n",
    "\n",
    "$\\texttt{_, num_cols = np.shape(A)}$\n",
    "\n",
    ":::{admonition} Aufgabe 2.4\n",
    "Erstellen Sie eine Variable mit dem Namen $\\texttt{num_rows}$, die die Anzahl der Zeilen der Matrix $\\texttt{A_mystery}$ enthält. \n",
    ":::\n"
   ]
  },
  {
   "cell_type": "code",
   "execution_count": null,
   "id": "58a3caaf",
   "metadata": {},
   "outputs": [],
   "source": [
    "# Ihr Code "
   ]
  },
  {
   "cell_type": "markdown",
   "id": "139f0737",
   "metadata": {},
   "source": [
    ":::{admonition} Lösung\n",
    ":class: tip dropdown\n",
    "\n",
    "``` python\n",
    "num_rows, _ , _ = np.shape(A_mystery)\n",
    "```\n",
    ":::"
   ]
  }
 ],
 "metadata": {
  "kernelspec": {
   "display_name": "Python 3.8.3 ('base')",
   "language": "python",
   "name": "python3"
  },
  "language_info": {
   "codemirror_mode": {
    "name": "ipython",
    "version": 3
   },
   "file_extension": ".py",
   "mimetype": "text/x-python",
   "name": "python",
   "nbconvert_exporter": "python",
   "pygments_lexer": "ipython3",
   "version": "3.8.3"
  },
  "vscode": {
   "interpreter": {
    "hash": "fb539783ae425cb9a41fd0e05fac6b0c01245dc8f3eb338114414f2eedb48908"
   }
  }
 },
 "nbformat": 4,
 "nbformat_minor": 5
}