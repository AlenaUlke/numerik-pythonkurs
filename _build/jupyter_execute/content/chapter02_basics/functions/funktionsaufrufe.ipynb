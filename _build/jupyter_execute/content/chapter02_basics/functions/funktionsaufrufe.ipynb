{
 "cells": [
  {
   "cell_type": "markdown",
   "id": "8bfcfe7c-2978-4ab4-855d-f5805a66ea4c",
   "metadata": {
    "id": "Dh1YRA5AHxif"
   },
   "source": [
    "# Funktionsaufrufe\n",
    "\n",
    "Sie können die Funktion `shape` auf einen Vektor oder eine Matrix anwenden, um eine einzige Ausgabevariable zu erhalten, die die Arraygröße in einem Zeilenvektor mit zwei Elementen enthält. Beim ersten Element handelt es sich um die Anzahl der Zeilen, während das zweite Element der Anzahl der Spalten entspricht.\n",
    "\n",
    "`s = x.shape`\n",
    "\n",
    "\n",
    ":::{admonition} Aufgabe 1\n",
    "Erstellen Sie eine Variable mit dem Namen `dsize`, die die Größe der Variablen `data` enthält. \n",
    ":::"
   ]
  },
  {
   "cell_type": "code",
   "execution_count": null,
   "id": "f788b2a3",
   "metadata": {},
   "outputs": [],
   "source": [
    "# Ihr Code "
   ]
  },
  {
   "cell_type": "markdown",
   "id": "7e888d65",
   "metadata": {},
   "source": [
    ":::{admonition} Hinweis\n",
    ":class: note dropdown\n",
    "\n",
    "Verwenden Sie die Funktion `shape` mit der Variablen `data` als Eingabe.  \n",
    ":::\n",
    "\n",
    ":::{admonition} Lösung\n",
    ":class: tip dropdown\n",
    "\n",
    "``` python\n",
    "dsize = data.shape\n",
    "```\n",
    ":::\n",
    "\n",
    "<br>\n",
    "\n",
    "Sie können von der Funktion `shape` auch zwei Ausgabevariablen anfordern. In diesem Fall enthält jede Variable die Größe einer Dimension des Eingabearrays. Verwenden Sie eckige Klammern (`[ ]`), um mehrere Ausgaben anzufordern.\n",
    "\n",
    "`[xrow, xcol] = x.shape`\n",
    "\n",
    "\n",
    ":::{admonition} Aufgabe 2\n",
    "Erstellen Sie die Variablen `num_rows` und `num_cols`, die die Anzahl der Zeilen bzw. der Spalten der Variablen `data` enthalten. \n",
    ":::\n"
   ]
  },
  {
   "cell_type": "code",
   "execution_count": null,
   "id": "37ddb09d",
   "metadata": {},
   "outputs": [],
   "source": [
    "# Ihr Code "
   ]
  },
  {
   "cell_type": "markdown",
   "id": "a2f651f3",
   "metadata": {},
   "source": [
    ":::{admonition} Lösung\n",
    ":class: tip dropdown\n",
    "\n",
    "``` python\n",
    "[num_row, num_cols] = data.shape\n",
    "```\n",
    ":::\n",
    "\n",
    "<br>\n",
    "\n",
    "Sie können den maximalen Wert eines Vektors und den entsprechenden Indexwert mithilfe der Funktion `np.max` bestimmen. Die erste Ausgabe der Funktion `np.max` ist der maximale Wert des Eingabevektors. Wenn die Funktion mit zwei Ausgaben aufgerufen wurde, ist die zweite Ausgabe der Indexwert.\n",
    "\n",
    "`[xMax,idx] = max(x)`\n",
    "\n",
    ":::{admonition} Aufgabe 3\n",
    "Erstellen Sie die Variablen `vMax` und `ivMax`, die den maximalen Wert des Vektors `v2` und den entsprechenden Indexwert enthalten. \n",
    ":::"
   ]
  },
  {
   "cell_type": "code",
   "execution_count": null,
   "id": "7eb8028f",
   "metadata": {},
   "outputs": [],
   "source": [
    "# Ihr Code "
   ]
  },
  {
   "cell_type": "markdown",
   "id": "dc7ca4f8",
   "metadata": {},
   "source": [
    ":::{admonition} Lösung\n",
    ":class: tip dropdown\n",
    "\n",
    "``` python\n",
    "y = np.array([3, 7, 9])\n",
    "```\n",
    ":::\n",
    "\n",
    "<br>\n",
    "\n",
    "Wenn Sie nur die zweite Ausgabe einer Funktion benötigen, können Sie die erste Ausgabe ignorieren, indem Sie an ihrer Stelle einen Unterstrich (`_`) verwenden.\n",
    "\n",
    "Beispielsweise können Sie in einer Matrix nur die Anzahl der Spalten bestimmen:\n",
    "\n",
    "`[_, num_cols] = A.shape`\n",
    "\n",
    ":::{admonition} Aufgabe 4\n",
    "Erstellen Sie eine Variable mit dem Namen `num_rows`, die die Anzahl der Zeilen der Matrix `A` enthält. \n",
    ":::\n"
   ]
  },
  {
   "cell_type": "markdown",
   "id": "139f0737",
   "metadata": {},
   "source": [
    ":::{admonition} Lösung\n",
    ":class: tip dropdown\n",
    "\n",
    "``` python\n",
    "[num_rows, _] = A.shape\n",
    "```\n",
    ":::"
   ]
  }
 ],
 "metadata": {
  "kernelspec": {
   "display_name": "Python 3.8.3 ('base')",
   "language": "python",
   "name": "python3"
  },
  "language_info": {
   "codemirror_mode": {
    "name": "ipython",
    "version": 3
   },
   "file_extension": ".py",
   "mimetype": "text/x-python",
   "name": "python",
   "nbconvert_exporter": "python",
   "pygments_lexer": "ipython3",
   "version": "3.8.3"
  },
  "vscode": {
   "interpreter": {
    "hash": "fb539783ae425cb9a41fd0e05fac6b0c01245dc8f3eb338114414f2eedb48908"
   }
  }
 },
 "nbformat": 4,
 "nbformat_minor": 5
}