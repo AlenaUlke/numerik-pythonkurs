{
 "cells": [
  {
   "cell_type": "markdown",
   "metadata": {},
   "source": [
    "# Rechnen mit Arrays\n",
    "\n",
    "Das NumPy Paket stellt eine große Bandbreite diverser Rechenoperationen für Arrays zur Verfügung. Diese lassen sich grob in drei Kategorien unterteilen:\n",
    "\n",
    "- Operationen zwischen Arrays gleicher Dimensionen und Skalaren wie das Addieren zweier Arrays oder das Skalieren eines Arrays um einen konstanen Faktor.\n",
    "- Anwenden von externen Funktionen auf Arrays, um zum Beispiel den minimalen Eintrag zu bestimmen oder eine Funktion auf jedes Arrayelement anzuwenden.\n",
    "- Operationen zwischen Arrays unterschiedlicher Dimesion wie beispielsweise Matrix-Vektor-Multiplikation.\n",
    "\n",
    "Der folgende versteckte Code, der automatisch ausgeführt wird wenn Sie den Live-Code-Modus starten, erzeugt die Vektoren \n",
    "\n",
    "$\n",
    "\\ \\ \\ \\ \\ \\ \\ \\ \\ \\ \\ \\ \\ \\ \\ \\ \\ \\ \\ \\ \\ \\ \\ \\ \\ \\ \\ \\ \\ \\ \\ \\ \\ \n",
    "\\texttt{v} = \\begin{pmatrix}\n",
    "-4 \\\\\n",
    "9 \\\\\n",
    "4 \\\\\n",
    "0\n",
    "\\end{pmatrix}, \\quad \n",
    "\\texttt{v_1} =\n",
    "\\begin{pmatrix}\n",
    "7 \\\\\n",
    "4 \\\\\n",
    "6 \\\\\n",
    "9 \\\\\n",
    "2 \\\\\n",
    "6\n",
    "\\end{pmatrix},\n",
    "\\quad\n",
    "\\texttt{v_2} =\n",
    "\\begin{pmatrix}\n",
    "10 \\\\\n",
    "10 \\\\\n",
    "7 \\\\\n",
    "4 \\\\\n",
    "3 \\\\\n",
    "7\n",
    "\\end{pmatrix}.\n",
    "$\n",
    "\n",
    "In den kommenden Aufgaben lernen Sie, mithilfe dieser Vektoren die grundlegende Rechenoperationen anzuwenden."
   ]
  },
  {
   "cell_type": "code",
   "execution_count": null,
   "metadata": {
    "tags": [
     "thebe-init",
     "hide-cell"
    ]
   },
   "outputs": [],
   "source": [
    "import numpy as np\n",
    "\n",
    "np.random.seed(42)\n",
    "v = np.random.randint(-10, 10, size = 4)\n",
    "v1 = np.random.randint(11, size = 6)\n",
    "v2 = np.random.randint(11, size = 6)"
   ]
  },
  {
   "cell_type": "markdown",
   "metadata": {},
   "source": [
    "\n",
    "## Operationen zwischen Arrays gleicher Dimension und Skalaren\n",
    "\n",
    "Ein einfaches Beispiel für die Modifikation eines Arrays besteht darin, zu jedem seiner Elemente einen konstanten (skalaren) Wert zu addieren."
   ]
  },
  {
   "cell_type": "code",
   "execution_count": null,
   "metadata": {},
   "outputs": [],
   "source": [
    "x = np.array([3, 4, 5])\n",
    "y = x + 5\n",
    "\n",
    "print(y) "
   ]
  },
  {
   "cell_type": "markdown",
   "metadata": {},
   "source": [
    ":::{admonition} Aufgabe 1.1\n",
    "Subtrahieren Sie $2$ von jedem Element von $\\texttt{v} = \\begin{pmatrix}\n",
    "-4 & 9 & 4 & 0\n",
    "\\end{pmatrix}^T$ und speichern Sie das Ergebnis in einer Variable mit dem Namen $\\texttt{w1}$.\n",
    ":::"
   ]
  },
  {
   "cell_type": "code",
   "execution_count": null,
   "metadata": {},
   "outputs": [],
   "source": [
    "# Ihr Code "
   ]
  },
  {
   "cell_type": "markdown",
   "metadata": {},
   "source": [
    ":::{admonition} Hinweis\n",
    ":class: note dropdown\n",
    "\n",
    "Verwenden Sie den Operator $\\texttt{-}$ mit einem Vektor und einem Skalar. \n",
    ":::\n",
    "\n",
    ":::{admonition} Lösung\n",
    ":class: tip dropdown\n",
    "\n",
    "``` python\n",
    "w1 = v - 2\n",
    "```\n",
    ":::\n",
    "\n",
    "\n",
    "Ebenso wie alle Elemente eines Arrays mit einem Skalar addiert oder subtrahiert werden können, können auch alle Elemente mit einem Skalar multiplizieren oder durch einen Skalar dividieren werden.\n"
   ]
  },
  {
   "cell_type": "code",
   "execution_count": null,
   "metadata": {},
   "outputs": [],
   "source": [
    "z = x / 2\n",
    "\n",
    "print(z)"
   ]
  },
  {
   "cell_type": "markdown",
   "metadata": {},
   "source": [
    "\n",
    ":::{admonition} Aufgabe 1.2\n",
    "Skalieren Sie jedes Element von $\\texttt{v} = \\begin{pmatrix}\n",
    "-4 & 9 & 4 & 0\n",
    "\\end{pmatrix}^T$ mit $3$ und speichern Sie das Ergebnis in einer Variable mit dem Namen $\\texttt{w2}$.\n",
    ":::"
   ]
  },
  {
   "cell_type": "code",
   "execution_count": null,
   "metadata": {},
   "outputs": [],
   "source": [
    "# Ihr Code "
   ]
  },
  {
   "cell_type": "markdown",
   "metadata": {},
   "source": [
    ":::{admonition} Lösung\n",
    ":class: tip dropdown\n",
    "\n",
    "``` python\n",
    "w2 = 3 * v\n",
    "```\n",
    ":::\n",
    "\n",
    "\n",
    "Genauso wie eine Array und ein Skalar miteinander addiert werden können, können auch zwei Arrays $\\texttt{x}$ und $\\texttt{y}$ derselben Größen addiert werden."
   ]
  },
  {
   "cell_type": "code",
   "execution_count": null,
   "metadata": {},
   "outputs": [],
   "source": [
    "x = np.array([2, 6, 8])\n",
    "y = np.array([1, 3, 4])\n",
    "\n",
    "z = x + y\n",
    "\n",
    "print(z)"
   ]
  },
  {
   "cell_type": "markdown",
   "metadata": {},
   "source": [
    ":::{admonition} Aufgabe 1.3\n",
    "Erstellen Sie einen Vektor $\\texttt{v_sum}$, der die Summe der Vektoren $\\texttt{v1} = \\begin{pmatrix}\n",
    "7 & 4 & 6 & 9 & 2 & 6\n",
    "\\end{pmatrix}^T$ und $\\texttt{v1} = \\begin{pmatrix}\n",
    "10 & 10 & 7 & 4 & 3 & 7\n",
    "\\end{pmatrix}^T$ ist.\n",
    ":::"
   ]
  },
  {
   "cell_type": "code",
   "execution_count": null,
   "metadata": {},
   "outputs": [],
   "source": [
    "# Ihr Code"
   ]
  },
  {
   "cell_type": "markdown",
   "metadata": {},
   "source": [
    ":::{admonition} Lösung\n",
    ":class: tip dropdown\n",
    "\n",
    "``` python\n",
    "v_sum = v1 + v2\n",
    "```\n",
    ":::\n",
    "\n",
    "\n",
    ":::{admonition} Aufgabe 1.4\n",
    "Erstellen Sie die Variable $\\texttt{v_sum_half}$, die den Vektor $\\texttt{v_sum}$ dividiert durch $2$ enthält.\n",
    ":::"
   ]
  },
  {
   "cell_type": "code",
   "execution_count": null,
   "metadata": {},
   "outputs": [],
   "source": [
    "# Ihr Code"
   ]
  },
  {
   "cell_type": "markdown",
   "metadata": {},
   "source": [
    ":::{admonition} Lösung\n",
    ":class: tip dropdown\n",
    "\n",
    "``` python\n",
    "v_sum_half = v_sum / 2\n",
    "```\n",
    ":::\n",
    "\n",
    "\n",
    "Der Operator $\\texttt{*}$ führt für zwei Arrays gleicher Größe die elementweise Multiplikation aus, indem er die entsprechenden Elemente eintragsweise miteinander multipliziert.\n"
   ]
  },
  {
   "cell_type": "code",
   "execution_count": null,
   "metadata": {},
   "outputs": [],
   "source": [
    "x = np.array([2, 6, 8])\n",
    "y = np.array([1, 3, 4])\n",
    "\n",
    "z = x * y\n",
    "print(z)"
   ]
  },
  {
   "cell_type": "markdown",
   "metadata": {},
   "source": [
    ":::{admonition} Aufgabe 1.5\n",
    "Erstellen Sie eine Variable mit dem Namen $\\texttt{w_mult}$, die das elementweise Produkt von $\\texttt{v1} = \\begin{pmatrix}\n",
    "7 & 4 & 6 & 9 & 2 & 6\n",
    "\\end{pmatrix}^T$ und $\\texttt{v1} = \\begin{pmatrix}\n",
    "10 & 10 & 7 & 4 & 3 & 7\n",
    "\\end{pmatrix}^T$ und eine Variable $\\texttt{w_div}$, die den Quotienten von $\\texttt{v1}$ und $\\texttt{v2}$ enthält.\n",
    ":::"
   ]
  },
  {
   "cell_type": "code",
   "execution_count": null,
   "metadata": {},
   "outputs": [],
   "source": [
    "# Ihr Code "
   ]
  },
  {
   "cell_type": "markdown",
   "metadata": {},
   "source": [
    ":::{admonition} Lösung\n",
    ":class: tip dropdown\n",
    "\n",
    "``` python\n",
    "w_mult = v1 * v2\n",
    "w_div = v1 / v2 # liefert ein anderes Ergebnis als v2 / v1 !\n",
    "```\n",
    ":::\n",
    "\n",
    "\n",
    "## Funktionen auf Arrays anwenden\n",
    "\n",
    "Das Paket NumPy stellt grundlegende statistische Funktion zur Verfügung, die Sie auf ein Arrays anwenden können. Zum Beispiel können Sie mit Hilfe der Funktion $\\texttt{np.min()}$ den minimalen Wert eines Vektors $\\texttt{x}$ bestimmen: $\\texttt{x_min = np.min(x)}$.\n",
    "\n",
    ":::{admonition} Aufgabe 2.1\n",
    "Erstellen Sie die Variable $\\texttt{v_min}$, die den minimalen Wert des Vektors $\\texttt{v_sum} = \\begin{pmatrix}\n",
    "17 & 14 & 13 & 13 & 5 & 13\n",
    "\\end{pmatrix}^T$ enthält.\n",
    ":::"
   ]
  },
  {
   "cell_type": "code",
   "execution_count": null,
   "metadata": {},
   "outputs": [],
   "source": [
    "# Ihr Code "
   ]
  },
  {
   "cell_type": "markdown",
   "metadata": {},
   "source": [
    ":::{admonition} Lösung\n",
    ":class: tip dropdown\n",
    "\n",
    "``` python\n",
    "v_min = np.min(v_sum)\n",
    "```\n",
    "::: \n",
    "\n",
    "\n",
    "Das Paket NumPy stellt außerdem Funktionen bereit, die mathematische Operationen für jedes Elements eines Arrays in einem einzigen Befehl ausführen. Beispielsweise können Sie die Quadratwurzel eines jeden Elements im Array $\\texttt{x}$ mit der folgenden Syntax ermitteln:\n",
    "$\\texttt{x_sqrt = np.sqrt(x)}$.\n",
    "\n",
    ":::{admonition} Aufgabe 2.2\n",
    "Verwenden Sie die Funktion $\\texttt{np.round}$, um eine Variable mit dem Namen $\\texttt{v_round}$ zu erstellen, die die gerundeten Elemente von $\\texttt{v_sum_half} = \\begin{pmatrix}\n",
    "8.5 & 7 & 6.5 & 6.5 & 2.5 & 6.5\n",
    "\\end{pmatrix}^T$ enthält.\n",
    ":::\n"
   ]
  },
  {
   "cell_type": "code",
   "execution_count": null,
   "metadata": {},
   "outputs": [],
   "source": [
    "# Ihr Code "
   ]
  },
  {
   "cell_type": "markdown",
   "metadata": {},
   "source": [
    "\n",
    ":::{admonition} Lösung\n",
    ":class: tip dropdown\n",
    "\n",
    "``` python\n",
    "v_round = np.round(v_sum_half)\n",
    "```\n",
    ":::\n",
    "\n",
    ":::{admonition} Achtung\n",
    ":class: warning\n",
    "\n",
    "Handelt es sich um eine Zahl mit Nachkommastelle $0.5$, dann rundet $\\texttt{np.round}$ auf die nächste geraden Zahl. Das heißt:\n",
    "- 1.5 → 2.0 \n",
    "- 2.5 → 2.0 (weil 2 gerade ist, 3 aber nicht)\n",
    "- 3.5 → 4.0\n",
    ":::\n",
    "\n",
    "Es folgt eine Übersicht mit einigen geläufigen Funktionen, die auf Vektoren angewendet werden können.\n",
    "\n",
    ":::{list-table}\n",
    ":header-rows: 1\n",
    "\n",
    "* - Syntax\n",
    "  - Beschreibung\n",
    "* - $\\texttt{np.min(x)}$\n",
    "  - Gibt den kleinsten Wert im Array zurück.\n",
    "* - $\\texttt{np.max(x)}$\n",
    "  - Gibt den größten Wert im Array zurück.\n",
    "* - $\\texttt{np.argmin(x)}$\n",
    "  - Gibt den Index des kleinsten Werts im Array zurück.\n",
    "* - $\\texttt{np.argmax(x)}$\n",
    "  - Gibt den Index des größten Werts im Array zurück.\n",
    "* - $\\texttt{np.sqrt(x)}$\n",
    "  - Gibt ein Array mit den Quadratwurzeln der Elemente zurück.\n",
    "* - $\\texttt{np.abs(x)}$\n",
    "  - Gibt ein Array mit den Absolutbeträgen der Elemente zurück.\n",
    "* - $\\texttt{np.round(x)}$\n",
    "  - Rundet jedes Element.\n",
    "* - $\\texttt{np.sum(x)}$\n",
    "  - Gibt die Summe aller Elemente zurück.\n",
    "* - $\\texttt{np.mean(x)}$\n",
    "  - Gibt den Mittelwert der Elemente zurück.\n",
    "* - $\\texttt{np.std(x)}$\n",
    "  - Gibt die Standardabweichung der Werte im Array zurück.\n",
    "* - $\\texttt{np.sort(x)}$\n",
    "  - Gibt ein sortiertes Array zurück (aufsteigend).\n",
    ":::\n",
    "\n"
   ]
  },
  {
   "cell_type": "markdown",
   "metadata": {},
   "source": [
    "\n",
    "\n",
    "## Operationen zwischen Arrays unterschiedlicher Dimension\n",
    "\n",
    "Eine der bekanntesten Rechenoperationen zwischen zwei verschieden dimensionalen Arrays ist die *Matrix-Vektor-Multiplikation*. NumPy bietet zwei Möglichkeiten diese Auszuführen: die Funktion $\\texttt{np.dot()}$ und den Operator $@$. Beide liefern jedoch dasselbe Ergebnis."
   ]
  },
  {
   "cell_type": "code",
   "execution_count": null,
   "metadata": {},
   "outputs": [],
   "source": [
    "A = np.array([[1, 2, 3], [4, 5, 6], [7, 8, 9]])\n",
    "x = np.array([2, 4, 6])\n",
    "\n",
    "print(np.dot(A,x))\n",
    "print(A @ x)"
   ]
  },
  {
   "cell_type": "markdown",
   "metadata": {},
   "source": [
    ":::{admonition} Aufgabe 3.1\n",
    "Berechnen Sie das Matrix-Vektor-Produkt der Arrays $\\texttt{B}$ und $\\texttt{y}$ und speichern Sie das Ergebnis in einer Variablen $\\texttt{By}$.\n",
    ":::"
   ]
  },
  {
   "cell_type": "code",
   "execution_count": null,
   "metadata": {},
   "outputs": [],
   "source": [
    "B = np.array([[1, 4],[-2, 1],[4, 4],[.9, 2]])\n",
    "y = np.array([2, -1])\n",
    "\n",
    "# Ihr Code "
   ]
  },
  {
   "cell_type": "markdown",
   "metadata": {},
   "source": [
    ":::{admonition} Lösung\n",
    ":class: tip dropdown\n",
    "\n",
    "``` python\n",
    "By = B @ y \n",
    "\n",
    "# alternativ \n",
    "By = B.dot(y)\n",
    "```\n",
    ":::\n",
    "\n",
    "\n",
    "Mit der gleichen Syntax kann auch das Produkt $\\texttt{x}^T \\cdot \\texttt{A}$ berechnet werden."
   ]
  },
  {
   "cell_type": "code",
   "execution_count": null,
   "metadata": {},
   "outputs": [],
   "source": [
    "A = np.array([[1, 2, 3], [4, 5, 6], [7, 8, 9]])\n",
    "x = np.array([2, 4, 6])\n",
    "\n",
    "print(np.dot(x,A))\n",
    "print(x @ A)"
   ]
  },
  {
   "cell_type": "markdown",
   "metadata": {},
   "source": [
    "\n",
    "\n",
    "## Exkurs: Transponieren eines Arrays\n",
    "\n",
    "Ihre innere Mathematikerin wird bei der Matrix-Vektor-Multiplikation vielleicht kurz stutzig geworden sein. Schließlich muss $\\texttt{x}$ ein Spaltenvektor sein damit das Produkt $\\texttt{A} \\cdot \\texttt{x}$ wohldefiniert ist und ein Zeilenvektor, damit $\\texttt{x} \\cdot \\texttt{A}$ wohldefiniert ist. Das Ausführen von $\\texttt{A}\\ @\\ \\texttt{x}$ und $\\texttt{x}\\ @\\ \\texttt{A}$ funktioniert für eine quadratische Matrix $\\texttt{A}$ allerdings in beiden Fällen problemlos. \n",
    "An dieser Stelle interpretiert NumPy das Array $\\texttt{x}$ dynamisch entweder als Zeilen- oder Spaltenvektor. \n",
    "\n",
    "Für $\\texttt{A}\\ @\\ \\texttt{x}$ ist lediglich wichtig, dass die **Spaltenanzahl** von $\\texttt{A}$ gleich der Länge von $\\texttt{x}$ ist und für \n",
    "$\\texttt{x}\\ @\\ \\texttt{A}$, dass die **Zeilennanzahl** von $\\texttt{A}$ gleich der Länge von $\\texttt{x}$ ist. Der Ergebnisvektor ist in beiden Fällen wieder ein eindimensionales Array der entsprechenden Länge.\n",
    "\n",
    "Im Folgenden erklären wir Ihnen, wie Sie ein eindimensionales Array in einen *echten* Zeilen- oder Spaltenvektor überführt. Dabei wird aus dem eindimensionalen Array ein zweidimensionales, sodass wir tatsächlich von Zeilen und Spalten sprechen können. \n",
    "\n",
    "### Umwandlung in einen Spaltenvektor\n",
    "Ein eindimensionales Array $\\texttt{x}$ kann mittels $\\texttt{np.reshape}(\\texttt{x}, (-1, 1))$ direkt in einen Spaltenvektor, das heißt ein zweidimensionales Array der Größe $(n, 1)$, überführt werden:"
   ]
  },
  {
   "cell_type": "code",
   "execution_count": null,
   "metadata": {},
   "outputs": [],
   "source": [
    "x = np.array([2, 4, 6]) # Vektor der Dimension 1\n",
    "\n",
    "# Spaltenvektor der Dimension 2 und Größe (3, 1)\n",
    "spaltenvektor = np.reshape(x, (-1, 1))\n",
    "print(\"x = \" + str(x))\n",
    "print(\"x als Spaltenvektor = \\n\" + str(spaltenvektor))\n",
    "print(\"x als Spaltenvektor Dimension: \" + str(spaltenvektor.shape))"
   ]
  },
  {
   "cell_type": "markdown",
   "metadata": {},
   "source": [
    "### Umwandlung in einen Zeilenvektor\n",
    "\n",
    "Ebenso kann ein eindimensionales Array $\\texttt{x}$ in einen Zeilenvektor, das heißt ein zweidimnesionales Array der Größe $(1, n)$ überführt werden. "
   ]
  },
  {
   "cell_type": "code",
   "execution_count": null,
   "metadata": {},
   "outputs": [],
   "source": [
    "# Zeilenvektor der Dimension 2 und Größe (1, 3)\n",
    "zeilenvektor = np.reshape(x, (1, -1))\n",
    "print(\"x = \", x)\n",
    "print(\"x als Zeilenvektor = \\n\", zeilenvektor)\n",
    "print(\"x als Zeilenvektor Dimension: \", zeilenvektor.shape)"
   ]
  },
  {
   "cell_type": "markdown",
   "metadata": {},
   "source": [
    ":::{admonition} Achtung\n",
    ":class: warning\n",
    "\n",
    "Beachten Sie, dass Sie nun **zwei** Indizes brauchen um auf ein Element eines Vektors zuzugreifen, denn $\\texttt{zeilenvektor[0]}$ liefert die erste Zeile des Arrays. Hier also den kompletten Zeilenvektor.\n",
    ":::\n",
    "\n",
    "\n",
    "### Zeilen- in Spaltenvektoren umwandeln\n",
    "\n",
    "Haben Sie bereits einen Zeilenvektor erstellt, können Sie diesen durch Transponieren in einen Spaltenvektor überführen. Dazu stellt NumPy die Funktion $\\texttt{np.transpose}$ bereit, welche dem Transponieren einer Matrix entspricht.\n"
   ]
  },
  {
   "cell_type": "code",
   "execution_count": null,
   "metadata": {},
   "outputs": [],
   "source": [
    "spaltenvektor_transposed = np.transpose(spaltenvektor)\n",
    "print(spaltenvektor_transposed.shape)"
   ]
  },
  {
   "cell_type": "markdown",
   "metadata": {},
   "source": [
    ":::{admonition} Aufhabe 4.1\n",
    "Transponieren Sie den Zeilenvektor $\\texttt{zeilenvektor}$ und speichern Sie das Ergebnis in der Variablen $\\texttt{zeilenvektor_transposed}$.\n",
    ":::"
   ]
  },
  {
   "cell_type": "code",
   "execution_count": null,
   "metadata": {},
   "outputs": [],
   "source": [
    "# Ihr Code "
   ]
  },
  {
   "cell_type": "markdown",
   "metadata": {},
   "source": [
    ":::{admonition} Lösung\n",
    ":class: tip dropdown\n",
    "\n",
    "``` python\n",
    "zeilenvektor_transposed = np.transpose(zeilenvektor)\n",
    "```\n",
    ":::\n",
    "\n",
    "\n",
    "### Zusammenfassung \n",
    "\n",
    ":::{list-table}\n",
    ":header-rows: 1\n",
    "\n",
    "* - Ausgangsform\n",
    "  - Ziel\n",
    "  - Code\n",
    "* - eindimensionales Array `(n,)`\n",
    "  - Zeilenvektor `(1, n)`\n",
    "  - $\\texttt{np.reshape(x, (1, -1))}$\n",
    "* - eindimensionales Array `(n,)`\n",
    "  - Spaltenvektor `(n, 1)`\n",
    "  - $\\texttt{np.reshape(x, (-1, 1))}$\n",
    "* - Zeilenvektor `(1, n)`\n",
    "  - Spaltenvektor `(n, 1)`\n",
    "  - $\\texttt{np.transpose(x)}$\n",
    "* - Spaltenvektor `(n, 1)`\n",
    "  - Zeilenvektor `(1, n)`\n",
    "  - $\\texttt{np.transpose(x)}$\n",
    ":::\n",
    "\n",
    "\n",
    "Abschließend schauen wir uns nocheinmal das Beispiel der Matrix-Vektor-Mulitplikation an. Denn diese funktioniert für Zeilen- und Spaltenvektoren nur, wenn die Dimensionen der Vektoren korrekt sind. Außderdem sind die Ergebnisvektoren nun entweder Zeilen- oder Spaltenvektoren.\n"
   ]
  },
  {
   "cell_type": "code",
   "execution_count": null,
   "metadata": {},
   "outputs": [],
   "source": [
    "A = np.array([[1, 2, 3], [4, 5, 6], [7, 8, 9]])\n",
    "\n",
    "print(A @ spaltenvektor) # klappt\n",
    "print(spaltenvektor @ A) # klappt nicht"
   ]
  },
  {
   "cell_type": "code",
   "execution_count": null,
   "metadata": {},
   "outputs": [],
   "source": [
    "A = np.array([[1, 2, 3], [4, 5, 6], [7, 8, 9]])\n",
    "\n",
    "print(zeilenvektor @ A) # klappt\n",
    "print(A @ zeilenvektor) # klappt nicht"
   ]
  },
  {
   "cell_type": "markdown",
   "metadata": {},
   "source": [
    "\n",
    "\n",
    "Selbstverständlich können Sie mit den Methoden aus [Lektion zur Arrayerstellung](arrayerstellung.ipynb) auch direkt Zeilen- und Spaltenvektoren erzeugen. Zum Beispiel:\n"
   ]
  },
  {
   "cell_type": "code",
   "execution_count": null,
   "metadata": {},
   "outputs": [],
   "source": [
    "x = np.ones((5, 1)) # Spaltenvektor mit 5 Einträgen\n",
    "y = np.random.rand(1, 4) # Zeilenvektor mit 4 Einträgen\n",
    "\n",
    "print(\"y =\", y)\n",
    "print(\"x =\\n\", x)"
   ]
  }
 ],
 "metadata": {
  "kernelspec": {
   "display_name": "Python 3",
   "language": "python",
   "name": "python3"
  },
  "language_info": {
   "codemirror_mode": {
    "name": "ipython",
    "version": 3
   },
   "file_extension": ".py",
   "mimetype": "text/x-python",
   "name": "python",
   "nbconvert_exporter": "python",
   "pygments_lexer": "ipython3",
   "version": "3.13.0"
  }
 },
 "nbformat": 4,
 "nbformat_minor": 2
}