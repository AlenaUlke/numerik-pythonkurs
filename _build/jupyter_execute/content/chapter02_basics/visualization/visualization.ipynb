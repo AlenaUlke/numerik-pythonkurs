{
 "cells": [
  {
   "cell_type": "markdown",
   "metadata": {},
   "source": [
    "# Visualiserung\n",
    "\n",
    "Zur Visualisierung von Daten benutzt man in Python typischerweise das Modul `pyplot` des Pakets `matplotlib`. Daher importieren wir es zu Beginn dieses Kapitels:\n"
   ]
  },
  {
   "cell_type": "code",
   "execution_count": null,
   "metadata": {
    "tags": [
     "thebe-init"
    ]
   },
   "outputs": [],
   "source": [
    "import matplotlib.pyplot as plt \n",
    "import numpy as np"
   ]
  },
  {
   "cell_type": "markdown",
   "metadata": {},
   "source": [
    "## Vektoren in einem Diagramm darstellen\n",
    "\n",
    "Zwei Vektoren $x$ und $y$ derselben Länge können mittels der Funktion `plt.plot(x, y)` in einem Diagramm dargestellt werden. Der Vektor $x$ entspricht dabei $x$- und der Vektor $y$ den $y$-Koordinaten des Graphen.\n"
   ]
  },
  {
   "cell_type": "code",
   "execution_count": null,
   "metadata": {},
   "outputs": [],
   "source": [
    "x = np.array([1, 2, 3, 4, 5])\n",
    "y = np.array([10, 11, 12, 15, 17])\n",
    "\n",
    "plt.plot(x, y)\n",
    "plt.show()"
   ]
  },
  {
   "cell_type": "markdown",
   "metadata": {},
   "source": [
    "Der Befehl `plt.show()` wird in Python verwendet, um bei der Datenvisualisierung mit `matplotlib` das Diagramm anzuzeigen. `plt.show()` öffnet ein Fenster (oder zeigt inline in Jupyter-Notebooks) das erstellte Diagramm an. Ohne diesen Befehl bleibt das Diagramm oft verborgen, besonders außerhalb von interaktiven Programmierumgebungen. Sowohl diese Website als auch Jupyther-Notebooks stellen eine interaktive Umgebnung dar. Hier können Sie den Befehl `plt.show()` also auch weglassen.\n",
    "\n",
    ":::{admonition} Aufgabe 1.1\n",
    "\n",
    "Erstellen Sie ein Diagramm mit `sample` auf der x-Achse und `mass1` auf der y-Achse.  \n",
    ":::\n"
   ]
  },
  {
   "cell_type": "code",
   "execution_count": null,
   "metadata": {},
   "outputs": [],
   "source": [
    "# Ihr Code "
   ]
  },
  {
   "cell_type": "markdown",
   "metadata": {},
   "source": [
    ":::{admonition} Hinweis\n",
    ":class: note dropdown\n",
    "\n",
    "Nutzen Sie die Funktion `plt.plot` und die Variablen `sample` und `mass1` als Eingaben.  \n",
    ":::\n",
    "\n",
    ":::{admonition} Lösung\n",
    ":class: tip dropdown\n",
    "\n",
    "``` python\n",
    "plt.plot(sample, mass1)\n",
    "plt.show()\n",
    "```\n",
    ":::\n",
    "\n",
    "<br>\n",
    "\n",
    "Sie können unteranderen die Farbe, die Linienart, sowie die Markierung innerhalb eines Diagramms angepassen.\n",
    "\n",
    "``` python\n",
    "plt.plot(x, y, 'r--o')\n",
    "plt.show()\n",
    "```\n",
    "\n",
    "Der obige Befehl erstellt ein Diagramm mit einer roten (`r`), gestrichelten Linie (`--`) mit kreisförmigen Markierungen (`o`). \n",
    "\n",
    "Weitere Informationen zu den verfügbaren Markersymbolen finden Sie [hier](https://matplotlib.org/stable/gallery/lines_bars_and_markers/marker_reference.html) und zu den verfügbaren Linienarten [hier](https://matplotlib.org/stable/gallery/lines_bars_and_markers/linestyles.html).\n",
    "\n",
    "\n",
    ":::{admonition} Aufgabe 1.2\n",
    "Erstellen Sie ein Diagramm, in dem `mass2` (y-Achse) im Vergleich zu `sample` (x-Achse) dargestellt wird. Der geplottete Graph soll dabei eine blaue (`b`), gepunktete Linie (`:`) mit sternförmige (`*`) Markierungen sein. \n",
    ":::"
   ]
  },
  {
   "cell_type": "code",
   "execution_count": null,
   "metadata": {},
   "outputs": [],
   "source": [
    "# Ihr Code "
   ]
  },
  {
   "cell_type": "markdown",
   "metadata": {},
   "source": [
    ":::{admonition} Lösung\n",
    ":class: tip dropdown\n",
    "\n",
    "``` python\n",
    "plt.plot(x, y, 'b:*')\n",
    "plt.show()\n",
    "```\n",
    ":::\n",
    "\n",
    "<br>\n",
    "\n",
    "Beachten Sie, dass wenn Sie mehrere `plot`-Befehle direkt hintereinander ausführen ohne diese durch den Befehl `plt.show()` zu trennen, dann werden die Graphen entlang derselben Achsen geplottet in einen gemeinsamen Diagramm dargestellt.\n"
   ]
  },
  {
   "cell_type": "code",
   "execution_count": null,
   "metadata": {},
   "outputs": [],
   "source": [
    "x = np.array([1, 2, 3, 4, 5])\n",
    "y = np.array([10, 11, 12, 15, 17])\n",
    "\n",
    "x2 = x + 1\n",
    "y2 = y + 2\n",
    "\n",
    "plt.plot(x, y)\n",
    "plt.plot(x2, y2)\n",
    "plt.show()"
   ]
  },
  {
   "cell_type": "markdown",
   "metadata": {},
   "source": [
    "Dieses Verhalten kann gewünscht sein, muss es aber nicht. Um Python mitzuteilen, dass Sie beide Diagramme separat darstellen wollen, können Sie den bereits bekannten Befehl `plt.show()` verwenden oder den Befehl `plt.figure()`, welcher Python signalisiert, dass das Diagramm in einem neuen Plot mit eigenen Achsen dargestellt werden soll.\n",
    "\n",
    "Im besten Fall verwenden Sie beide Befehle, denn `plt.figure` erstellt eine leere Leinwand (außerhalb von interaktiven Programmierumgebungen ein neues Fenster) für die kommenden `plot`-Befehle und der Befehl `plt.show` zeigt die Diagramme schließlich an."
   ]
  },
  {
   "cell_type": "code",
   "execution_count": null,
   "metadata": {},
   "outputs": [],
   "source": [
    "plt.figure()        # Python erstellt eine neue Figure (= leere Leinwand)\n",
    "plt.plot(x, y)      # der Graph wir erstellt \n",
    "plt.show()          # der Graph wird angezeigt\n",
    "\n",
    "plt.figure()\n",
    "plt.plot(x2, y2)\n",
    "plt.show()"
   ]
  },
  {
   "cell_type": "markdown",
   "metadata": {},
   "source": [
    ":::{admonition} Aufgabe 1.3\n",
    "Erstellen Sie ein Diagramm, in dem `mass1` (y-Achse) im Vergleich zu `sample` (x-Achse) dargestellt wird, und verwenden Sie schwarze (`k`), quadratische (`s`) Markierungen ohne Linie. Stellen Sie im derselben Diagramm auch `mass2` (y-Achse) im Vergleich zu `sample` dar. Verwenden Sie dabei blaue (`b`), dreieckige (`^`) Markierungen ohne Linie.\n",
    ":::"
   ]
  },
  {
   "cell_type": "code",
   "execution_count": null,
   "metadata": {},
   "outputs": [],
   "source": [
    "# Ihr Code "
   ]
  },
  {
   "cell_type": "markdown",
   "metadata": {},
   "source": [
    ":::{admonition} Lösung\n",
    ":class: tip dropdown\n",
    "\n",
    "``` python\n",
    "plt.figure()\n",
    "plt.plot(sample, mass1, 'ks')\n",
    "plt.plot(sample, mass2, 'b^')\n",
    "plt.show()\n",
    "```\n",
    ":::\n",
    "\n",
    "\n",
    "<br>\n",
    "\n",
    "Wenn Sie der Funktion `plt.plot` nur einen einzelnen Vektor übergeben um ein Diagramm zuerstellen, verwendet Python die Vektorwerte als Daten für die $y$-Achse und setzt die Daten für die $x$-Achse auf den Bereich von $0$ bis $n-1$, wobei $n$ die Anzahl der Elemente im Vektor ist.\n",
    "\n",
    ":::{admonition} Aufgabe 1.4\n",
    "Stellen Sie den Vektor `v` in einem Diagramm dar.  \n",
    ":::"
   ]
  },
  {
   "cell_type": "code",
   "execution_count": null,
   "metadata": {},
   "outputs": [],
   "source": [
    "# Ihr Code \n",
    "v = np.random.randn(7)"
   ]
  },
  {
   "cell_type": "markdown",
   "metadata": {},
   "source": [
    ":::{admonition} Lösung\n",
    ":class: tip dropdown\n",
    "\n",
    "``` python\n",
    "plt.figure()\n",
    "plt.plot(v)\n",
    "plt.show()\n",
    "```\n",
    ":::\n",
    "\n",
    "<br>\n",
    "\n",
    "Wenn Sie die Funktion `plt.plot` verwenden, können Sie optional Eigenschaften festlegen, indem Sie Name-Wert-Argumente verwenden, welche aus einem Argumentnamen und einem zugeordneten Wert bestehen. Beispielsweise wird mit diesem Befehl eine Linie mit sehr breiter Linienstärke in einem Diagramm dargestellt:\n",
    "\n",
    "``` python\n",
    "plt.plot(y, linewidth=5)\n",
    "```\n",
    "\n",
    "Weitere Informationen zu verfügbaren Eigenschaften erhalten Sie in der Dokumentation Line Properties (Linieneigenschaften).\n",
    "color='red', marker='o', linestyle='dashed', linewidth=3\n",
    "\n",
    "\n",
    ":::{admonition} Aufgabe 1.5\n",
    "Stellen Sie `v` mit einer Linienstärke von 3 in einem Diagramm dar.\n",
    ":::"
   ]
  },
  {
   "cell_type": "code",
   "execution_count": null,
   "metadata": {},
   "outputs": [],
   "source": [
    "# Ihr Code "
   ]
  },
  {
   "cell_type": "markdown",
   "metadata": {},
   "source": [
    ":::{admonition} Lösung\n",
    ":class: tip dropdown\n",
    "\n",
    "``` python\n",
    "plt.figure()\n",
    "plt.plot(v, linewidth=3)\n",
    "plt.show()\n",
    "```\n",
    ":::\n",
    "\n",
    "<br>\n",
    "\n",
    "Sie können für die Funktion plot nach der Linienspezifikation Name-Wert-Argumente angeben.\n",
    "\n",
    "``` python\n",
    "plt.plot(x, y,\"ro--\", linewidth=5)\n",
    "```\n",
    "\n",
    "\n",
    ":::{admonition} Aufgabe 1.6\n",
    "Stellen Sie `v` (y-Achse) im Vergleich zu `sample` (x-Achse) mit roten (`r`), kreisförmigen (`o`) Markierungen und einer durchgezogenen Linie (`-`) in einem Diagramm dar. Verwenden Sie eine Linienstärke von 4. \n",
    ":::"
   ]
  },
  {
   "cell_type": "code",
   "execution_count": null,
   "metadata": {},
   "outputs": [],
   "source": [
    "# Ihr Code "
   ]
  },
  {
   "cell_type": "markdown",
   "metadata": {},
   "source": [
    ":::{admonition} Lösung\n",
    ":class: tip dropdown\n",
    "\n",
    "``` python\n",
    "plt.figure()\n",
    "plt.plot(sample, v, 'r-o', linewidth=4)\n",
    "plt.show()\n",
    "```\n",
    ":::\n",
    "\n",
    "<br>\n",
    "\n",
    "Die Funktion `plt.plot` erstellt Linien. Python stellt jedoch noch viele weitere Diagrammerstellungsfunktionen zur Verfügung. Eine umfangreiche Übersicht finden Sie [hier](https://matplotlib.org/stable/plot_types/index.html). Für jedes Diagramm stehen andere Anpassungsfunktionen zur Verfügung.\n",
    "\n",
    ":::{admonition} Aufgabe 1.6\n",
    "Erstellen Sie ein Histogramm von `gauss` mithilfe der Funktion `plt.hist`. Setzen Sie die Farbe auf Grün (`green`) und die Kantenfarbe (`edgecolor`) auf Weiß (`white`)\n",
    ":::"
   ]
  },
  {
   "cell_type": "code",
   "execution_count": null,
   "metadata": {},
   "outputs": [],
   "source": [
    "gauss = np.random.randn(1000)\n",
    "# Ihr Code "
   ]
  },
  {
   "cell_type": "markdown",
   "metadata": {},
   "source": [
    ":::{admonition} Lösung\n",
    ":class: tip dropdown\n",
    "\n",
    "``` python\n",
    "plt.figure()\n",
    "plt.hist(gauss, color='green', edgecolor='white')\n",
    "plt.show()\n",
    "```\n",
    ":::\n",
    "\n",
    "\n",
    "## Beschriftungen von Diagrammen\n",
    "\n",
    "Sie können Diagrammen Beschriftungen hinzufügen, indem Sie Diagrammanmerkungsfunktionen wie `plt.title` verwenden. Für diese Funktionen müssen Sie Text eingeben. In Python wird Text in Anführungszeichen (`\"`) gesetzt.\n",
    "\n",
    "``` python\n",
    "plt.title(\"Plot Titel\")\n",
    "```\n",
    "\n",
    ":::{admonition} Aufgabe 2.1\n",
    "Erweitern Sie den vorgegebenen Code, sodass das Diagramm den Titel `\"Sample Mass\"` hat.\n",
    ":::"
   ]
  },
  {
   "cell_type": "code",
   "execution_count": null,
   "metadata": {},
   "outputs": [],
   "source": [
    "plt.figure()\n",
    "plt.plot(x, y)\n",
    "plt.show()"
   ]
  },
  {
   "cell_type": "markdown",
   "metadata": {},
   "source": [
    ":::{admonition} Hinweis\n",
    ":class: note dropdown\n",
    "\n",
    "Verwenden Sie die Funktion `plt.title` mit einer Texteingabe. Verwenden Sie `\"Sample Mass\"` als Eingabe exakt wie abgebildet. Der Befehl `plt.show()` zeigt das finale Bild an. Überlegen Sie sich also an welcher Stelle Sie den Befehl `plt.title` platzieren. \n",
    ":::\n",
    "\n",
    ":::{admonition} Lösung\n",
    ":class: tip dropdown\n",
    "\n",
    "``` python\n",
    "plt.figure()\n",
    "plt.plot(x, y)\n",
    "plt.title(\"Sample Mass\")\n",
    "plt.show()\n",
    "```\n",
    ":::\n",
    "\n",
    "<br>\n",
    "\n",
    "Sie können Beschriftungen zu Ihren Achsen hinzufügen, indem Sie die Funktionen `xlabel` und `ylabel` verwenden.\n",
    "\n",
    "``` python\n",
    "plt.ylabel(\"Label der y-Achse\")\n",
    "```\n",
    "\n",
    ":::{admonition} Aufgabe 2.2\n",
    "Erweitern Sie den vorgegebenen Code, sodass die $y$-Achse des Diagramms mit `\"Mass (g)\"` beschriftet wird.\n",
    ":::"
   ]
  },
  {
   "cell_type": "code",
   "execution_count": null,
   "metadata": {},
   "outputs": [],
   "source": [
    "plt.figure()\n",
    "plt.plot(x, y)\n",
    "plt.show()"
   ]
  },
  {
   "cell_type": "markdown",
   "metadata": {},
   "source": [
    ":::{admonition} Lösung\n",
    ":class: tip dropdown\n",
    "\n",
    "``` python\n",
    "plt.figure()\n",
    "plt.plot(x, y)\n",
    "plt.ylabel(\"Mass (g)\")\n",
    "plt.show()\n",
    "```\n",
    ":::\n",
    "\n",
    "<br>\n",
    "\n",
    "Wenn Sie in einem Diagramm mehrere Daten darstellen, ist es sinnvoll eine Legende zu verwenden. Um eine Legende zu erstellen stehen Ihnen zwei, äquivalente Möglichkeiten zur Verfügung.\n",
    "\n",
    "::::{tab-set} \n",
    "\n",
    ":::{tab-item} Funktion `plt.legend`\n",
    "Sie könnnen die Funktion `plt.legend([\"Label A\", \"Label B\"])` verwenden, um in Ihrem Diagramm eine Legende hinzufügen.\n",
    "``` python\n",
    "plt.figure()\n",
    "plt.plot(x, y)\n",
    "plt.plot(x2,y2)\n",
    "plt.legend([\"Label A\", \"Label B\"])\n",
    "plt.show()\n",
    "```\n",
    ":::\n",
    "\n",
    ":::{tab-item} Schlüsselwort `label`\n",
    "Sie können das Schlüsselwort `label` verwenden um jedem Diagramm direkt beim Ausführen des `plot`-Befehls einen Namen zuzuweisen.\n",
    "``` python\n",
    "plt.figure()\n",
    "plt.plot(x, y, label=\"Label A\")\n",
    "plt.plot(x2,y2, label=\"Label B\")\n",
    "plt.legend()\n",
    "plt.show()\n",
    "```\n",
    ":::\n",
    "::::\n",
    "\n",
    "\n",
    ":::{admonition} Aufgabe 2.3\n",
    "Die Daten `mass1` stammen aus Experiment A und die Daten `mass2` aus Experiment B. Erweitern Sie den vorgegebenen Code, sodass eine Legende mit den entsprechenden Beschriftungen `\"Experiment A\"` und `\"Experiment B\"` für das Diagramm erstellt wird.\n",
    ":::"
   ]
  },
  {
   "cell_type": "code",
   "execution_count": null,
   "metadata": {},
   "outputs": [],
   "source": [
    "plt.figure()\n",
    "plt.plot(x, y)\n",
    "plt.plot(x2, y2)\n",
    "plt.show()"
   ]
  },
  {
   "cell_type": "markdown",
   "metadata": {},
   "source": [
    ":::{admonition} Lösung\n",
    ":class: tip dropdown\n",
    "\n",
    "``` python\n",
    "# Option 1\n",
    "plt.figure()\n",
    "plt.plot(x, y)\n",
    "plt.plot(x2, y2)\n",
    "plt.legend([\"Experiment A\", \"Experiment B\"])\n",
    "plt.show()\n",
    "\n",
    "# Option 2\n",
    "plt.figure()\n",
    "plt.plot(x, y, label=\"Experiment A\")\n",
    "plt.plot(x2, y2, label=\"Experiment B\")\n",
    "plt.legend()\n",
    "plt.show()\n",
    "```\n",
    ":::\n",
    "\n",
    "<br>\n",
    "\n",
    "Sie können den Wert einer Variablen in Diagrammanmerkungen verwenden, indem Sie dem Text eine Variable hinzufügen. Die Funktion `str` wandelt dabei einen Zahlwert in Text um.\n",
    "``` python\n",
    "plt.figure()\n",
    "plt.plot(x, y)\n",
    "plt.title(\"Sample \" + str(x[2]) + \" Data\")\n",
    "plt.show()\n",
    "```\n"
   ]
  }
 ],
 "metadata": {
  "language_info": {
   "name": "python"
  }
 },
 "nbformat": 4,
 "nbformat_minor": 2
}