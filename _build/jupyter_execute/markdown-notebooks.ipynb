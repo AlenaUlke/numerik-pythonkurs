{
 "cells": [
  {
   "cell_type": "markdown",
   "id": "a3cf50d3",
   "metadata": {},
   "source": [
    "# Markdown Notebook\n",
    "\n",
    "Hier könnte ihre tolle Erklärung zu einem Thema stehe, wenn Sie `Code` erklären wollen oder $\\text{mathe}$.\n",
    "\n",
    "Eine Aufgabe, wenn wir es schaffen das *Exercise* verschwinden zu lassen.\n",
    "\n",
    ":::{exercise} Aufgabe 1\n",
    ":nonumber:\n",
    "Sie können Sie können Befehle ausführen, indem Sie in einer Codezeile die gewünschte Eingabe laufen lassen. Nutzen Sie dazu den Knopf `x = A[:, 0]`.\n",
    ":::\n",
    "\n",
    "Und hier Plan B:\n",
    "\n",
    ":::{admonition} Aufgabe 1\n",
    "Sie können Sie können Befehle ausführen, indem Sie in einer Codezeile die gewünschte Eingabe laufen lassen. Nutzen Sie dazu den Knopf `x = A[:, 0]`.\n",
    ":::"
   ]
  },
  {
   "cell_type": "code",
   "execution_count": null,
   "id": "012c55c5",
   "metadata": {},
   "outputs": [],
   "source": [
    "print(2 + 2)"
   ]
  },
  {
   "cell_type": "markdown",
   "id": "2b1c13cd",
   "metadata": {},
   "source": [
    ":::{admonition} Hinweis\n",
    ":class: note dropdown\n",
    "\n",
    "Hier kann auch `Code` stehen oder auch ein bisschen Latex \n",
    "\n",
    "$$\n",
    "\\begin{aligned}\n",
    "    \\begin{pmatrix} 1 & 2 & 3 \\end{pmatrix}\n",
    "\\end{aligned}\n",
    "$$\n",
    "\n",
    ":::\n",
    "\n",
    ":::{admonition} Lösung\n",
    ":class: tip dropdown\n",
    "\n",
    "``` python\n",
    "x = 0\n",
    "for i in range(3,300):\n",
    "    x + i\n",
    "\n",
    "print(x)\n",
    "```\n",
    ":::\n",
    "\n",
    "## Create a notebook with MyST Markdown\n",
    "\n",
    "MyST Markdown notebooks are defined by two things:\n",
    "\n",
    "1. YAML metadata that is needed to understand if / how it should convert text files to notebooks (including information about the kernel needed).\n",
    "   See the YAML at the top of this page for example.\n",
    "2. The presence of `{code-cell}` directives, which will be executed with your book.\n",
    "\n",
    "That's all that is needed to get started!\n",
    "\n",
    "## Quickly add YAML metadata for MyST Notebooks\n",
    "\n",
    "If you have a markdown file and you'd like to quickly add YAML metadata to it, so that Jupyter Book will treat it as a MyST Markdown Notebook, run the following command:\n",
    "\n",
    "```\n",
    "jupyter-book myst init path/to/markdownfile.md\n",
    "```"
   ]
  }
 ],
 "metadata": {
  "jupytext": {
   "formats": "md:myst",
   "text_representation": {
    "extension": ".md",
    "format_name": "myst",
    "format_version": 0.13,
    "jupytext_version": "1.11.5"
   }
  },
  "kernelspec": {
   "display_name": "Python 3",
   "language": "python",
   "name": "python3"
  },
  "source_map": [
   13,
   32,
   34
  ]
 },
 "nbformat": 4,
 "nbformat_minor": 5
}